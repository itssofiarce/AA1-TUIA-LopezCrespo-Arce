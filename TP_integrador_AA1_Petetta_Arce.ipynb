{
  "nbformat": 4,
  "nbformat_minor": 0,
  "metadata": {
    "colab": {
      "provenance": [],
      "include_colab_link": true
    },
    "kernelspec": {
      "name": "python3",
      "display_name": "Python 3"
    },
    "language_info": {
      "name": "python"
    }
  },
  "cells": [
    {
      "cell_type": "markdown",
      "metadata": {
        "id": "view-in-github",
        "colab_type": "text"
      },
      "source": [
        "<a href=\"https://colab.research.google.com/github/itssofiarce/AA1-TUIA-Petetta-Arce/blob/main/TP_integrador_AA1_Petetta_Arce.ipynb\" target=\"_parent\"><img src=\"https://colab.research.google.com/assets/colab-badge.svg\" alt=\"Open In Colab\"/></a>"
      ]
    },
    {
      "cell_type": "code",
      "execution_count": 162,
      "metadata": {
        "id": "9Ph9T6E0tuKX",
        "outputId": "1cd9cf6a-2632-4874-e70e-252ef9ec2c76",
        "colab": {
          "base_uri": "https://localhost:8080/"
        }
      },
      "outputs": [
        {
          "output_type": "stream",
          "name": "stdout",
          "text": [
            "Drive already mounted at /content/drive; to attempt to forcibly remount, call drive.mount(\"/content/drive\", force_remount=True).\n"
          ]
        }
      ],
      "source": [
        "from google.colab import drive\n",
        "drive.mount('/content/drive')"
      ]
    },
    {
      "cell_type": "code",
      "source": [
        "#!pip3 install shap"
      ],
      "metadata": {
        "id": "Cy04OfhX5cTv"
      },
      "execution_count": 163,
      "outputs": []
    },
    {
      "cell_type": "code",
      "source": [
        "import pandas as pd\n",
        "import numpy as np\n",
        "import seaborn as sns\n",
        "import matplotlib.pyplot as plt\n",
        "import statsmodels.api as sm\n",
        "from math import sqrt\n",
        "\n",
        "# De scikit-learn...\n",
        "\n",
        "# Pipeline\n",
        "from sklearn.base import BaseEstimator, TransformerMixin\n",
        "from sklearn.preprocessing import LabelEncoder\n",
        "from sklearn.preprocessing import PowerTransformer\n",
        "\n",
        "# Estandarización y modelado\n",
        "from sklearn.pipeline import make_pipeline\n",
        "from sklearn.preprocessing import StandardScaler\n",
        "from sklearn.metrics import mean_squared_error\n",
        "from sklearn import metrics\n",
        "\n",
        "from sklearn.pipeline import Pipeline\n",
        "from sklearn.compose import ColumnTransformer\n",
        "from sklearn.impute import SimpleImputer\n",
        "from sklearn.preprocessing import OneHotEncoder\n",
        "\n",
        "from sklearn.compose import make_column_selector\n",
        "# Division de los datos\n",
        "from sklearn.model_selection import train_test_split, RandomizedSearchCV\n",
        "\n",
        "# Normalización\n",
        "from sklearn.preprocessing import MinMaxScaler\n",
        "\n",
        "# Regresiones\n",
        "from sklearn.linear_model import LinearRegression, SGDRegressor, Ridge, Lasso, ElasticNet, RidgeCV, ElasticNetCV, LassoCV, LogisticRegression\n",
        "\n",
        "# ML metricas\n",
        "from sklearn.metrics import mean_squared_error, r2_score, classification_report, roc_curve, auc, confusion_matrix, accuracy_score, ConfusionMatrixDisplay, mean_absolute_percentage_error, mean_absolute_error"
      ],
      "metadata": {
        "id": "rTa7IXUAt_B4"
      },
      "execution_count": 261,
      "outputs": []
    },
    {
      "cell_type": "code",
      "source": [
        "#path= '/content/weatherAUS.csv'\n",
        "path = '/content/drive/MyDrive/weatherAUS.csv'\n",
        "df = pd.read_csv(path, usecols=range(1,25))\n",
        "df.head()"
      ],
      "metadata": {
        "colab": {
          "base_uri": "https://localhost:8080/",
          "height": 342
        },
        "id": "xNw9O_YAuBTG",
        "outputId": "4399100a-deee-4834-aabc-bdb3edd567d3"
      },
      "execution_count": 165,
      "outputs": [
        {
          "output_type": "execute_result",
          "data": {
            "text/plain": [
              "         Date Location  MinTemp  MaxTemp  Rainfall  Evaporation  Sunshine  \\\n",
              "0  2008-12-01   Albury     13.4     22.9       0.6          NaN       NaN   \n",
              "1  2008-12-02   Albury      7.4     25.1       0.0          NaN       NaN   \n",
              "2  2008-12-03   Albury     12.9     25.7       0.0          NaN       NaN   \n",
              "3  2008-12-04   Albury      9.2     28.0       0.0          NaN       NaN   \n",
              "4  2008-12-05   Albury     17.5     32.3       1.0          NaN       NaN   \n",
              "\n",
              "  WindGustDir  WindGustSpeed WindDir9am  ... Humidity3pm  Pressure9am  \\\n",
              "0           W           44.0          W  ...        22.0       1007.7   \n",
              "1         WNW           44.0        NNW  ...        25.0       1010.6   \n",
              "2         WSW           46.0          W  ...        30.0       1007.6   \n",
              "3          NE           24.0         SE  ...        16.0       1017.6   \n",
              "4           W           41.0        ENE  ...        33.0       1010.8   \n",
              "\n",
              "   Pressure3pm  Cloud9am  Cloud3pm  Temp9am  Temp3pm  RainToday  RainTomorrow  \\\n",
              "0       1007.1       8.0       NaN     16.9     21.8         No            No   \n",
              "1       1007.8       NaN       NaN     17.2     24.3         No            No   \n",
              "2       1008.7       NaN       2.0     21.0     23.2         No            No   \n",
              "3       1012.8       NaN       NaN     18.1     26.5         No            No   \n",
              "4       1006.0       7.0       8.0     17.8     29.7         No            No   \n",
              "\n",
              "   RainfallTomorrow  \n",
              "0               0.0  \n",
              "1               0.0  \n",
              "2               0.0  \n",
              "3               1.0  \n",
              "4               0.2  \n",
              "\n",
              "[5 rows x 24 columns]"
            ],
            "text/html": [
              "\n",
              "  <div id=\"df-7bdc411a-25a8-4b2f-a94d-ba893322d9fa\" class=\"colab-df-container\">\n",
              "    <div>\n",
              "<style scoped>\n",
              "    .dataframe tbody tr th:only-of-type {\n",
              "        vertical-align: middle;\n",
              "    }\n",
              "\n",
              "    .dataframe tbody tr th {\n",
              "        vertical-align: top;\n",
              "    }\n",
              "\n",
              "    .dataframe thead th {\n",
              "        text-align: right;\n",
              "    }\n",
              "</style>\n",
              "<table border=\"1\" class=\"dataframe\">\n",
              "  <thead>\n",
              "    <tr style=\"text-align: right;\">\n",
              "      <th></th>\n",
              "      <th>Date</th>\n",
              "      <th>Location</th>\n",
              "      <th>MinTemp</th>\n",
              "      <th>MaxTemp</th>\n",
              "      <th>Rainfall</th>\n",
              "      <th>Evaporation</th>\n",
              "      <th>Sunshine</th>\n",
              "      <th>WindGustDir</th>\n",
              "      <th>WindGustSpeed</th>\n",
              "      <th>WindDir9am</th>\n",
              "      <th>...</th>\n",
              "      <th>Humidity3pm</th>\n",
              "      <th>Pressure9am</th>\n",
              "      <th>Pressure3pm</th>\n",
              "      <th>Cloud9am</th>\n",
              "      <th>Cloud3pm</th>\n",
              "      <th>Temp9am</th>\n",
              "      <th>Temp3pm</th>\n",
              "      <th>RainToday</th>\n",
              "      <th>RainTomorrow</th>\n",
              "      <th>RainfallTomorrow</th>\n",
              "    </tr>\n",
              "  </thead>\n",
              "  <tbody>\n",
              "    <tr>\n",
              "      <th>0</th>\n",
              "      <td>2008-12-01</td>\n",
              "      <td>Albury</td>\n",
              "      <td>13.4</td>\n",
              "      <td>22.9</td>\n",
              "      <td>0.6</td>\n",
              "      <td>NaN</td>\n",
              "      <td>NaN</td>\n",
              "      <td>W</td>\n",
              "      <td>44.0</td>\n",
              "      <td>W</td>\n",
              "      <td>...</td>\n",
              "      <td>22.0</td>\n",
              "      <td>1007.7</td>\n",
              "      <td>1007.1</td>\n",
              "      <td>8.0</td>\n",
              "      <td>NaN</td>\n",
              "      <td>16.9</td>\n",
              "      <td>21.8</td>\n",
              "      <td>No</td>\n",
              "      <td>No</td>\n",
              "      <td>0.0</td>\n",
              "    </tr>\n",
              "    <tr>\n",
              "      <th>1</th>\n",
              "      <td>2008-12-02</td>\n",
              "      <td>Albury</td>\n",
              "      <td>7.4</td>\n",
              "      <td>25.1</td>\n",
              "      <td>0.0</td>\n",
              "      <td>NaN</td>\n",
              "      <td>NaN</td>\n",
              "      <td>WNW</td>\n",
              "      <td>44.0</td>\n",
              "      <td>NNW</td>\n",
              "      <td>...</td>\n",
              "      <td>25.0</td>\n",
              "      <td>1010.6</td>\n",
              "      <td>1007.8</td>\n",
              "      <td>NaN</td>\n",
              "      <td>NaN</td>\n",
              "      <td>17.2</td>\n",
              "      <td>24.3</td>\n",
              "      <td>No</td>\n",
              "      <td>No</td>\n",
              "      <td>0.0</td>\n",
              "    </tr>\n",
              "    <tr>\n",
              "      <th>2</th>\n",
              "      <td>2008-12-03</td>\n",
              "      <td>Albury</td>\n",
              "      <td>12.9</td>\n",
              "      <td>25.7</td>\n",
              "      <td>0.0</td>\n",
              "      <td>NaN</td>\n",
              "      <td>NaN</td>\n",
              "      <td>WSW</td>\n",
              "      <td>46.0</td>\n",
              "      <td>W</td>\n",
              "      <td>...</td>\n",
              "      <td>30.0</td>\n",
              "      <td>1007.6</td>\n",
              "      <td>1008.7</td>\n",
              "      <td>NaN</td>\n",
              "      <td>2.0</td>\n",
              "      <td>21.0</td>\n",
              "      <td>23.2</td>\n",
              "      <td>No</td>\n",
              "      <td>No</td>\n",
              "      <td>0.0</td>\n",
              "    </tr>\n",
              "    <tr>\n",
              "      <th>3</th>\n",
              "      <td>2008-12-04</td>\n",
              "      <td>Albury</td>\n",
              "      <td>9.2</td>\n",
              "      <td>28.0</td>\n",
              "      <td>0.0</td>\n",
              "      <td>NaN</td>\n",
              "      <td>NaN</td>\n",
              "      <td>NE</td>\n",
              "      <td>24.0</td>\n",
              "      <td>SE</td>\n",
              "      <td>...</td>\n",
              "      <td>16.0</td>\n",
              "      <td>1017.6</td>\n",
              "      <td>1012.8</td>\n",
              "      <td>NaN</td>\n",
              "      <td>NaN</td>\n",
              "      <td>18.1</td>\n",
              "      <td>26.5</td>\n",
              "      <td>No</td>\n",
              "      <td>No</td>\n",
              "      <td>1.0</td>\n",
              "    </tr>\n",
              "    <tr>\n",
              "      <th>4</th>\n",
              "      <td>2008-12-05</td>\n",
              "      <td>Albury</td>\n",
              "      <td>17.5</td>\n",
              "      <td>32.3</td>\n",
              "      <td>1.0</td>\n",
              "      <td>NaN</td>\n",
              "      <td>NaN</td>\n",
              "      <td>W</td>\n",
              "      <td>41.0</td>\n",
              "      <td>ENE</td>\n",
              "      <td>...</td>\n",
              "      <td>33.0</td>\n",
              "      <td>1010.8</td>\n",
              "      <td>1006.0</td>\n",
              "      <td>7.0</td>\n",
              "      <td>8.0</td>\n",
              "      <td>17.8</td>\n",
              "      <td>29.7</td>\n",
              "      <td>No</td>\n",
              "      <td>No</td>\n",
              "      <td>0.2</td>\n",
              "    </tr>\n",
              "  </tbody>\n",
              "</table>\n",
              "<p>5 rows × 24 columns</p>\n",
              "</div>\n",
              "    <div class=\"colab-df-buttons\">\n",
              "\n",
              "  <div class=\"colab-df-container\">\n",
              "    <button class=\"colab-df-convert\" onclick=\"convertToInteractive('df-7bdc411a-25a8-4b2f-a94d-ba893322d9fa')\"\n",
              "            title=\"Convert this dataframe to an interactive table.\"\n",
              "            style=\"display:none;\">\n",
              "\n",
              "  <svg xmlns=\"http://www.w3.org/2000/svg\" height=\"24px\" viewBox=\"0 -960 960 960\">\n",
              "    <path d=\"M120-120v-720h720v720H120Zm60-500h600v-160H180v160Zm220 220h160v-160H400v160Zm0 220h160v-160H400v160ZM180-400h160v-160H180v160Zm440 0h160v-160H620v160ZM180-180h160v-160H180v160Zm440 0h160v-160H620v160Z\"/>\n",
              "  </svg>\n",
              "    </button>\n",
              "\n",
              "  <style>\n",
              "    .colab-df-container {\n",
              "      display:flex;\n",
              "      gap: 12px;\n",
              "    }\n",
              "\n",
              "    .colab-df-convert {\n",
              "      background-color: #E8F0FE;\n",
              "      border: none;\n",
              "      border-radius: 50%;\n",
              "      cursor: pointer;\n",
              "      display: none;\n",
              "      fill: #1967D2;\n",
              "      height: 32px;\n",
              "      padding: 0 0 0 0;\n",
              "      width: 32px;\n",
              "    }\n",
              "\n",
              "    .colab-df-convert:hover {\n",
              "      background-color: #E2EBFA;\n",
              "      box-shadow: 0px 1px 2px rgba(60, 64, 67, 0.3), 0px 1px 3px 1px rgba(60, 64, 67, 0.15);\n",
              "      fill: #174EA6;\n",
              "    }\n",
              "\n",
              "    .colab-df-buttons div {\n",
              "      margin-bottom: 4px;\n",
              "    }\n",
              "\n",
              "    [theme=dark] .colab-df-convert {\n",
              "      background-color: #3B4455;\n",
              "      fill: #D2E3FC;\n",
              "    }\n",
              "\n",
              "    [theme=dark] .colab-df-convert:hover {\n",
              "      background-color: #434B5C;\n",
              "      box-shadow: 0px 1px 3px 1px rgba(0, 0, 0, 0.15);\n",
              "      filter: drop-shadow(0px 1px 2px rgba(0, 0, 0, 0.3));\n",
              "      fill: #FFFFFF;\n",
              "    }\n",
              "  </style>\n",
              "\n",
              "    <script>\n",
              "      const buttonEl =\n",
              "        document.querySelector('#df-7bdc411a-25a8-4b2f-a94d-ba893322d9fa button.colab-df-convert');\n",
              "      buttonEl.style.display =\n",
              "        google.colab.kernel.accessAllowed ? 'block' : 'none';\n",
              "\n",
              "      async function convertToInteractive(key) {\n",
              "        const element = document.querySelector('#df-7bdc411a-25a8-4b2f-a94d-ba893322d9fa');\n",
              "        const dataTable =\n",
              "          await google.colab.kernel.invokeFunction('convertToInteractive',\n",
              "                                                    [key], {});\n",
              "        if (!dataTable) return;\n",
              "\n",
              "        const docLinkHtml = 'Like what you see? Visit the ' +\n",
              "          '<a target=\"_blank\" href=https://colab.research.google.com/notebooks/data_table.ipynb>data table notebook</a>'\n",
              "          + ' to learn more about interactive tables.';\n",
              "        element.innerHTML = '';\n",
              "        dataTable['output_type'] = 'display_data';\n",
              "        await google.colab.output.renderOutput(dataTable, element);\n",
              "        const docLink = document.createElement('div');\n",
              "        docLink.innerHTML = docLinkHtml;\n",
              "        element.appendChild(docLink);\n",
              "      }\n",
              "    </script>\n",
              "  </div>\n",
              "\n",
              "\n",
              "<div id=\"df-0ff1af85-1a40-42cb-9095-cef158436395\">\n",
              "  <button class=\"colab-df-quickchart\" onclick=\"quickchart('df-0ff1af85-1a40-42cb-9095-cef158436395')\"\n",
              "            title=\"Suggest charts\"\n",
              "            style=\"display:none;\">\n",
              "\n",
              "<svg xmlns=\"http://www.w3.org/2000/svg\" height=\"24px\"viewBox=\"0 0 24 24\"\n",
              "     width=\"24px\">\n",
              "    <g>\n",
              "        <path d=\"M19 3H5c-1.1 0-2 .9-2 2v14c0 1.1.9 2 2 2h14c1.1 0 2-.9 2-2V5c0-1.1-.9-2-2-2zM9 17H7v-7h2v7zm4 0h-2V7h2v10zm4 0h-2v-4h2v4z\"/>\n",
              "    </g>\n",
              "</svg>\n",
              "  </button>\n",
              "\n",
              "<style>\n",
              "  .colab-df-quickchart {\n",
              "      --bg-color: #E8F0FE;\n",
              "      --fill-color: #1967D2;\n",
              "      --hover-bg-color: #E2EBFA;\n",
              "      --hover-fill-color: #174EA6;\n",
              "      --disabled-fill-color: #AAA;\n",
              "      --disabled-bg-color: #DDD;\n",
              "  }\n",
              "\n",
              "  [theme=dark] .colab-df-quickchart {\n",
              "      --bg-color: #3B4455;\n",
              "      --fill-color: #D2E3FC;\n",
              "      --hover-bg-color: #434B5C;\n",
              "      --hover-fill-color: #FFFFFF;\n",
              "      --disabled-bg-color: #3B4455;\n",
              "      --disabled-fill-color: #666;\n",
              "  }\n",
              "\n",
              "  .colab-df-quickchart {\n",
              "    background-color: var(--bg-color);\n",
              "    border: none;\n",
              "    border-radius: 50%;\n",
              "    cursor: pointer;\n",
              "    display: none;\n",
              "    fill: var(--fill-color);\n",
              "    height: 32px;\n",
              "    padding: 0;\n",
              "    width: 32px;\n",
              "  }\n",
              "\n",
              "  .colab-df-quickchart:hover {\n",
              "    background-color: var(--hover-bg-color);\n",
              "    box-shadow: 0 1px 2px rgba(60, 64, 67, 0.3), 0 1px 3px 1px rgba(60, 64, 67, 0.15);\n",
              "    fill: var(--button-hover-fill-color);\n",
              "  }\n",
              "\n",
              "  .colab-df-quickchart-complete:disabled,\n",
              "  .colab-df-quickchart-complete:disabled:hover {\n",
              "    background-color: var(--disabled-bg-color);\n",
              "    fill: var(--disabled-fill-color);\n",
              "    box-shadow: none;\n",
              "  }\n",
              "\n",
              "  .colab-df-spinner {\n",
              "    border: 2px solid var(--fill-color);\n",
              "    border-color: transparent;\n",
              "    border-bottom-color: var(--fill-color);\n",
              "    animation:\n",
              "      spin 1s steps(1) infinite;\n",
              "  }\n",
              "\n",
              "  @keyframes spin {\n",
              "    0% {\n",
              "      border-color: transparent;\n",
              "      border-bottom-color: var(--fill-color);\n",
              "      border-left-color: var(--fill-color);\n",
              "    }\n",
              "    20% {\n",
              "      border-color: transparent;\n",
              "      border-left-color: var(--fill-color);\n",
              "      border-top-color: var(--fill-color);\n",
              "    }\n",
              "    30% {\n",
              "      border-color: transparent;\n",
              "      border-left-color: var(--fill-color);\n",
              "      border-top-color: var(--fill-color);\n",
              "      border-right-color: var(--fill-color);\n",
              "    }\n",
              "    40% {\n",
              "      border-color: transparent;\n",
              "      border-right-color: var(--fill-color);\n",
              "      border-top-color: var(--fill-color);\n",
              "    }\n",
              "    60% {\n",
              "      border-color: transparent;\n",
              "      border-right-color: var(--fill-color);\n",
              "    }\n",
              "    80% {\n",
              "      border-color: transparent;\n",
              "      border-right-color: var(--fill-color);\n",
              "      border-bottom-color: var(--fill-color);\n",
              "    }\n",
              "    90% {\n",
              "      border-color: transparent;\n",
              "      border-bottom-color: var(--fill-color);\n",
              "    }\n",
              "  }\n",
              "</style>\n",
              "\n",
              "  <script>\n",
              "    async function quickchart(key) {\n",
              "      const quickchartButtonEl =\n",
              "        document.querySelector('#' + key + ' button');\n",
              "      quickchartButtonEl.disabled = true;  // To prevent multiple clicks.\n",
              "      quickchartButtonEl.classList.add('colab-df-spinner');\n",
              "      try {\n",
              "        const charts = await google.colab.kernel.invokeFunction(\n",
              "            'suggestCharts', [key], {});\n",
              "      } catch (error) {\n",
              "        console.error('Error during call to suggestCharts:', error);\n",
              "      }\n",
              "      quickchartButtonEl.classList.remove('colab-df-spinner');\n",
              "      quickchartButtonEl.classList.add('colab-df-quickchart-complete');\n",
              "    }\n",
              "    (() => {\n",
              "      let quickchartButtonEl =\n",
              "        document.querySelector('#df-0ff1af85-1a40-42cb-9095-cef158436395 button');\n",
              "      quickchartButtonEl.style.display =\n",
              "        google.colab.kernel.accessAllowed ? 'block' : 'none';\n",
              "    })();\n",
              "  </script>\n",
              "</div>\n",
              "\n",
              "    </div>\n",
              "  </div>\n"
            ],
            "application/vnd.google.colaboratory.intrinsic+json": {
              "type": "dataframe",
              "variable_name": "df"
            }
          },
          "metadata": {},
          "execution_count": 165
        }
      ]
    },
    {
      "cell_type": "code",
      "source": [
        "### Columnas\n",
        "df.columns"
      ],
      "metadata": {
        "id": "422Q8ZRVuULh",
        "outputId": "aa4c37a9-b5fa-4376-ffdd-a38f7290142c",
        "colab": {
          "base_uri": "https://localhost:8080/"
        }
      },
      "execution_count": 166,
      "outputs": [
        {
          "output_type": "execute_result",
          "data": {
            "text/plain": [
              "Index(['Date', 'Location', 'MinTemp', 'MaxTemp', 'Rainfall', 'Evaporation',\n",
              "       'Sunshine', 'WindGustDir', 'WindGustSpeed', 'WindDir9am', 'WindDir3pm',\n",
              "       'WindSpeed9am', 'WindSpeed3pm', 'Humidity9am', 'Humidity3pm',\n",
              "       'Pressure9am', 'Pressure3pm', 'Cloud9am', 'Cloud3pm', 'Temp9am',\n",
              "       'Temp3pm', 'RainToday', 'RainTomorrow', 'RainfallTomorrow'],\n",
              "      dtype='object')"
            ]
          },
          "metadata": {},
          "execution_count": 166
        }
      ]
    },
    {
      "cell_type": "code",
      "source": [
        "df.describe()"
      ],
      "metadata": {
        "id": "J7X8yU6buVWG",
        "outputId": "58a4004f-1e80-4ff7-cd8d-d1a32b4e668c",
        "colab": {
          "base_uri": "https://localhost:8080/",
          "height": 320
        }
      },
      "execution_count": 167,
      "outputs": [
        {
          "output_type": "execute_result",
          "data": {
            "text/plain": [
              "             MinTemp        MaxTemp       Rainfall   Evaporation  \\\n",
              "count  143928.000000  144159.000000  142152.000000  82658.000000   \n",
              "mean       12.195873      23.223176       2.361516      5.468616   \n",
              "std         6.398018       7.118770       8.479338      4.193871   \n",
              "min        -8.500000      -4.800000       0.000000      0.000000   \n",
              "25%         7.600000      17.900000       0.000000      2.600000   \n",
              "50%        12.000000      22.600000       0.000000      4.800000   \n",
              "75%        16.900000      28.200000       0.800000      7.400000   \n",
              "max        33.900000      48.100000     371.000000    145.000000   \n",
              "\n",
              "           Sunshine  WindGustSpeed   WindSpeed9am   WindSpeed3pm  \\\n",
              "count  75616.000000  135159.000000  143645.000000  142351.000000   \n",
              "mean       7.611241      40.036564      14.044742      18.663164   \n",
              "std        3.785612      13.607212       8.915610       8.810276   \n",
              "min        0.000000       6.000000       0.000000       0.000000   \n",
              "25%        4.800000      31.000000       7.000000      13.000000   \n",
              "50%        8.400000      39.000000      13.000000      19.000000   \n",
              "75%       10.600000      48.000000      19.000000      24.000000   \n",
              "max       14.500000     135.000000     130.000000      87.000000   \n",
              "\n",
              "         Humidity9am    Humidity3pm    Pressure9am    Pressure3pm  \\\n",
              "count  142759.000000  140907.000000  130351.000000  130388.000000   \n",
              "mean       68.877290      51.537432    1017.649277    1015.255184   \n",
              "std        19.029576      20.796720       7.107132       7.037981   \n",
              "min         0.000000       0.000000     980.500000     977.100000   \n",
              "25%        57.000000      37.000000    1012.900000    1010.400000   \n",
              "50%        70.000000      52.000000    1017.600000    1015.200000   \n",
              "75%        83.000000      66.000000    1022.400000    1020.000000   \n",
              "max       100.000000     100.000000    1041.000000    1039.600000   \n",
              "\n",
              "           Cloud9am      Cloud3pm        Temp9am        Temp3pm  \\\n",
              "count  89542.000000  86076.000000  143646.000000  141805.000000   \n",
              "mean       4.447287      4.509770      16.992780      21.685249   \n",
              "std        2.887161      2.720306       6.488045       6.936358   \n",
              "min        0.000000      0.000000      -7.200000      -5.400000   \n",
              "25%        1.000000      2.000000      12.300000      16.600000   \n",
              "50%        5.000000      5.000000      16.700000      21.100000   \n",
              "75%        7.000000      7.000000      21.600000      26.400000   \n",
              "max        9.000000      9.000000      40.200000      46.700000   \n",
              "\n",
              "       RainfallTomorrow  \n",
              "count     142153.000000  \n",
              "mean           2.361242  \n",
              "std            8.479084  \n",
              "min            0.000000  \n",
              "25%            0.000000  \n",
              "50%            0.000000  \n",
              "75%            0.800000  \n",
              "max          371.000000  "
            ],
            "text/html": [
              "\n",
              "  <div id=\"df-9af67dd0-290c-47a8-9df8-cc5a4671c163\" class=\"colab-df-container\">\n",
              "    <div>\n",
              "<style scoped>\n",
              "    .dataframe tbody tr th:only-of-type {\n",
              "        vertical-align: middle;\n",
              "    }\n",
              "\n",
              "    .dataframe tbody tr th {\n",
              "        vertical-align: top;\n",
              "    }\n",
              "\n",
              "    .dataframe thead th {\n",
              "        text-align: right;\n",
              "    }\n",
              "</style>\n",
              "<table border=\"1\" class=\"dataframe\">\n",
              "  <thead>\n",
              "    <tr style=\"text-align: right;\">\n",
              "      <th></th>\n",
              "      <th>MinTemp</th>\n",
              "      <th>MaxTemp</th>\n",
              "      <th>Rainfall</th>\n",
              "      <th>Evaporation</th>\n",
              "      <th>Sunshine</th>\n",
              "      <th>WindGustSpeed</th>\n",
              "      <th>WindSpeed9am</th>\n",
              "      <th>WindSpeed3pm</th>\n",
              "      <th>Humidity9am</th>\n",
              "      <th>Humidity3pm</th>\n",
              "      <th>Pressure9am</th>\n",
              "      <th>Pressure3pm</th>\n",
              "      <th>Cloud9am</th>\n",
              "      <th>Cloud3pm</th>\n",
              "      <th>Temp9am</th>\n",
              "      <th>Temp3pm</th>\n",
              "      <th>RainfallTomorrow</th>\n",
              "    </tr>\n",
              "  </thead>\n",
              "  <tbody>\n",
              "    <tr>\n",
              "      <th>count</th>\n",
              "      <td>143928.000000</td>\n",
              "      <td>144159.000000</td>\n",
              "      <td>142152.000000</td>\n",
              "      <td>82658.000000</td>\n",
              "      <td>75616.000000</td>\n",
              "      <td>135159.000000</td>\n",
              "      <td>143645.000000</td>\n",
              "      <td>142351.000000</td>\n",
              "      <td>142759.000000</td>\n",
              "      <td>140907.000000</td>\n",
              "      <td>130351.000000</td>\n",
              "      <td>130388.000000</td>\n",
              "      <td>89542.000000</td>\n",
              "      <td>86076.000000</td>\n",
              "      <td>143646.000000</td>\n",
              "      <td>141805.000000</td>\n",
              "      <td>142153.000000</td>\n",
              "    </tr>\n",
              "    <tr>\n",
              "      <th>mean</th>\n",
              "      <td>12.195873</td>\n",
              "      <td>23.223176</td>\n",
              "      <td>2.361516</td>\n",
              "      <td>5.468616</td>\n",
              "      <td>7.611241</td>\n",
              "      <td>40.036564</td>\n",
              "      <td>14.044742</td>\n",
              "      <td>18.663164</td>\n",
              "      <td>68.877290</td>\n",
              "      <td>51.537432</td>\n",
              "      <td>1017.649277</td>\n",
              "      <td>1015.255184</td>\n",
              "      <td>4.447287</td>\n",
              "      <td>4.509770</td>\n",
              "      <td>16.992780</td>\n",
              "      <td>21.685249</td>\n",
              "      <td>2.361242</td>\n",
              "    </tr>\n",
              "    <tr>\n",
              "      <th>std</th>\n",
              "      <td>6.398018</td>\n",
              "      <td>7.118770</td>\n",
              "      <td>8.479338</td>\n",
              "      <td>4.193871</td>\n",
              "      <td>3.785612</td>\n",
              "      <td>13.607212</td>\n",
              "      <td>8.915610</td>\n",
              "      <td>8.810276</td>\n",
              "      <td>19.029576</td>\n",
              "      <td>20.796720</td>\n",
              "      <td>7.107132</td>\n",
              "      <td>7.037981</td>\n",
              "      <td>2.887161</td>\n",
              "      <td>2.720306</td>\n",
              "      <td>6.488045</td>\n",
              "      <td>6.936358</td>\n",
              "      <td>8.479084</td>\n",
              "    </tr>\n",
              "    <tr>\n",
              "      <th>min</th>\n",
              "      <td>-8.500000</td>\n",
              "      <td>-4.800000</td>\n",
              "      <td>0.000000</td>\n",
              "      <td>0.000000</td>\n",
              "      <td>0.000000</td>\n",
              "      <td>6.000000</td>\n",
              "      <td>0.000000</td>\n",
              "      <td>0.000000</td>\n",
              "      <td>0.000000</td>\n",
              "      <td>0.000000</td>\n",
              "      <td>980.500000</td>\n",
              "      <td>977.100000</td>\n",
              "      <td>0.000000</td>\n",
              "      <td>0.000000</td>\n",
              "      <td>-7.200000</td>\n",
              "      <td>-5.400000</td>\n",
              "      <td>0.000000</td>\n",
              "    </tr>\n",
              "    <tr>\n",
              "      <th>25%</th>\n",
              "      <td>7.600000</td>\n",
              "      <td>17.900000</td>\n",
              "      <td>0.000000</td>\n",
              "      <td>2.600000</td>\n",
              "      <td>4.800000</td>\n",
              "      <td>31.000000</td>\n",
              "      <td>7.000000</td>\n",
              "      <td>13.000000</td>\n",
              "      <td>57.000000</td>\n",
              "      <td>37.000000</td>\n",
              "      <td>1012.900000</td>\n",
              "      <td>1010.400000</td>\n",
              "      <td>1.000000</td>\n",
              "      <td>2.000000</td>\n",
              "      <td>12.300000</td>\n",
              "      <td>16.600000</td>\n",
              "      <td>0.000000</td>\n",
              "    </tr>\n",
              "    <tr>\n",
              "      <th>50%</th>\n",
              "      <td>12.000000</td>\n",
              "      <td>22.600000</td>\n",
              "      <td>0.000000</td>\n",
              "      <td>4.800000</td>\n",
              "      <td>8.400000</td>\n",
              "      <td>39.000000</td>\n",
              "      <td>13.000000</td>\n",
              "      <td>19.000000</td>\n",
              "      <td>70.000000</td>\n",
              "      <td>52.000000</td>\n",
              "      <td>1017.600000</td>\n",
              "      <td>1015.200000</td>\n",
              "      <td>5.000000</td>\n",
              "      <td>5.000000</td>\n",
              "      <td>16.700000</td>\n",
              "      <td>21.100000</td>\n",
              "      <td>0.000000</td>\n",
              "    </tr>\n",
              "    <tr>\n",
              "      <th>75%</th>\n",
              "      <td>16.900000</td>\n",
              "      <td>28.200000</td>\n",
              "      <td>0.800000</td>\n",
              "      <td>7.400000</td>\n",
              "      <td>10.600000</td>\n",
              "      <td>48.000000</td>\n",
              "      <td>19.000000</td>\n",
              "      <td>24.000000</td>\n",
              "      <td>83.000000</td>\n",
              "      <td>66.000000</td>\n",
              "      <td>1022.400000</td>\n",
              "      <td>1020.000000</td>\n",
              "      <td>7.000000</td>\n",
              "      <td>7.000000</td>\n",
              "      <td>21.600000</td>\n",
              "      <td>26.400000</td>\n",
              "      <td>0.800000</td>\n",
              "    </tr>\n",
              "    <tr>\n",
              "      <th>max</th>\n",
              "      <td>33.900000</td>\n",
              "      <td>48.100000</td>\n",
              "      <td>371.000000</td>\n",
              "      <td>145.000000</td>\n",
              "      <td>14.500000</td>\n",
              "      <td>135.000000</td>\n",
              "      <td>130.000000</td>\n",
              "      <td>87.000000</td>\n",
              "      <td>100.000000</td>\n",
              "      <td>100.000000</td>\n",
              "      <td>1041.000000</td>\n",
              "      <td>1039.600000</td>\n",
              "      <td>9.000000</td>\n",
              "      <td>9.000000</td>\n",
              "      <td>40.200000</td>\n",
              "      <td>46.700000</td>\n",
              "      <td>371.000000</td>\n",
              "    </tr>\n",
              "  </tbody>\n",
              "</table>\n",
              "</div>\n",
              "    <div class=\"colab-df-buttons\">\n",
              "\n",
              "  <div class=\"colab-df-container\">\n",
              "    <button class=\"colab-df-convert\" onclick=\"convertToInteractive('df-9af67dd0-290c-47a8-9df8-cc5a4671c163')\"\n",
              "            title=\"Convert this dataframe to an interactive table.\"\n",
              "            style=\"display:none;\">\n",
              "\n",
              "  <svg xmlns=\"http://www.w3.org/2000/svg\" height=\"24px\" viewBox=\"0 -960 960 960\">\n",
              "    <path d=\"M120-120v-720h720v720H120Zm60-500h600v-160H180v160Zm220 220h160v-160H400v160Zm0 220h160v-160H400v160ZM180-400h160v-160H180v160Zm440 0h160v-160H620v160ZM180-180h160v-160H180v160Zm440 0h160v-160H620v160Z\"/>\n",
              "  </svg>\n",
              "    </button>\n",
              "\n",
              "  <style>\n",
              "    .colab-df-container {\n",
              "      display:flex;\n",
              "      gap: 12px;\n",
              "    }\n",
              "\n",
              "    .colab-df-convert {\n",
              "      background-color: #E8F0FE;\n",
              "      border: none;\n",
              "      border-radius: 50%;\n",
              "      cursor: pointer;\n",
              "      display: none;\n",
              "      fill: #1967D2;\n",
              "      height: 32px;\n",
              "      padding: 0 0 0 0;\n",
              "      width: 32px;\n",
              "    }\n",
              "\n",
              "    .colab-df-convert:hover {\n",
              "      background-color: #E2EBFA;\n",
              "      box-shadow: 0px 1px 2px rgba(60, 64, 67, 0.3), 0px 1px 3px 1px rgba(60, 64, 67, 0.15);\n",
              "      fill: #174EA6;\n",
              "    }\n",
              "\n",
              "    .colab-df-buttons div {\n",
              "      margin-bottom: 4px;\n",
              "    }\n",
              "\n",
              "    [theme=dark] .colab-df-convert {\n",
              "      background-color: #3B4455;\n",
              "      fill: #D2E3FC;\n",
              "    }\n",
              "\n",
              "    [theme=dark] .colab-df-convert:hover {\n",
              "      background-color: #434B5C;\n",
              "      box-shadow: 0px 1px 3px 1px rgba(0, 0, 0, 0.15);\n",
              "      filter: drop-shadow(0px 1px 2px rgba(0, 0, 0, 0.3));\n",
              "      fill: #FFFFFF;\n",
              "    }\n",
              "  </style>\n",
              "\n",
              "    <script>\n",
              "      const buttonEl =\n",
              "        document.querySelector('#df-9af67dd0-290c-47a8-9df8-cc5a4671c163 button.colab-df-convert');\n",
              "      buttonEl.style.display =\n",
              "        google.colab.kernel.accessAllowed ? 'block' : 'none';\n",
              "\n",
              "      async function convertToInteractive(key) {\n",
              "        const element = document.querySelector('#df-9af67dd0-290c-47a8-9df8-cc5a4671c163');\n",
              "        const dataTable =\n",
              "          await google.colab.kernel.invokeFunction('convertToInteractive',\n",
              "                                                    [key], {});\n",
              "        if (!dataTable) return;\n",
              "\n",
              "        const docLinkHtml = 'Like what you see? Visit the ' +\n",
              "          '<a target=\"_blank\" href=https://colab.research.google.com/notebooks/data_table.ipynb>data table notebook</a>'\n",
              "          + ' to learn more about interactive tables.';\n",
              "        element.innerHTML = '';\n",
              "        dataTable['output_type'] = 'display_data';\n",
              "        await google.colab.output.renderOutput(dataTable, element);\n",
              "        const docLink = document.createElement('div');\n",
              "        docLink.innerHTML = docLinkHtml;\n",
              "        element.appendChild(docLink);\n",
              "      }\n",
              "    </script>\n",
              "  </div>\n",
              "\n",
              "\n",
              "<div id=\"df-d1b0ef9b-a970-4b19-b8dd-f7d03aeb23cc\">\n",
              "  <button class=\"colab-df-quickchart\" onclick=\"quickchart('df-d1b0ef9b-a970-4b19-b8dd-f7d03aeb23cc')\"\n",
              "            title=\"Suggest charts\"\n",
              "            style=\"display:none;\">\n",
              "\n",
              "<svg xmlns=\"http://www.w3.org/2000/svg\" height=\"24px\"viewBox=\"0 0 24 24\"\n",
              "     width=\"24px\">\n",
              "    <g>\n",
              "        <path d=\"M19 3H5c-1.1 0-2 .9-2 2v14c0 1.1.9 2 2 2h14c1.1 0 2-.9 2-2V5c0-1.1-.9-2-2-2zM9 17H7v-7h2v7zm4 0h-2V7h2v10zm4 0h-2v-4h2v4z\"/>\n",
              "    </g>\n",
              "</svg>\n",
              "  </button>\n",
              "\n",
              "<style>\n",
              "  .colab-df-quickchart {\n",
              "      --bg-color: #E8F0FE;\n",
              "      --fill-color: #1967D2;\n",
              "      --hover-bg-color: #E2EBFA;\n",
              "      --hover-fill-color: #174EA6;\n",
              "      --disabled-fill-color: #AAA;\n",
              "      --disabled-bg-color: #DDD;\n",
              "  }\n",
              "\n",
              "  [theme=dark] .colab-df-quickchart {\n",
              "      --bg-color: #3B4455;\n",
              "      --fill-color: #D2E3FC;\n",
              "      --hover-bg-color: #434B5C;\n",
              "      --hover-fill-color: #FFFFFF;\n",
              "      --disabled-bg-color: #3B4455;\n",
              "      --disabled-fill-color: #666;\n",
              "  }\n",
              "\n",
              "  .colab-df-quickchart {\n",
              "    background-color: var(--bg-color);\n",
              "    border: none;\n",
              "    border-radius: 50%;\n",
              "    cursor: pointer;\n",
              "    display: none;\n",
              "    fill: var(--fill-color);\n",
              "    height: 32px;\n",
              "    padding: 0;\n",
              "    width: 32px;\n",
              "  }\n",
              "\n",
              "  .colab-df-quickchart:hover {\n",
              "    background-color: var(--hover-bg-color);\n",
              "    box-shadow: 0 1px 2px rgba(60, 64, 67, 0.3), 0 1px 3px 1px rgba(60, 64, 67, 0.15);\n",
              "    fill: var(--button-hover-fill-color);\n",
              "  }\n",
              "\n",
              "  .colab-df-quickchart-complete:disabled,\n",
              "  .colab-df-quickchart-complete:disabled:hover {\n",
              "    background-color: var(--disabled-bg-color);\n",
              "    fill: var(--disabled-fill-color);\n",
              "    box-shadow: none;\n",
              "  }\n",
              "\n",
              "  .colab-df-spinner {\n",
              "    border: 2px solid var(--fill-color);\n",
              "    border-color: transparent;\n",
              "    border-bottom-color: var(--fill-color);\n",
              "    animation:\n",
              "      spin 1s steps(1) infinite;\n",
              "  }\n",
              "\n",
              "  @keyframes spin {\n",
              "    0% {\n",
              "      border-color: transparent;\n",
              "      border-bottom-color: var(--fill-color);\n",
              "      border-left-color: var(--fill-color);\n",
              "    }\n",
              "    20% {\n",
              "      border-color: transparent;\n",
              "      border-left-color: var(--fill-color);\n",
              "      border-top-color: var(--fill-color);\n",
              "    }\n",
              "    30% {\n",
              "      border-color: transparent;\n",
              "      border-left-color: var(--fill-color);\n",
              "      border-top-color: var(--fill-color);\n",
              "      border-right-color: var(--fill-color);\n",
              "    }\n",
              "    40% {\n",
              "      border-color: transparent;\n",
              "      border-right-color: var(--fill-color);\n",
              "      border-top-color: var(--fill-color);\n",
              "    }\n",
              "    60% {\n",
              "      border-color: transparent;\n",
              "      border-right-color: var(--fill-color);\n",
              "    }\n",
              "    80% {\n",
              "      border-color: transparent;\n",
              "      border-right-color: var(--fill-color);\n",
              "      border-bottom-color: var(--fill-color);\n",
              "    }\n",
              "    90% {\n",
              "      border-color: transparent;\n",
              "      border-bottom-color: var(--fill-color);\n",
              "    }\n",
              "  }\n",
              "</style>\n",
              "\n",
              "  <script>\n",
              "    async function quickchart(key) {\n",
              "      const quickchartButtonEl =\n",
              "        document.querySelector('#' + key + ' button');\n",
              "      quickchartButtonEl.disabled = true;  // To prevent multiple clicks.\n",
              "      quickchartButtonEl.classList.add('colab-df-spinner');\n",
              "      try {\n",
              "        const charts = await google.colab.kernel.invokeFunction(\n",
              "            'suggestCharts', [key], {});\n",
              "      } catch (error) {\n",
              "        console.error('Error during call to suggestCharts:', error);\n",
              "      }\n",
              "      quickchartButtonEl.classList.remove('colab-df-spinner');\n",
              "      quickchartButtonEl.classList.add('colab-df-quickchart-complete');\n",
              "    }\n",
              "    (() => {\n",
              "      let quickchartButtonEl =\n",
              "        document.querySelector('#df-d1b0ef9b-a970-4b19-b8dd-f7d03aeb23cc button');\n",
              "      quickchartButtonEl.style.display =\n",
              "        google.colab.kernel.accessAllowed ? 'block' : 'none';\n",
              "    })();\n",
              "  </script>\n",
              "</div>\n",
              "\n",
              "    </div>\n",
              "  </div>\n"
            ],
            "application/vnd.google.colaboratory.intrinsic+json": {
              "type": "dataframe",
              "summary": "{\n  \"name\": \"df\",\n  \"rows\": 8,\n  \"fields\": [\n    {\n      \"column\": \"MinTemp\",\n      \"properties\": {\n        \"dtype\": \"number\",\n        \"std\": 50882.168211601085,\n        \"min\": -8.5,\n        \"max\": 143928.0,\n        \"num_unique_values\": 8,\n        \"samples\": [\n          12.195872936468232,\n          12.0,\n          143928.0\n        ],\n        \"semantic_type\": \"\",\n        \"description\": \"\"\n      }\n    },\n    {\n      \"column\": \"MaxTemp\",\n      \"properties\": {\n        \"dtype\": \"number\",\n        \"std\": 50960.71620530846,\n        \"min\": -4.8,\n        \"max\": 144159.0,\n        \"num_unique_values\": 8,\n        \"samples\": [\n          23.223176492622727,\n          22.6,\n          144159.0\n        ],\n        \"semantic_type\": \"\",\n        \"description\": \"\"\n      }\n    },\n    {\n      \"column\": \"Rainfall\",\n      \"properties\": {\n        \"dtype\": \"number\",\n        \"std\": 50239.16136512832,\n        \"min\": 0.0,\n        \"max\": 142152.0,\n        \"num_unique_values\": 6,\n        \"samples\": [\n          142152.0,\n          2.3615158421970848,\n          371.0\n        ],\n        \"semantic_type\": \"\",\n        \"description\": \"\"\n      }\n    },\n    {\n      \"column\": \"Evaporation\",\n      \"properties\": {\n        \"dtype\": \"number\",\n        \"std\": 29215.498707996896,\n        \"min\": 0.0,\n        \"max\": 82658.0,\n        \"num_unique_values\": 8,\n        \"samples\": [\n          5.468616467855501,\n          4.8,\n          82658.0\n        ],\n        \"semantic_type\": \"\",\n        \"description\": \"\"\n      }\n    },\n    {\n      \"column\": \"Sunshine\",\n      \"properties\": {\n        \"dtype\": \"number\",\n        \"std\": 26731.78347542161,\n        \"min\": 0.0,\n        \"max\": 75616.0,\n        \"num_unique_values\": 8,\n        \"samples\": [\n          7.611241007194246,\n          8.4,\n          75616.0\n        ],\n        \"semantic_type\": \"\",\n        \"description\": \"\"\n      }\n    },\n    {\n      \"column\": \"WindGustSpeed\",\n      \"properties\": {\n        \"dtype\": \"number\",\n        \"std\": 47770.148079344726,\n        \"min\": 6.0,\n        \"max\": 135159.0,\n        \"num_unique_values\": 8,\n        \"samples\": [\n          40.03656434273707,\n          39.0,\n          135159.0\n        ],\n        \"semantic_type\": \"\",\n        \"description\": \"\"\n      }\n    },\n    {\n      \"column\": \"WindSpeed9am\",\n      \"properties\": {\n        \"dtype\": \"number\",\n        \"std\": 50776.49890214009,\n        \"min\": 0.0,\n        \"max\": 143645.0,\n        \"num_unique_values\": 8,\n        \"samples\": [\n          14.044742246510495,\n          13.0,\n          143645.0\n        ],\n        \"semantic_type\": \"\",\n        \"description\": \"\"\n      }\n    },\n    {\n      \"column\": \"WindSpeed3pm\",\n      \"properties\": {\n        \"dtype\": \"number\",\n        \"std\": 50320.07552091178,\n        \"min\": 0.0,\n        \"max\": 142351.0,\n        \"num_unique_values\": 8,\n        \"samples\": [\n          18.66316358859439,\n          19.0,\n          142351.0\n        ],\n        \"semantic_type\": \"\",\n        \"description\": \"\"\n      }\n    },\n    {\n      \"column\": \"Humidity9am\",\n      \"properties\": {\n        \"dtype\": \"number\",\n        \"std\": 50452.84181048503,\n        \"min\": 0.0,\n        \"max\": 142759.0,\n        \"num_unique_values\": 8,\n        \"samples\": [\n          68.87728969802254,\n          70.0,\n          142759.0\n        ],\n        \"semantic_type\": \"\",\n        \"description\": \"\"\n      }\n    },\n    {\n      \"column\": \"Humidity3pm\",\n      \"properties\": {\n        \"dtype\": \"number\",\n        \"std\": 49801.62364487369,\n        \"min\": 0.0,\n        \"max\": 140907.0,\n        \"num_unique_values\": 8,\n        \"samples\": [\n          51.53743249093374,\n          52.0,\n          140907.0\n        ],\n        \"semantic_type\": \"\",\n        \"description\": \"\"\n      }\n    },\n    {\n      \"column\": \"Pressure9am\",\n      \"properties\": {\n        \"dtype\": \"number\",\n        \"std\": 45779.346641955344,\n        \"min\": 7.107131665918883,\n        \"max\": 130351.0,\n        \"num_unique_values\": 8,\n        \"samples\": [\n          1017.649276952229,\n          1017.6,\n          130351.0\n        ],\n        \"semantic_type\": \"\",\n        \"description\": \"\"\n      }\n    },\n    {\n      \"column\": \"Pressure3pm\",\n      \"properties\": {\n        \"dtype\": \"number\",\n        \"std\": 45793.15713502877,\n        \"min\": 7.037981000043494,\n        \"max\": 130388.0,\n        \"num_unique_values\": 8,\n        \"samples\": [\n          1015.2551836978861,\n          1015.2,\n          130388.0\n        ],\n        \"semantic_type\": \"\",\n        \"description\": \"\"\n      }\n    },\n    {\n      \"column\": \"Cloud9am\",\n      \"properties\": {\n        \"dtype\": \"number\",\n        \"std\": 31656.396225186276,\n        \"min\": 0.0,\n        \"max\": 89542.0,\n        \"num_unique_values\": 8,\n        \"samples\": [\n          4.447287306515379,\n          5.0,\n          89542.0\n        ],\n        \"semantic_type\": \"\",\n        \"description\": \"\"\n      }\n    },\n    {\n      \"column\": \"Cloud3pm\",\n      \"properties\": {\n        \"dtype\": \"number\",\n        \"std\": 30430.934931136366,\n        \"min\": 0.0,\n        \"max\": 86076.0,\n        \"num_unique_values\": 8,\n        \"samples\": [\n          4.5097704354291555,\n          5.0,\n          86076.0\n        ],\n        \"semantic_type\": \"\",\n        \"description\": \"\"\n      }\n    },\n    {\n      \"column\": \"Temp9am\",\n      \"properties\": {\n        \"dtype\": \"number\",\n        \"std\": 50781.12371547031,\n        \"min\": -7.2,\n        \"max\": 143646.0,\n        \"num_unique_values\": 8,\n        \"samples\": [\n          16.992780167912784,\n          16.7,\n          143646.0\n        ],\n        \"semantic_type\": \"\",\n        \"description\": \"\"\n      }\n    },\n    {\n      \"column\": \"Temp3pm\",\n      \"properties\": {\n        \"dtype\": \"number\",\n        \"std\": 50128.87169126618,\n        \"min\": -5.4,\n        \"max\": 141805.0,\n        \"num_unique_values\": 8,\n        \"samples\": [\n          21.685249462289764,\n          21.1,\n          141805.0\n        ],\n        \"semantic_type\": \"\",\n        \"description\": \"\"\n      }\n    },\n    {\n      \"column\": \"RainfallTomorrow\",\n      \"properties\": {\n        \"dtype\": \"number\",\n        \"std\": 50239.51494411824,\n        \"min\": 0.0,\n        \"max\": 142153.0,\n        \"num_unique_values\": 6,\n        \"samples\": [\n          142153.0,\n          2.3612417606381855,\n          371.0\n        ],\n        \"semantic_type\": \"\",\n        \"description\": \"\"\n      }\n    }\n  ]\n}"
            }
          },
          "metadata": {},
          "execution_count": 167
        }
      ]
    },
    {
      "cell_type": "code",
      "source": [
        "### Cantidad de valores faltantes.\n",
        "df.isna().sum()"
      ],
      "metadata": {
        "id": "Sic_Qcs5uWrm",
        "outputId": "27d5bea8-a3e5-4374-fda4-21736f6696f7",
        "colab": {
          "base_uri": "https://localhost:8080/"
        }
      },
      "execution_count": 168,
      "outputs": [
        {
          "output_type": "execute_result",
          "data": {
            "text/plain": [
              "Date                    0\n",
              "Location                0\n",
              "MinTemp              1484\n",
              "MaxTemp              1253\n",
              "Rainfall             3260\n",
              "Evaporation         62754\n",
              "Sunshine            69796\n",
              "WindGustDir         10316\n",
              "WindGustSpeed       10253\n",
              "WindDir9am          10562\n",
              "WindDir3pm           4226\n",
              "WindSpeed9am         1767\n",
              "WindSpeed3pm         3061\n",
              "Humidity9am          2653\n",
              "Humidity3pm          4505\n",
              "Pressure9am         15061\n",
              "Pressure3pm         15024\n",
              "Cloud9am            55870\n",
              "Cloud3pm            59336\n",
              "Temp9am              1766\n",
              "Temp3pm              3607\n",
              "RainToday            3260\n",
              "RainTomorrow         3259\n",
              "RainfallTomorrow     3259\n",
              "dtype: int64"
            ]
          },
          "metadata": {},
          "execution_count": 168
        }
      ]
    },
    {
      "cell_type": "code",
      "source": [
        "df.info()"
      ],
      "metadata": {
        "id": "tKUpkmxruswI",
        "outputId": "cad6397f-22fe-45cc-ec5e-664392a9a4e5",
        "colab": {
          "base_uri": "https://localhost:8080/"
        }
      },
      "execution_count": 169,
      "outputs": [
        {
          "output_type": "stream",
          "name": "stdout",
          "text": [
            "<class 'pandas.core.frame.DataFrame'>\n",
            "RangeIndex: 145412 entries, 0 to 145411\n",
            "Data columns (total 24 columns):\n",
            " #   Column            Non-Null Count   Dtype  \n",
            "---  ------            --------------   -----  \n",
            " 0   Date              145412 non-null  object \n",
            " 1   Location          145412 non-null  object \n",
            " 2   MinTemp           143928 non-null  float64\n",
            " 3   MaxTemp           144159 non-null  float64\n",
            " 4   Rainfall          142152 non-null  float64\n",
            " 5   Evaporation       82658 non-null   float64\n",
            " 6   Sunshine          75616 non-null   float64\n",
            " 7   WindGustDir       135096 non-null  object \n",
            " 8   WindGustSpeed     135159 non-null  float64\n",
            " 9   WindDir9am        134850 non-null  object \n",
            " 10  WindDir3pm        141186 non-null  object \n",
            " 11  WindSpeed9am      143645 non-null  float64\n",
            " 12  WindSpeed3pm      142351 non-null  float64\n",
            " 13  Humidity9am       142759 non-null  float64\n",
            " 14  Humidity3pm       140907 non-null  float64\n",
            " 15  Pressure9am       130351 non-null  float64\n",
            " 16  Pressure3pm       130388 non-null  float64\n",
            " 17  Cloud9am          89542 non-null   float64\n",
            " 18  Cloud3pm          86076 non-null   float64\n",
            " 19  Temp9am           143646 non-null  float64\n",
            " 20  Temp3pm           141805 non-null  float64\n",
            " 21  RainToday         142152 non-null  object \n",
            " 22  RainTomorrow      142153 non-null  object \n",
            " 23  RainfallTomorrow  142153 non-null  float64\n",
            "dtypes: float64(17), object(7)\n",
            "memory usage: 26.6+ MB\n"
          ]
        }
      ]
    },
    {
      "cell_type": "code",
      "source": [
        "df['Location'].unique()"
      ],
      "metadata": {
        "id": "eU8UKsAPuuGW",
        "outputId": "0f02041a-ae4d-4c5b-cea8-e1b2d16ed0c3",
        "colab": {
          "base_uri": "https://localhost:8080/"
        }
      },
      "execution_count": 170,
      "outputs": [
        {
          "output_type": "execute_result",
          "data": {
            "text/plain": [
              "array(['Albury', 'BadgerysCreek', 'Cobar', 'CoffsHarbour', 'Moree',\n",
              "       'Newcastle', 'NorahHead', 'NorfolkIsland', 'Penrith', 'Richmond',\n",
              "       'Sydney', 'SydneyAirport', 'WaggaWagga', 'Williamtown',\n",
              "       'Wollongong', 'Canberra', 'Tuggeranong', 'MountGinini', 'Ballarat',\n",
              "       'Bendigo', 'Sale', 'MelbourneAirport', 'Melbourne', 'Mildura',\n",
              "       'Nhil', 'Portland', 'Watsonia', 'Dartmoor', 'Brisbane', 'Cairns',\n",
              "       'GoldCoast', 'Townsville', 'Adelaide', 'MountGambier', 'Nuriootpa',\n",
              "       'Woomera', 'Albany', 'Witchcliffe', 'PearceRAAF', 'PerthAirport',\n",
              "       'Perth', 'SalmonGums', 'Walpole', 'Hobart', 'Launceston',\n",
              "       'AliceSprings', 'Darwin', 'Katherine', 'Uluru'], dtype=object)"
            ]
          },
          "metadata": {},
          "execution_count": 170
        }
      ]
    },
    {
      "cell_type": "code",
      "source": [
        "\n",
        "costa_este = [\"Adelaide\", \"Canberra\", \"Cobar\", \"Dartmoor\", \"Melbourne\", \"MelbourneAirport\", \"MountGambier\", \"Sydney\", \"SydneyAirport\"]\n",
        "\n",
        "df.loc[df['Location'].isin(costa_este), 'Location'] = 'costa_este'\n",
        "\n",
        "df = df[df['Location'] == 'costa_este']\n",
        "\n",
        "df = df.reset_index(drop=True)"
      ],
      "metadata": {
        "id": "Ghy2bPmHuvjW"
      },
      "execution_count": 171,
      "outputs": []
    },
    {
      "cell_type": "code",
      "source": [
        "df.head()"
      ],
      "metadata": {
        "id": "fVUkTvL9uwtI",
        "outputId": "57b51ea1-5b1d-4b41-8aca-29ed1c6290c2",
        "colab": {
          "base_uri": "https://localhost:8080/",
          "height": 342
        }
      },
      "execution_count": 172,
      "outputs": [
        {
          "output_type": "execute_result",
          "data": {
            "text/plain": [
              "         Date    Location  MinTemp  MaxTemp  Rainfall  Evaporation  Sunshine  \\\n",
              "0  2009-01-01  costa_este     17.9     35.2       0.0         12.0      12.3   \n",
              "1  2009-01-02  costa_este     18.4     28.9       0.0         14.8      13.0   \n",
              "2  2009-01-03  costa_este     15.5     34.1       0.0         12.6      13.3   \n",
              "3  2009-01-04  costa_este     19.4     37.6       0.0         10.8      10.6   \n",
              "4  2009-01-05  costa_este     21.9     38.4       0.0         11.4      12.2   \n",
              "\n",
              "  WindGustDir  WindGustSpeed WindDir9am  ... Humidity3pm  Pressure9am  \\\n",
              "0         SSW           48.0        ENE  ...        13.0       1006.3   \n",
              "1           S           37.0        SSE  ...         8.0       1012.9   \n",
              "2          SE           30.0        NaN  ...         7.0          NaN   \n",
              "3         NNE           46.0        NNE  ...        22.0       1012.3   \n",
              "4         WNW           31.0        WNW  ...        22.0       1012.7   \n",
              "\n",
              "   Pressure3pm  Cloud9am  Cloud3pm  Temp9am  Temp3pm  RainToday  RainTomorrow  \\\n",
              "0       1004.4       2.0       5.0     26.6     33.4         No            No   \n",
              "1       1012.1       1.0       1.0     20.3     27.0         No            No   \n",
              "2       1011.6       NaN       1.0      NaN     32.7         No            No   \n",
              "3       1009.2       1.0       6.0     28.7     34.9         No            No   \n",
              "4       1009.1       1.0       5.0     29.1     35.6         No            No   \n",
              "\n",
              "   RainfallTomorrow  \n",
              "0               0.0  \n",
              "1               0.0  \n",
              "2               0.0  \n",
              "3               0.0  \n",
              "4               0.0  \n",
              "\n",
              "[5 rows x 24 columns]"
            ],
            "text/html": [
              "\n",
              "  <div id=\"df-519467af-ca60-460b-aaa2-ec0db954499d\" class=\"colab-df-container\">\n",
              "    <div>\n",
              "<style scoped>\n",
              "    .dataframe tbody tr th:only-of-type {\n",
              "        vertical-align: middle;\n",
              "    }\n",
              "\n",
              "    .dataframe tbody tr th {\n",
              "        vertical-align: top;\n",
              "    }\n",
              "\n",
              "    .dataframe thead th {\n",
              "        text-align: right;\n",
              "    }\n",
              "</style>\n",
              "<table border=\"1\" class=\"dataframe\">\n",
              "  <thead>\n",
              "    <tr style=\"text-align: right;\">\n",
              "      <th></th>\n",
              "      <th>Date</th>\n",
              "      <th>Location</th>\n",
              "      <th>MinTemp</th>\n",
              "      <th>MaxTemp</th>\n",
              "      <th>Rainfall</th>\n",
              "      <th>Evaporation</th>\n",
              "      <th>Sunshine</th>\n",
              "      <th>WindGustDir</th>\n",
              "      <th>WindGustSpeed</th>\n",
              "      <th>WindDir9am</th>\n",
              "      <th>...</th>\n",
              "      <th>Humidity3pm</th>\n",
              "      <th>Pressure9am</th>\n",
              "      <th>Pressure3pm</th>\n",
              "      <th>Cloud9am</th>\n",
              "      <th>Cloud3pm</th>\n",
              "      <th>Temp9am</th>\n",
              "      <th>Temp3pm</th>\n",
              "      <th>RainToday</th>\n",
              "      <th>RainTomorrow</th>\n",
              "      <th>RainfallTomorrow</th>\n",
              "    </tr>\n",
              "  </thead>\n",
              "  <tbody>\n",
              "    <tr>\n",
              "      <th>0</th>\n",
              "      <td>2009-01-01</td>\n",
              "      <td>costa_este</td>\n",
              "      <td>17.9</td>\n",
              "      <td>35.2</td>\n",
              "      <td>0.0</td>\n",
              "      <td>12.0</td>\n",
              "      <td>12.3</td>\n",
              "      <td>SSW</td>\n",
              "      <td>48.0</td>\n",
              "      <td>ENE</td>\n",
              "      <td>...</td>\n",
              "      <td>13.0</td>\n",
              "      <td>1006.3</td>\n",
              "      <td>1004.4</td>\n",
              "      <td>2.0</td>\n",
              "      <td>5.0</td>\n",
              "      <td>26.6</td>\n",
              "      <td>33.4</td>\n",
              "      <td>No</td>\n",
              "      <td>No</td>\n",
              "      <td>0.0</td>\n",
              "    </tr>\n",
              "    <tr>\n",
              "      <th>1</th>\n",
              "      <td>2009-01-02</td>\n",
              "      <td>costa_este</td>\n",
              "      <td>18.4</td>\n",
              "      <td>28.9</td>\n",
              "      <td>0.0</td>\n",
              "      <td>14.8</td>\n",
              "      <td>13.0</td>\n",
              "      <td>S</td>\n",
              "      <td>37.0</td>\n",
              "      <td>SSE</td>\n",
              "      <td>...</td>\n",
              "      <td>8.0</td>\n",
              "      <td>1012.9</td>\n",
              "      <td>1012.1</td>\n",
              "      <td>1.0</td>\n",
              "      <td>1.0</td>\n",
              "      <td>20.3</td>\n",
              "      <td>27.0</td>\n",
              "      <td>No</td>\n",
              "      <td>No</td>\n",
              "      <td>0.0</td>\n",
              "    </tr>\n",
              "    <tr>\n",
              "      <th>2</th>\n",
              "      <td>2009-01-03</td>\n",
              "      <td>costa_este</td>\n",
              "      <td>15.5</td>\n",
              "      <td>34.1</td>\n",
              "      <td>0.0</td>\n",
              "      <td>12.6</td>\n",
              "      <td>13.3</td>\n",
              "      <td>SE</td>\n",
              "      <td>30.0</td>\n",
              "      <td>NaN</td>\n",
              "      <td>...</td>\n",
              "      <td>7.0</td>\n",
              "      <td>NaN</td>\n",
              "      <td>1011.6</td>\n",
              "      <td>NaN</td>\n",
              "      <td>1.0</td>\n",
              "      <td>NaN</td>\n",
              "      <td>32.7</td>\n",
              "      <td>No</td>\n",
              "      <td>No</td>\n",
              "      <td>0.0</td>\n",
              "    </tr>\n",
              "    <tr>\n",
              "      <th>3</th>\n",
              "      <td>2009-01-04</td>\n",
              "      <td>costa_este</td>\n",
              "      <td>19.4</td>\n",
              "      <td>37.6</td>\n",
              "      <td>0.0</td>\n",
              "      <td>10.8</td>\n",
              "      <td>10.6</td>\n",
              "      <td>NNE</td>\n",
              "      <td>46.0</td>\n",
              "      <td>NNE</td>\n",
              "      <td>...</td>\n",
              "      <td>22.0</td>\n",
              "      <td>1012.3</td>\n",
              "      <td>1009.2</td>\n",
              "      <td>1.0</td>\n",
              "      <td>6.0</td>\n",
              "      <td>28.7</td>\n",
              "      <td>34.9</td>\n",
              "      <td>No</td>\n",
              "      <td>No</td>\n",
              "      <td>0.0</td>\n",
              "    </tr>\n",
              "    <tr>\n",
              "      <th>4</th>\n",
              "      <td>2009-01-05</td>\n",
              "      <td>costa_este</td>\n",
              "      <td>21.9</td>\n",
              "      <td>38.4</td>\n",
              "      <td>0.0</td>\n",
              "      <td>11.4</td>\n",
              "      <td>12.2</td>\n",
              "      <td>WNW</td>\n",
              "      <td>31.0</td>\n",
              "      <td>WNW</td>\n",
              "      <td>...</td>\n",
              "      <td>22.0</td>\n",
              "      <td>1012.7</td>\n",
              "      <td>1009.1</td>\n",
              "      <td>1.0</td>\n",
              "      <td>5.0</td>\n",
              "      <td>29.1</td>\n",
              "      <td>35.6</td>\n",
              "      <td>No</td>\n",
              "      <td>No</td>\n",
              "      <td>0.0</td>\n",
              "    </tr>\n",
              "  </tbody>\n",
              "</table>\n",
              "<p>5 rows × 24 columns</p>\n",
              "</div>\n",
              "    <div class=\"colab-df-buttons\">\n",
              "\n",
              "  <div class=\"colab-df-container\">\n",
              "    <button class=\"colab-df-convert\" onclick=\"convertToInteractive('df-519467af-ca60-460b-aaa2-ec0db954499d')\"\n",
              "            title=\"Convert this dataframe to an interactive table.\"\n",
              "            style=\"display:none;\">\n",
              "\n",
              "  <svg xmlns=\"http://www.w3.org/2000/svg\" height=\"24px\" viewBox=\"0 -960 960 960\">\n",
              "    <path d=\"M120-120v-720h720v720H120Zm60-500h600v-160H180v160Zm220 220h160v-160H400v160Zm0 220h160v-160H400v160ZM180-400h160v-160H180v160Zm440 0h160v-160H620v160ZM180-180h160v-160H180v160Zm440 0h160v-160H620v160Z\"/>\n",
              "  </svg>\n",
              "    </button>\n",
              "\n",
              "  <style>\n",
              "    .colab-df-container {\n",
              "      display:flex;\n",
              "      gap: 12px;\n",
              "    }\n",
              "\n",
              "    .colab-df-convert {\n",
              "      background-color: #E8F0FE;\n",
              "      border: none;\n",
              "      border-radius: 50%;\n",
              "      cursor: pointer;\n",
              "      display: none;\n",
              "      fill: #1967D2;\n",
              "      height: 32px;\n",
              "      padding: 0 0 0 0;\n",
              "      width: 32px;\n",
              "    }\n",
              "\n",
              "    .colab-df-convert:hover {\n",
              "      background-color: #E2EBFA;\n",
              "      box-shadow: 0px 1px 2px rgba(60, 64, 67, 0.3), 0px 1px 3px 1px rgba(60, 64, 67, 0.15);\n",
              "      fill: #174EA6;\n",
              "    }\n",
              "\n",
              "    .colab-df-buttons div {\n",
              "      margin-bottom: 4px;\n",
              "    }\n",
              "\n",
              "    [theme=dark] .colab-df-convert {\n",
              "      background-color: #3B4455;\n",
              "      fill: #D2E3FC;\n",
              "    }\n",
              "\n",
              "    [theme=dark] .colab-df-convert:hover {\n",
              "      background-color: #434B5C;\n",
              "      box-shadow: 0px 1px 3px 1px rgba(0, 0, 0, 0.15);\n",
              "      filter: drop-shadow(0px 1px 2px rgba(0, 0, 0, 0.3));\n",
              "      fill: #FFFFFF;\n",
              "    }\n",
              "  </style>\n",
              "\n",
              "    <script>\n",
              "      const buttonEl =\n",
              "        document.querySelector('#df-519467af-ca60-460b-aaa2-ec0db954499d button.colab-df-convert');\n",
              "      buttonEl.style.display =\n",
              "        google.colab.kernel.accessAllowed ? 'block' : 'none';\n",
              "\n",
              "      async function convertToInteractive(key) {\n",
              "        const element = document.querySelector('#df-519467af-ca60-460b-aaa2-ec0db954499d');\n",
              "        const dataTable =\n",
              "          await google.colab.kernel.invokeFunction('convertToInteractive',\n",
              "                                                    [key], {});\n",
              "        if (!dataTable) return;\n",
              "\n",
              "        const docLinkHtml = 'Like what you see? Visit the ' +\n",
              "          '<a target=\"_blank\" href=https://colab.research.google.com/notebooks/data_table.ipynb>data table notebook</a>'\n",
              "          + ' to learn more about interactive tables.';\n",
              "        element.innerHTML = '';\n",
              "        dataTable['output_type'] = 'display_data';\n",
              "        await google.colab.output.renderOutput(dataTable, element);\n",
              "        const docLink = document.createElement('div');\n",
              "        docLink.innerHTML = docLinkHtml;\n",
              "        element.appendChild(docLink);\n",
              "      }\n",
              "    </script>\n",
              "  </div>\n",
              "\n",
              "\n",
              "<div id=\"df-37504326-e91a-4a8d-a6c7-262ae645419e\">\n",
              "  <button class=\"colab-df-quickchart\" onclick=\"quickchart('df-37504326-e91a-4a8d-a6c7-262ae645419e')\"\n",
              "            title=\"Suggest charts\"\n",
              "            style=\"display:none;\">\n",
              "\n",
              "<svg xmlns=\"http://www.w3.org/2000/svg\" height=\"24px\"viewBox=\"0 0 24 24\"\n",
              "     width=\"24px\">\n",
              "    <g>\n",
              "        <path d=\"M19 3H5c-1.1 0-2 .9-2 2v14c0 1.1.9 2 2 2h14c1.1 0 2-.9 2-2V5c0-1.1-.9-2-2-2zM9 17H7v-7h2v7zm4 0h-2V7h2v10zm4 0h-2v-4h2v4z\"/>\n",
              "    </g>\n",
              "</svg>\n",
              "  </button>\n",
              "\n",
              "<style>\n",
              "  .colab-df-quickchart {\n",
              "      --bg-color: #E8F0FE;\n",
              "      --fill-color: #1967D2;\n",
              "      --hover-bg-color: #E2EBFA;\n",
              "      --hover-fill-color: #174EA6;\n",
              "      --disabled-fill-color: #AAA;\n",
              "      --disabled-bg-color: #DDD;\n",
              "  }\n",
              "\n",
              "  [theme=dark] .colab-df-quickchart {\n",
              "      --bg-color: #3B4455;\n",
              "      --fill-color: #D2E3FC;\n",
              "      --hover-bg-color: #434B5C;\n",
              "      --hover-fill-color: #FFFFFF;\n",
              "      --disabled-bg-color: #3B4455;\n",
              "      --disabled-fill-color: #666;\n",
              "  }\n",
              "\n",
              "  .colab-df-quickchart {\n",
              "    background-color: var(--bg-color);\n",
              "    border: none;\n",
              "    border-radius: 50%;\n",
              "    cursor: pointer;\n",
              "    display: none;\n",
              "    fill: var(--fill-color);\n",
              "    height: 32px;\n",
              "    padding: 0;\n",
              "    width: 32px;\n",
              "  }\n",
              "\n",
              "  .colab-df-quickchart:hover {\n",
              "    background-color: var(--hover-bg-color);\n",
              "    box-shadow: 0 1px 2px rgba(60, 64, 67, 0.3), 0 1px 3px 1px rgba(60, 64, 67, 0.15);\n",
              "    fill: var(--button-hover-fill-color);\n",
              "  }\n",
              "\n",
              "  .colab-df-quickchart-complete:disabled,\n",
              "  .colab-df-quickchart-complete:disabled:hover {\n",
              "    background-color: var(--disabled-bg-color);\n",
              "    fill: var(--disabled-fill-color);\n",
              "    box-shadow: none;\n",
              "  }\n",
              "\n",
              "  .colab-df-spinner {\n",
              "    border: 2px solid var(--fill-color);\n",
              "    border-color: transparent;\n",
              "    border-bottom-color: var(--fill-color);\n",
              "    animation:\n",
              "      spin 1s steps(1) infinite;\n",
              "  }\n",
              "\n",
              "  @keyframes spin {\n",
              "    0% {\n",
              "      border-color: transparent;\n",
              "      border-bottom-color: var(--fill-color);\n",
              "      border-left-color: var(--fill-color);\n",
              "    }\n",
              "    20% {\n",
              "      border-color: transparent;\n",
              "      border-left-color: var(--fill-color);\n",
              "      border-top-color: var(--fill-color);\n",
              "    }\n",
              "    30% {\n",
              "      border-color: transparent;\n",
              "      border-left-color: var(--fill-color);\n",
              "      border-top-color: var(--fill-color);\n",
              "      border-right-color: var(--fill-color);\n",
              "    }\n",
              "    40% {\n",
              "      border-color: transparent;\n",
              "      border-right-color: var(--fill-color);\n",
              "      border-top-color: var(--fill-color);\n",
              "    }\n",
              "    60% {\n",
              "      border-color: transparent;\n",
              "      border-right-color: var(--fill-color);\n",
              "    }\n",
              "    80% {\n",
              "      border-color: transparent;\n",
              "      border-right-color: var(--fill-color);\n",
              "      border-bottom-color: var(--fill-color);\n",
              "    }\n",
              "    90% {\n",
              "      border-color: transparent;\n",
              "      border-bottom-color: var(--fill-color);\n",
              "    }\n",
              "  }\n",
              "</style>\n",
              "\n",
              "  <script>\n",
              "    async function quickchart(key) {\n",
              "      const quickchartButtonEl =\n",
              "        document.querySelector('#' + key + ' button');\n",
              "      quickchartButtonEl.disabled = true;  // To prevent multiple clicks.\n",
              "      quickchartButtonEl.classList.add('colab-df-spinner');\n",
              "      try {\n",
              "        const charts = await google.colab.kernel.invokeFunction(\n",
              "            'suggestCharts', [key], {});\n",
              "      } catch (error) {\n",
              "        console.error('Error during call to suggestCharts:', error);\n",
              "      }\n",
              "      quickchartButtonEl.classList.remove('colab-df-spinner');\n",
              "      quickchartButtonEl.classList.add('colab-df-quickchart-complete');\n",
              "    }\n",
              "    (() => {\n",
              "      let quickchartButtonEl =\n",
              "        document.querySelector('#df-37504326-e91a-4a8d-a6c7-262ae645419e button');\n",
              "      quickchartButtonEl.style.display =\n",
              "        google.colab.kernel.accessAllowed ? 'block' : 'none';\n",
              "    })();\n",
              "  </script>\n",
              "</div>\n",
              "\n",
              "    </div>\n",
              "  </div>\n"
            ],
            "application/vnd.google.colaboratory.intrinsic+json": {
              "type": "dataframe",
              "variable_name": "df"
            }
          },
          "metadata": {},
          "execution_count": 172
        }
      ]
    },
    {
      "cell_type": "code",
      "source": [
        "### Busco duplicados\n",
        "if not df.duplicated().any():\n",
        "  print('No hay registros duplicados')"
      ],
      "metadata": {
        "id": "nbtNP9PQuX53",
        "outputId": "353f1c1d-a93d-445c-d3d7-31cd0f4ce0fa",
        "colab": {
          "base_uri": "https://localhost:8080/"
        }
      },
      "execution_count": 173,
      "outputs": [
        {
          "output_type": "stream",
          "name": "stdout",
          "text": [
            "No hay registros duplicados\n"
          ]
        }
      ]
    },
    {
      "cell_type": "code",
      "source": [
        "df.isnull().sum()"
      ],
      "metadata": {
        "id": "abPCQ39Wu17W",
        "outputId": "ed49ac86-f422-4f91-8fe1-e5404d35ad27",
        "colab": {
          "base_uri": "https://localhost:8080/"
        }
      },
      "execution_count": 174,
      "outputs": [
        {
          "output_type": "execute_result",
          "data": {
            "text/plain": [
              "Date                   0\n",
              "Location               0\n",
              "MinTemp              570\n",
              "MaxTemp              558\n",
              "Rainfall             986\n",
              "Evaporation         4353\n",
              "Sunshine            6713\n",
              "WindGustDir         1645\n",
              "WindGustSpeed       1642\n",
              "WindDir9am          1648\n",
              "WindDir3pm           437\n",
              "WindSpeed9am         358\n",
              "WindSpeed3pm         340\n",
              "Humidity9am          940\n",
              "Humidity3pm          890\n",
              "Pressure9am          839\n",
              "Pressure3pm          829\n",
              "Cloud9am            9367\n",
              "Cloud3pm            9550\n",
              "Temp9am              585\n",
              "Temp3pm              576\n",
              "RainToday            986\n",
              "RainTomorrow         985\n",
              "RainfallTomorrow     985\n",
              "dtype: int64"
            ]
          },
          "metadata": {},
          "execution_count": 174
        }
      ]
    },
    {
      "cell_type": "code",
      "source": [
        "df.info()"
      ],
      "metadata": {
        "id": "7InPqeEOuZhI",
        "outputId": "cf9a2437-71ea-49ff-bd22-559d15b21b74",
        "colab": {
          "base_uri": "https://localhost:8080/"
        }
      },
      "execution_count": 175,
      "outputs": [
        {
          "output_type": "stream",
          "name": "stdout",
          "text": [
            "<class 'pandas.core.frame.DataFrame'>\n",
            "RangeIndex: 28233 entries, 0 to 28232\n",
            "Data columns (total 24 columns):\n",
            " #   Column            Non-Null Count  Dtype  \n",
            "---  ------            --------------  -----  \n",
            " 0   Date              28233 non-null  object \n",
            " 1   Location          28233 non-null  object \n",
            " 2   MinTemp           27663 non-null  float64\n",
            " 3   MaxTemp           27675 non-null  float64\n",
            " 4   Rainfall          27247 non-null  float64\n",
            " 5   Evaporation       23880 non-null  float64\n",
            " 6   Sunshine          21520 non-null  float64\n",
            " 7   WindGustDir       26588 non-null  object \n",
            " 8   WindGustSpeed     26591 non-null  float64\n",
            " 9   WindDir9am        26585 non-null  object \n",
            " 10  WindDir3pm        27796 non-null  object \n",
            " 11  WindSpeed9am      27875 non-null  float64\n",
            " 12  WindSpeed3pm      27893 non-null  float64\n",
            " 13  Humidity9am       27293 non-null  float64\n",
            " 14  Humidity3pm       27343 non-null  float64\n",
            " 15  Pressure9am       27394 non-null  float64\n",
            " 16  Pressure3pm       27404 non-null  float64\n",
            " 17  Cloud9am          18866 non-null  float64\n",
            " 18  Cloud3pm          18683 non-null  float64\n",
            " 19  Temp9am           27648 non-null  float64\n",
            " 20  Temp3pm           27657 non-null  float64\n",
            " 21  RainToday         27247 non-null  object \n",
            " 22  RainTomorrow      27248 non-null  object \n",
            " 23  RainfallTomorrow  27248 non-null  float64\n",
            "dtypes: float64(17), object(7)\n",
            "memory usage: 5.2+ MB\n"
          ]
        }
      ]
    },
    {
      "cell_type": "code",
      "source": [
        "df.describe()"
      ],
      "metadata": {
        "id": "1aeD9HxGubUQ",
        "outputId": "c23f4a00-8cf6-47ad-a495-f8b1c41066ad",
        "colab": {
          "base_uri": "https://localhost:8080/",
          "height": 320
        }
      },
      "execution_count": 176,
      "outputs": [
        {
          "output_type": "execute_result",
          "data": {
            "text/plain": [
              "            MinTemp       MaxTemp      Rainfall   Evaporation      Sunshine  \\\n",
              "count  27663.000000  27675.000000  27247.000000  23880.000000  21520.000000   \n",
              "mean      11.263319     21.902078      2.050369      4.826499      6.891129   \n",
              "std        5.709936      6.693168      6.384560      3.707995      3.867622   \n",
              "min       -8.000000      4.100000      0.000000      0.000000      0.000000   \n",
              "25%        7.400000     16.600000      0.000000      2.200000      3.800000   \n",
              "50%       10.900000     21.000000      0.000000      4.000000      7.400000   \n",
              "75%       15.200000     26.200000      1.000000      6.600000     10.000000   \n",
              "max       33.900000     46.800000    119.400000     86.200000     14.300000   \n",
              "\n",
              "       WindGustSpeed  WindSpeed9am  WindSpeed3pm   Humidity9am   Humidity3pm  \\\n",
              "count   26591.000000  27875.000000  27893.000000  27293.000000  27343.000000   \n",
              "mean       41.835471     15.130152     20.023052     68.766350     50.497385   \n",
              "std        14.186300      9.458606      8.979409     18.730306     19.944931   \n",
              "min         9.000000      0.000000      0.000000      5.000000      1.000000   \n",
              "25%        31.000000      9.000000     13.000000     57.000000     37.000000   \n",
              "50%        39.000000     13.000000     19.000000     70.000000     50.000000   \n",
              "75%        50.000000     20.000000     26.000000     83.000000     64.000000   \n",
              "max       122.000000     69.000000     76.000000    100.000000    100.000000   \n",
              "\n",
              "        Pressure9am   Pressure3pm      Cloud9am      Cloud3pm       Temp9am  \\\n",
              "count  27394.000000  27404.000000  18866.000000  18683.000000  27648.000000   \n",
              "mean    1018.249325   1016.149624      4.668557      4.732805     15.477127   \n",
              "std        7.423776      7.267376      2.807571      2.628154      5.701031   \n",
              "min      982.300000    984.900000      0.000000      0.000000     -1.300000   \n",
              "25%     1013.300000   1011.300000      1.000000      2.000000     11.400000   \n",
              "50%     1018.400000   1016.300000      6.000000      6.000000     15.000000   \n",
              "75%     1023.300000   1021.100000      7.000000      7.000000     19.125000   \n",
              "max     1040.600000   1037.900000      9.000000      8.000000     38.600000   \n",
              "\n",
              "            Temp3pm  RainfallTomorrow  \n",
              "count  27657.000000      27248.000000  \n",
              "mean      20.408345          2.049347  \n",
              "std        6.532302          6.383931  \n",
              "min        3.700000          0.000000  \n",
              "25%       15.400000          0.000000  \n",
              "50%       19.500000          0.000000  \n",
              "75%       24.500000          1.000000  \n",
              "max       46.100000        119.400000  "
            ],
            "text/html": [
              "\n",
              "  <div id=\"df-e3d853c9-133e-4dc3-b7c1-cd552d4d75fa\" class=\"colab-df-container\">\n",
              "    <div>\n",
              "<style scoped>\n",
              "    .dataframe tbody tr th:only-of-type {\n",
              "        vertical-align: middle;\n",
              "    }\n",
              "\n",
              "    .dataframe tbody tr th {\n",
              "        vertical-align: top;\n",
              "    }\n",
              "\n",
              "    .dataframe thead th {\n",
              "        text-align: right;\n",
              "    }\n",
              "</style>\n",
              "<table border=\"1\" class=\"dataframe\">\n",
              "  <thead>\n",
              "    <tr style=\"text-align: right;\">\n",
              "      <th></th>\n",
              "      <th>MinTemp</th>\n",
              "      <th>MaxTemp</th>\n",
              "      <th>Rainfall</th>\n",
              "      <th>Evaporation</th>\n",
              "      <th>Sunshine</th>\n",
              "      <th>WindGustSpeed</th>\n",
              "      <th>WindSpeed9am</th>\n",
              "      <th>WindSpeed3pm</th>\n",
              "      <th>Humidity9am</th>\n",
              "      <th>Humidity3pm</th>\n",
              "      <th>Pressure9am</th>\n",
              "      <th>Pressure3pm</th>\n",
              "      <th>Cloud9am</th>\n",
              "      <th>Cloud3pm</th>\n",
              "      <th>Temp9am</th>\n",
              "      <th>Temp3pm</th>\n",
              "      <th>RainfallTomorrow</th>\n",
              "    </tr>\n",
              "  </thead>\n",
              "  <tbody>\n",
              "    <tr>\n",
              "      <th>count</th>\n",
              "      <td>27663.000000</td>\n",
              "      <td>27675.000000</td>\n",
              "      <td>27247.000000</td>\n",
              "      <td>23880.000000</td>\n",
              "      <td>21520.000000</td>\n",
              "      <td>26591.000000</td>\n",
              "      <td>27875.000000</td>\n",
              "      <td>27893.000000</td>\n",
              "      <td>27293.000000</td>\n",
              "      <td>27343.000000</td>\n",
              "      <td>27394.000000</td>\n",
              "      <td>27404.000000</td>\n",
              "      <td>18866.000000</td>\n",
              "      <td>18683.000000</td>\n",
              "      <td>27648.000000</td>\n",
              "      <td>27657.000000</td>\n",
              "      <td>27248.000000</td>\n",
              "    </tr>\n",
              "    <tr>\n",
              "      <th>mean</th>\n",
              "      <td>11.263319</td>\n",
              "      <td>21.902078</td>\n",
              "      <td>2.050369</td>\n",
              "      <td>4.826499</td>\n",
              "      <td>6.891129</td>\n",
              "      <td>41.835471</td>\n",
              "      <td>15.130152</td>\n",
              "      <td>20.023052</td>\n",
              "      <td>68.766350</td>\n",
              "      <td>50.497385</td>\n",
              "      <td>1018.249325</td>\n",
              "      <td>1016.149624</td>\n",
              "      <td>4.668557</td>\n",
              "      <td>4.732805</td>\n",
              "      <td>15.477127</td>\n",
              "      <td>20.408345</td>\n",
              "      <td>2.049347</td>\n",
              "    </tr>\n",
              "    <tr>\n",
              "      <th>std</th>\n",
              "      <td>5.709936</td>\n",
              "      <td>6.693168</td>\n",
              "      <td>6.384560</td>\n",
              "      <td>3.707995</td>\n",
              "      <td>3.867622</td>\n",
              "      <td>14.186300</td>\n",
              "      <td>9.458606</td>\n",
              "      <td>8.979409</td>\n",
              "      <td>18.730306</td>\n",
              "      <td>19.944931</td>\n",
              "      <td>7.423776</td>\n",
              "      <td>7.267376</td>\n",
              "      <td>2.807571</td>\n",
              "      <td>2.628154</td>\n",
              "      <td>5.701031</td>\n",
              "      <td>6.532302</td>\n",
              "      <td>6.383931</td>\n",
              "    </tr>\n",
              "    <tr>\n",
              "      <th>min</th>\n",
              "      <td>-8.000000</td>\n",
              "      <td>4.100000</td>\n",
              "      <td>0.000000</td>\n",
              "      <td>0.000000</td>\n",
              "      <td>0.000000</td>\n",
              "      <td>9.000000</td>\n",
              "      <td>0.000000</td>\n",
              "      <td>0.000000</td>\n",
              "      <td>5.000000</td>\n",
              "      <td>1.000000</td>\n",
              "      <td>982.300000</td>\n",
              "      <td>984.900000</td>\n",
              "      <td>0.000000</td>\n",
              "      <td>0.000000</td>\n",
              "      <td>-1.300000</td>\n",
              "      <td>3.700000</td>\n",
              "      <td>0.000000</td>\n",
              "    </tr>\n",
              "    <tr>\n",
              "      <th>25%</th>\n",
              "      <td>7.400000</td>\n",
              "      <td>16.600000</td>\n",
              "      <td>0.000000</td>\n",
              "      <td>2.200000</td>\n",
              "      <td>3.800000</td>\n",
              "      <td>31.000000</td>\n",
              "      <td>9.000000</td>\n",
              "      <td>13.000000</td>\n",
              "      <td>57.000000</td>\n",
              "      <td>37.000000</td>\n",
              "      <td>1013.300000</td>\n",
              "      <td>1011.300000</td>\n",
              "      <td>1.000000</td>\n",
              "      <td>2.000000</td>\n",
              "      <td>11.400000</td>\n",
              "      <td>15.400000</td>\n",
              "      <td>0.000000</td>\n",
              "    </tr>\n",
              "    <tr>\n",
              "      <th>50%</th>\n",
              "      <td>10.900000</td>\n",
              "      <td>21.000000</td>\n",
              "      <td>0.000000</td>\n",
              "      <td>4.000000</td>\n",
              "      <td>7.400000</td>\n",
              "      <td>39.000000</td>\n",
              "      <td>13.000000</td>\n",
              "      <td>19.000000</td>\n",
              "      <td>70.000000</td>\n",
              "      <td>50.000000</td>\n",
              "      <td>1018.400000</td>\n",
              "      <td>1016.300000</td>\n",
              "      <td>6.000000</td>\n",
              "      <td>6.000000</td>\n",
              "      <td>15.000000</td>\n",
              "      <td>19.500000</td>\n",
              "      <td>0.000000</td>\n",
              "    </tr>\n",
              "    <tr>\n",
              "      <th>75%</th>\n",
              "      <td>15.200000</td>\n",
              "      <td>26.200000</td>\n",
              "      <td>1.000000</td>\n",
              "      <td>6.600000</td>\n",
              "      <td>10.000000</td>\n",
              "      <td>50.000000</td>\n",
              "      <td>20.000000</td>\n",
              "      <td>26.000000</td>\n",
              "      <td>83.000000</td>\n",
              "      <td>64.000000</td>\n",
              "      <td>1023.300000</td>\n",
              "      <td>1021.100000</td>\n",
              "      <td>7.000000</td>\n",
              "      <td>7.000000</td>\n",
              "      <td>19.125000</td>\n",
              "      <td>24.500000</td>\n",
              "      <td>1.000000</td>\n",
              "    </tr>\n",
              "    <tr>\n",
              "      <th>max</th>\n",
              "      <td>33.900000</td>\n",
              "      <td>46.800000</td>\n",
              "      <td>119.400000</td>\n",
              "      <td>86.200000</td>\n",
              "      <td>14.300000</td>\n",
              "      <td>122.000000</td>\n",
              "      <td>69.000000</td>\n",
              "      <td>76.000000</td>\n",
              "      <td>100.000000</td>\n",
              "      <td>100.000000</td>\n",
              "      <td>1040.600000</td>\n",
              "      <td>1037.900000</td>\n",
              "      <td>9.000000</td>\n",
              "      <td>8.000000</td>\n",
              "      <td>38.600000</td>\n",
              "      <td>46.100000</td>\n",
              "      <td>119.400000</td>\n",
              "    </tr>\n",
              "  </tbody>\n",
              "</table>\n",
              "</div>\n",
              "    <div class=\"colab-df-buttons\">\n",
              "\n",
              "  <div class=\"colab-df-container\">\n",
              "    <button class=\"colab-df-convert\" onclick=\"convertToInteractive('df-e3d853c9-133e-4dc3-b7c1-cd552d4d75fa')\"\n",
              "            title=\"Convert this dataframe to an interactive table.\"\n",
              "            style=\"display:none;\">\n",
              "\n",
              "  <svg xmlns=\"http://www.w3.org/2000/svg\" height=\"24px\" viewBox=\"0 -960 960 960\">\n",
              "    <path d=\"M120-120v-720h720v720H120Zm60-500h600v-160H180v160Zm220 220h160v-160H400v160Zm0 220h160v-160H400v160ZM180-400h160v-160H180v160Zm440 0h160v-160H620v160ZM180-180h160v-160H180v160Zm440 0h160v-160H620v160Z\"/>\n",
              "  </svg>\n",
              "    </button>\n",
              "\n",
              "  <style>\n",
              "    .colab-df-container {\n",
              "      display:flex;\n",
              "      gap: 12px;\n",
              "    }\n",
              "\n",
              "    .colab-df-convert {\n",
              "      background-color: #E8F0FE;\n",
              "      border: none;\n",
              "      border-radius: 50%;\n",
              "      cursor: pointer;\n",
              "      display: none;\n",
              "      fill: #1967D2;\n",
              "      height: 32px;\n",
              "      padding: 0 0 0 0;\n",
              "      width: 32px;\n",
              "    }\n",
              "\n",
              "    .colab-df-convert:hover {\n",
              "      background-color: #E2EBFA;\n",
              "      box-shadow: 0px 1px 2px rgba(60, 64, 67, 0.3), 0px 1px 3px 1px rgba(60, 64, 67, 0.15);\n",
              "      fill: #174EA6;\n",
              "    }\n",
              "\n",
              "    .colab-df-buttons div {\n",
              "      margin-bottom: 4px;\n",
              "    }\n",
              "\n",
              "    [theme=dark] .colab-df-convert {\n",
              "      background-color: #3B4455;\n",
              "      fill: #D2E3FC;\n",
              "    }\n",
              "\n",
              "    [theme=dark] .colab-df-convert:hover {\n",
              "      background-color: #434B5C;\n",
              "      box-shadow: 0px 1px 3px 1px rgba(0, 0, 0, 0.15);\n",
              "      filter: drop-shadow(0px 1px 2px rgba(0, 0, 0, 0.3));\n",
              "      fill: #FFFFFF;\n",
              "    }\n",
              "  </style>\n",
              "\n",
              "    <script>\n",
              "      const buttonEl =\n",
              "        document.querySelector('#df-e3d853c9-133e-4dc3-b7c1-cd552d4d75fa button.colab-df-convert');\n",
              "      buttonEl.style.display =\n",
              "        google.colab.kernel.accessAllowed ? 'block' : 'none';\n",
              "\n",
              "      async function convertToInteractive(key) {\n",
              "        const element = document.querySelector('#df-e3d853c9-133e-4dc3-b7c1-cd552d4d75fa');\n",
              "        const dataTable =\n",
              "          await google.colab.kernel.invokeFunction('convertToInteractive',\n",
              "                                                    [key], {});\n",
              "        if (!dataTable) return;\n",
              "\n",
              "        const docLinkHtml = 'Like what you see? Visit the ' +\n",
              "          '<a target=\"_blank\" href=https://colab.research.google.com/notebooks/data_table.ipynb>data table notebook</a>'\n",
              "          + ' to learn more about interactive tables.';\n",
              "        element.innerHTML = '';\n",
              "        dataTable['output_type'] = 'display_data';\n",
              "        await google.colab.output.renderOutput(dataTable, element);\n",
              "        const docLink = document.createElement('div');\n",
              "        docLink.innerHTML = docLinkHtml;\n",
              "        element.appendChild(docLink);\n",
              "      }\n",
              "    </script>\n",
              "  </div>\n",
              "\n",
              "\n",
              "<div id=\"df-2a46a922-ef35-45a9-be2a-63edcbb85663\">\n",
              "  <button class=\"colab-df-quickchart\" onclick=\"quickchart('df-2a46a922-ef35-45a9-be2a-63edcbb85663')\"\n",
              "            title=\"Suggest charts\"\n",
              "            style=\"display:none;\">\n",
              "\n",
              "<svg xmlns=\"http://www.w3.org/2000/svg\" height=\"24px\"viewBox=\"0 0 24 24\"\n",
              "     width=\"24px\">\n",
              "    <g>\n",
              "        <path d=\"M19 3H5c-1.1 0-2 .9-2 2v14c0 1.1.9 2 2 2h14c1.1 0 2-.9 2-2V5c0-1.1-.9-2-2-2zM9 17H7v-7h2v7zm4 0h-2V7h2v10zm4 0h-2v-4h2v4z\"/>\n",
              "    </g>\n",
              "</svg>\n",
              "  </button>\n",
              "\n",
              "<style>\n",
              "  .colab-df-quickchart {\n",
              "      --bg-color: #E8F0FE;\n",
              "      --fill-color: #1967D2;\n",
              "      --hover-bg-color: #E2EBFA;\n",
              "      --hover-fill-color: #174EA6;\n",
              "      --disabled-fill-color: #AAA;\n",
              "      --disabled-bg-color: #DDD;\n",
              "  }\n",
              "\n",
              "  [theme=dark] .colab-df-quickchart {\n",
              "      --bg-color: #3B4455;\n",
              "      --fill-color: #D2E3FC;\n",
              "      --hover-bg-color: #434B5C;\n",
              "      --hover-fill-color: #FFFFFF;\n",
              "      --disabled-bg-color: #3B4455;\n",
              "      --disabled-fill-color: #666;\n",
              "  }\n",
              "\n",
              "  .colab-df-quickchart {\n",
              "    background-color: var(--bg-color);\n",
              "    border: none;\n",
              "    border-radius: 50%;\n",
              "    cursor: pointer;\n",
              "    display: none;\n",
              "    fill: var(--fill-color);\n",
              "    height: 32px;\n",
              "    padding: 0;\n",
              "    width: 32px;\n",
              "  }\n",
              "\n",
              "  .colab-df-quickchart:hover {\n",
              "    background-color: var(--hover-bg-color);\n",
              "    box-shadow: 0 1px 2px rgba(60, 64, 67, 0.3), 0 1px 3px 1px rgba(60, 64, 67, 0.15);\n",
              "    fill: var(--button-hover-fill-color);\n",
              "  }\n",
              "\n",
              "  .colab-df-quickchart-complete:disabled,\n",
              "  .colab-df-quickchart-complete:disabled:hover {\n",
              "    background-color: var(--disabled-bg-color);\n",
              "    fill: var(--disabled-fill-color);\n",
              "    box-shadow: none;\n",
              "  }\n",
              "\n",
              "  .colab-df-spinner {\n",
              "    border: 2px solid var(--fill-color);\n",
              "    border-color: transparent;\n",
              "    border-bottom-color: var(--fill-color);\n",
              "    animation:\n",
              "      spin 1s steps(1) infinite;\n",
              "  }\n",
              "\n",
              "  @keyframes spin {\n",
              "    0% {\n",
              "      border-color: transparent;\n",
              "      border-bottom-color: var(--fill-color);\n",
              "      border-left-color: var(--fill-color);\n",
              "    }\n",
              "    20% {\n",
              "      border-color: transparent;\n",
              "      border-left-color: var(--fill-color);\n",
              "      border-top-color: var(--fill-color);\n",
              "    }\n",
              "    30% {\n",
              "      border-color: transparent;\n",
              "      border-left-color: var(--fill-color);\n",
              "      border-top-color: var(--fill-color);\n",
              "      border-right-color: var(--fill-color);\n",
              "    }\n",
              "    40% {\n",
              "      border-color: transparent;\n",
              "      border-right-color: var(--fill-color);\n",
              "      border-top-color: var(--fill-color);\n",
              "    }\n",
              "    60% {\n",
              "      border-color: transparent;\n",
              "      border-right-color: var(--fill-color);\n",
              "    }\n",
              "    80% {\n",
              "      border-color: transparent;\n",
              "      border-right-color: var(--fill-color);\n",
              "      border-bottom-color: var(--fill-color);\n",
              "    }\n",
              "    90% {\n",
              "      border-color: transparent;\n",
              "      border-bottom-color: var(--fill-color);\n",
              "    }\n",
              "  }\n",
              "</style>\n",
              "\n",
              "  <script>\n",
              "    async function quickchart(key) {\n",
              "      const quickchartButtonEl =\n",
              "        document.querySelector('#' + key + ' button');\n",
              "      quickchartButtonEl.disabled = true;  // To prevent multiple clicks.\n",
              "      quickchartButtonEl.classList.add('colab-df-spinner');\n",
              "      try {\n",
              "        const charts = await google.colab.kernel.invokeFunction(\n",
              "            'suggestCharts', [key], {});\n",
              "      } catch (error) {\n",
              "        console.error('Error during call to suggestCharts:', error);\n",
              "      }\n",
              "      quickchartButtonEl.classList.remove('colab-df-spinner');\n",
              "      quickchartButtonEl.classList.add('colab-df-quickchart-complete');\n",
              "    }\n",
              "    (() => {\n",
              "      let quickchartButtonEl =\n",
              "        document.querySelector('#df-2a46a922-ef35-45a9-be2a-63edcbb85663 button');\n",
              "      quickchartButtonEl.style.display =\n",
              "        google.colab.kernel.accessAllowed ? 'block' : 'none';\n",
              "    })();\n",
              "  </script>\n",
              "</div>\n",
              "\n",
              "    </div>\n",
              "  </div>\n"
            ],
            "application/vnd.google.colaboratory.intrinsic+json": {
              "type": "dataframe",
              "summary": "{\n  \"name\": \"df\",\n  \"rows\": 8,\n  \"fields\": [\n    {\n      \"column\": \"MinTemp\",\n      \"properties\": {\n        \"dtype\": \"number\",\n        \"std\": 9776.496909205744,\n        \"min\": -8.0,\n        \"max\": 27663.0,\n        \"num_unique_values\": 8,\n        \"samples\": [\n          11.263319235079345,\n          10.9,\n          27663.0\n        ],\n        \"semantic_type\": \"\",\n        \"description\": \"\"\n      }\n    },\n    {\n      \"column\": \"MaxTemp\",\n      \"properties\": {\n        \"dtype\": \"number\",\n        \"std\": 9777.361357120324,\n        \"min\": 4.1,\n        \"max\": 27675.0,\n        \"num_unique_values\": 8,\n        \"samples\": [\n          21.90207768744354,\n          21.0,\n          27675.0\n        ],\n        \"semantic_type\": \"\",\n        \"description\": \"\"\n      }\n    },\n    {\n      \"column\": \"Rainfall\",\n      \"properties\": {\n        \"dtype\": \"number\",\n        \"std\": 9626.850612951604,\n        \"min\": 0.0,\n        \"max\": 27247.0,\n        \"num_unique_values\": 6,\n        \"samples\": [\n          27247.0,\n          2.050368847946563,\n          119.4\n        ],\n        \"semantic_type\": \"\",\n        \"description\": \"\"\n      }\n    },\n    {\n      \"column\": \"Evaporation\",\n      \"properties\": {\n        \"dtype\": \"number\",\n        \"std\": 8437.473432748775,\n        \"min\": 0.0,\n        \"max\": 23880.0,\n        \"num_unique_values\": 8,\n        \"samples\": [\n          4.826499162479061,\n          4.0,\n          23880.0\n        ],\n        \"semantic_type\": \"\",\n        \"description\": \"\"\n      }\n    },\n    {\n      \"column\": \"Sunshine\",\n      \"properties\": {\n        \"dtype\": \"number\",\n        \"std\": 7606.133770778581,\n        \"min\": 0.0,\n        \"max\": 21520.0,\n        \"num_unique_values\": 8,\n        \"samples\": [\n          6.891129182156133,\n          7.4,\n          21520.0\n        ],\n        \"semantic_type\": \"\",\n        \"description\": \"\"\n      }\n    },\n    {\n      \"column\": \"WindGustSpeed\",\n      \"properties\": {\n        \"dtype\": \"number\",\n        \"std\": 9385.895440643779,\n        \"min\": 9.0,\n        \"max\": 26591.0,\n        \"num_unique_values\": 8,\n        \"samples\": [\n          41.8354706479636,\n          39.0,\n          26591.0\n        ],\n        \"semantic_type\": \"\",\n        \"description\": \"\"\n      }\n    },\n    {\n      \"column\": \"WindSpeed9am\",\n      \"properties\": {\n        \"dtype\": \"number\",\n        \"std\": 9848.475002046198,\n        \"min\": 0.0,\n        \"max\": 27875.0,\n        \"num_unique_values\": 8,\n        \"samples\": [\n          15.130152466367713,\n          13.0,\n          27875.0\n        ],\n        \"semantic_type\": \"\",\n        \"description\": \"\"\n      }\n    },\n    {\n      \"column\": \"WindSpeed3pm\",\n      \"properties\": {\n        \"dtype\": \"number\",\n        \"std\": 9853.458444958707,\n        \"min\": 0.0,\n        \"max\": 27893.0,\n        \"num_unique_values\": 8,\n        \"samples\": [\n          20.023052378733016,\n          19.0,\n          27893.0\n        ],\n        \"semantic_type\": \"\",\n        \"description\": \"\"\n      }\n    },\n    {\n      \"column\": \"Humidity9am\",\n      \"properties\": {\n        \"dtype\": \"number\",\n        \"std\": 9629.255458176025,\n        \"min\": 5.0,\n        \"max\": 27293.0,\n        \"num_unique_values\": 8,\n        \"samples\": [\n          68.76635034624263,\n          70.0,\n          27293.0\n        ],\n        \"semantic_type\": \"\",\n        \"description\": \"\"\n      }\n    },\n    {\n      \"column\": \"Humidity3pm\",\n      \"properties\": {\n        \"dtype\": \"number\",\n        \"std\": 9650.969421809954,\n        \"min\": 1.0,\n        \"max\": 27343.0,\n        \"num_unique_values\": 8,\n        \"samples\": [\n          50.49738507113338,\n          50.0,\n          27343.0\n        ],\n        \"semantic_type\": \"\",\n        \"description\": \"\"\n      }\n    },\n    {\n      \"column\": \"Pressure9am\",\n      \"properties\": {\n        \"dtype\": \"number\",\n        \"std\": 9383.618075713357,\n        \"min\": 7.4237759187818915,\n        \"max\": 27394.0,\n        \"num_unique_values\": 8,\n        \"samples\": [\n          1018.2493246696357,\n          1018.4,\n          27394.0\n        ],\n        \"semantic_type\": \"\",\n        \"description\": \"\"\n      }\n    },\n    {\n      \"column\": \"Pressure3pm\",\n      \"properties\": {\n        \"dtype\": \"number\",\n        \"std\": 9387.568922046405,\n        \"min\": 7.2673759097644846,\n        \"max\": 27404.0,\n        \"num_unique_values\": 8,\n        \"samples\": [\n          1016.1496238505327,\n          1016.3,\n          27404.0\n        ],\n        \"semantic_type\": \"\",\n        \"description\": \"\"\n      }\n    },\n    {\n      \"column\": \"Cloud9am\",\n      \"properties\": {\n        \"dtype\": \"number\",\n        \"std\": 6668.599675462257,\n        \"min\": 0.0,\n        \"max\": 18866.0,\n        \"num_unique_values\": 8,\n        \"samples\": [\n          4.668557192833669,\n          6.0,\n          18866.0\n        ],\n        \"semantic_type\": \"\",\n        \"description\": \"\"\n      }\n    },\n    {\n      \"column\": \"Cloud3pm\",\n      \"properties\": {\n        \"dtype\": \"number\",\n        \"std\": 6603.905083996238,\n        \"min\": 0.0,\n        \"max\": 18683.0,\n        \"num_unique_values\": 8,\n        \"samples\": [\n          4.732805224000428,\n          6.0,\n          18683.0\n        ],\n        \"semantic_type\": \"\",\n        \"description\": \"\"\n      }\n    },\n    {\n      \"column\": \"Temp9am\",\n      \"properties\": {\n        \"dtype\": \"number\",\n        \"std\": 9769.798056892156,\n        \"min\": -1.3,\n        \"max\": 27648.0,\n        \"num_unique_values\": 8,\n        \"samples\": [\n          15.477126736111115,\n          15.0,\n          27648.0\n        ],\n        \"semantic_type\": \"\",\n        \"description\": \"\"\n      }\n    },\n    {\n      \"column\": \"Temp3pm\",\n      \"properties\": {\n        \"dtype\": \"number\",\n        \"std\": 9771.358520484762,\n        \"min\": 3.7,\n        \"max\": 27657.0,\n        \"num_unique_values\": 8,\n        \"samples\": [\n          20.408345084427093,\n          19.5,\n          27657.0\n        ],\n        \"semantic_type\": \"\",\n        \"description\": \"\"\n      }\n    },\n    {\n      \"column\": \"RainfallTomorrow\",\n      \"properties\": {\n        \"dtype\": \"number\",\n        \"std\": 9627.204246832016,\n        \"min\": 0.0,\n        \"max\": 27248.0,\n        \"num_unique_values\": 6,\n        \"samples\": [\n          27248.0,\n          2.0493467410452144,\n          119.4\n        ],\n        \"semantic_type\": \"\",\n        \"description\": \"\"\n      }\n    }\n  ]\n}"
            }
          },
          "metadata": {},
          "execution_count": 176
        }
      ]
    },
    {
      "cell_type": "code",
      "source": [
        "class ColDropper(BaseEstimator, TransformerMixin):\n",
        "  def fit(self, X, y=None):\n",
        "        return self\n",
        "\n",
        "  def transform(self, X):\n",
        "    return X.drop(['Unnamed: 0', 'Date', 'RainTomorrow'], axis=1)"
      ],
      "metadata": {
        "id": "tlDvlhQ7ucNl"
      },
      "execution_count": 177,
      "outputs": []
    },
    {
      "cell_type": "code",
      "source": [
        "class LocDropper(BaseEstimator, TransformerMixin):\n",
        "  def fit(self, X, y=None):\n",
        "        return self\n",
        "\n",
        "  def transform(self, X):\n",
        "    aus_loc = [' Adelaide', 'Canberra', 'Cobar', 'Dartmoor', 'Melbourne', 'MelbourneAirport', 'MountGambier', 'Sydney', 'SydneyAirport' ]\n",
        "    return X[X['Location'].isin(aus_loc)]"
      ],
      "metadata": {
        "id": "fWOUCStGuc-F"
      },
      "execution_count": 178,
      "outputs": []
    },
    {
      "cell_type": "code",
      "source": [
        "class CatFiller(BaseEstimator, TransformerMixin):\n",
        "    def fit(self, X, y=None):\n",
        "        return self\n",
        "\n",
        "    def transform(self, X):\n",
        "      X['WindGustDir'] = X.groupby('Location')['WindGustDir'].transform(lambda x: x.fillna(x.mode()[0]))\n",
        "      X['WindDir9am'] = X.groupby('Location')['WindDir9am'].transform(lambda x: x.fillna(x.mode()[0]))\n",
        "      X['WindDir3pm'] = X.groupby('Location')['WindDir3pm'].transform(lambda x: x.fillna(x.mode()[0]))\n",
        "\n",
        "      return X"
      ],
      "metadata": {
        "id": "UWUc48z5vMUo"
      },
      "execution_count": 179,
      "outputs": []
    },
    {
      "cell_type": "code",
      "source": [
        "class NumFiller(BaseEstimator, TransformerMixin):\n",
        "    def fit(self, X, y=None):\n",
        "        return self\n",
        "\n",
        "    def transform(self, X):\n",
        "      remanining_vnul_columns = X.columns[X.isna().any()].tolist()\n",
        "      for col in remanining_vnul_columns:\n",
        "        X[col] =  X[col].fillna(X[col].mean())\n",
        "\n",
        "      return X"
      ],
      "metadata": {
        "id": "W7eGEYtCvNdY"
      },
      "execution_count": 180,
      "outputs": []
    },
    {
      "cell_type": "code",
      "source": [
        "# https://www.mdpi.com/2078-2489/13/4/163 Como las variables de la dirección de los vientos pueden tener hasta 16 direcciones diferentes, para convertirlos a variables numéricas, se tiene encuenta una distribución circular. Por eso, cada una de las variables se dividió en dos: Una con el seno y otra con el coseno del angulo\n",
        "class CoordRecat(BaseEstimator, TransformerMixin):\n",
        "    def fit(self, X, y=None):\n",
        "        return self\n",
        "\n",
        "    def transform(self, X):\n",
        "        coord = {\n",
        "            'N': 0, 'NNE': 22.5, 'NE': 45, 'ENE': 67.5,\n",
        "            'E': 90, 'ESE': 112.5, 'SE': 135, 'SSE': 157.5,\n",
        "            'S': 180, 'SSW': 202.5, 'SW': 225, 'WSW': 247.5,\n",
        "            'W': 270, 'WNW': 292.5, 'NW': 315, 'NNW': 337.5,\n",
        "        }\n",
        "\n",
        "        # Aplicar la recategorización\n",
        "        for col in ['WindGustDir', 'WindDir9am', 'WindDir3pm']:\n",
        "            X[col] = X[col].map(coord)\n",
        "            X[f'{col}_rad'] = np.deg2rad(X[col])\n",
        "            X[f'{col}_sin'] = np.sin(X[f'{col}_rad']).round(5)\n",
        "            X[f'{col}_cos'] = np.cos(X[f'{col}_rad']).round(5)\n",
        "\n",
        "        # Eliminar columnas originales y columnas radianes\n",
        "        columns_to_drop = [f'{col}_rad' for col in ['WindGustDir', 'WindDir9am', 'WindDir3pm']] + ['WindGustDir', 'WindDir9am', 'WindDir3pm']\n",
        "        X = X.drop(columns=columns_to_drop, axis=1)\n",
        "\n",
        "        return X"
      ],
      "metadata": {
        "id": "pgRQT-aKvPng"
      },
      "execution_count": 181,
      "outputs": []
    },
    {
      "cell_type": "code",
      "source": [
        "class LocEncoder(BaseEstimator, TransformerMixin):\n",
        "    def fit(self, X, y=None):\n",
        "        return self\n",
        "\n",
        "    def transform(self, X):\n",
        "      dummies = pd.get_dummies(X['Location'], dtype=int)\n",
        "      X = pd.concat([X, dummies], axis=1)\n",
        "      X.drop('Location', axis=1, inplace=True)\n",
        "\n",
        "      return X"
      ],
      "metadata": {
        "id": "EVp_npXTvQv_"
      },
      "execution_count": 182,
      "outputs": []
    },
    {
      "cell_type": "code",
      "source": [
        "class ResetIndex(BaseEstimator, TransformerMixin):\n",
        "    def fit(self, X, y=None):\n",
        "        return self\n",
        "\n",
        "    def transform(self, X):\n",
        "        return X.reset_index(drop=True)"
      ],
      "metadata": {
        "id": "1NjRiYVJvR2o"
      },
      "execution_count": 183,
      "outputs": []
    },
    {
      "cell_type": "code",
      "source": [
        "class Standarizer(BaseEstimator, TransformerMixin):\n",
        "  def fit(self, X, y=None):\n",
        "      return self\n",
        "  def transform(self, X):\n",
        "    # Exclusión de variables booleanas y RainfallTmorrow porque no serán estandarizaradas\n",
        "    exc_c = ['RainToday', 'RainTomorrow', 'RainfallTomorrow']#, ,'Canberra','Cobar', 'Dartmoor', 'Melbourne', 'MelbourneAirport', 'MountGambier', 'Sydney', 'SydneyAirport']\n",
        "\n",
        "    # Estandarización\n",
        "    df_sub = X[[col for col in X.columns if col not in exc_c]]\n",
        "    scaler = StandardScaler()\n",
        "    X_scaled = scaler.fit_transform(df_sub)\n",
        "\n",
        "    X_scaled = pd.DataFrame(X_scaled, columns=df_sub.columns)\n",
        "    for col in exc_c:\n",
        "      X_scaled[f'{col}'] = X[col]\n",
        "\n",
        "    # Nuevo DataFrame estandarizado con los nombres de las columnas originales\n",
        "    return X_scaled"
      ],
      "metadata": {
        "id": "r4XASsxfvTc3"
      },
      "execution_count": 184,
      "outputs": []
    },
    {
      "cell_type": "code",
      "source": [
        "class OutliersTreater(BaseEstimator, TransformerMixin):\n",
        "  def fit(self, X, y=None):\n",
        "      return self\n",
        "  def transform(self, X):\n",
        "    cols_with_ouliers=['MinTemp', 'MaxTemp', 'Rainfall', 'Evaporation', 'Sunshine',\n",
        "       'WindGustSpeed', 'WindSpeed9am', 'WindSpeed3pm', 'Humidity9am',\n",
        "       'Humidity3pm', 'Pressure9am', 'Pressure3pm', 'Cloud9am', 'Cloud3pm',\n",
        "       'Temp9am', 'Temp3pm']\n",
        "\n",
        "    for col in cols_with_ouliers:\n",
        "      IQR=X[col].quantile(0.75)-X[col].quantile(0.25)\n",
        "      lower_bridge=X[col].quantile(0.25)-(IQR*1.5)\n",
        "      upper_bridge=X[col].quantile(0.75)+(IQR*1.5)\n",
        "\n",
        "      X.loc[X[col]>=round(upper_bridge,2),col]=round(upper_bridge,2)\n",
        "      X.loc[X[col]<=round(lower_bridge,2),col]=round(lower_bridge,2)\n",
        "\n",
        "    return X"
      ],
      "metadata": {
        "id": "dDYi2EyfvU0B"
      },
      "execution_count": 185,
      "outputs": []
    },
    {
      "cell_type": "code",
      "source": [
        "class ColDropper(BaseEstimator, TransformerMixin):\n",
        "  def fit(self, X, y=None):\n",
        "        return self\n",
        "\n",
        "  def transform(self, X):\n",
        "    return X.drop(['Date'], axis=1)"
      ],
      "metadata": {
        "id": "xrYgWE-328DY"
      },
      "execution_count": 186,
      "outputs": []
    },
    {
      "cell_type": "code",
      "source": [
        "class LocDropper(BaseEstimator, TransformerMixin):\n",
        "  def fit(self, X, y=None):\n",
        "        return self\n",
        "\n",
        "  def transform(self, X):\n",
        "    costa_este = [' Adelaide', 'Canberra', 'Cobar', 'Dartmoor', 'Melbourne', 'MelbourneAirport', 'MountGambier', 'Sydney', 'SydneyAirport' ]\n",
        "    X.loc[X['Location'].isin(costa_este), 'Location'] = 'costa_este'\n",
        "    return X[X['Location'] == 'costa_este']"
      ],
      "metadata": {
        "id": "BvQ9LAWs3-GP"
      },
      "execution_count": 187,
      "outputs": []
    },
    {
      "cell_type": "code",
      "source": [
        "class CatFiller(BaseEstimator, TransformerMixin):\n",
        "    def fit(self, X, y=None):\n",
        "        return self\n",
        "\n",
        "    def transform(self, X):\n",
        "      X['WindGustDir'] = X.groupby('Location')['WindGustDir'].transform(lambda x: x.fillna(x.mode()[0]))\n",
        "      X['WindDir9am'] = X.groupby('Location')['WindDir9am'].transform(lambda x: x.fillna(x.mode()[0]))\n",
        "      X['WindDir3pm'] = X.groupby('Location')['WindDir3pm'].transform(lambda x: x.fillna(x.mode()[0]))\n",
        "\n",
        "      return X"
      ],
      "metadata": {
        "id": "OPhl3wML3_uE"
      },
      "execution_count": 188,
      "outputs": []
    },
    {
      "cell_type": "code",
      "source": [
        "class NumFiller(BaseEstimator, TransformerMixin):\n",
        "    def fit(self, X, y=None):\n",
        "        return self\n",
        "\n",
        "    def transform(self, X):\n",
        "      remanining_vnul_columns = X.columns[X.isna().any()].tolist()\n",
        "      for col in remanining_vnul_columns:\n",
        "        X[col] =  X[col].fillna(X[col].mean())\n",
        "\n",
        "      return X"
      ],
      "metadata": {
        "id": "GtnqzGhp4Aub"
      },
      "execution_count": 189,
      "outputs": []
    },
    {
      "cell_type": "code",
      "source": [
        "# https://www.mdpi.com/2078-2489/13/4/163 Como las variables de la dirección de los vientos pueden tener hasta 16 direcciones diferentes, para convertirlos a variables numéricas, se tiene encuenta una distribución circular. Por eso, cada una de las variables se dividió en dos: Una con el seno y otra con el coseno del angulo\n",
        "class CoordRecat(BaseEstimator, TransformerMixin):\n",
        "    def fit(self, X, y=None):\n",
        "        return self\n",
        "\n",
        "    def transform(self, X):\n",
        "        coord = {\n",
        "            'N': 0, 'NNE': 22.5, 'NE': 45, 'ENE': 67.5,\n",
        "            'E': 90, 'ESE': 112.5, 'SE': 135, 'SSE': 157.5,\n",
        "            'S': 180, 'SSW': 202.5, 'SW': 225, 'WSW': 247.5,\n",
        "            'W': 270, 'WNW': 292.5, 'NW': 315, 'NNW': 337.5,\n",
        "        }\n",
        "\n",
        "        # Aplicar la recategorización\n",
        "        for col in ['WindGustDir', 'WindDir9am', 'WindDir3pm']:\n",
        "            X[col] = X[col].map(coord)\n",
        "            X[f'{col}_rad'] = np.deg2rad(X[col])\n",
        "            X[f'{col}_sin'] = np.sin(X[f'{col}_rad']).round(5)\n",
        "            X[f'{col}_cos'] = np.cos(X[f'{col}_rad']).round(5)\n",
        "\n",
        "        # Eliminar columnas originales y columnas radianes\n",
        "        columns_to_drop = [f'{col}_rad' for col in ['WindGustDir', 'WindDir9am', 'WindDir3pm']] + ['WindGustDir', 'WindDir9am', 'WindDir3pm']\n",
        "        X = X.drop(columns=columns_to_drop, axis=1)\n",
        "\n",
        "        return X"
      ],
      "metadata": {
        "id": "_qH0GTyh4B3d"
      },
      "execution_count": 190,
      "outputs": []
    },
    {
      "cell_type": "code",
      "source": [
        "class LocEncoder(BaseEstimator, TransformerMixin):\n",
        "    def fit(self, X, y=None):\n",
        "        return self\n",
        "\n",
        "    def transform(self, X):\n",
        "      dummies = pd.get_dummies(X['Location'], dtype=int)\n",
        "      X = pd.concat([X, dummies], axis=1)\n",
        "      X.drop('Location', axis=1, inplace=True)\n",
        "\n",
        "      return X"
      ],
      "metadata": {
        "id": "8kPJcQGG4C8Y"
      },
      "execution_count": 191,
      "outputs": []
    },
    {
      "cell_type": "code",
      "source": [
        "class ResetIndex(BaseEstimator, TransformerMixin):\n",
        "    def fit(self, X, y=None):\n",
        "        return self\n",
        "\n",
        "    def transform(self, X):\n",
        "        return X.reset_index(drop=True)"
      ],
      "metadata": {
        "id": "3HBEtwi24ECC"
      },
      "execution_count": 192,
      "outputs": []
    },
    {
      "cell_type": "code",
      "source": [
        "class BoolYNDropperEncoder(BaseEstimator, TransformerMixin):\n",
        "    def fit(self, X, y=None):\n",
        "        return self\n",
        "\n",
        "    def transform(self, X):\n",
        "      X.dropna(subset=['RainToday'], inplace=True)\n",
        "      X['RainTomorrow'] = X['RainTomorrow'].map({'No': 0, 'Yes': 1}).astype(float)\n",
        "      X['RainToday'] = X['RainToday'].map({'No': 0, 'Yes': 1}).astype(float)\n",
        "\n",
        "      return X"
      ],
      "metadata": {
        "id": "Wyyv074d4FBY"
      },
      "execution_count": 193,
      "outputs": []
    },
    {
      "cell_type": "code",
      "source": [
        "class Standarizer(BaseEstimator, TransformerMixin):\n",
        "  def fit(self, X, y=None):\n",
        "      return self\n",
        "  def transform(self, X):\n",
        "    # Exclusión de variables booleanas y RainfallTmorrow porque no serán estandarizaradas\n",
        "    exc_c = ['RainToday', 'RainTomorrow']#, ,'Canberra','Cobar', 'Dartmoor', 'Melbourne', 'MelbourneAirport', 'MountGambier', 'Sydney', 'SydneyAirport']\n",
        "\n",
        "    # Estandarización\n",
        "    df_sub = X[[col for col in X.columns if col not in exc_c]]\n",
        "    scaler = StandardScaler()\n",
        "    X_scaled = scaler.fit_transform(df_sub)\n",
        "\n",
        "    X_scaled = pd.DataFrame(X_scaled, columns=df_sub.columns)\n",
        "    for col in exc_c:\n",
        "      X_scaled[f'{col}'] = X[col]\n",
        "\n",
        "    # Nuevo DataFrame estandarizado con los nombres de las columnas originales\n",
        "    return X_scaled"
      ],
      "metadata": {
        "id": "pGE_Lh_T4GCR"
      },
      "execution_count": 194,
      "outputs": []
    },
    {
      "cell_type": "code",
      "source": [
        "class OutliersTreater(BaseEstimator, TransformerMixin):\n",
        "  def fit(self, X, y=None):\n",
        "      return self\n",
        "  def transform(self, X):\n",
        "    cols_with_ouliers=['MinTemp', 'MaxTemp', 'Rainfall', 'Evaporation', 'Sunshine',\n",
        "       'WindGustSpeed', 'WindSpeed9am', 'WindSpeed3pm', 'Humidity9am',\n",
        "       'Humidity3pm', 'Pressure9am', 'Pressure3pm', 'Cloud9am', 'Cloud3pm',\n",
        "       'Temp9am', 'Temp3pm']\n",
        "\n",
        "    for col in cols_with_ouliers:\n",
        "      IQR=X[col].quantile(0.75)-X[col].quantile(0.25)\n",
        "      lower_bridge=X[col].quantile(0.25)-(IQR*1.5)\n",
        "      upper_bridge=X[col].quantile(0.75)+(IQR*1.5)\n",
        "\n",
        "      X.loc[X[col]>=round(upper_bridge,2),col]=round(upper_bridge,2)\n",
        "      X.loc[X[col]<=round(lower_bridge,2),col]=round(lower_bridge,2)\n",
        "\n",
        "    return X\n"
      ],
      "metadata": {
        "id": "Y-SXOXKH4IW9"
      },
      "execution_count": 195,
      "outputs": []
    },
    {
      "cell_type": "code",
      "source": [
        "class RLValDropper(BaseEstimator, TransformerMixin):\n",
        "  def fit (self, X, y=None):\n",
        "    return self\n",
        "  def transform(self, X):\n",
        "    X.dropna(subset=['RainTomorrow'], inplace=True)\n",
        "    return X\n"
      ],
      "metadata": {
        "id": "WEPSj55J4JZh"
      },
      "execution_count": 196,
      "outputs": []
    },
    {
      "cell_type": "markdown",
      "source": [
        "## Pipeline\n",
        "\n",
        "* Descartar Unnamed y Date porque son features que no vamos a utilizar: **ColDropper** (Ademas droppear RainfallTomorrow para prevenir la fuga de datos)\n",
        "* Descartar todas las location que no son necesarias: **LocDropper**\n",
        "* Dropear nulos y Label Encoding para las variables yes/no: **BoolYNDropperEncoder**\n",
        "* Imputar valores nulos en variables categoricas con la moda: **CatFiller**\n",
        "* Imputar valores nulos en variables numericas con la media:  **NumFiller**\n",
        "* One Hot Encoding para las location: **LocEncoder**\n",
        "* Encoding en sin y cos para WinDir: **CoordRecat**\n",
        "* Estandarizar valores: **Standarizer**\n"
      ],
      "metadata": {
        "id": "NEX0XNftgHrf"
      }
    },
    {
      "cell_type": "code",
      "source": [
        "preprocessor = Pipeline([\n",
        "     ('drop_null_val_rl', RLValDropper()),\n",
        "     ('drop_not_needed_features', ColDropper()),\n",
        "     ('drop_nor_needed_locations',LocDropper()),\n",
        "     ('yes_no_dropper_encoder', BoolYNDropperEncoder()),\n",
        "     ('fill_null_cat', CatFiller()),\n",
        "     ('fill_num_cat', NumFiller()),\n",
        "     ('encode_loc', LocEncoder()),\n",
        "     ('encode_wind_dir', CoordRecat()),\n",
        "     ('reset_index',ResetIndex()),\n",
        "     ('treat_outliers',OutliersTreater()),\n",
        "     ('standariza_values', Standarizer())\n",
        "])\n"
      ],
      "metadata": {
        "id": "r0yWOzs14KJR"
      },
      "execution_count": 197,
      "outputs": []
    },
    {
      "cell_type": "markdown",
      "source": [
        "# Regresion logistica sin balancear"
      ],
      "metadata": {
        "id": "WEwP_DWb6NEj"
      }
    },
    {
      "cell_type": "markdown",
      "source": [
        "Decidimos hacer un analísis de los modelos de regresión con los datos balanceados y no balanceados y observar si hay alguna mejora al balancear las clases"
      ],
      "metadata": {
        "id": "T3jdlv22hnAJ"
      }
    },
    {
      "cell_type": "code",
      "source": [
        "# Separación de variables explicativas y variables objetivo\n",
        "X = df.drop(['RainTomorrow', 'RainfallTomorrow'], axis=1).copy()\n",
        "y = df[['RainTomorrow']].copy()\n",
        "\n",
        "# Spliteo mi dataset en train-test\n",
        "X_train, X_test, y_train, y_test = train_test_split(X, y, test_size=0.2, random_state=42)\n",
        "X_train.shape, X_test.shape, y_train.shape, y_test.shape"
      ],
      "metadata": {
        "id": "w1Q83AyS4LTC",
        "outputId": "81717dcf-1d42-4aa7-ca0d-956213920121",
        "colab": {
          "base_uri": "https://localhost:8080/"
        }
      },
      "execution_count": 198,
      "outputs": [
        {
          "output_type": "execute_result",
          "data": {
            "text/plain": [
              "((22586, 22), (5647, 22), (22586, 1), (5647, 1))"
            ]
          },
          "metadata": {},
          "execution_count": 198
        }
      ]
    },
    {
      "cell_type": "code",
      "source": [
        "# Creo un Dataframe de TRAIN\n",
        "df_train = pd.DataFrame(X_train, columns=X.columns)\n",
        "df_train['RainTomorrow'] = y['RainTomorrow']"
      ],
      "metadata": {
        "id": "TdCvpVyn4MD3"
      },
      "execution_count": 199,
      "outputs": []
    },
    {
      "cell_type": "code",
      "source": [
        "# Creo un Dataframe de TEST\n",
        "df_test = pd.DataFrame(X_test, columns=X.columns)\n",
        "df_test['RainTomorrow'] = y['RainTomorrow']"
      ],
      "metadata": {
        "id": "ooDOjGad4M0u"
      },
      "execution_count": 200,
      "outputs": []
    },
    {
      "cell_type": "code",
      "source": [
        "# Preproceso mi df de test y mi df de train\n",
        "df_train = preprocessor.fit_transform(df_train)\n",
        "df_test = preprocessor.fit_transform(df_test)"
      ],
      "metadata": {
        "id": "Vj8onmeV4Nrx"
      },
      "execution_count": 201,
      "outputs": []
    },
    {
      "cell_type": "code",
      "source": [
        "df_train.head()"
      ],
      "metadata": {
        "id": "4qKknz304Ohy",
        "outputId": "14059b28-d4be-4298-fa81-1f2483f3eb46",
        "colab": {
          "base_uri": "https://localhost:8080/",
          "height": 255
        }
      },
      "execution_count": 202,
      "outputs": [
        {
          "output_type": "execute_result",
          "data": {
            "text/plain": [
              "    MinTemp   MaxTemp  Rainfall  Evaporation      Sunshine  WindGustSpeed  \\\n",
              "0  1.932424  0.860553 -0.619293     2.100980  1.572176e+00      -0.032688   \n",
              "1 -0.902276 -1.098634 -0.619293    -1.334589 -1.022604e+00      -0.879158   \n",
              "2 -0.233216  0.257727 -0.619293     0.273550  2.648997e-16      -0.340495   \n",
              "3 -0.743814 -1.279482  1.952340    -1.261491  2.648997e-16      -0.648303   \n",
              "4  1.192937  1.493522 -0.619293     2.027883  1.691476e+00       0.121215   \n",
              "\n",
              "   WindSpeed9am  WindSpeed3pm  Humidity9am  Humidity3pm  ...   Temp3pm  \\\n",
              "0     -0.671254      0.931877    -0.527252     0.480472  ...  0.975456   \n",
              "1     -0.440638     -0.785023     1.037360     0.631364  ... -1.081484   \n",
              "2     -0.210021     -0.098263    -1.714199    -1.179342  ...  0.264033   \n",
              "3     -0.671254     -0.785023     0.875504     1.436123  ... -1.158812   \n",
              "4      1.058368     -0.556103    -0.743061    -1.179342  ...  1.625016   \n",
              "\n",
              "   costa_este  WindGustDir_sin  WindGustDir_cos  WindDir9am_sin  \\\n",
              "0         0.0         1.797729        -0.041157        1.290036   \n",
              "1         0.0         0.215564         1.270808        0.782116   \n",
              "2         0.0         1.677295         0.460906        1.290036   \n",
              "3         0.0        -0.903200        -0.968860       -0.924033   \n",
              "4         0.0         1.677295         0.460906        1.629406   \n",
              "\n",
              "   WindDir9am_cos  WindDir3pm_sin  WindDir3pm_cos  RainToday  RainTomorrow  \n",
              "0        0.735647        1.681124        0.111157        0.0           0.0  \n",
              "1        1.027231        0.752401        1.371036        0.0           0.0  \n",
              "2        0.735647        0.752401        1.371036        0.0           0.0  \n",
              "3        0.735647       -1.213242        0.633011        1.0           1.0  \n",
              "4        0.299247        1.240488        1.075431        0.0           0.0  \n",
              "\n",
              "[5 rows x 25 columns]"
            ],
            "text/html": [
              "\n",
              "  <div id=\"df-379e1f48-e55b-45e1-b786-34a6417a0d32\" class=\"colab-df-container\">\n",
              "    <div>\n",
              "<style scoped>\n",
              "    .dataframe tbody tr th:only-of-type {\n",
              "        vertical-align: middle;\n",
              "    }\n",
              "\n",
              "    .dataframe tbody tr th {\n",
              "        vertical-align: top;\n",
              "    }\n",
              "\n",
              "    .dataframe thead th {\n",
              "        text-align: right;\n",
              "    }\n",
              "</style>\n",
              "<table border=\"1\" class=\"dataframe\">\n",
              "  <thead>\n",
              "    <tr style=\"text-align: right;\">\n",
              "      <th></th>\n",
              "      <th>MinTemp</th>\n",
              "      <th>MaxTemp</th>\n",
              "      <th>Rainfall</th>\n",
              "      <th>Evaporation</th>\n",
              "      <th>Sunshine</th>\n",
              "      <th>WindGustSpeed</th>\n",
              "      <th>WindSpeed9am</th>\n",
              "      <th>WindSpeed3pm</th>\n",
              "      <th>Humidity9am</th>\n",
              "      <th>Humidity3pm</th>\n",
              "      <th>...</th>\n",
              "      <th>Temp3pm</th>\n",
              "      <th>costa_este</th>\n",
              "      <th>WindGustDir_sin</th>\n",
              "      <th>WindGustDir_cos</th>\n",
              "      <th>WindDir9am_sin</th>\n",
              "      <th>WindDir9am_cos</th>\n",
              "      <th>WindDir3pm_sin</th>\n",
              "      <th>WindDir3pm_cos</th>\n",
              "      <th>RainToday</th>\n",
              "      <th>RainTomorrow</th>\n",
              "    </tr>\n",
              "  </thead>\n",
              "  <tbody>\n",
              "    <tr>\n",
              "      <th>0</th>\n",
              "      <td>1.932424</td>\n",
              "      <td>0.860553</td>\n",
              "      <td>-0.619293</td>\n",
              "      <td>2.100980</td>\n",
              "      <td>1.572176e+00</td>\n",
              "      <td>-0.032688</td>\n",
              "      <td>-0.671254</td>\n",
              "      <td>0.931877</td>\n",
              "      <td>-0.527252</td>\n",
              "      <td>0.480472</td>\n",
              "      <td>...</td>\n",
              "      <td>0.975456</td>\n",
              "      <td>0.0</td>\n",
              "      <td>1.797729</td>\n",
              "      <td>-0.041157</td>\n",
              "      <td>1.290036</td>\n",
              "      <td>0.735647</td>\n",
              "      <td>1.681124</td>\n",
              "      <td>0.111157</td>\n",
              "      <td>0.0</td>\n",
              "      <td>0.0</td>\n",
              "    </tr>\n",
              "    <tr>\n",
              "      <th>1</th>\n",
              "      <td>-0.902276</td>\n",
              "      <td>-1.098634</td>\n",
              "      <td>-0.619293</td>\n",
              "      <td>-1.334589</td>\n",
              "      <td>-1.022604e+00</td>\n",
              "      <td>-0.879158</td>\n",
              "      <td>-0.440638</td>\n",
              "      <td>-0.785023</td>\n",
              "      <td>1.037360</td>\n",
              "      <td>0.631364</td>\n",
              "      <td>...</td>\n",
              "      <td>-1.081484</td>\n",
              "      <td>0.0</td>\n",
              "      <td>0.215564</td>\n",
              "      <td>1.270808</td>\n",
              "      <td>0.782116</td>\n",
              "      <td>1.027231</td>\n",
              "      <td>0.752401</td>\n",
              "      <td>1.371036</td>\n",
              "      <td>0.0</td>\n",
              "      <td>0.0</td>\n",
              "    </tr>\n",
              "    <tr>\n",
              "      <th>2</th>\n",
              "      <td>-0.233216</td>\n",
              "      <td>0.257727</td>\n",
              "      <td>-0.619293</td>\n",
              "      <td>0.273550</td>\n",
              "      <td>2.648997e-16</td>\n",
              "      <td>-0.340495</td>\n",
              "      <td>-0.210021</td>\n",
              "      <td>-0.098263</td>\n",
              "      <td>-1.714199</td>\n",
              "      <td>-1.179342</td>\n",
              "      <td>...</td>\n",
              "      <td>0.264033</td>\n",
              "      <td>0.0</td>\n",
              "      <td>1.677295</td>\n",
              "      <td>0.460906</td>\n",
              "      <td>1.290036</td>\n",
              "      <td>0.735647</td>\n",
              "      <td>0.752401</td>\n",
              "      <td>1.371036</td>\n",
              "      <td>0.0</td>\n",
              "      <td>0.0</td>\n",
              "    </tr>\n",
              "    <tr>\n",
              "      <th>3</th>\n",
              "      <td>-0.743814</td>\n",
              "      <td>-1.279482</td>\n",
              "      <td>1.952340</td>\n",
              "      <td>-1.261491</td>\n",
              "      <td>2.648997e-16</td>\n",
              "      <td>-0.648303</td>\n",
              "      <td>-0.671254</td>\n",
              "      <td>-0.785023</td>\n",
              "      <td>0.875504</td>\n",
              "      <td>1.436123</td>\n",
              "      <td>...</td>\n",
              "      <td>-1.158812</td>\n",
              "      <td>0.0</td>\n",
              "      <td>-0.903200</td>\n",
              "      <td>-0.968860</td>\n",
              "      <td>-0.924033</td>\n",
              "      <td>0.735647</td>\n",
              "      <td>-1.213242</td>\n",
              "      <td>0.633011</td>\n",
              "      <td>1.0</td>\n",
              "      <td>1.0</td>\n",
              "    </tr>\n",
              "    <tr>\n",
              "      <th>4</th>\n",
              "      <td>1.192937</td>\n",
              "      <td>1.493522</td>\n",
              "      <td>-0.619293</td>\n",
              "      <td>2.027883</td>\n",
              "      <td>1.691476e+00</td>\n",
              "      <td>0.121215</td>\n",
              "      <td>1.058368</td>\n",
              "      <td>-0.556103</td>\n",
              "      <td>-0.743061</td>\n",
              "      <td>-1.179342</td>\n",
              "      <td>...</td>\n",
              "      <td>1.625016</td>\n",
              "      <td>0.0</td>\n",
              "      <td>1.677295</td>\n",
              "      <td>0.460906</td>\n",
              "      <td>1.629406</td>\n",
              "      <td>0.299247</td>\n",
              "      <td>1.240488</td>\n",
              "      <td>1.075431</td>\n",
              "      <td>0.0</td>\n",
              "      <td>0.0</td>\n",
              "    </tr>\n",
              "  </tbody>\n",
              "</table>\n",
              "<p>5 rows × 25 columns</p>\n",
              "</div>\n",
              "    <div class=\"colab-df-buttons\">\n",
              "\n",
              "  <div class=\"colab-df-container\">\n",
              "    <button class=\"colab-df-convert\" onclick=\"convertToInteractive('df-379e1f48-e55b-45e1-b786-34a6417a0d32')\"\n",
              "            title=\"Convert this dataframe to an interactive table.\"\n",
              "            style=\"display:none;\">\n",
              "\n",
              "  <svg xmlns=\"http://www.w3.org/2000/svg\" height=\"24px\" viewBox=\"0 -960 960 960\">\n",
              "    <path d=\"M120-120v-720h720v720H120Zm60-500h600v-160H180v160Zm220 220h160v-160H400v160Zm0 220h160v-160H400v160ZM180-400h160v-160H180v160Zm440 0h160v-160H620v160ZM180-180h160v-160H180v160Zm440 0h160v-160H620v160Z\"/>\n",
              "  </svg>\n",
              "    </button>\n",
              "\n",
              "  <style>\n",
              "    .colab-df-container {\n",
              "      display:flex;\n",
              "      gap: 12px;\n",
              "    }\n",
              "\n",
              "    .colab-df-convert {\n",
              "      background-color: #E8F0FE;\n",
              "      border: none;\n",
              "      border-radius: 50%;\n",
              "      cursor: pointer;\n",
              "      display: none;\n",
              "      fill: #1967D2;\n",
              "      height: 32px;\n",
              "      padding: 0 0 0 0;\n",
              "      width: 32px;\n",
              "    }\n",
              "\n",
              "    .colab-df-convert:hover {\n",
              "      background-color: #E2EBFA;\n",
              "      box-shadow: 0px 1px 2px rgba(60, 64, 67, 0.3), 0px 1px 3px 1px rgba(60, 64, 67, 0.15);\n",
              "      fill: #174EA6;\n",
              "    }\n",
              "\n",
              "    .colab-df-buttons div {\n",
              "      margin-bottom: 4px;\n",
              "    }\n",
              "\n",
              "    [theme=dark] .colab-df-convert {\n",
              "      background-color: #3B4455;\n",
              "      fill: #D2E3FC;\n",
              "    }\n",
              "\n",
              "    [theme=dark] .colab-df-convert:hover {\n",
              "      background-color: #434B5C;\n",
              "      box-shadow: 0px 1px 3px 1px rgba(0, 0, 0, 0.15);\n",
              "      filter: drop-shadow(0px 1px 2px rgba(0, 0, 0, 0.3));\n",
              "      fill: #FFFFFF;\n",
              "    }\n",
              "  </style>\n",
              "\n",
              "    <script>\n",
              "      const buttonEl =\n",
              "        document.querySelector('#df-379e1f48-e55b-45e1-b786-34a6417a0d32 button.colab-df-convert');\n",
              "      buttonEl.style.display =\n",
              "        google.colab.kernel.accessAllowed ? 'block' : 'none';\n",
              "\n",
              "      async function convertToInteractive(key) {\n",
              "        const element = document.querySelector('#df-379e1f48-e55b-45e1-b786-34a6417a0d32');\n",
              "        const dataTable =\n",
              "          await google.colab.kernel.invokeFunction('convertToInteractive',\n",
              "                                                    [key], {});\n",
              "        if (!dataTable) return;\n",
              "\n",
              "        const docLinkHtml = 'Like what you see? Visit the ' +\n",
              "          '<a target=\"_blank\" href=https://colab.research.google.com/notebooks/data_table.ipynb>data table notebook</a>'\n",
              "          + ' to learn more about interactive tables.';\n",
              "        element.innerHTML = '';\n",
              "        dataTable['output_type'] = 'display_data';\n",
              "        await google.colab.output.renderOutput(dataTable, element);\n",
              "        const docLink = document.createElement('div');\n",
              "        docLink.innerHTML = docLinkHtml;\n",
              "        element.appendChild(docLink);\n",
              "      }\n",
              "    </script>\n",
              "  </div>\n",
              "\n",
              "\n",
              "<div id=\"df-1c1599c4-a0b7-47fd-b4ef-dfc7aeac7c5f\">\n",
              "  <button class=\"colab-df-quickchart\" onclick=\"quickchart('df-1c1599c4-a0b7-47fd-b4ef-dfc7aeac7c5f')\"\n",
              "            title=\"Suggest charts\"\n",
              "            style=\"display:none;\">\n",
              "\n",
              "<svg xmlns=\"http://www.w3.org/2000/svg\" height=\"24px\"viewBox=\"0 0 24 24\"\n",
              "     width=\"24px\">\n",
              "    <g>\n",
              "        <path d=\"M19 3H5c-1.1 0-2 .9-2 2v14c0 1.1.9 2 2 2h14c1.1 0 2-.9 2-2V5c0-1.1-.9-2-2-2zM9 17H7v-7h2v7zm4 0h-2V7h2v10zm4 0h-2v-4h2v4z\"/>\n",
              "    </g>\n",
              "</svg>\n",
              "  </button>\n",
              "\n",
              "<style>\n",
              "  .colab-df-quickchart {\n",
              "      --bg-color: #E8F0FE;\n",
              "      --fill-color: #1967D2;\n",
              "      --hover-bg-color: #E2EBFA;\n",
              "      --hover-fill-color: #174EA6;\n",
              "      --disabled-fill-color: #AAA;\n",
              "      --disabled-bg-color: #DDD;\n",
              "  }\n",
              "\n",
              "  [theme=dark] .colab-df-quickchart {\n",
              "      --bg-color: #3B4455;\n",
              "      --fill-color: #D2E3FC;\n",
              "      --hover-bg-color: #434B5C;\n",
              "      --hover-fill-color: #FFFFFF;\n",
              "      --disabled-bg-color: #3B4455;\n",
              "      --disabled-fill-color: #666;\n",
              "  }\n",
              "\n",
              "  .colab-df-quickchart {\n",
              "    background-color: var(--bg-color);\n",
              "    border: none;\n",
              "    border-radius: 50%;\n",
              "    cursor: pointer;\n",
              "    display: none;\n",
              "    fill: var(--fill-color);\n",
              "    height: 32px;\n",
              "    padding: 0;\n",
              "    width: 32px;\n",
              "  }\n",
              "\n",
              "  .colab-df-quickchart:hover {\n",
              "    background-color: var(--hover-bg-color);\n",
              "    box-shadow: 0 1px 2px rgba(60, 64, 67, 0.3), 0 1px 3px 1px rgba(60, 64, 67, 0.15);\n",
              "    fill: var(--button-hover-fill-color);\n",
              "  }\n",
              "\n",
              "  .colab-df-quickchart-complete:disabled,\n",
              "  .colab-df-quickchart-complete:disabled:hover {\n",
              "    background-color: var(--disabled-bg-color);\n",
              "    fill: var(--disabled-fill-color);\n",
              "    box-shadow: none;\n",
              "  }\n",
              "\n",
              "  .colab-df-spinner {\n",
              "    border: 2px solid var(--fill-color);\n",
              "    border-color: transparent;\n",
              "    border-bottom-color: var(--fill-color);\n",
              "    animation:\n",
              "      spin 1s steps(1) infinite;\n",
              "  }\n",
              "\n",
              "  @keyframes spin {\n",
              "    0% {\n",
              "      border-color: transparent;\n",
              "      border-bottom-color: var(--fill-color);\n",
              "      border-left-color: var(--fill-color);\n",
              "    }\n",
              "    20% {\n",
              "      border-color: transparent;\n",
              "      border-left-color: var(--fill-color);\n",
              "      border-top-color: var(--fill-color);\n",
              "    }\n",
              "    30% {\n",
              "      border-color: transparent;\n",
              "      border-left-color: var(--fill-color);\n",
              "      border-top-color: var(--fill-color);\n",
              "      border-right-color: var(--fill-color);\n",
              "    }\n",
              "    40% {\n",
              "      border-color: transparent;\n",
              "      border-right-color: var(--fill-color);\n",
              "      border-top-color: var(--fill-color);\n",
              "    }\n",
              "    60% {\n",
              "      border-color: transparent;\n",
              "      border-right-color: var(--fill-color);\n",
              "    }\n",
              "    80% {\n",
              "      border-color: transparent;\n",
              "      border-right-color: var(--fill-color);\n",
              "      border-bottom-color: var(--fill-color);\n",
              "    }\n",
              "    90% {\n",
              "      border-color: transparent;\n",
              "      border-bottom-color: var(--fill-color);\n",
              "    }\n",
              "  }\n",
              "</style>\n",
              "\n",
              "  <script>\n",
              "    async function quickchart(key) {\n",
              "      const quickchartButtonEl =\n",
              "        document.querySelector('#' + key + ' button');\n",
              "      quickchartButtonEl.disabled = true;  // To prevent multiple clicks.\n",
              "      quickchartButtonEl.classList.add('colab-df-spinner');\n",
              "      try {\n",
              "        const charts = await google.colab.kernel.invokeFunction(\n",
              "            'suggestCharts', [key], {});\n",
              "      } catch (error) {\n",
              "        console.error('Error during call to suggestCharts:', error);\n",
              "      }\n",
              "      quickchartButtonEl.classList.remove('colab-df-spinner');\n",
              "      quickchartButtonEl.classList.add('colab-df-quickchart-complete');\n",
              "    }\n",
              "    (() => {\n",
              "      let quickchartButtonEl =\n",
              "        document.querySelector('#df-1c1599c4-a0b7-47fd-b4ef-dfc7aeac7c5f button');\n",
              "      quickchartButtonEl.style.display =\n",
              "        google.colab.kernel.accessAllowed ? 'block' : 'none';\n",
              "    })();\n",
              "  </script>\n",
              "</div>\n",
              "\n",
              "    </div>\n",
              "  </div>\n"
            ],
            "application/vnd.google.colaboratory.intrinsic+json": {
              "type": "dataframe",
              "variable_name": "df_train"
            }
          },
          "metadata": {},
          "execution_count": 202
        }
      ]
    },
    {
      "cell_type": "code",
      "source": [
        "train_clasificacion_X = df_train.iloc[:, :-1]\n",
        "y_train_clasificacion = df_train.iloc[:,-1]"
      ],
      "metadata": {
        "id": "K6ralZvX4P0M"
      },
      "execution_count": 203,
      "outputs": []
    },
    {
      "cell_type": "code",
      "source": [
        "x_test_clasificacion = df_test.iloc[:, :-1]\n",
        "y_test_clasificacion = df_test.iloc[:,-1]"
      ],
      "metadata": {
        "id": "PpWerqXl4Qm8"
      },
      "execution_count": 204,
      "outputs": []
    },
    {
      "cell_type": "code",
      "source": [
        "classifier = LogisticRegression(random_state = 0)\n",
        "classifier.fit(train_clasificacion_X, y_train_clasificacion)\n",
        "valor_y_predecir = classifier.predict(x_test_clasificacion)\n",
        "\n",
        "#metricas\n",
        "cm = confusion_matrix(y_test_clasificacion, valor_y_predecir)\n",
        "acc_score = accuracy_score(y_test_clasificacion, valor_y_predecir)"
      ],
      "metadata": {
        "id": "XL-f-65g4RcJ"
      },
      "execution_count": 205,
      "outputs": []
    },
    {
      "cell_type": "code",
      "source": [
        "probabilidades_y = classifier.predict_proba(x_test_clasificacion)[:,-1]\n",
        "fpr, tpr, thresholds = roc_curve(y_test_clasificacion, probabilidades_y)\n",
        "roc_auc = auc(fpr,tpr)"
      ],
      "metadata": {
        "id": "r6QdOcke4TB5"
      },
      "execution_count": 206,
      "outputs": []
    },
    {
      "cell_type": "code",
      "source": [
        "plt.figure(figsize=(5,5))\n",
        "plt.plot(fpr, tpr, color=\"red\", lw=2, label='CURVA ROC (AUC = %0.2f)' % roc_auc)\n",
        "plt.plot([0,1],[0,1], color=\"blue\", lw=2, linestyle=\"--\")\n",
        "plt.xlim([0.0, 1.10])\n",
        "plt.ylim([0.0, 1.10])\n",
        "plt.xlabel(\"Tasa de Falsos positivos(FPR)\")\n",
        "plt.ylabel(\"Tasa de Verdaderos positivos(TPR)\")\n",
        "plt.title(\"ROC\")\n",
        "plt.legend(loc=\"lower right\")\n",
        "plt.show()"
      ],
      "metadata": {
        "id": "ttOeJU6c4TwZ",
        "outputId": "87598fc2-d81c-4eb0-8379-c2349d37c55a",
        "colab": {
          "base_uri": "https://localhost:8080/",
          "height": 487
        }
      },
      "execution_count": 207,
      "outputs": [
        {
          "output_type": "display_data",
          "data": {
            "text/plain": [
              "<Figure size 500x500 with 1 Axes>"
            ],
            "image/png": "[encoded data removed]"
          },
          "metadata": {}
        }
      ]
    },
    {
      "cell_type": "markdown",
      "source": [
        "Podemos concluir que para este modelo (regresión logística) entrenado con todas las features y los datos sin balancear, tiene valor cercano a uno, lo que siginifica que el TPR (ratio de verdaderos positivos) es mas alto que el FPR (ratio de falsos positivos, es decir, predice días de no lluvia como lluvia)"
      ],
      "metadata": {
        "id": "2zv_xEb7jwuS"
      }
    },
    {
      "cell_type": "markdown",
      "source": [
        "# Explicabilidad con dataset no balanceado"
      ],
      "metadata": {
        "id": "ViIwJ6SakP3j"
      }
    },
    {
      "cell_type": "code",
      "source": [
        "import shap"
      ],
      "metadata": {
        "id": "0rerwxtf4Uu6"
      },
      "execution_count": 208,
      "outputs": []
    },
    {
      "cell_type": "markdown",
      "source": [
        "# Explicabilidad de modelo de regresion logistica sin balancear"
      ],
      "metadata": {
        "id": "NcSukppj6YPs"
      }
    },
    {
      "cell_type": "markdown",
      "source": [
        "# Métricas para datos NO balanceados"
      ],
      "metadata": {
        "id": "DoFbS5ww6UmD"
      }
    },
    {
      "cell_type": "code",
      "source": [
        "y_pred_clasificacion_optimizado = modelo_optimizado_clasificacion.predict(x_test_clasificacion)\n",
        "\n",
        "\n",
        "print(classification_report(y_test_clasificacion, y_pred_clasificacion_optimizado))\n",
        "\n",
        "\n",
        "ConfusionMatrixDisplay(\n",
        "    confusion_matrix(y_test_clasificacion, y_pred_clasificacion_optimizado)\n",
        ").plot()"
      ],
      "metadata": {
        "id": "M2k4TSQa4YQp",
        "outputId": "8c471f06-d2df-4dc2-9cbc-0161612bb413",
        "colab": {
          "base_uri": "https://localhost:8080/",
          "height": 623
        }
      },
      "execution_count": 209,
      "outputs": [
        {
          "output_type": "stream",
          "name": "stdout",
          "text": [
            "              precision    recall  f1-score   support\n",
            "\n",
            "         0.0       0.86      0.94      0.90      4092\n",
            "         1.0       0.73      0.51      0.60      1313\n",
            "\n",
            "    accuracy                           0.83      5405\n",
            "   macro avg       0.79      0.72      0.75      5405\n",
            "weighted avg       0.82      0.83      0.82      5405\n",
            "\n"
          ]
        },
        {
          "output_type": "execute_result",
          "data": {
            "text/plain": [
              "<sklearn.metrics._plot.confusion_matrix.ConfusionMatrixDisplay at 0x79f5dd1e4400>"
            ]
          },
          "metadata": {},
          "execution_count": 209
        },
        {
          "output_type": "display_data",
          "data": {
            "text/plain": [
              "<Figure size 640x480 with 2 Axes>"
            ],
            "image/png": "[encoded data removed]"
          },
          "metadata": {}
        }
      ]
    },
    {
      "cell_type": "code",
      "source": [
        "clasificacion_parametros = {\n",
        "    'C': [0.001, 0.01, 0.1, 1, 10],\n",
        "    'penalty': [None, 'l2'],\n",
        "    'solver': ['liblinear', 'lbfgs', 'saga'],\n",
        "    'max_iter': [100, 200, 300],\n",
        "    'class_weight': [None, 'balanced']\n",
        "}\n",
        "\n",
        "optimizar_clasificacion = RandomizedSearchCV(\n",
        "    LogisticRegression(random_state=23), clasificacion_parametros\n",
        ")\n",
        "\n",
        "optimizar_clasificacion.fit(train_clasificacion_X, y_train_clasificacion)"
      ],
      "metadata": {
        "id": "Vjp07r3w4V5Z",
        "outputId": "8d66c37a-86fb-416b-8d5c-ef71c96ab3d4",
        "colab": {
          "base_uri": "https://localhost:8080/",
          "height": 1000
        }
      },
      "execution_count": 210,
      "outputs": [
        {
          "output_type": "stream",
          "name": "stderr",
          "text": [
            "/usr/local/lib/python3.10/dist-packages/sklearn/linear_model/_logistic.py:1181: UserWarning: Setting penalty=None will ignore the C and l1_ratio parameters\n",
            "  warnings.warn(\n",
            "/usr/local/lib/python3.10/dist-packages/sklearn/linear_model/_logistic.py:1181: UserWarning: Setting penalty=None will ignore the C and l1_ratio parameters\n",
            "  warnings.warn(\n",
            "/usr/local/lib/python3.10/dist-packages/sklearn/linear_model/_logistic.py:1181: UserWarning: Setting penalty=None will ignore the C and l1_ratio parameters\n",
            "  warnings.warn(\n",
            "/usr/local/lib/python3.10/dist-packages/sklearn/linear_model/_logistic.py:1181: UserWarning: Setting penalty=None will ignore the C and l1_ratio parameters\n",
            "  warnings.warn(\n",
            "/usr/local/lib/python3.10/dist-packages/sklearn/linear_model/_logistic.py:1181: UserWarning: Setting penalty=None will ignore the C and l1_ratio parameters\n",
            "  warnings.warn(\n",
            "/usr/local/lib/python3.10/dist-packages/sklearn/linear_model/_logistic.py:1181: UserWarning: Setting penalty=None will ignore the C and l1_ratio parameters\n",
            "  warnings.warn(\n",
            "/usr/local/lib/python3.10/dist-packages/sklearn/linear_model/_logistic.py:1181: UserWarning: Setting penalty=None will ignore the C and l1_ratio parameters\n",
            "  warnings.warn(\n",
            "/usr/local/lib/python3.10/dist-packages/sklearn/linear_model/_logistic.py:1181: UserWarning: Setting penalty=None will ignore the C and l1_ratio parameters\n",
            "  warnings.warn(\n",
            "/usr/local/lib/python3.10/dist-packages/sklearn/linear_model/_logistic.py:1181: UserWarning: Setting penalty=None will ignore the C and l1_ratio parameters\n",
            "  warnings.warn(\n",
            "/usr/local/lib/python3.10/dist-packages/sklearn/linear_model/_logistic.py:1181: UserWarning: Setting penalty=None will ignore the C and l1_ratio parameters\n",
            "  warnings.warn(\n",
            "/usr/local/lib/python3.10/dist-packages/sklearn/linear_model/_logistic.py:1181: UserWarning: Setting penalty=None will ignore the C and l1_ratio parameters\n",
            "  warnings.warn(\n",
            "/usr/local/lib/python3.10/dist-packages/sklearn/linear_model/_logistic.py:1181: UserWarning: Setting penalty=None will ignore the C and l1_ratio parameters\n",
            "  warnings.warn(\n",
            "/usr/local/lib/python3.10/dist-packages/sklearn/linear_model/_logistic.py:1181: UserWarning: Setting penalty=None will ignore the C and l1_ratio parameters\n",
            "  warnings.warn(\n",
            "/usr/local/lib/python3.10/dist-packages/sklearn/linear_model/_logistic.py:1181: UserWarning: Setting penalty=None will ignore the C and l1_ratio parameters\n",
            "  warnings.warn(\n",
            "/usr/local/lib/python3.10/dist-packages/sklearn/linear_model/_logistic.py:1181: UserWarning: Setting penalty=None will ignore the C and l1_ratio parameters\n",
            "  warnings.warn(\n",
            "/usr/local/lib/python3.10/dist-packages/sklearn/linear_model/_logistic.py:1181: UserWarning: Setting penalty=None will ignore the C and l1_ratio parameters\n",
            "  warnings.warn(\n",
            "/usr/local/lib/python3.10/dist-packages/sklearn/linear_model/_logistic.py:1181: UserWarning: Setting penalty=None will ignore the C and l1_ratio parameters\n",
            "  warnings.warn(\n",
            "/usr/local/lib/python3.10/dist-packages/sklearn/linear_model/_logistic.py:1181: UserWarning: Setting penalty=None will ignore the C and l1_ratio parameters\n",
            "  warnings.warn(\n",
            "/usr/local/lib/python3.10/dist-packages/sklearn/linear_model/_logistic.py:1181: UserWarning: Setting penalty=None will ignore the C and l1_ratio parameters\n",
            "  warnings.warn(\n",
            "/usr/local/lib/python3.10/dist-packages/sklearn/linear_model/_logistic.py:1181: UserWarning: Setting penalty=None will ignore the C and l1_ratio parameters\n",
            "  warnings.warn(\n",
            "/usr/local/lib/python3.10/dist-packages/sklearn/model_selection/_validation.py:378: FitFailedWarning: \n",
            "5 fits failed out of a total of 50.\n",
            "The score on these train-test partitions for these parameters will be set to nan.\n",
            "If these failures are not expected, you can try to debug them by setting error_score='raise'.\n",
            "\n",
            "Below are more details about the failures:\n",
            "--------------------------------------------------------------------------------\n",
            "5 fits failed with the following error:\n",
            "Traceback (most recent call last):\n",
            "  File \"/usr/local/lib/python3.10/dist-packages/sklearn/model_selection/_validation.py\", line 686, in _fit_and_score\n",
            "    estimator.fit(X_train, y_train, **fit_params)\n",
            "  File \"/usr/local/lib/python3.10/dist-packages/sklearn/linear_model/_logistic.py\", line 1216, in fit\n",
            "    self.coef_, self.intercept_, self.n_iter_ = _fit_liblinear(\n",
            "  File \"/usr/local/lib/python3.10/dist-packages/sklearn/svm/_base.py\", line 1223, in _fit_liblinear\n",
            "    solver_type = _get_liblinear_solver_type(multi_class, penalty, loss, dual)\n",
            "  File \"/usr/local/lib/python3.10/dist-packages/sklearn/svm/_base.py\", line 1062, in _get_liblinear_solver_type\n",
            "    raise ValueError(\n",
            "ValueError: Unsupported set of arguments: The combination of penalty='None' and loss='logistic_regression' is not supported, Parameters: penalty=None, loss='logistic_regression', dual=False\n",
            "\n",
            "  warnings.warn(some_fits_failed_message, FitFailedWarning)\n",
            "/usr/local/lib/python3.10/dist-packages/sklearn/model_selection/_search.py:952: UserWarning: One or more of the test scores are non-finite: [0.84705882 0.79680408 0.79680408 0.79675776 0.79680408 0.79680408\n",
            " 0.84724409 0.84729041 0.84724409        nan]\n",
            "  warnings.warn(\n"
          ]
        },
        {
          "output_type": "execute_result",
          "data": {
            "text/plain": [
              "RandomizedSearchCV(estimator=LogisticRegression(random_state=23),\n",
              "                   param_distributions={'C': [0.001, 0.01, 0.1, 1, 10],\n",
              "                                        'class_weight': [None, 'balanced'],\n",
              "                                        'max_iter': [100, 200, 300],\n",
              "                                        'penalty': [None, 'l2'],\n",
              "                                        'solver': ['liblinear', 'lbfgs',\n",
              "                                                   'saga']})"
            ],
            "text/html": [
              "<style>#sk-container-id-4 {color: black;background-color: white;}#sk-container-id-4 pre{padding: 0;}#sk-container-id-4 div.sk-toggleable {background-color: white;}#sk-container-id-4 label.sk-toggleable__label {cursor: pointer;display: block;width: 100%;margin-bottom: 0;padding: 0.3em;box-sizing: border-box;text-align: center;}#sk-container-id-4 label.sk-toggleable__label-arrow:before {content: \"▸\";float: left;margin-right: 0.25em;color: #696969;}#sk-container-id-4 label.sk-toggleable__label-arrow:hover:before {color: black;}#sk-container-id-4 div.sk-estimator:hover label.sk-toggleable__label-arrow:before {color: black;}#sk-container-id-4 div.sk-toggleable__content {max-height: 0;max-width: 0;overflow: hidden;text-align: left;background-color: #f0f8ff;}#sk-container-id-4 div.sk-toggleable__content pre {margin: 0.2em;color: black;border-radius: 0.25em;background-color: #f0f8ff;}#sk-container-id-4 input.sk-toggleable__control:checked~div.sk-toggleable__content {max-height: 200px;max-width: 100%;overflow: auto;}#sk-container-id-4 input.sk-toggleable__control:checked~label.sk-toggleable__label-arrow:before {content: \"▾\";}#sk-container-id-4 div.sk-estimator input.sk-toggleable__control:checked~label.sk-toggleable__label {background-color: #d4ebff;}#sk-container-id-4 div.sk-label input.sk-toggleable__control:checked~label.sk-toggleable__label {background-color: #d4ebff;}#sk-container-id-4 input.sk-hidden--visually {border: 0;clip: rect(1px 1px 1px 1px);clip: rect(1px, 1px, 1px, 1px);height: 1px;margin: -1px;overflow: hidden;padding: 0;position: absolute;width: 1px;}#sk-container-id-4 div.sk-estimator {font-family: monospace;background-color: #f0f8ff;border: 1px dotted black;border-radius: 0.25em;box-sizing: border-box;margin-bottom: 0.5em;}#sk-container-id-4 div.sk-estimator:hover {background-color: #d4ebff;}#sk-container-id-4 div.sk-parallel-item::after {content: \"\";width: 100%;border-bottom: 1px solid gray;flex-grow: 1;}#sk-container-id-4 div.sk-label:hover label.sk-toggleable__label {background-color: #d4ebff;}#sk-container-id-4 div.sk-serial::before {content: \"\";position: absolute;border-left: 1px solid gray;box-sizing: border-box;top: 0;bottom: 0;left: 50%;z-index: 0;}#sk-container-id-4 div.sk-serial {display: flex;flex-direction: column;align-items: center;background-color: white;padding-right: 0.2em;padding-left: 0.2em;position: relative;}#sk-container-id-4 div.sk-item {position: relative;z-index: 1;}#sk-container-id-4 div.sk-parallel {display: flex;align-items: stretch;justify-content: center;background-color: white;position: relative;}#sk-container-id-4 div.sk-item::before, #sk-container-id-4 div.sk-parallel-item::before {content: \"\";position: absolute;border-left: 1px solid gray;box-sizing: border-box;top: 0;bottom: 0;left: 50%;z-index: -1;}#sk-container-id-4 div.sk-parallel-item {display: flex;flex-direction: column;z-index: 1;position: relative;background-color: white;}#sk-container-id-4 div.sk-parallel-item:first-child::after {align-self: flex-end;width: 50%;}#sk-container-id-4 div.sk-parallel-item:last-child::after {align-self: flex-start;width: 50%;}#sk-container-id-4 div.sk-parallel-item:only-child::after {width: 0;}#sk-container-id-4 div.sk-dashed-wrapped {border: 1px dashed gray;margin: 0 0.4em 0.5em 0.4em;box-sizing: border-box;padding-bottom: 0.4em;background-color: white;}#sk-container-id-4 div.sk-label label {font-family: monospace;font-weight: bold;display: inline-block;line-height: 1.2em;}#sk-container-id-4 div.sk-label-container {text-align: center;}#sk-container-id-4 div.sk-container {/* jupyter's `normalize.less` sets `[hidden] { display: none; }` but bootstrap.min.css set `[hidden] { display: none !important; }` so we also need the `!important` here to be able to override the default hidden behavior on the sphinx rendered scikit-learn.org. See: https://github.com/scikit-learn/scikit-learn/issues/21755 */display: inline-block !important;position: relative;}#sk-container-id-4 div.sk-text-repr-fallback {display: none;}</style><div id=\"sk-container-id-4\" class=\"sk-top-container\"><div class=\"sk-text-repr-fallback\"><pre>RandomizedSearchCV(estimator=LogisticRegression(random_state=23),\n",
              "                   param_distributions={&#x27;C&#x27;: [0.001, 0.01, 0.1, 1, 10],\n",
              "                                        &#x27;class_weight&#x27;: [None, &#x27;balanced&#x27;],\n",
              "                                        &#x27;max_iter&#x27;: [100, 200, 300],\n",
              "                                        &#x27;penalty&#x27;: [None, &#x27;l2&#x27;],\n",
              "                                        &#x27;solver&#x27;: [&#x27;liblinear&#x27;, &#x27;lbfgs&#x27;,\n",
              "                                                   &#x27;saga&#x27;]})</pre><b>In a Jupyter environment, please rerun this cell to show the HTML representation or trust the notebook. <br />On GitHub, the HTML representation is unable to render, please try loading this page with nbviewer.org.</b></div><div class=\"sk-container\" hidden><div class=\"sk-item sk-dashed-wrapped\"><div class=\"sk-label-container\"><div class=\"sk-label sk-toggleable\"><input class=\"sk-toggleable__control sk-hidden--visually\" id=\"sk-estimator-id-10\" type=\"checkbox\" ><label for=\"sk-estimator-id-10\" class=\"sk-toggleable__label sk-toggleable__label-arrow\">RandomizedSearchCV</label><div class=\"sk-toggleable__content\"><pre>RandomizedSearchCV(estimator=LogisticRegression(random_state=23),\n",
              "                   param_distributions={&#x27;C&#x27;: [0.001, 0.01, 0.1, 1, 10],\n",
              "                                        &#x27;class_weight&#x27;: [None, &#x27;balanced&#x27;],\n",
              "                                        &#x27;max_iter&#x27;: [100, 200, 300],\n",
              "                                        &#x27;penalty&#x27;: [None, &#x27;l2&#x27;],\n",
              "                                        &#x27;solver&#x27;: [&#x27;liblinear&#x27;, &#x27;lbfgs&#x27;,\n",
              "                                                   &#x27;saga&#x27;]})</pre></div></div></div><div class=\"sk-parallel\"><div class=\"sk-parallel-item\"><div class=\"sk-item\"><div class=\"sk-label-container\"><div class=\"sk-label sk-toggleable\"><input class=\"sk-toggleable__control sk-hidden--visually\" id=\"sk-estimator-id-11\" type=\"checkbox\" ><label for=\"sk-estimator-id-11\" class=\"sk-toggleable__label sk-toggleable__label-arrow\">estimator: LogisticRegression</label><div class=\"sk-toggleable__content\"><pre>LogisticRegression(random_state=23)</pre></div></div></div><div class=\"sk-serial\"><div class=\"sk-item\"><div class=\"sk-estimator sk-toggleable\"><input class=\"sk-toggleable__control sk-hidden--visually\" id=\"sk-estimator-id-12\" type=\"checkbox\" ><label for=\"sk-estimator-id-12\" class=\"sk-toggleable__label sk-toggleable__label-arrow\">LogisticRegression</label><div class=\"sk-toggleable__content\"><pre>LogisticRegression(random_state=23)</pre></div></div></div></div></div></div></div></div></div></div>"
            ]
          },
          "metadata": {},
          "execution_count": 210
        }
      ]
    },
    {
      "cell_type": "code",
      "source": [
        "modelo_optimizado_clasificacion = optimizar_clasificacion.best_estimator_"
      ],
      "metadata": {
        "id": "DnBOKSAu4XeJ"
      },
      "execution_count": 211,
      "outputs": []
    },
    {
      "cell_type": "code",
      "source": [
        "explicar_clasificacion = shap.LinearExplainer(\n",
        "    classifier,\n",
        "    train_clasificacion_X.astype(\"float64\").copy(),\n",
        "    features_names=train_clasificacion_X.columns,\n",
        ")\n",
        "\n",
        "\n",
        "shap_valores_clasificacion = explicar_clasificacion(\n",
        "    train_clasificacion_X.astype(\"float64\")\n",
        ")\n",
        "\n",
        "shap.summary_plot(shap_valores_clasificacion, train_clasificacion_X)"
      ],
      "metadata": {
        "id": "dA4S12Qy4ZT7",
        "outputId": "7fc50311-c169-48fe-f92a-25f618becf7e",
        "colab": {
          "base_uri": "https://localhost:8080/",
          "height": 957
        }
      },
      "execution_count": 212,
      "outputs": [
        {
          "output_type": "display_data",
          "data": {
            "text/plain": [
              "<Figure size 800x950 with 2 Axes>"
            ],
            "image/png": "[encoded data removed]"
          },
          "metadata": {}
        }
      ]
    },
    {
      "cell_type": "markdown",
      "source": [
        "Las dos variables mas importantes para mi modelo son las Presión y la humedad de las 3pm. A menor presión mayor es el impacto en el modelo, osea es mas probable de que lo clasifique como un día de lluvia. Sin embargo con los valores de la humedad es al reves, A mayor humedad mayor es el impacto de la variable en el modelo."
      ],
      "metadata": {
        "id": "1VJ2kcm4psNV"
      }
    },
    {
      "cell_type": "code",
      "source": [
        "index = 50\n",
        "\n",
        "classifier.predict(x_test_clasificacion)[index]\n",
        "\n",
        "shap_valores_clasificacion = explicar_clasificacion(x_test_clasificacion)\n",
        "\n",
        "explicacion = shap.Explanation(\n",
        "    values=shap_valores_clasificacion[index],\n",
        "    base_values=explicar_clasificacion.expected_value,\n",
        "    feature_names=train_clasificacion_X.columns,\n",
        ")\n",
        "\n",
        "\n",
        "shap.plots.waterfall(explicacion)"
      ],
      "metadata": {
        "id": "Nt8NoOqc4av7",
        "outputId": "8a5d5815-91fa-4daa-f180-a554a63ced95",
        "colab": {
          "base_uri": "https://localhost:8080/",
          "height": 617
        }
      },
      "execution_count": 213,
      "outputs": [
        {
          "output_type": "display_data",
          "data": {
            "text/plain": [
              "<Figure size 800x650 with 3 Axes>"
            ],
            "image/png": "[encoded data removed]"
          },
          "metadata": {}
        }
      ]
    },
    {
      "cell_type": "code",
      "source": [
        "explicabilidad_global_clasificacion = shap.Explanation(\n",
        "    shap_valores_clasificacion,\n",
        "    base_values=explicar_clasificacion.expected_value,\n",
        "    feature_names=train_clasificacion_X.columns,\n",
        "    data=x_test_clasificacion,\n",
        ")\n",
        "\n",
        "\n",
        "shap.plots.bar(explicabilidad_global_clasificacion)"
      ],
      "metadata": {
        "id": "_dPb3gyK4bmG",
        "outputId": "1049e153-d5c2-48ad-d4d4-bac9e0bd7bcc",
        "colab": {
          "base_uri": "https://localhost:8080/",
          "height": 585
        }
      },
      "execution_count": 214,
      "outputs": [
        {
          "output_type": "display_data",
          "data": {
            "text/plain": [
              "<Figure size 800x650 with 1 Axes>"
            ],
            "image/png": "[encoded data removed]"
          },
          "metadata": {}
        }
      ]
    },
    {
      "cell_type": "markdown",
      "source": [
        "# Modelo de regresión logistica balanceado"
      ],
      "metadata": {
        "id": "TuPlme-16b3V"
      }
    },
    {
      "cell_type": "markdown",
      "source": [
        "## Balanceo"
      ],
      "metadata": {
        "id": "ItvHubA_rn6i"
      }
    },
    {
      "cell_type": "code",
      "source": [
        "# Modulos para el balanceo\n",
        "from imblearn.over_sampling import SMOTE\n",
        "from imblearn.combine import SMOTETomek\n",
        "from imblearn.over_sampling import RandomOverSampler"
      ],
      "metadata": {
        "id": "BNsINiY36e0G"
      },
      "execution_count": 215,
      "outputs": []
    },
    {
      "cell_type": "code",
      "source": [
        "def plot_balance(df):\n",
        "  ### Balance de datos:\n",
        "  rain_classes = pd.value_counts(df['RainTomorrow'], sort = True)\n",
        "  rain_classes.plot(kind = 'bar', rot=0)\n",
        "  plt.xticks(range(2))\n",
        "  plt.title(\"Frecuencia\")\n",
        "  plt.xlabel(\"RainTomorrow\")\n",
        "  plt.ylabel(\"Cantidad\")\n",
        "  X_train_resampled=df.drop(['RainTomorrow'], axis=1)\n",
        "  y_train_resampled=df['RainTomorrow']\n",
        "  print(X_train_resampled.shape, y_train_resampled.shape)\n",
        "  plt.show()"
      ],
      "metadata": {
        "id": "Sl1Tq1su_vKy"
      },
      "execution_count": 216,
      "outputs": []
    },
    {
      "cell_type": "code",
      "source": [
        "# Helper function for plotting ROC -- > https://towardsdatascience.com/class-imbalance-strategies-a-visual-guide-with-code-8bc8fae71e1a\n",
        "def plot_roc(ax, X_train, y_train, X_test, y_test, title):\n",
        "    model = LogisticRegression(random_state=42)\n",
        "    model.fit(X_train, y_train)\n",
        "    y_test_pred = model.predict_proba(X_test)[:,1]\n",
        "    fpr, tpr, thresh = metrics.roc_curve(y_test, y_test_pred)\n",
        "    auc = metrics.roc_auc_score(y_test, y_test_pred)\n",
        "    ax.plot(fpr,tpr,label=f\"{title} AUC={auc:.3f}\")\n",
        "    ax.plot([0, 1], [0, 1], color='navy', lw=2, linestyle='--')\n",
        "\n",
        "    ax.set_title('ROC Curve')\n",
        "    ax.set_xlabel('False Positive Rate')\n",
        "    ax.set_ylabel('True Positive Rate')\n",
        "    ax.legend(loc=0)"
      ],
      "metadata": {
        "id": "DE1Bral-_wcJ"
      },
      "execution_count": 217,
      "outputs": []
    },
    {
      "cell_type": "code",
      "source": [
        "plot_balance(df_train)"
      ],
      "metadata": {
        "id": "dfgji0FP_xop",
        "outputId": "3ff6f225-969b-41f3-f823-3c963afac557",
        "colab": {
          "base_uri": "https://localhost:8080/",
          "height": 489
        }
      },
      "execution_count": 218,
      "outputs": [
        {
          "output_type": "stream",
          "name": "stdout",
          "text": [
            "(21590, 24) (21590,)\n"
          ]
        },
        {
          "output_type": "display_data",
          "data": {
            "text/plain": [
              "<Figure size 640x480 with 1 Axes>"
            ],
            "image/png": "[encoded data removed]"
          },
          "metadata": {}
        }
      ]
    },
    {
      "cell_type": "markdown",
      "source": [
        "En el gráfico de arriba se puede ver como en el dataframe original la cantidad de muestras para los dias de lluvia son mucho menor que la de los días que no llovieron.\n",
        "\n",
        "Comparamos con AUC que técnica de balanceo de datos es mejor para la regresión logística"
      ],
      "metadata": {
        "id": "rXULvAjasRJB"
      }
    },
    {
      "cell_type": "code",
      "source": [
        "# Separación de variables explicativas y variables objetivo\n",
        "X_train_balance = df_train.drop(['RainTomorrow'], axis=1).copy()\n",
        "y_train_balance = df_train['RainTomorrow'].copy()\n",
        "\n",
        "X_test_balance = df_test.drop(['RainTomorrow'], axis=1).copy()\n",
        "y_test_balance = df_test['RainTomorrow'].copy()"
      ],
      "metadata": {
        "id": "AymbG9i26exs"
      },
      "execution_count": 222,
      "outputs": []
    },
    {
      "cell_type": "code",
      "source": [
        "rus = RandomUnderSampler(random_state=0)\n",
        "X_train_rus, y_train_rus = rus.fit_resample(X_train_balance, y_train_balance)"
      ],
      "metadata": {
        "id": "YE9PXOMC_1IU"
      },
      "execution_count": 234,
      "outputs": []
    },
    {
      "cell_type": "code",
      "source": [
        "df_rus = pd.DataFrame(X_train_rus, columns=X_train_balance.columns)\n",
        "df_rus['RainTomorrow'] = y_train_rus"
      ],
      "metadata": {
        "id": "s8tkBFjX_1GB"
      },
      "execution_count": 235,
      "outputs": []
    },
    {
      "cell_type": "code",
      "source": [
        "plot_balance(df_rus)"
      ],
      "metadata": {
        "id": "N6YSZeMz_1Dx",
        "outputId": "87a6fc8b-4b29-4357-a7bb-fb48cf820e63",
        "colab": {
          "base_uri": "https://localhost:8080/",
          "height": 489
        }
      },
      "execution_count": 236,
      "outputs": [
        {
          "output_type": "stream",
          "name": "stdout",
          "text": [
            "(10004, 24) (10004,)\n"
          ]
        },
        {
          "output_type": "display_data",
          "data": {
            "text/plain": [
              "<Figure size 640x480 with 1 Axes>"
            ],
            "image/png": "[encoded data removed]"
          },
          "metadata": {}
        }
      ]
    },
    {
      "cell_type": "markdown",
      "source": [
        "Ahora en total tenemos 10004 muestras distribuidas igualitariamente entre los dias que llueve y los que no"
      ],
      "metadata": {
        "id": "1td9ETF2zrNr"
      }
    },
    {
      "cell_type": "code",
      "source": [
        "fig,ax1 = plt.subplots(1,1,figsize=(8,5))\n",
        "plot_roc(ax1, X_train_rus, y_train_rus, X_test_balance, y_test_balance, 'Random Subsampleo')"
      ],
      "metadata": {
        "id": "m9EPLgLY1vDj",
        "outputId": "2e68f20d-d707-44b7-849f-e50fd64c6b46",
        "colab": {
          "base_uri": "https://localhost:8080/",
          "height": 487
        }
      },
      "execution_count": 245,
      "outputs": [
        {
          "output_type": "display_data",
          "data": {
            "text/plain": [
              "<Figure size 800x500 with 1 Axes>"
            ],
            "image/png": "[encoded data removed]"
          },
          "metadata": {}
        }
      ]
    },
    {
      "cell_type": "markdown",
      "source": [
        "#### - Balanceo con SMOTE"
      ],
      "metadata": {
        "id": "BKWq9kC0_7gR"
      }
    },
    {
      "cell_type": "code",
      "source": [
        "smote = SMOTE(random_state=0)\n",
        "X_train_smote, y_train_smote = smote.fit_resample(X_train_balance, y_train_balance)"
      ],
      "metadata": {
        "id": "ilr_fk8A_05h"
      },
      "execution_count": 228,
      "outputs": []
    },
    {
      "cell_type": "code",
      "source": [
        "df_SMOTE = pd.DataFrame(X_train_smote, columns=X_train_balance.columns)\n",
        "df_SMOTE['RainTomorrow'] = y_train_smote"
      ],
      "metadata": {
        "id": "4H8LM7fU_9Fq"
      },
      "execution_count": 229,
      "outputs": []
    },
    {
      "cell_type": "code",
      "source": [
        "plot_balance(df_SMOTE)"
      ],
      "metadata": {
        "id": "tcZobEhB_9DT",
        "outputId": "0f4fe86d-c868-4dcd-d4af-1997393748c0",
        "colab": {
          "base_uri": "https://localhost:8080/",
          "height": 489
        }
      },
      "execution_count": 230,
      "outputs": [
        {
          "output_type": "stream",
          "name": "stdout",
          "text": [
            "(33176, 24) (33176,)\n"
          ]
        },
        {
          "output_type": "display_data",
          "data": {
            "text/plain": [
              "<Figure size 640x480 with 1 Axes>"
            ],
            "image/png": "[encoded data removed]"
          },
          "metadata": {}
        }
      ]
    },
    {
      "cell_type": "code",
      "source": [
        "fig,ax1 = plt.subplots(1,1,figsize=(8,5))\n",
        "plot_roc(ax1, X_train_smote, y_train_smote, X_test_balance, y_test_balance, 'SMOTE Dataset')"
      ],
      "metadata": {
        "id": "06Q5Oae91eaj",
        "outputId": "d7aa4fa2-e50a-4118-a120-3273e1cba828",
        "colab": {
          "base_uri": "https://localhost:8080/",
          "height": 487
        }
      },
      "execution_count": 243,
      "outputs": [
        {
          "output_type": "display_data",
          "data": {
            "text/plain": [
              "<Figure size 800x500 with 1 Axes>"
            ],
            "image/png": "[encoded data removed]"
          },
          "metadata": {}
        }
      ]
    },
    {
      "cell_type": "markdown",
      "source": [
        "#### - Balanceo con SMOTE(oversampling)-TOMEK(undersampling)"
      ],
      "metadata": {
        "id": "OnvG-zh1zWGM"
      }
    },
    {
      "cell_type": "markdown",
      "source": [
        "Además, investigamos otras maneras de balancear el DataSet y nos encontramos con SMOTE-TOMEK. Esta técnica combina el sobresampleo con SMOTE con el subsampleo con TOMEK Link que toma dos puntos cercanos de diferentes clases y por cada par se borran aquellos que pertenezcan a la clase mayoritoria, de esa forma el límite de decisión se vuelve mas claro.\n",
        "\n",
        "  Fuente: https://towardsdatascience.com/class-imbalance-strategies-a-visual-guide-with-code-8bc8fae71e1a"
      ],
      "metadata": {
        "id": "GRc9PPr7AASB"
      }
    },
    {
      "cell_type": "code",
      "source": [
        "smotetomek = SMOTETomek(random_state=0)\n",
        "X_train_smotetomek, y_train_smotetomek = smotetomek.fit_resample(X_train_balance, y_train_balance)"
      ],
      "metadata": {
        "id": "Dr06EZBV_9BB"
      },
      "execution_count": 231,
      "outputs": []
    },
    {
      "cell_type": "code",
      "source": [
        "df_smotetomek = pd.DataFrame(X_train_smotetomek, columns=X_train_balance.columns)\n",
        "df_smotetomek['RainTomorrow'] = y_train_smotetomek"
      ],
      "metadata": {
        "id": "hJRUxzm-_8-h"
      },
      "execution_count": 232,
      "outputs": []
    },
    {
      "cell_type": "code",
      "source": [
        "plot_balance(df_smotetomek)"
      ],
      "metadata": {
        "id": "3ECCGCHK_86J",
        "outputId": "c69704e7-bdc3-4da6-c5b8-d5c9f58687b7",
        "colab": {
          "base_uri": "https://localhost:8080/",
          "height": 489
        }
      },
      "execution_count": 233,
      "outputs": [
        {
          "output_type": "stream",
          "name": "stdout",
          "text": [
            "(33056, 24) (33056,)\n"
          ]
        },
        {
          "output_type": "display_data",
          "data": {
            "text/plain": [
              "<Figure size 640x480 with 1 Axes>"
            ],
            "image/png": "[encoded data removed]"
          },
          "metadata": {}
        }
      ]
    },
    {
      "cell_type": "markdown",
      "source": [
        "Se logran tener 33056 muestras en total."
      ],
      "metadata": {
        "id": "x1s1gqc40OcS"
      }
    },
    {
      "cell_type": "code",
      "source": [
        "fig,ax1 = plt.subplots(1,1,figsize=(8,5))\n",
        "plot_roc(ax1, X_train_smotetomek, y_train_smotetomek, X_test_balance, y_test_balance, 'SMOTE-TOMEK Dataset')"
      ],
      "metadata": {
        "id": "xR14mcKd0873",
        "outputId": "abf81e28-c852-4334-a24e-614a69e99455",
        "colab": {
          "base_uri": "https://localhost:8080/",
          "height": 487
        }
      },
      "execution_count": 241,
      "outputs": [
        {
          "output_type": "display_data",
          "data": {
            "text/plain": [
              "<Figure size 800x500 with 1 Axes>"
            ],
            "image/png": "[encoded data removed]"
          },
          "metadata": {}
        }
      ]
    },
    {
      "cell_type": "code",
      "source": [
        "# VARIABILIDAD DE LOS DATASETS BALANCEADOS CON: Oversampling, SMOTE, SMOTE-Tomek\n",
        "std_combined = pd.DataFrame([df_ros.describe().loc['std'], df_SMOTE.describe().loc['std'], df_smotetomek.describe().loc['std'], df_test.describe().loc['std']]).T\n",
        "std_combined.columns = ['Oversampling', 'SMOTE', 'SMOTE-Tomek', 'Original']\n",
        "std_combined"
      ],
      "metadata": {
        "id": "UncIlCTX179M",
        "outputId": "fbc74e69-021b-4368-afc4-68f686e44285",
        "colab": {
          "base_uri": "https://localhost:8080/",
          "height": 833
        }
      },
      "execution_count": 246,
      "outputs": [
        {
          "output_type": "execute_result",
          "data": {
            "text/plain": [
              "                 Oversampling     SMOTE  SMOTE-Tomek  Original\n",
              "MinTemp              0.981862  0.967136     0.967247  1.000093\n",
              "MaxTemp              0.989784  0.976871     0.976868  1.000093\n",
              "Rainfall             1.096563  1.093396     1.093646  1.000093\n",
              "Evaporation          0.994680  0.972463     0.972244  1.000093\n",
              "Sunshine             1.030453  1.019745     1.019692  1.000093\n",
              "WindGustSpeed        1.048528  1.018552     1.017677  1.000093\n",
              "WindSpeed9am         1.020388  0.997978     0.997276  1.000093\n",
              "WindSpeed3pm         1.028414  0.996664     0.995315  1.000093\n",
              "Humidity9am          0.991901  0.973497     0.973205  1.000093\n",
              "Humidity3pm          1.067643  1.045794     1.046116  1.000093\n",
              "Pressure9am          1.030725  1.013153     1.012708  1.000093\n",
              "Pressure3pm          1.035695  1.016666     1.016372  1.000093\n",
              "Cloud9am             0.966382  0.948372     0.948802  1.000093\n",
              "Cloud3pm             0.964900  0.949613     0.950184  1.000093\n",
              "Temp9am              0.983588  0.970620     0.970467  1.000093\n",
              "Temp3pm              0.990791  0.979202     0.979310  1.000093\n",
              "costa_este           0.000000  0.000000     0.000000  0.000000\n",
              "WindGustDir_sin      0.985292  0.974415     0.974614  1.000093\n",
              "WindGustDir_cos      1.000186  0.994618     0.994661  1.000093\n",
              "WindDir9am_sin       0.987924  0.976907     0.977147  1.000093\n",
              "WindDir9am_cos       0.992114  0.986412     0.986616  1.000093\n",
              "WindDir3pm_sin       0.988533  0.978797     0.979153  1.000093\n",
              "WindDir3pm_cos       1.008977  1.002808     1.002510  1.000093\n",
              "RainToday            0.464301  0.462101     0.462114  0.424710\n",
              "RainTomorrow         0.500008  0.500008     0.500008  0.428889"
            ],
            "text/html": [
              "\n",
              "  <div id=\"df-842d33ef-178b-4724-871a-68195eaea914\" class=\"colab-df-container\">\n",
              "    <div>\n",
              "<style scoped>\n",
              "    .dataframe tbody tr th:only-of-type {\n",
              "        vertical-align: middle;\n",
              "    }\n",
              "\n",
              "    .dataframe tbody tr th {\n",
              "        vertical-align: top;\n",
              "    }\n",
              "\n",
              "    .dataframe thead th {\n",
              "        text-align: right;\n",
              "    }\n",
              "</style>\n",
              "<table border=\"1\" class=\"dataframe\">\n",
              "  <thead>\n",
              "    <tr style=\"text-align: right;\">\n",
              "      <th></th>\n",
              "      <th>Oversampling</th>\n",
              "      <th>SMOTE</th>\n",
              "      <th>SMOTE-Tomek</th>\n",
              "      <th>Original</th>\n",
              "    </tr>\n",
              "  </thead>\n",
              "  <tbody>\n",
              "    <tr>\n",
              "      <th>MinTemp</th>\n",
              "      <td>0.981862</td>\n",
              "      <td>0.967136</td>\n",
              "      <td>0.967247</td>\n",
              "      <td>1.000093</td>\n",
              "    </tr>\n",
              "    <tr>\n",
              "      <th>MaxTemp</th>\n",
              "      <td>0.989784</td>\n",
              "      <td>0.976871</td>\n",
              "      <td>0.976868</td>\n",
              "      <td>1.000093</td>\n",
              "    </tr>\n",
              "    <tr>\n",
              "      <th>Rainfall</th>\n",
              "      <td>1.096563</td>\n",
              "      <td>1.093396</td>\n",
              "      <td>1.093646</td>\n",
              "      <td>1.000093</td>\n",
              "    </tr>\n",
              "    <tr>\n",
              "      <th>Evaporation</th>\n",
              "      <td>0.994680</td>\n",
              "      <td>0.972463</td>\n",
              "      <td>0.972244</td>\n",
              "      <td>1.000093</td>\n",
              "    </tr>\n",
              "    <tr>\n",
              "      <th>Sunshine</th>\n",
              "      <td>1.030453</td>\n",
              "      <td>1.019745</td>\n",
              "      <td>1.019692</td>\n",
              "      <td>1.000093</td>\n",
              "    </tr>\n",
              "    <tr>\n",
              "      <th>WindGustSpeed</th>\n",
              "      <td>1.048528</td>\n",
              "      <td>1.018552</td>\n",
              "      <td>1.017677</td>\n",
              "      <td>1.000093</td>\n",
              "    </tr>\n",
              "    <tr>\n",
              "      <th>WindSpeed9am</th>\n",
              "      <td>1.020388</td>\n",
              "      <td>0.997978</td>\n",
              "      <td>0.997276</td>\n",
              "      <td>1.000093</td>\n",
              "    </tr>\n",
              "    <tr>\n",
              "      <th>WindSpeed3pm</th>\n",
              "      <td>1.028414</td>\n",
              "      <td>0.996664</td>\n",
              "      <td>0.995315</td>\n",
              "      <td>1.000093</td>\n",
              "    </tr>\n",
              "    <tr>\n",
              "      <th>Humidity9am</th>\n",
              "      <td>0.991901</td>\n",
              "      <td>0.973497</td>\n",
              "      <td>0.973205</td>\n",
              "      <td>1.000093</td>\n",
              "    </tr>\n",
              "    <tr>\n",
              "      <th>Humidity3pm</th>\n",
              "      <td>1.067643</td>\n",
              "      <td>1.045794</td>\n",
              "      <td>1.046116</td>\n",
              "      <td>1.000093</td>\n",
              "    </tr>\n",
              "    <tr>\n",
              "      <th>Pressure9am</th>\n",
              "      <td>1.030725</td>\n",
              "      <td>1.013153</td>\n",
              "      <td>1.012708</td>\n",
              "      <td>1.000093</td>\n",
              "    </tr>\n",
              "    <tr>\n",
              "      <th>Pressure3pm</th>\n",
              "      <td>1.035695</td>\n",
              "      <td>1.016666</td>\n",
              "      <td>1.016372</td>\n",
              "      <td>1.000093</td>\n",
              "    </tr>\n",
              "    <tr>\n",
              "      <th>Cloud9am</th>\n",
              "      <td>0.966382</td>\n",
              "      <td>0.948372</td>\n",
              "      <td>0.948802</td>\n",
              "      <td>1.000093</td>\n",
              "    </tr>\n",
              "    <tr>\n",
              "      <th>Cloud3pm</th>\n",
              "      <td>0.964900</td>\n",
              "      <td>0.949613</td>\n",
              "      <td>0.950184</td>\n",
              "      <td>1.000093</td>\n",
              "    </tr>\n",
              "    <tr>\n",
              "      <th>Temp9am</th>\n",
              "      <td>0.983588</td>\n",
              "      <td>0.970620</td>\n",
              "      <td>0.970467</td>\n",
              "      <td>1.000093</td>\n",
              "    </tr>\n",
              "    <tr>\n",
              "      <th>Temp3pm</th>\n",
              "      <td>0.990791</td>\n",
              "      <td>0.979202</td>\n",
              "      <td>0.979310</td>\n",
              "      <td>1.000093</td>\n",
              "    </tr>\n",
              "    <tr>\n",
              "      <th>costa_este</th>\n",
              "      <td>0.000000</td>\n",
              "      <td>0.000000</td>\n",
              "      <td>0.000000</td>\n",
              "      <td>0.000000</td>\n",
              "    </tr>\n",
              "    <tr>\n",
              "      <th>WindGustDir_sin</th>\n",
              "      <td>0.985292</td>\n",
              "      <td>0.974415</td>\n",
              "      <td>0.974614</td>\n",
              "      <td>1.000093</td>\n",
              "    </tr>\n",
              "    <tr>\n",
              "      <th>WindGustDir_cos</th>\n",
              "      <td>1.000186</td>\n",
              "      <td>0.994618</td>\n",
              "      <td>0.994661</td>\n",
              "      <td>1.000093</td>\n",
              "    </tr>\n",
              "    <tr>\n",
              "      <th>WindDir9am_sin</th>\n",
              "      <td>0.987924</td>\n",
              "      <td>0.976907</td>\n",
              "      <td>0.977147</td>\n",
              "      <td>1.000093</td>\n",
              "    </tr>\n",
              "    <tr>\n",
              "      <th>WindDir9am_cos</th>\n",
              "      <td>0.992114</td>\n",
              "      <td>0.986412</td>\n",
              "      <td>0.986616</td>\n",
              "      <td>1.000093</td>\n",
              "    </tr>\n",
              "    <tr>\n",
              "      <th>WindDir3pm_sin</th>\n",
              "      <td>0.988533</td>\n",
              "      <td>0.978797</td>\n",
              "      <td>0.979153</td>\n",
              "      <td>1.000093</td>\n",
              "    </tr>\n",
              "    <tr>\n",
              "      <th>WindDir3pm_cos</th>\n",
              "      <td>1.008977</td>\n",
              "      <td>1.002808</td>\n",
              "      <td>1.002510</td>\n",
              "      <td>1.000093</td>\n",
              "    </tr>\n",
              "    <tr>\n",
              "      <th>RainToday</th>\n",
              "      <td>0.464301</td>\n",
              "      <td>0.462101</td>\n",
              "      <td>0.462114</td>\n",
              "      <td>0.424710</td>\n",
              "    </tr>\n",
              "    <tr>\n",
              "      <th>RainTomorrow</th>\n",
              "      <td>0.500008</td>\n",
              "      <td>0.500008</td>\n",
              "      <td>0.500008</td>\n",
              "      <td>0.428889</td>\n",
              "    </tr>\n",
              "  </tbody>\n",
              "</table>\n",
              "</div>\n",
              "    <div class=\"colab-df-buttons\">\n",
              "\n",
              "  <div class=\"colab-df-container\">\n",
              "    <button class=\"colab-df-convert\" onclick=\"convertToInteractive('df-842d33ef-178b-4724-871a-68195eaea914')\"\n",
              "            title=\"Convert this dataframe to an interactive table.\"\n",
              "            style=\"display:none;\">\n",
              "\n",
              "  <svg xmlns=\"http://www.w3.org/2000/svg\" height=\"24px\" viewBox=\"0 -960 960 960\">\n",
              "    <path d=\"M120-120v-720h720v720H120Zm60-500h600v-160H180v160Zm220 220h160v-160H400v160Zm0 220h160v-160H400v160ZM180-400h160v-160H180v160Zm440 0h160v-160H620v160ZM180-180h160v-160H180v160Zm440 0h160v-160H620v160Z\"/>\n",
              "  </svg>\n",
              "    </button>\n",
              "\n",
              "  <style>\n",
              "    .colab-df-container {\n",
              "      display:flex;\n",
              "      gap: 12px;\n",
              "    }\n",
              "\n",
              "    .colab-df-convert {\n",
              "      background-color: #E8F0FE;\n",
              "      border: none;\n",
              "      border-radius: 50%;\n",
              "      cursor: pointer;\n",
              "      display: none;\n",
              "      fill: #1967D2;\n",
              "      height: 32px;\n",
              "      padding: 0 0 0 0;\n",
              "      width: 32px;\n",
              "    }\n",
              "\n",
              "    .colab-df-convert:hover {\n",
              "      background-color: #E2EBFA;\n",
              "      box-shadow: 0px 1px 2px rgba(60, 64, 67, 0.3), 0px 1px 3px 1px rgba(60, 64, 67, 0.15);\n",
              "      fill: #174EA6;\n",
              "    }\n",
              "\n",
              "    .colab-df-buttons div {\n",
              "      margin-bottom: 4px;\n",
              "    }\n",
              "\n",
              "    [theme=dark] .colab-df-convert {\n",
              "      background-color: #3B4455;\n",
              "      fill: #D2E3FC;\n",
              "    }\n",
              "\n",
              "    [theme=dark] .colab-df-convert:hover {\n",
              "      background-color: #434B5C;\n",
              "      box-shadow: 0px 1px 3px 1px rgba(0, 0, 0, 0.15);\n",
              "      filter: drop-shadow(0px 1px 2px rgba(0, 0, 0, 0.3));\n",
              "      fill: #FFFFFF;\n",
              "    }\n",
              "  </style>\n",
              "\n",
              "    <script>\n",
              "      const buttonEl =\n",
              "        document.querySelector('#df-842d33ef-178b-4724-871a-68195eaea914 button.colab-df-convert');\n",
              "      buttonEl.style.display =\n",
              "        google.colab.kernel.accessAllowed ? 'block' : 'none';\n",
              "\n",
              "      async function convertToInteractive(key) {\n",
              "        const element = document.querySelector('#df-842d33ef-178b-4724-871a-68195eaea914');\n",
              "        const dataTable =\n",
              "          await google.colab.kernel.invokeFunction('convertToInteractive',\n",
              "                                                    [key], {});\n",
              "        if (!dataTable) return;\n",
              "\n",
              "        const docLinkHtml = 'Like what you see? Visit the ' +\n",
              "          '<a target=\"_blank\" href=https://colab.research.google.com/notebooks/data_table.ipynb>data table notebook</a>'\n",
              "          + ' to learn more about interactive tables.';\n",
              "        element.innerHTML = '';\n",
              "        dataTable['output_type'] = 'display_data';\n",
              "        await google.colab.output.renderOutput(dataTable, element);\n",
              "        const docLink = document.createElement('div');\n",
              "        docLink.innerHTML = docLinkHtml;\n",
              "        element.appendChild(docLink);\n",
              "      }\n",
              "    </script>\n",
              "  </div>\n",
              "\n",
              "\n",
              "<div id=\"df-66876bcd-886d-498f-8970-349faa477874\">\n",
              "  <button class=\"colab-df-quickchart\" onclick=\"quickchart('df-66876bcd-886d-498f-8970-349faa477874')\"\n",
              "            title=\"Suggest charts\"\n",
              "            style=\"display:none;\">\n",
              "\n",
              "<svg xmlns=\"http://www.w3.org/2000/svg\" height=\"24px\"viewBox=\"0 0 24 24\"\n",
              "     width=\"24px\">\n",
              "    <g>\n",
              "        <path d=\"M19 3H5c-1.1 0-2 .9-2 2v14c0 1.1.9 2 2 2h14c1.1 0 2-.9 2-2V5c0-1.1-.9-2-2-2zM9 17H7v-7h2v7zm4 0h-2V7h2v10zm4 0h-2v-4h2v4z\"/>\n",
              "    </g>\n",
              "</svg>\n",
              "  </button>\n",
              "\n",
              "<style>\n",
              "  .colab-df-quickchart {\n",
              "      --bg-color: #E8F0FE;\n",
              "      --fill-color: #1967D2;\n",
              "      --hover-bg-color: #E2EBFA;\n",
              "      --hover-fill-color: #174EA6;\n",
              "      --disabled-fill-color: #AAA;\n",
              "      --disabled-bg-color: #DDD;\n",
              "  }\n",
              "\n",
              "  [theme=dark] .colab-df-quickchart {\n",
              "      --bg-color: #3B4455;\n",
              "      --fill-color: #D2E3FC;\n",
              "      --hover-bg-color: #434B5C;\n",
              "      --hover-fill-color: #FFFFFF;\n",
              "      --disabled-bg-color: #3B4455;\n",
              "      --disabled-fill-color: #666;\n",
              "  }\n",
              "\n",
              "  .colab-df-quickchart {\n",
              "    background-color: var(--bg-color);\n",
              "    border: none;\n",
              "    border-radius: 50%;\n",
              "    cursor: pointer;\n",
              "    display: none;\n",
              "    fill: var(--fill-color);\n",
              "    height: 32px;\n",
              "    padding: 0;\n",
              "    width: 32px;\n",
              "  }\n",
              "\n",
              "  .colab-df-quickchart:hover {\n",
              "    background-color: var(--hover-bg-color);\n",
              "    box-shadow: 0 1px 2px rgba(60, 64, 67, 0.3), 0 1px 3px 1px rgba(60, 64, 67, 0.15);\n",
              "    fill: var(--button-hover-fill-color);\n",
              "  }\n",
              "\n",
              "  .colab-df-quickchart-complete:disabled,\n",
              "  .colab-df-quickchart-complete:disabled:hover {\n",
              "    background-color: var(--disabled-bg-color);\n",
              "    fill: var(--disabled-fill-color);\n",
              "    box-shadow: none;\n",
              "  }\n",
              "\n",
              "  .colab-df-spinner {\n",
              "    border: 2px solid var(--fill-color);\n",
              "    border-color: transparent;\n",
              "    border-bottom-color: var(--fill-color);\n",
              "    animation:\n",
              "      spin 1s steps(1) infinite;\n",
              "  }\n",
              "\n",
              "  @keyframes spin {\n",
              "    0% {\n",
              "      border-color: transparent;\n",
              "      border-bottom-color: var(--fill-color);\n",
              "      border-left-color: var(--fill-color);\n",
              "    }\n",
              "    20% {\n",
              "      border-color: transparent;\n",
              "      border-left-color: var(--fill-color);\n",
              "      border-top-color: var(--fill-color);\n",
              "    }\n",
              "    30% {\n",
              "      border-color: transparent;\n",
              "      border-left-color: var(--fill-color);\n",
              "      border-top-color: var(--fill-color);\n",
              "      border-right-color: var(--fill-color);\n",
              "    }\n",
              "    40% {\n",
              "      border-color: transparent;\n",
              "      border-right-color: var(--fill-color);\n",
              "      border-top-color: var(--fill-color);\n",
              "    }\n",
              "    60% {\n",
              "      border-color: transparent;\n",
              "      border-right-color: var(--fill-color);\n",
              "    }\n",
              "    80% {\n",
              "      border-color: transparent;\n",
              "      border-right-color: var(--fill-color);\n",
              "      border-bottom-color: var(--fill-color);\n",
              "    }\n",
              "    90% {\n",
              "      border-color: transparent;\n",
              "      border-bottom-color: var(--fill-color);\n",
              "    }\n",
              "  }\n",
              "</style>\n",
              "\n",
              "  <script>\n",
              "    async function quickchart(key) {\n",
              "      const quickchartButtonEl =\n",
              "        document.querySelector('#' + key + ' button');\n",
              "      quickchartButtonEl.disabled = true;  // To prevent multiple clicks.\n",
              "      quickchartButtonEl.classList.add('colab-df-spinner');\n",
              "      try {\n",
              "        const charts = await google.colab.kernel.invokeFunction(\n",
              "            'suggestCharts', [key], {});\n",
              "      } catch (error) {\n",
              "        console.error('Error during call to suggestCharts:', error);\n",
              "      }\n",
              "      quickchartButtonEl.classList.remove('colab-df-spinner');\n",
              "      quickchartButtonEl.classList.add('colab-df-quickchart-complete');\n",
              "    }\n",
              "    (() => {\n",
              "      let quickchartButtonEl =\n",
              "        document.querySelector('#df-66876bcd-886d-498f-8970-349faa477874 button');\n",
              "      quickchartButtonEl.style.display =\n",
              "        google.colab.kernel.accessAllowed ? 'block' : 'none';\n",
              "    })();\n",
              "  </script>\n",
              "</div>\n",
              "\n",
              "  <div id=\"id_1568ac2a-8204-44e2-8400-8226746fc274\">\n",
              "    <style>\n",
              "      .colab-df-generate {\n",
              "        background-color: #E8F0FE;\n",
              "        border: none;\n",
              "        border-radius: 50%;\n",
              "        cursor: pointer;\n",
              "        display: none;\n",
              "        fill: #1967D2;\n",
              "        height: 32px;\n",
              "        padding: 0 0 0 0;\n",
              "        width: 32px;\n",
              "      }\n",
              "\n",
              "      .colab-df-generate:hover {\n",
              "        background-color: #E2EBFA;\n",
              "        box-shadow: 0px 1px 2px rgba(60, 64, 67, 0.3), 0px 1px 3px 1px rgba(60, 64, 67, 0.15);\n",
              "        fill: #174EA6;\n",
              "      }\n",
              "\n",
              "      [theme=dark] .colab-df-generate {\n",
              "        background-color: #3B4455;\n",
              "        fill: #D2E3FC;\n",
              "      }\n",
              "\n",
              "      [theme=dark] .colab-df-generate:hover {\n",
              "        background-color: #434B5C;\n",
              "        box-shadow: 0px 1px 3px 1px rgba(0, 0, 0, 0.15);\n",
              "        filter: drop-shadow(0px 1px 2px rgba(0, 0, 0, 0.3));\n",
              "        fill: #FFFFFF;\n",
              "      }\n",
              "    </style>\n",
              "    <button class=\"colab-df-generate\" onclick=\"generateWithVariable('std_combined')\"\n",
              "            title=\"Generate code using this dataframe.\"\n",
              "            style=\"display:none;\">\n",
              "\n",
              "  <svg xmlns=\"http://www.w3.org/2000/svg\" height=\"24px\"viewBox=\"0 0 24 24\"\n",
              "       width=\"24px\">\n",
              "    <path d=\"M7,19H8.4L18.45,9,17,7.55,7,17.6ZM5,21V16.75L18.45,3.32a2,2,0,0,1,2.83,0l1.4,1.43a1.91,1.91,0,0,1,.58,1.4,1.91,1.91,0,0,1-.58,1.4L9.25,21ZM18.45,9,17,7.55Zm-12,3A5.31,5.31,0,0,0,4.9,8.1,5.31,5.31,0,0,0,1,6.5,5.31,5.31,0,0,0,4.9,4.9,5.31,5.31,0,0,0,6.5,1,5.31,5.31,0,0,0,8.1,4.9,5.31,5.31,0,0,0,12,6.5,5.46,5.46,0,0,0,6.5,12Z\"/>\n",
              "  </svg>\n",
              "    </button>\n",
              "    <script>\n",
              "      (() => {\n",
              "      const buttonEl =\n",
              "        document.querySelector('#id_1568ac2a-8204-44e2-8400-8226746fc274 button.colab-df-generate');\n",
              "      buttonEl.style.display =\n",
              "        google.colab.kernel.accessAllowed ? 'block' : 'none';\n",
              "\n",
              "      buttonEl.onclick = () => {\n",
              "        google.colab.notebook.generateWithVariable('std_combined');\n",
              "      }\n",
              "      })();\n",
              "    </script>\n",
              "  </div>\n",
              "\n",
              "    </div>\n",
              "  </div>\n"
            ],
            "application/vnd.google.colaboratory.intrinsic+json": {
              "type": "dataframe",
              "variable_name": "std_combined",
              "summary": "{\n  \"name\": \"std_combined\",\n  \"rows\": 25,\n  \"fields\": [\n    {\n      \"column\": \"Oversampling\",\n      \"properties\": {\n        \"dtype\": \"number\",\n        \"std\": 0.24362839324358718,\n        \"min\": 0.0,\n        \"max\": 1.0965630288185397,\n        \"num_unique_values\": 25,\n        \"samples\": [\n          0.9919005417418133,\n          0.0,\n          0.9818615052321257\n        ],\n        \"semantic_type\": \"\",\n        \"description\": \"\"\n      }\n    },\n    {\n      \"column\": \"SMOTE\",\n      \"properties\": {\n        \"dtype\": \"number\",\n        \"std\": 0.2390911885947613,\n        \"min\": 0.0,\n        \"max\": 1.0933960008243993,\n        \"num_unique_values\": 25,\n        \"samples\": [\n          0.9734966881420619,\n          0.0,\n          0.9671364611775022\n        ],\n        \"semantic_type\": \"\",\n        \"description\": \"\"\n      }\n    },\n    {\n      \"column\": \"SMOTE-Tomek\",\n      \"properties\": {\n        \"dtype\": \"number\",\n        \"std\": 0.23905472795601182,\n        \"min\": 0.0,\n        \"max\": 1.0936464661126786,\n        \"num_unique_values\": 25,\n        \"samples\": [\n          0.973205399228471,\n          0.0,\n          0.9672465019523231\n        ],\n        \"semantic_type\": \"\",\n        \"description\": \"\"\n      }\n    },\n    {\n      \"column\": \"Original\",\n      \"properties\": {\n        \"dtype\": \"number\",\n        \"std\": 0.24775616865596123,\n        \"min\": 0.0,\n        \"max\": 1.0000925197763002,\n        \"num_unique_values\": 5,\n        \"samples\": [\n          1.0000925197763002,\n          0.4288887516315729,\n          0.0\n        ],\n        \"semantic_type\": \"\",\n        \"description\": \"\"\n      }\n    }\n  ]\n}"
            }
          },
          "metadata": {},
          "execution_count": 246
        }
      ]
    },
    {
      "cell_type": "markdown",
      "source": [
        "Los tres datasets tiene una variabilidad muy similar, lo que explica porqué la performace es muy parecida. Optamos por usar el Dataset balanceado con la técnica SMOTE"
      ],
      "metadata": {
        "id": "9EFfqtv42APR"
      }
    },
    {
      "cell_type": "markdown",
      "source": [
        "# Métricas regresion logistica con datos balanceado"
      ],
      "metadata": {
        "id": "6K3vc_UDAGXJ"
      }
    },
    {
      "cell_type": "code",
      "source": [
        "def plot_matrix_confusion(y_test, y_pred):\n",
        "  # Calcular la matriz de confusión\n",
        "  confusion_mat = confusion_matrix(y_test, y_pred)\n",
        "\n",
        "  # Crear una figura y un eje para la matriz de confusión\n",
        "  plt.figure(figsize=(4, 3))\n",
        "  sns.heatmap(confusion_mat, annot=True, fmt=\"d\", cmap=\"Blues\", linewidths=0.1, linecolor='blue', cbar=True)\n",
        "\n",
        "  # Añadir etiquetas a los ejes y al gráfico\n",
        "  plt.xlabel('Predicción')\n",
        "  plt.ylabel('Verdaderos')\n",
        "  plt.title('Matriz de Confusión')\n",
        "  plt.xticks(np.arange(2) + 0.5, ['No', 'Sí'])\n",
        "  plt.yticks(np.arange(2) + 0.5, ['No', 'Sí'])\n",
        "  plt.show()"
      ],
      "metadata": {
        "id": "4E8UphGsAF4Z"
      },
      "execution_count": 247,
      "outputs": []
    },
    {
      "cell_type": "code",
      "source": [
        "def train_test_with_balanced_df(df_train, df_test, model, title=None):\n",
        "  \"\"\" Entrena, muestra métricas y plotea la curva AUC \"\"\"\n",
        "  X_train = df_train.drop(['RainTomorrow'], axis=1).copy()\n",
        "  y_train = df_train['RainTomorrow'].copy()\n",
        "\n",
        "  X_test = df_test.drop(['RainTomorrow'], axis=1).copy()\n",
        "  y_test = df_test['RainTomorrow'].copy()\n",
        "\n",
        "  my_model = model(random_state=42)\n",
        "  my_model.fit(X_train, y_train)\n",
        "  y_pred = my_model.predict(X_test)\n",
        "\n",
        "\n",
        "  print(f\"Resultados con: {model.__name__}\\n\")\n",
        "  print(classification_report(y_test, y_pred))\n",
        "  print(confusion_matrix(y_test, y_pred))\n",
        "\n",
        "  print(f\"\\n\\nMatriz de confusión para: {model.__name__}\")\n",
        "  plot_matrix_confusion(y_test, y_pred)\n",
        "\n",
        "  fig,ax = plt.subplots(1,1,figsize=(8,5))\n",
        "  y_test_pred = my_model.predict_proba(X_test)[:,1]\n",
        "  fpr, tpr, thresh = metrics.roc_curve(y_test, y_test_pred)\n",
        "\n",
        "  # Posicion del indice del umbral 0.5\n",
        "  thresh_index = np.abs(thresh - 0.5).argmin()\n",
        "  # Posicion del indice del umbral con valores mas cercanos a (0,1) para TPR y FPR\n",
        "  optimal_index = ((1 - tpr**2) + fpr**2).argmin()\n",
        "\n",
        "\n",
        "  auc = metrics.roc_auc_score(y_test, y_test_pred)\n",
        "  ax.plot(fpr,tpr,label=f\"Logistic Regression AUC={auc:.3f}\")\n",
        "  ax.plot([0, 1], [0, 1], color='navy', lw=2, linestyle='--')\n",
        "\n",
        "  ax.set_title(f'{title}')\n",
        "  ax.set_xlabel('False Positive Rate')\n",
        "  ax.set_ylabel('True Positive Rate')\n",
        "  ax.legend(loc=0)\n",
        "\n",
        "  print(f\"\\n\\nUmbrales:\")\n",
        "  print(f\"Actual: {thresh[thresh_index]}\")\n",
        "  print(f\"Optimo: {thresh[optimal_index]}\")\n",
        "\n",
        "  print(f\"\\n\\nPuntaje para training vs test\")\n",
        "  print(f\"Training: {my_model.score(X_train, y_train)}\")\n",
        "  print(f\"Test: {my_model.score(X_test, y_test)}\")"
      ],
      "metadata": {
        "id": "QKb-hfEXAF0B"
      },
      "execution_count": 249,
      "outputs": []
    },
    {
      "cell_type": "code",
      "source": [
        "train_test_with_balanced_df(df_ros, df_test, LogisticRegression, \"AUC Curva: TODAS LAS VARIABLES\")"
      ],
      "metadata": {
        "id": "Jy8nZYhIAFxR",
        "outputId": "c88e7c73-fb7d-4705-f540-6d542b76b50f",
        "colab": {
          "base_uri": "https://localhost:8080/",
          "height": 1000
        }
      },
      "execution_count": 250,
      "outputs": [
        {
          "output_type": "stream",
          "name": "stdout",
          "text": [
            "Resultados con: LogisticRegression\n",
            "\n",
            "              precision    recall  f1-score   support\n",
            "\n",
            "         0.0       0.92      0.80      0.86      4092\n",
            "         1.0       0.56      0.77      0.65      1313\n",
            "\n",
            "    accuracy                           0.80      5405\n",
            "   macro avg       0.74      0.79      0.75      5405\n",
            "weighted avg       0.83      0.80      0.81      5405\n",
            "\n",
            "[[3289  803]\n",
            " [ 298 1015]]\n",
            "\n",
            "\n",
            "Matriz de confusión para: LogisticRegression\n"
          ]
        },
        {
          "output_type": "display_data",
          "data": {
            "text/plain": [
              "<Figure size 400x300 with 2 Axes>"
            ],
            "image/png": "[encoded data removed]"
          },
          "metadata": {}
        },
        {
          "output_type": "stream",
          "name": "stdout",
          "text": [
            "\n",
            "\n",
            "Umbrales:\n",
            "Actual: 0.49975109166341886\n",
            "Optimo: 0.3023815029394168\n",
            "\n",
            "\n",
            "Puntaje para training vs test\n",
            "Training: 0.7912044851700024\n",
            "Test: 0.7962997224791859\n"
          ]
        },
        {
          "output_type": "display_data",
          "data": {
            "text/plain": [
              "<Figure size 800x500 with 1 Axes>"
            ],
            "image/png": "[encoded data removed]"
          },
          "metadata": {}
        }
      ]
    },
    {
      "cell_type": "markdown",
      "source": [
        "Un umbral de 0.5 no es óptimo para este problema. ## Ampliar porqué.\n",
        "Logramos un buen fitteo de los datos porque nuestro modelo performa mejor para los datos de test(0.796) que los de train (0.791)"
      ],
      "metadata": {
        "id": "7bT0sR5538pO"
      }
    },
    {
      "cell_type": "markdown",
      "source": [
        "# Modelo base Regresion Lineal"
      ],
      "metadata": {
        "id": "Jxr7dw5y7aYe"
      }
    },
    {
      "cell_type": "code",
      "source": [
        "# Separación de variables explicativas y variables objetivo\n",
        "X = df.drop(['RainfallTomorrow'], axis=1).copy()\n",
        "y = df[['RainfallTomorrow']].copy()\n",
        "\n",
        "# Spliteo mi dataset en train-test\n",
        "X_train, X_test, y_train, y_test = train_test_split(X, y, test_size=0.2, random_state=42)\n",
        "X_train.shape, X_test.shape, y_train.shape, y_test.shape\n"
      ],
      "metadata": {
        "id": "s4bNGpSb7e4K",
        "outputId": "52e3f6a8-9a13-41ea-ac78-a30af343edff",
        "colab": {
          "base_uri": "https://localhost:8080/"
        }
      },
      "execution_count": 251,
      "outputs": [
        {
          "output_type": "execute_result",
          "data": {
            "text/plain": [
              "((22586, 23), (5647, 23), (22586, 1), (5647, 1))"
            ]
          },
          "metadata": {},
          "execution_count": 251
        }
      ]
    },
    {
      "cell_type": "code",
      "source": [
        "# Creo un Dataframe de TRAIN\n",
        "df_train = pd.DataFrame(X_train, columns=X.columns)\n",
        "df_train['RainfallTomorrow'] = y['RainfallTomorrow']"
      ],
      "metadata": {
        "id": "3pULs5oi7fLK"
      },
      "execution_count": 252,
      "outputs": []
    },
    {
      "cell_type": "code",
      "source": [
        "# Creo un Dataframe de TEST\n",
        "df_test = pd.DataFrame(X_test, columns=X.columns)\n",
        "df_test['RainfallTomorrow'] = y['RainfallTomorrow']"
      ],
      "metadata": {
        "id": "Xc_J4lfd7fJH"
      },
      "execution_count": 253,
      "outputs": []
    },
    {
      "cell_type": "code",
      "source": [
        "# Preproceso mi df de test y mi df de train\n",
        "df_train = preprocessor.fit_transform(df_train)\n",
        "df_test = preprocessor.fit_transform(df_test)"
      ],
      "metadata": {
        "id": "gQHTKZe47rDB"
      },
      "execution_count": 254,
      "outputs": []
    },
    {
      "cell_type": "code",
      "source": [
        "X_base_regresion_train = df_train[['RainToday', 'Sunshine']]\n",
        "Y_base_regresion_train = df_train[\"RainfallTomorrow\"]"
      ],
      "metadata": {
        "id": "Wr8Y4YdY7q7I"
      },
      "execution_count": 255,
      "outputs": []
    },
    {
      "cell_type": "code",
      "source": [
        "X_base_regresion_test = df_test[['RainToday', 'Sunshine',]]\n",
        "Y_base_regresion_test = df_test[\"RainfallTomorrow\"]"
      ],
      "metadata": {
        "id": "sWoBEPFo7tkh"
      },
      "execution_count": 256,
      "outputs": []
    },
    {
      "cell_type": "code",
      "source": [
        "modelo_base_regresion = LinearRegression()"
      ],
      "metadata": {
        "id": "2oO9snsk7wzC"
      },
      "execution_count": 257,
      "outputs": []
    },
    {
      "cell_type": "code",
      "source": [
        "modelo_base_regresion.fit(X_base_regresion_train, Y_base_regresion_train)"
      ],
      "metadata": {
        "id": "M1H823wt7wwp",
        "outputId": "0fa75516-6a7a-4bed-df89-50ce0544a5ba",
        "colab": {
          "base_uri": "https://localhost:8080/",
          "height": 74
        }
      },
      "execution_count": 258,
      "outputs": [
        {
          "output_type": "execute_result",
          "data": {
            "text/plain": [
              "LinearRegression()"
            ],
            "text/html": [
              "<style>#sk-container-id-5 {color: black;background-color: white;}#sk-container-id-5 pre{padding: 0;}#sk-container-id-5 div.sk-toggleable {background-color: white;}#sk-container-id-5 label.sk-toggleable__label {cursor: pointer;display: block;width: 100%;margin-bottom: 0;padding: 0.3em;box-sizing: border-box;text-align: center;}#sk-container-id-5 label.sk-toggleable__label-arrow:before {content: \"▸\";float: left;margin-right: 0.25em;color: #696969;}#sk-container-id-5 label.sk-toggleable__label-arrow:hover:before {color: black;}#sk-container-id-5 div.sk-estimator:hover label.sk-toggleable__label-arrow:before {color: black;}#sk-container-id-5 div.sk-toggleable__content {max-height: 0;max-width: 0;overflow: hidden;text-align: left;background-color: #f0f8ff;}#sk-container-id-5 div.sk-toggleable__content pre {margin: 0.2em;color: black;border-radius: 0.25em;background-color: #f0f8ff;}#sk-container-id-5 input.sk-toggleable__control:checked~div.sk-toggleable__content {max-height: 200px;max-width: 100%;overflow: auto;}#sk-container-id-5 input.sk-toggleable__control:checked~label.sk-toggleable__label-arrow:before {content: \"▾\";}#sk-container-id-5 div.sk-estimator input.sk-toggleable__control:checked~label.sk-toggleable__label {background-color: #d4ebff;}#sk-container-id-5 div.sk-label input.sk-toggleable__control:checked~label.sk-toggleable__label {background-color: #d4ebff;}#sk-container-id-5 input.sk-hidden--visually {border: 0;clip: rect(1px 1px 1px 1px);clip: rect(1px, 1px, 1px, 1px);height: 1px;margin: -1px;overflow: hidden;padding: 0;position: absolute;width: 1px;}#sk-container-id-5 div.sk-estimator {font-family: monospace;background-color: #f0f8ff;border: 1px dotted black;border-radius: 0.25em;box-sizing: border-box;margin-bottom: 0.5em;}#sk-container-id-5 div.sk-estimator:hover {background-color: #d4ebff;}#sk-container-id-5 div.sk-parallel-item::after {content: \"\";width: 100%;border-bottom: 1px solid gray;flex-grow: 1;}#sk-container-id-5 div.sk-label:hover label.sk-toggleable__label {background-color: #d4ebff;}#sk-container-id-5 div.sk-serial::before {content: \"\";position: absolute;border-left: 1px solid gray;box-sizing: border-box;top: 0;bottom: 0;left: 50%;z-index: 0;}#sk-container-id-5 div.sk-serial {display: flex;flex-direction: column;align-items: center;background-color: white;padding-right: 0.2em;padding-left: 0.2em;position: relative;}#sk-container-id-5 div.sk-item {position: relative;z-index: 1;}#sk-container-id-5 div.sk-parallel {display: flex;align-items: stretch;justify-content: center;background-color: white;position: relative;}#sk-container-id-5 div.sk-item::before, #sk-container-id-5 div.sk-parallel-item::before {content: \"\";position: absolute;border-left: 1px solid gray;box-sizing: border-box;top: 0;bottom: 0;left: 50%;z-index: -1;}#sk-container-id-5 div.sk-parallel-item {display: flex;flex-direction: column;z-index: 1;position: relative;background-color: white;}#sk-container-id-5 div.sk-parallel-item:first-child::after {align-self: flex-end;width: 50%;}#sk-container-id-5 div.sk-parallel-item:last-child::after {align-self: flex-start;width: 50%;}#sk-container-id-5 div.sk-parallel-item:only-child::after {width: 0;}#sk-container-id-5 div.sk-dashed-wrapped {border: 1px dashed gray;margin: 0 0.4em 0.5em 0.4em;box-sizing: border-box;padding-bottom: 0.4em;background-color: white;}#sk-container-id-5 div.sk-label label {font-family: monospace;font-weight: bold;display: inline-block;line-height: 1.2em;}#sk-container-id-5 div.sk-label-container {text-align: center;}#sk-container-id-5 div.sk-container {/* jupyter's `normalize.less` sets `[hidden] { display: none; }` but bootstrap.min.css set `[hidden] { display: none !important; }` so we also need the `!important` here to be able to override the default hidden behavior on the sphinx rendered scikit-learn.org. See: https://github.com/scikit-learn/scikit-learn/issues/21755 */display: inline-block !important;position: relative;}#sk-container-id-5 div.sk-text-repr-fallback {display: none;}</style><div id=\"sk-container-id-5\" class=\"sk-top-container\"><div class=\"sk-text-repr-fallback\"><pre>LinearRegression()</pre><b>In a Jupyter environment, please rerun this cell to show the HTML representation or trust the notebook. <br />On GitHub, the HTML representation is unable to render, please try loading this page with nbviewer.org.</b></div><div class=\"sk-container\" hidden><div class=\"sk-item\"><div class=\"sk-estimator sk-toggleable\"><input class=\"sk-toggleable__control sk-hidden--visually\" id=\"sk-estimator-id-13\" type=\"checkbox\" checked><label for=\"sk-estimator-id-13\" class=\"sk-toggleable__label sk-toggleable__label-arrow\">LinearRegression</label><div class=\"sk-toggleable__content\"><pre>LinearRegression()</pre></div></div></div></div></div>"
            ]
          },
          "metadata": {},
          "execution_count": 258
        }
      ]
    },
    {
      "cell_type": "code",
      "source": [
        "y_pred_base_regresion = modelo_base_regresion.predict(X_base_regresion_test)"
      ],
      "metadata": {
        "id": "UE6mm-Zt7wui"
      },
      "execution_count": 259,
      "outputs": []
    },
    {
      "cell_type": "code",
      "source": [
        "def errores(y_test, y_pred):\n",
        "    print(\"R2:   %.2f\" % r2_score(y_test, y_pred))\n",
        "    print(\"MSE:  %.2f\" % mean_squared_error(y_test, y_pred))\n",
        "    print(\"RMSE: %.2f\" % sqrt(mean_squared_error(y_test, y_pred)))\n",
        "    print(\"MAE:  %.2f\" % mean_absolute_error(y_test, y_pred))\n",
        "    print(\"MAPE: %.2f\" % mean_absolute_percentage_error(y_test, y_pred))\n",
        "\n",
        "\n",
        "errores(Y_base_regresion_test, y_pred_base_regresion)"
      ],
      "metadata": {
        "id": "c2YmTXSC7zd8",
        "outputId": "34e66609-8350-4615-e740-3d344d9b0720",
        "colab": {
          "base_uri": "https://localhost:8080/"
        }
      },
      "execution_count": 262,
      "outputs": [
        {
          "output_type": "stream",
          "name": "stdout",
          "text": [
            "R2:   0.10\n",
            "MSE:  0.90\n",
            "RMSE: 0.95\n",
            "MAE:  0.45\n",
            "MAPE: 1.48\n"
          ]
        }
      ]
    },
    {
      "cell_type": "markdown",
      "source": [
        "Seleccionamos dos varibles aleatorias, entrenamos el modelo y lo testeamos. Sin embargo, no obtuvimos buenas métricas. El MSE es cercano a 1."
      ],
      "metadata": {
        "id": "m9cskbkK7BiL"
      }
    },
    {
      "cell_type": "markdown",
      "source": [
        "# Base Regresión - Importado de scikit learn"
      ],
      "metadata": {
        "id": "y3c0vCIp78V1"
      }
    },
    {
      "cell_type": "code",
      "source": [
        "dummy_regr = DummyRegressor(strategy=\"mean\")\n",
        "\n",
        "dummy_regr.fit(X_train_reg, y_train_reg)\n",
        "\n",
        "y_pred = dummy_regr.predict(X_test_reg)\n",
        "\n",
        "# Metricas\n",
        "mse = mean_squared_error(y_test_reg, y_pred)\n",
        "\n",
        "r2 = r2_score(y_test_reg, y_pred)\n",
        "\n",
        "print(f\"Mean squared error: {mse}\")\n",
        "print(f\"R-squared score: {r2}\")"
      ],
      "metadata": {
        "id": "X2mjeq-M780O",
        "outputId": "c4923735-32a2-413c-fc7a-5b6c5c9326a4",
        "colab": {
          "base_uri": "https://localhost:8080/"
        }
      },
      "execution_count": 271,
      "outputs": [
        {
          "output_type": "stream",
          "name": "stdout",
          "text": [
            "Mean squared error: 1.0470011761731168\n",
            "R-squared score: -3.534350633316308e-05\n"
          ]
        }
      ]
    },
    {
      "cell_type": "code",
      "source": [
        "# Plot the predicted values against the actual values\n",
        "plt.scatter(y_test_reg, y_pred)\n",
        "plt.xlabel(\"Actual Values\")\n",
        "plt.ylabel(\"Predicted Values\")\n",
        "plt.title(\"Dummy Regressor: Predicted vs. Actual\")\n",
        "# Add a diagonal line to show where the predicted values match the actual values\n",
        "plt.plot([min(y_test_reg), max(y_test_reg)], [min(y_test_reg), max(y_test_reg)], color=\"red\")"
      ],
      "metadata": {
        "id": "by8-MjF88Kbb",
        "outputId": "bd3ffb61-310d-4374-852a-46c0976a0623",
        "colab": {
          "base_uri": "https://localhost:8080/",
          "height": 489
        }
      },
      "execution_count": 270,
      "outputs": [
        {
          "output_type": "execute_result",
          "data": {
            "text/plain": [
              "[<matplotlib.lines.Line2D at 0x79f5dd4010f0>]"
            ]
          },
          "metadata": {},
          "execution_count": 270
        },
        {
          "output_type": "display_data",
          "data": {
            "text/plain": [
              "<Figure size 640x480 with 1 Axes>"
            ],
            "image/png": "[encoded data removed]"
          },
          "metadata": {}
        }
      ]
    },
    {
      "cell_type": "markdown",
      "source": [
        "# Modelo Base clasificación"
      ],
      "metadata": {
        "id": "30eiOqVb75T7"
      }
    },
    {
      "cell_type": "code",
      "source": [
        "# Separación de variables explicativas y variables objetivo\n",
        "X = df.drop(['RainTomorrow', 'RainfallTomorrow'], axis=1).copy()\n",
        "y = df[['RainTomorrow']].copy()\n",
        "\n",
        "# Spliteo mi dataset en train-test\n",
        "X_train, X_test, y_train, y_test = train_test_split(X, y, test_size=0.2, random_state=42)\n",
        "X_train.shape, X_test.shape, y_train.shape, y_test.shape"
      ],
      "metadata": {
        "id": "_kMc7zPt77D6",
        "outputId": "79825a47-36ef-4c19-ea6f-ca0b94a3fd73",
        "colab": {
          "base_uri": "https://localhost:8080/"
        }
      },
      "execution_count": 272,
      "outputs": [
        {
          "output_type": "execute_result",
          "data": {
            "text/plain": [
              "((21798, 22), (5450, 22), (21798, 1), (5450, 1))"
            ]
          },
          "metadata": {},
          "execution_count": 272
        }
      ]
    },
    {
      "cell_type": "code",
      "source": [
        "# Creo un Dataframe de TRAIN\n",
        "df_train = pd.DataFrame(X_train, columns=X.columns)\n",
        "df_train['RainTomorrow'] = y['RainTomorrow']"
      ],
      "metadata": {
        "id": "kA69_1sf7-rO"
      },
      "execution_count": 273,
      "outputs": []
    },
    {
      "cell_type": "code",
      "source": [
        "# Creo un Dataframe de TEST\n",
        "df_test = pd.DataFrame(X_test, columns=X.columns)\n",
        "df_test['RainTomorrow'] = y['RainTomorrow']"
      ],
      "metadata": {
        "id": "GZBhlfMy8AiJ"
      },
      "execution_count": 274,
      "outputs": []
    },
    {
      "cell_type": "code",
      "source": [
        "# Preproceso mi df de test y mi df de train\n",
        "df_train = preprocessor.fit_transform(df_train)\n",
        "df_test = preprocessor.fit_transform(df_test)"
      ],
      "metadata": {
        "id": "0i1uBtOn8CIT"
      },
      "execution_count": 275,
      "outputs": []
    },
    {
      "cell_type": "code",
      "source": [
        "#X_base_clasificacion_train = df_train[['RainToday', 'Sunshine', 'MinTemp']]\n",
        "X_base_clasificacion_train = df_train[['MaxTemp', 'Sunshine', 'MinTemp']]\n",
        "Y_base_clasificacion_train = df_train[\"RainTomorrow\"]"
      ],
      "metadata": {
        "id": "nKwwu-6u8DQ8"
      },
      "execution_count": 276,
      "outputs": []
    },
    {
      "cell_type": "code",
      "source": [
        "#X_base_clasificacion_test = df_test[['RainToday', 'Sunshine', 'MinTemp']]\n",
        "X_base_clasificacion_test = df_test[['MaxTemp', 'Sunshine', 'MinTemp']]\n",
        "Y_base_clasificacion_test = df_test[\"RainTomorrow\"]"
      ],
      "metadata": {
        "id": "6It0cVFz8Gcl"
      },
      "execution_count": 277,
      "outputs": []
    },
    {
      "cell_type": "code",
      "source": [
        "modelo_base_clasificacion = LogisticRegression()"
      ],
      "metadata": {
        "id": "LN9n0SMD8H3U"
      },
      "execution_count": 278,
      "outputs": []
    },
    {
      "cell_type": "code",
      "source": [
        "modelo_base_clasificacion.fit(X_base_clasificacion_train, Y_base_clasificacion_train)"
      ],
      "metadata": {
        "id": "GaCQ_MVX8KoU",
        "outputId": "336d3978-eec4-4ec5-87db-677805e45d1c",
        "colab": {
          "base_uri": "https://localhost:8080/",
          "height": 74
        }
      },
      "execution_count": 279,
      "outputs": [
        {
          "output_type": "execute_result",
          "data": {
            "text/plain": [
              "LogisticRegression()"
            ],
            "text/html": [
              "<style>#sk-container-id-6 {color: black;background-color: white;}#sk-container-id-6 pre{padding: 0;}#sk-container-id-6 div.sk-toggleable {background-color: white;}#sk-container-id-6 label.sk-toggleable__label {cursor: pointer;display: block;width: 100%;margin-bottom: 0;padding: 0.3em;box-sizing: border-box;text-align: center;}#sk-container-id-6 label.sk-toggleable__label-arrow:before {content: \"▸\";float: left;margin-right: 0.25em;color: #696969;}#sk-container-id-6 label.sk-toggleable__label-arrow:hover:before {color: black;}#sk-container-id-6 div.sk-estimator:hover label.sk-toggleable__label-arrow:before {color: black;}#sk-container-id-6 div.sk-toggleable__content {max-height: 0;max-width: 0;overflow: hidden;text-align: left;background-color: #f0f8ff;}#sk-container-id-6 div.sk-toggleable__content pre {margin: 0.2em;color: black;border-radius: 0.25em;background-color: #f0f8ff;}#sk-container-id-6 input.sk-toggleable__control:checked~div.sk-toggleable__content {max-height: 200px;max-width: 100%;overflow: auto;}#sk-container-id-6 input.sk-toggleable__control:checked~label.sk-toggleable__label-arrow:before {content: \"▾\";}#sk-container-id-6 div.sk-estimator input.sk-toggleable__control:checked~label.sk-toggleable__label {background-color: #d4ebff;}#sk-container-id-6 div.sk-label input.sk-toggleable__control:checked~label.sk-toggleable__label {background-color: #d4ebff;}#sk-container-id-6 input.sk-hidden--visually {border: 0;clip: rect(1px 1px 1px 1px);clip: rect(1px, 1px, 1px, 1px);height: 1px;margin: -1px;overflow: hidden;padding: 0;position: absolute;width: 1px;}#sk-container-id-6 div.sk-estimator {font-family: monospace;background-color: #f0f8ff;border: 1px dotted black;border-radius: 0.25em;box-sizing: border-box;margin-bottom: 0.5em;}#sk-container-id-6 div.sk-estimator:hover {background-color: #d4ebff;}#sk-container-id-6 div.sk-parallel-item::after {content: \"\";width: 100%;border-bottom: 1px solid gray;flex-grow: 1;}#sk-container-id-6 div.sk-label:hover label.sk-toggleable__label {background-color: #d4ebff;}#sk-container-id-6 div.sk-serial::before {content: \"\";position: absolute;border-left: 1px solid gray;box-sizing: border-box;top: 0;bottom: 0;left: 50%;z-index: 0;}#sk-container-id-6 div.sk-serial {display: flex;flex-direction: column;align-items: center;background-color: white;padding-right: 0.2em;padding-left: 0.2em;position: relative;}#sk-container-id-6 div.sk-item {position: relative;z-index: 1;}#sk-container-id-6 div.sk-parallel {display: flex;align-items: stretch;justify-content: center;background-color: white;position: relative;}#sk-container-id-6 div.sk-item::before, #sk-container-id-6 div.sk-parallel-item::before {content: \"\";position: absolute;border-left: 1px solid gray;box-sizing: border-box;top: 0;bottom: 0;left: 50%;z-index: -1;}#sk-container-id-6 div.sk-parallel-item {display: flex;flex-direction: column;z-index: 1;position: relative;background-color: white;}#sk-container-id-6 div.sk-parallel-item:first-child::after {align-self: flex-end;width: 50%;}#sk-container-id-6 div.sk-parallel-item:last-child::after {align-self: flex-start;width: 50%;}#sk-container-id-6 div.sk-parallel-item:only-child::after {width: 0;}#sk-container-id-6 div.sk-dashed-wrapped {border: 1px dashed gray;margin: 0 0.4em 0.5em 0.4em;box-sizing: border-box;padding-bottom: 0.4em;background-color: white;}#sk-container-id-6 div.sk-label label {font-family: monospace;font-weight: bold;display: inline-block;line-height: 1.2em;}#sk-container-id-6 div.sk-label-container {text-align: center;}#sk-container-id-6 div.sk-container {/* jupyter's `normalize.less` sets `[hidden] { display: none; }` but bootstrap.min.css set `[hidden] { display: none !important; }` so we also need the `!important` here to be able to override the default hidden behavior on the sphinx rendered scikit-learn.org. See: https://github.com/scikit-learn/scikit-learn/issues/21755 */display: inline-block !important;position: relative;}#sk-container-id-6 div.sk-text-repr-fallback {display: none;}</style><div id=\"sk-container-id-6\" class=\"sk-top-container\"><div class=\"sk-text-repr-fallback\"><pre>LogisticRegression()</pre><b>In a Jupyter environment, please rerun this cell to show the HTML representation or trust the notebook. <br />On GitHub, the HTML representation is unable to render, please try loading this page with nbviewer.org.</b></div><div class=\"sk-container\" hidden><div class=\"sk-item\"><div class=\"sk-estimator sk-toggleable\"><input class=\"sk-toggleable__control sk-hidden--visually\" id=\"sk-estimator-id-14\" type=\"checkbox\" checked><label for=\"sk-estimator-id-14\" class=\"sk-toggleable__label sk-toggleable__label-arrow\">LogisticRegression</label><div class=\"sk-toggleable__content\"><pre>LogisticRegression()</pre></div></div></div></div></div>"
            ]
          },
          "metadata": {},
          "execution_count": 279
        }
      ]
    },
    {
      "cell_type": "code",
      "source": [
        "y_pred_base_clasificacion = modelo_base_clasificacion.predict(X_base_clasificacion_test)"
      ],
      "metadata": {
        "id": "5lwFfmWl8OW-"
      },
      "execution_count": 281,
      "outputs": []
    },
    {
      "cell_type": "code",
      "source": [
        "from sklearn.metrics import ConfusionMatrixDisplay"
      ],
      "metadata": {
        "id": "SlxXfd8q8XBH"
      },
      "execution_count": 282,
      "outputs": []
    },
    {
      "cell_type": "code",
      "source": [
        "print(\"Logistica Modelo base\\n\")\n",
        "print(classification_report(Y_base_clasificacion_test, y_pred_base_clasificacion))\n",
        "ConfusionMatrixDisplay(confusion_matrix(Y_base_clasificacion_test, y_pred_base_clasificacion)).plot()\n"
      ],
      "metadata": {
        "id": "nYKnEnPX8Y75",
        "outputId": "1b210778-5343-40bc-e029-eb69da0d547b",
        "colab": {
          "base_uri": "https://localhost:8080/",
          "height": 657
        }
      },
      "execution_count": 283,
      "outputs": [
        {
          "output_type": "stream",
          "name": "stdout",
          "text": [
            "Logistica Modelo base\n",
            "\n",
            "              precision    recall  f1-score   support\n",
            "\n",
            "         0.0       0.81      0.93      0.87      4136\n",
            "         1.0       0.57      0.28      0.38      1263\n",
            "\n",
            "    accuracy                           0.78      5399\n",
            "   macro avg       0.69      0.61      0.62      5399\n",
            "weighted avg       0.75      0.78      0.75      5399\n",
            "\n"
          ]
        },
        {
          "output_type": "execute_result",
          "data": {
            "text/plain": [
              "<sklearn.metrics._plot.confusion_matrix.ConfusionMatrixDisplay at 0x79f5dd777040>"
            ]
          },
          "metadata": {},
          "execution_count": 283
        },
        {
          "output_type": "display_data",
          "data": {
            "text/plain": [
              "<Figure size 640x480 with 2 Axes>"
            ],
            "image/png": "[encoded data removed]"
          },
          "metadata": {}
        }
      ]
    },
    {
      "cell_type": "markdown",
      "source": [
        "\n",
        "Nuestro modelo base de regresión, tiene una buena performance ya que al rededor del 78% de los datos son categorizados correctamente"
      ],
      "metadata": {
        "id": "icJzy5w2Aizy"
      }
    },
    {
      "cell_type": "markdown",
      "source": [
        "# Base Clasificación - Importado de scikit learn"
      ],
      "metadata": {
        "id": "0rD4dGVrAYVy"
      }
    },
    {
      "cell_type": "code",
      "source": [
        "# https://scikit-learn.org/stable/modules/generated/sklearn.dummy.DummyClassifier.html#sklearn-dummy-dummyclassifier\n",
        "from sklearn.dummy import DummyClassifier, DummyRegressor\n",
        "\n",
        "\n",
        "df_base=preprocessor.fit_transform(df)\n",
        "X=df_base.drop(['RainTomorrow'], axis=1)\n",
        "y=df_base['RainTomorrow']\n",
        "y_reg=df_base['RainfallTomorrow']\n",
        "X_train, X_test, y_train, y_test = train_test_split(X, y,test_size=0.3, stratify=y, random_state=777)\n",
        "X_train_reg, X_test_reg, y_train_reg, y_test_reg = train_test_split(X, y_reg,test_size=0.3, stratify=y, random_state=777)"
      ],
      "metadata": {
        "id": "-x19_rftAbZC"
      },
      "execution_count": 264,
      "outputs": []
    },
    {
      "cell_type": "code",
      "source": [
        "# Crear un clasificador de la mayoría\n",
        "dummy_clf = DummyClassifier(strategy=\"most_frequent\")\n",
        "\n",
        "# Entreno, aunque no es necesario porque no aprende nada\n",
        "dummy_clf.fit(X_train, y_train)\n",
        "\n",
        "# Hacer predicciones\n",
        "y_pred = dummy_clf.predict(X_test)\n",
        "\n",
        "# Score\n",
        "dummy_clf.score(X_test, y_test)\n",
        "\n",
        "# Metricas\n",
        "print(confusion_matrix(y_test, y_pred))\n",
        "print(classification_report(y_test, y_pred))"
      ],
      "metadata": {
        "id": "qkhNy4ap7zbz",
        "outputId": "26cedb17-5536-4fe0-c67c-cdc2d7767b74",
        "colab": {
          "base_uri": "https://localhost:8080/"
        }
      },
      "execution_count": 265,
      "outputs": [
        {
          "output_type": "stream",
          "name": "stdout",
          "text": [
            "[[6204    0]\n",
            " [1895    0]]\n",
            "              precision    recall  f1-score   support\n",
            "\n",
            "         0.0       0.77      1.00      0.87      6204\n",
            "         1.0       0.00      0.00      0.00      1895\n",
            "\n",
            "    accuracy                           0.77      8099\n",
            "   macro avg       0.38      0.50      0.43      8099\n",
            "weighted avg       0.59      0.77      0.66      8099\n",
            "\n"
          ]
        },
        {
          "output_type": "stream",
          "name": "stderr",
          "text": [
            "/usr/local/lib/python3.10/dist-packages/sklearn/metrics/_classification.py:1344: UndefinedMetricWarning: Precision and F-score are ill-defined and being set to 0.0 in labels with no predicted samples. Use `zero_division` parameter to control this behavior.\n",
            "  _warn_prf(average, modifier, msg_start, len(result))\n",
            "/usr/local/lib/python3.10/dist-packages/sklearn/metrics/_classification.py:1344: UndefinedMetricWarning: Precision and F-score are ill-defined and being set to 0.0 in labels with no predicted samples. Use `zero_division` parameter to control this behavior.\n",
            "  _warn_prf(average, modifier, msg_start, len(result))\n",
            "/usr/local/lib/python3.10/dist-packages/sklearn/metrics/_classification.py:1344: UndefinedMetricWarning: Precision and F-score are ill-defined and being set to 0.0 in labels with no predicted samples. Use `zero_division` parameter to control this behavior.\n",
            "  _warn_prf(average, modifier, msg_start, len(result))\n"
          ]
        }
      ]
    },
    {
      "cell_type": "markdown",
      "source": [
        "La presición obtenida es equivalente a predecir siempre que no lloverá, habría asertado un 76% de los casos según nuestro data set.\n",
        "\n",
        "El cual podemos verificarlo rápidamente contando la cantidad de cada valor de la variable a predecir.  Nuestro modelo dirá todas las predicciones que NO lloverá pero éste tendra una eficiencia del 76%.\n"
      ],
      "metadata": {
        "id": "NGLasT2N_IfF"
      }
    },
    {
      "cell_type": "code",
      "source": [
        "df_base.value_counts(\"RainTomorrow\", normalize=True)"
      ],
      "metadata": {
        "id": "fs1ZBMo0Aq0y",
        "outputId": "29f6ae84-f4da-4332-ffdc-8addc3f19a93",
        "colab": {
          "base_uri": "https://localhost:8080/"
        }
      },
      "execution_count": 266,
      "outputs": [
        {
          "output_type": "execute_result",
          "data": {
            "text/plain": [
              "RainTomorrow\n",
              "0.0    0.766068\n",
              "1.0    0.233932\n",
              "Name: proportion, dtype: float64"
            ]
          },
          "metadata": {},
          "execution_count": 266
        }
      ]
    },
    {
      "cell_type": "markdown",
      "source": [
        "#Optimizacion de parametros"
      ],
      "metadata": {
        "id": "p8xlljDFA8qr"
      }
    },
    {
      "cell_type": "code",
      "source": [
        "from sklearn.model_selection import GridSearchCV"
      ],
      "metadata": {
        "id": "gwu6Sn1HA_Ch"
      },
      "execution_count": 284,
      "outputs": []
    },
    {
      "cell_type": "markdown",
      "source": [
        "### Analisis de los HP - GridCV"
      ],
      "metadata": {
        "id": "0Gyg6eIf_ly6"
      }
    },
    {
      "cell_type": "code",
      "source": [
        "### Para cada hiperparámetro se chequean las métricas de Precisión y Recall.\n",
        "scores = [\"precision\", \"recall\"]"
      ],
      "metadata": {
        "id": "zcIAfLU_A_kx"
      },
      "execution_count": 285,
      "outputs": []
    },
    {
      "cell_type": "code",
      "source": [
        "def print_dataframe(filtered_cv_results):\n",
        "    ### Un print bonito de los resultados de cross validation\n",
        "    for mean_precision, std_precision, mean_recall, std_recall, params in zip(\n",
        "        filtered_cv_results[\"mean_test_precision\"],\n",
        "        filtered_cv_results[\"std_test_precision\"],\n",
        "        filtered_cv_results[\"mean_test_recall\"],\n",
        "        filtered_cv_results[\"std_test_recall\"],\n",
        "        filtered_cv_results[\"params\"],\n",
        "    ):\n",
        "        print(\n",
        "            f\"precision: {mean_precision:0.3f} (±{std_precision:0.03f}),\"\n",
        "            f\" recall: {mean_recall:0.3f} (±{std_recall:0.03f}),\"\n",
        "            f\" for {params}\"\n",
        "        )\n",
        "    print()"
      ],
      "metadata": {
        "id": "QiOacs7qA_iR"
      },
      "execution_count": 286,
      "outputs": []
    },
    {
      "cell_type": "code",
      "source": [
        "def refit_strategy(cv_results):\n",
        "    \"\"\"Define the strategy to select the best estimator.\n",
        "\n",
        "    The strategy defined here is to filter-out all results below a precision threshold\n",
        "    of 0.7, rank the remaining by recall and keep all models with one standard\n",
        "    deviation of the best by recall. Once these models are selected, we can select the\n",
        "    fastest model to predict.\n",
        "\n",
        "    Parameters\n",
        "    ----------\n",
        "    cv_results : dict of numpy (masked) ndarrays\n",
        "        CV results as returned by the `GridSearchCV`.\n",
        "\n",
        "    Returns\n",
        "    -------\n",
        "    best_index : int\n",
        "        The index of the best estimator as it appears in `cv_results`.\n",
        "    \"\"\"\n",
        "    # print the info about the grid-search for the different scores\n",
        "    precision_threshold = 0.7\n",
        "\n",
        "    cv_results_ = pd.DataFrame(cv_results)\n",
        "    print(\"All grid-search results:\")\n",
        "    print_dataframe(cv_results_)\n",
        "\n",
        "    # Filter-out all results below the threshold\n",
        "    high_precision_cv_results = cv_results_[\n",
        "        cv_results_[\"mean_test_precision\"] > precision_threshold\n",
        "    ]\n",
        "\n",
        "    print(f\"Models with a precision higher than {precision_threshold}:\")\n",
        "    print_dataframe(high_precision_cv_results)\n",
        "\n",
        "    high_precision_cv_results = high_precision_cv_results[\n",
        "        [\n",
        "            \"mean_score_time\",\n",
        "            \"mean_test_recall\",\n",
        "            \"std_test_recall\",\n",
        "            \"mean_test_precision\",\n",
        "            \"std_test_precision\",\n",
        "            \"rank_test_recall\",\n",
        "            \"rank_test_precision\",\n",
        "            \"params\",\n",
        "        ]\n",
        "    ]\n",
        "\n",
        "    # Select the most performant models in terms of recall\n",
        "    # (within 1 sigma from the best)\n",
        "    best_recall_std = high_precision_cv_results[\"mean_test_recall\"].std()\n",
        "    best_recall = high_precision_cv_results[\"mean_test_recall\"].max()\n",
        "    best_recall_threshold = best_recall - best_recall_std\n",
        "\n",
        "    high_recall_cv_results = high_precision_cv_results[\n",
        "        high_precision_cv_results[\"mean_test_recall\"] > best_recall_threshold\n",
        "    ]\n",
        "    print(\n",
        "        \"Out of the previously selected high precision models, we keep all the\\n\"\n",
        "        \"the models within one standard deviation of the highest recall model:\"\n",
        "    )\n",
        "    print_dataframe(high_recall_cv_results)\n",
        "\n",
        "    # From the best candidates, select the fastest model to predict\n",
        "    fastest_top_recall_high_precision_index = high_recall_cv_results[\n",
        "        \"mean_score_time\"\n",
        "    ].idxmin()\n",
        "\n",
        "    print(\n",
        "        \"\\nThe selected final model is the fastest to predict out of the previously\\n\"\n",
        "        \"selected subset of best models based on precision and recall.\\n\"\n",
        "        \"Its scoring time is:\\n\\n\"\n",
        "        f\"{high_recall_cv_results.loc[fastest_top_recall_high_precision_index]}\"\n",
        "    )\n",
        "\n",
        "    return fastest_top_recall_high_precision_index"
      ],
      "metadata": {
        "id": "1qyRJKyWBEQh"
      },
      "execution_count": 287,
      "outputs": []
    },
    {
      "cell_type": "code",
      "source": [
        "from sklearn.metrics import classification_report\n",
        "\n",
        "# Spliteo mi dataset en train-test\n",
        "X_train_gs = df_test.drop(['RainTomorrow'], axis=1)\n",
        "y_train_gs = df_test['RainTomorrow']"
      ],
      "metadata": {
        "id": "Ji9BDiUOBFYC"
      },
      "execution_count": 289,
      "outputs": []
    },
    {
      "cell_type": "code",
      "source": [
        "tuned_parameters = [\n",
        "    {\"class_weight\": [None, 'balanced'], \"C\": [0.1, 1, 10,100], \"solver\": ['newton-cg'], \"max_iter\": [200, 500]}\n",
        "]\n",
        "\n",
        "grid_search = GridSearchCV(\n",
        "    LogisticRegression(), tuned_parameters, scoring=scores, refit=refit_strategy\n",
        ")\n",
        "grid_search.fit(X_train_gs, y_train_gs)"
      ],
      "metadata": {
        "id": "thit6xWuBF2x",
        "outputId": "db1977e6-7f49-40b4-f552-4b03069951db",
        "colab": {
          "base_uri": "https://localhost:8080/",
          "height": 952
        }
      },
      "execution_count": 290,
      "outputs": [
        {
          "output_type": "stream",
          "name": "stdout",
          "text": [
            "All grid-search results:\n",
            "precision: 0.737 (±0.058), recall: 0.525 (±0.026), for {'C': 0.1, 'class_weight': None, 'max_iter': 200, 'solver': 'newton-cg'}\n",
            "precision: 0.737 (±0.058), recall: 0.525 (±0.026), for {'C': 0.1, 'class_weight': None, 'max_iter': 500, 'solver': 'newton-cg'}\n",
            "precision: 0.530 (±0.016), recall: 0.771 (±0.016), for {'C': 0.1, 'class_weight': 'balanced', 'max_iter': 200, 'solver': 'newton-cg'}\n",
            "precision: 0.530 (±0.016), recall: 0.771 (±0.016), for {'C': 0.1, 'class_weight': 'balanced', 'max_iter': 500, 'solver': 'newton-cg'}\n",
            "precision: 0.729 (±0.057), recall: 0.518 (±0.026), for {'C': 1, 'class_weight': None, 'max_iter': 200, 'solver': 'newton-cg'}\n",
            "precision: 0.729 (±0.057), recall: 0.518 (±0.026), for {'C': 1, 'class_weight': None, 'max_iter': 500, 'solver': 'newton-cg'}\n",
            "precision: 0.530 (±0.020), recall: 0.770 (±0.020), for {'C': 1, 'class_weight': 'balanced', 'max_iter': 200, 'solver': 'newton-cg'}\n",
            "precision: 0.530 (±0.020), recall: 0.770 (±0.020), for {'C': 1, 'class_weight': 'balanced', 'max_iter': 500, 'solver': 'newton-cg'}\n",
            "precision: 0.729 (±0.057), recall: 0.519 (±0.025), for {'C': 10, 'class_weight': None, 'max_iter': 200, 'solver': 'newton-cg'}\n",
            "precision: 0.729 (±0.057), recall: 0.519 (±0.025), for {'C': 10, 'class_weight': None, 'max_iter': 500, 'solver': 'newton-cg'}\n",
            "precision: 0.531 (±0.022), recall: 0.769 (±0.019), for {'C': 10, 'class_weight': 'balanced', 'max_iter': 200, 'solver': 'newton-cg'}\n",
            "precision: 0.531 (±0.022), recall: 0.769 (±0.019), for {'C': 10, 'class_weight': 'balanced', 'max_iter': 500, 'solver': 'newton-cg'}\n",
            "precision: 0.730 (±0.057), recall: 0.519 (±0.025), for {'C': 100, 'class_weight': None, 'max_iter': 200, 'solver': 'newton-cg'}\n",
            "precision: 0.730 (±0.057), recall: 0.519 (±0.025), for {'C': 100, 'class_weight': None, 'max_iter': 500, 'solver': 'newton-cg'}\n",
            "precision: 0.532 (±0.022), recall: 0.769 (±0.019), for {'C': 100, 'class_weight': 'balanced', 'max_iter': 200, 'solver': 'newton-cg'}\n",
            "precision: 0.532 (±0.022), recall: 0.769 (±0.019), for {'C': 100, 'class_weight': 'balanced', 'max_iter': 500, 'solver': 'newton-cg'}\n",
            "\n",
            "Models with a precision higher than 0.7:\n",
            "precision: 0.737 (±0.058), recall: 0.525 (±0.026), for {'C': 0.1, 'class_weight': None, 'max_iter': 200, 'solver': 'newton-cg'}\n",
            "precision: 0.737 (±0.058), recall: 0.525 (±0.026), for {'C': 0.1, 'class_weight': None, 'max_iter': 500, 'solver': 'newton-cg'}\n",
            "precision: 0.729 (±0.057), recall: 0.518 (±0.026), for {'C': 1, 'class_weight': None, 'max_iter': 200, 'solver': 'newton-cg'}\n",
            "precision: 0.729 (±0.057), recall: 0.518 (±0.026), for {'C': 1, 'class_weight': None, 'max_iter': 500, 'solver': 'newton-cg'}\n",
            "precision: 0.729 (±0.057), recall: 0.519 (±0.025), for {'C': 10, 'class_weight': None, 'max_iter': 200, 'solver': 'newton-cg'}\n",
            "precision: 0.729 (±0.057), recall: 0.519 (±0.025), for {'C': 10, 'class_weight': None, 'max_iter': 500, 'solver': 'newton-cg'}\n",
            "precision: 0.730 (±0.057), recall: 0.519 (±0.025), for {'C': 100, 'class_weight': None, 'max_iter': 200, 'solver': 'newton-cg'}\n",
            "precision: 0.730 (±0.057), recall: 0.519 (±0.025), for {'C': 100, 'class_weight': None, 'max_iter': 500, 'solver': 'newton-cg'}\n",
            "\n",
            "Out of the previously selected high precision models, we keep all the\n",
            "the models within one standard deviation of the highest recall model:\n",
            "precision: 0.737 (±0.058), recall: 0.525 (±0.026), for {'C': 0.1, 'class_weight': None, 'max_iter': 200, 'solver': 'newton-cg'}\n",
            "precision: 0.737 (±0.058), recall: 0.525 (±0.026), for {'C': 0.1, 'class_weight': None, 'max_iter': 500, 'solver': 'newton-cg'}\n",
            "\n",
            "\n",
            "The selected final model is the fastest to predict out of the previously\n",
            "selected subset of best models based on precision and recall.\n",
            "Its scoring time is:\n",
            "\n",
            "mean_score_time                                                 0.009347\n",
            "mean_test_recall                                                0.524989\n",
            "std_test_recall                                                 0.026339\n",
            "mean_test_precision                                             0.737193\n",
            "std_test_precision                                              0.057523\n",
            "rank_test_recall                                                       9\n",
            "rank_test_precision                                                    1\n",
            "params                 {'C': 0.1, 'class_weight': None, 'max_iter': 5...\n",
            "Name: 1, dtype: object\n"
          ]
        },
        {
          "output_type": "execute_result",
          "data": {
            "text/plain": [
              "GridSearchCV(estimator=LogisticRegression(),\n",
              "             param_grid=[{'C': [0.1, 1, 10, 100],\n",
              "                          'class_weight': [None, 'balanced'],\n",
              "                          'max_iter': [200, 500], 'solver': ['newton-cg']}],\n",
              "             refit=<function refit_strategy at 0x79f5dd750280>,\n",
              "             scoring=['precision', 'recall'])"
            ],
            "text/html": [
              "<style>#sk-container-id-7 {color: black;background-color: white;}#sk-container-id-7 pre{padding: 0;}#sk-container-id-7 div.sk-toggleable {background-color: white;}#sk-container-id-7 label.sk-toggleable__label {cursor: pointer;display: block;width: 100%;margin-bottom: 0;padding: 0.3em;box-sizing: border-box;text-align: center;}#sk-container-id-7 label.sk-toggleable__label-arrow:before {content: \"▸\";float: left;margin-right: 0.25em;color: #696969;}#sk-container-id-7 label.sk-toggleable__label-arrow:hover:before {color: black;}#sk-container-id-7 div.sk-estimator:hover label.sk-toggleable__label-arrow:before {color: black;}#sk-container-id-7 div.sk-toggleable__content {max-height: 0;max-width: 0;overflow: hidden;text-align: left;background-color: #f0f8ff;}#sk-container-id-7 div.sk-toggleable__content pre {margin: 0.2em;color: black;border-radius: 0.25em;background-color: #f0f8ff;}#sk-container-id-7 input.sk-toggleable__control:checked~div.sk-toggleable__content {max-height: 200px;max-width: 100%;overflow: auto;}#sk-container-id-7 input.sk-toggleable__control:checked~label.sk-toggleable__label-arrow:before {content: \"▾\";}#sk-container-id-7 div.sk-estimator input.sk-toggleable__control:checked~label.sk-toggleable__label {background-color: #d4ebff;}#sk-container-id-7 div.sk-label input.sk-toggleable__control:checked~label.sk-toggleable__label {background-color: #d4ebff;}#sk-container-id-7 input.sk-hidden--visually {border: 0;clip: rect(1px 1px 1px 1px);clip: rect(1px, 1px, 1px, 1px);height: 1px;margin: -1px;overflow: hidden;padding: 0;position: absolute;width: 1px;}#sk-container-id-7 div.sk-estimator {font-family: monospace;background-color: #f0f8ff;border: 1px dotted black;border-radius: 0.25em;box-sizing: border-box;margin-bottom: 0.5em;}#sk-container-id-7 div.sk-estimator:hover {background-color: #d4ebff;}#sk-container-id-7 div.sk-parallel-item::after {content: \"\";width: 100%;border-bottom: 1px solid gray;flex-grow: 1;}#sk-container-id-7 div.sk-label:hover label.sk-toggleable__label {background-color: #d4ebff;}#sk-container-id-7 div.sk-serial::before {content: \"\";position: absolute;border-left: 1px solid gray;box-sizing: border-box;top: 0;bottom: 0;left: 50%;z-index: 0;}#sk-container-id-7 div.sk-serial {display: flex;flex-direction: column;align-items: center;background-color: white;padding-right: 0.2em;padding-left: 0.2em;position: relative;}#sk-container-id-7 div.sk-item {position: relative;z-index: 1;}#sk-container-id-7 div.sk-parallel {display: flex;align-items: stretch;justify-content: center;background-color: white;position: relative;}#sk-container-id-7 div.sk-item::before, #sk-container-id-7 div.sk-parallel-item::before {content: \"\";position: absolute;border-left: 1px solid gray;box-sizing: border-box;top: 0;bottom: 0;left: 50%;z-index: -1;}#sk-container-id-7 div.sk-parallel-item {display: flex;flex-direction: column;z-index: 1;position: relative;background-color: white;}#sk-container-id-7 div.sk-parallel-item:first-child::after {align-self: flex-end;width: 50%;}#sk-container-id-7 div.sk-parallel-item:last-child::after {align-self: flex-start;width: 50%;}#sk-container-id-7 div.sk-parallel-item:only-child::after {width: 0;}#sk-container-id-7 div.sk-dashed-wrapped {border: 1px dashed gray;margin: 0 0.4em 0.5em 0.4em;box-sizing: border-box;padding-bottom: 0.4em;background-color: white;}#sk-container-id-7 div.sk-label label {font-family: monospace;font-weight: bold;display: inline-block;line-height: 1.2em;}#sk-container-id-7 div.sk-label-container {text-align: center;}#sk-container-id-7 div.sk-container {/* jupyter's `normalize.less` sets `[hidden] { display: none; }` but bootstrap.min.css set `[hidden] { display: none !important; }` so we also need the `!important` here to be able to override the default hidden behavior on the sphinx rendered scikit-learn.org. See: https://github.com/scikit-learn/scikit-learn/issues/21755 */display: inline-block !important;position: relative;}#sk-container-id-7 div.sk-text-repr-fallback {display: none;}</style><div id=\"sk-container-id-7\" class=\"sk-top-container\"><div class=\"sk-text-repr-fallback\"><pre>GridSearchCV(estimator=LogisticRegression(),\n",
              "             param_grid=[{&#x27;C&#x27;: [0.1, 1, 10, 100],\n",
              "                          &#x27;class_weight&#x27;: [None, &#x27;balanced&#x27;],\n",
              "                          &#x27;max_iter&#x27;: [200, 500], &#x27;solver&#x27;: [&#x27;newton-cg&#x27;]}],\n",
              "             refit=&lt;function refit_strategy at 0x79f5dd750280&gt;,\n",
              "             scoring=[&#x27;precision&#x27;, &#x27;recall&#x27;])</pre><b>In a Jupyter environment, please rerun this cell to show the HTML representation or trust the notebook. <br />On GitHub, the HTML representation is unable to render, please try loading this page with nbviewer.org.</b></div><div class=\"sk-container\" hidden><div class=\"sk-item sk-dashed-wrapped\"><div class=\"sk-label-container\"><div class=\"sk-label sk-toggleable\"><input class=\"sk-toggleable__control sk-hidden--visually\" id=\"sk-estimator-id-15\" type=\"checkbox\" ><label for=\"sk-estimator-id-15\" class=\"sk-toggleable__label sk-toggleable__label-arrow\">GridSearchCV</label><div class=\"sk-toggleable__content\"><pre>GridSearchCV(estimator=LogisticRegression(),\n",
              "             param_grid=[{&#x27;C&#x27;: [0.1, 1, 10, 100],\n",
              "                          &#x27;class_weight&#x27;: [None, &#x27;balanced&#x27;],\n",
              "                          &#x27;max_iter&#x27;: [200, 500], &#x27;solver&#x27;: [&#x27;newton-cg&#x27;]}],\n",
              "             refit=&lt;function refit_strategy at 0x79f5dd750280&gt;,\n",
              "             scoring=[&#x27;precision&#x27;, &#x27;recall&#x27;])</pre></div></div></div><div class=\"sk-parallel\"><div class=\"sk-parallel-item\"><div class=\"sk-item\"><div class=\"sk-label-container\"><div class=\"sk-label sk-toggleable\"><input class=\"sk-toggleable__control sk-hidden--visually\" id=\"sk-estimator-id-16\" type=\"checkbox\" ><label for=\"sk-estimator-id-16\" class=\"sk-toggleable__label sk-toggleable__label-arrow\">estimator: LogisticRegression</label><div class=\"sk-toggleable__content\"><pre>LogisticRegression()</pre></div></div></div><div class=\"sk-serial\"><div class=\"sk-item\"><div class=\"sk-estimator sk-toggleable\"><input class=\"sk-toggleable__control sk-hidden--visually\" id=\"sk-estimator-id-17\" type=\"checkbox\" ><label for=\"sk-estimator-id-17\" class=\"sk-toggleable__label sk-toggleable__label-arrow\">LogisticRegression</label><div class=\"sk-toggleable__content\"><pre>LogisticRegression()</pre></div></div></div></div></div></div></div></div></div></div>"
            ]
          },
          "metadata": {},
          "execution_count": 290
        }
      ]
    },
    {
      "cell_type": "code",
      "source": [
        "grid_search.best_params_"
      ],
      "metadata": {
        "id": "uRBV58iGBH-p",
        "outputId": "6f87ad52-18cd-4338-97f2-4697593ab586",
        "colab": {
          "base_uri": "https://localhost:8080/"
        }
      },
      "execution_count": 291,
      "outputs": [
        {
          "output_type": "execute_result",
          "data": {
            "text/plain": [
              "{'C': 0.1, 'class_weight': None, 'max_iter': 500, 'solver': 'newton-cg'}"
            ]
          },
          "metadata": {},
          "execution_count": 291
        }
      ]
    },
    {
      "cell_type": "code",
      "source": [
        "y_pred = grid_search.predict(df_test.drop(['RainTomorrow'], axis=1))\n",
        "print(classification_report(df_test['RainTomorrow'], y_pred))"
      ],
      "metadata": {
        "id": "Aw2SS469BIzS",
        "outputId": "43f4207a-85a2-479b-f001-3be01bd09972",
        "colab": {
          "base_uri": "https://localhost:8080/"
        }
      },
      "execution_count": 293,
      "outputs": [
        {
          "output_type": "stream",
          "name": "stdout",
          "text": [
            "              precision    recall  f1-score   support\n",
            "\n",
            "         0.0       0.87      0.94      0.90      4136\n",
            "         1.0       0.74      0.53      0.62      1263\n",
            "\n",
            "    accuracy                           0.85      5399\n",
            "   macro avg       0.81      0.74      0.76      5399\n",
            "weighted avg       0.84      0.85      0.84      5399\n",
            "\n"
          ]
        }
      ]
    },
    {
      "cell_type": "markdown",
      "source": [
        "Con la optimización de hiperparámetros usando gridcv, nos muestra que los mejores hiperparametros para nuestro modelo de regresión logística con buen score de precision y recall son los siguentes:\n",
        "El dataset no hace falta que esté balanceado, converge en 500 iteraciones y con una alta fuerza de regularización"
      ],
      "metadata": {
        "id": "FNXNF_D9__Po"
      }
    },
    {
      "cell_type": "markdown",
      "source": [
        "# Validación Cruzada"
      ],
      "metadata": {
        "id": "vOj2EVE8BxcG"
      }
    },
    {
      "cell_type": "code",
      "source": [
        "from sklearn.model_selection import cross_val_score, StratifiedKFold, KFold, LeaveOneOut"
      ],
      "metadata": {
        "id": "DD5HEBCGCmQf"
      },
      "execution_count": 294,
      "outputs": []
    },
    {
      "cell_type": "code",
      "source": [
        "classification = LogisticRegression(C=10, class_weight='balanced', max_iter=500, solver='newton-cg')"
      ],
      "metadata": {
        "id": "ZM2hvXrTKYcS"
      },
      "execution_count": 305,
      "outputs": []
    },
    {
      "cell_type": "code",
      "source": [
        "df_test_cv = pd.concat([df_test, df_train], ignore_index=True)\n",
        "\n",
        "X_cv, y_cv = df_test_cv.drop(['RainTomorrow'], axis=1), df_test_cv['RainTomorrow']"
      ],
      "metadata": {
        "id": "wYtELkDJL8bS"
      },
      "execution_count": 304,
      "outputs": []
    },
    {
      "cell_type": "code",
      "source": [
        "scores = cross_val_score(classification, X_cv, y_cv, cv=KFold(n_splits=5, shuffle=True, random_state=42))\n",
        "scores"
      ],
      "metadata": {
        "id": "PSj4LVBPKjHu",
        "outputId": "fbe66bca-d281-4a1c-ab6b-3d7a26872186",
        "colab": {
          "base_uri": "https://localhost:8080/"
        }
      },
      "execution_count": 307,
      "outputs": [
        {
          "output_type": "execute_result",
          "data": {
            "text/plain": [
              "array([0.7975551 , 0.79144286, 0.79403593, 0.79774032, 0.79533247])"
            ]
          },
          "metadata": {},
          "execution_count": 307
        }
      ]
    },
    {
      "cell_type": "code",
      "source": [
        "cv_strategies = [\n",
        "    (\"KFold\", KFold(n_splits=5, shuffle=True, random_state=42)),\n",
        "    (\"StratifiedKFold\", StratifiedKFold(n_splits=5, shuffle=True, random_state=42)),\n",
        "    (\"Leave-One-Out\", LeaveOneOut()),\n",
        "]\n",
        "\n",
        "results = {}\n",
        "for name, cv in cv_strategies:\n",
        "    scores = cross_val_score(classification, X_cv, y_cv, cv=cv)\n",
        "    results[name] = scores"
      ],
      "metadata": {
        "id": "1yFiLrAHUOEs"
      },
      "execution_count": null,
      "outputs": []
    },
    {
      "cell_type": "code",
      "source": [
        "plt.figure(figsize=(10, 6))\n",
        "for name, scores in results.items():\n",
        "    plt.plot(range(1, len(scores) + 1), scores, marker='o', label=name)\n",
        "\n",
        "plt.xlabel(\"Fold\")\n",
        "plt.ylabel(\"Accuracy\")\n",
        "plt.title(\"Estrategias de validación cruzada\")\n",
        "plt.legend()\n",
        "plt.grid(True)\n",
        "plt.show()"
      ],
      "metadata": {
        "id": "2Ez027LYUoZh"
      },
      "execution_count": null,
      "outputs": []
    }
  ]
}