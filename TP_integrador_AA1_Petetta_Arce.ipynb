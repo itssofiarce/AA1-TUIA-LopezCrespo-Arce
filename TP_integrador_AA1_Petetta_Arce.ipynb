{
  "cells": [
    {
      "cell_type": "markdown",
      "metadata": {
        "colab_type": "text",
        "id": "view-in-github"
      },
      "source": [
        "<a href=\"https://colab.research.google.com/github/itssofiarce/AA1-TUIA-Petetta-Arce/blob/main/TP_integrador_AA1_Petetta_Arce.ipynb\" target=\"_parent\"><img src=\"https://colab.research.google.com/assets/colab-badge.svg\" alt=\"Open In Colab\"/></a>"
      ]
    },
    {
      "cell_type": "code",
      "execution_count": null,
      "metadata": {
        "colab": {
          "base_uri": "https://localhost:8080/"
        },
        "id": "9Ph9T6E0tuKX",
        "outputId": "820e94ac-4e83-4ff8-bc83-c479233cd684"
      },
      "outputs": [],
      "source": [
        "#from google.colab import drive\n",
        "#drive.mount('/content/drive')"
      ]
    },
    {
      "cell_type": "code",
      "execution_count": null,
      "metadata": {
        "colab": {
          "base_uri": "https://localhost:8080/"
        },
        "id": "Cy04OfhX5cTv",
        "outputId": "255ec985-a3a9-4818-bef2-32f148453d09"
      },
      "outputs": [],
      "source": [
        "#!pip3 install shap"
      ]
    },
    {
      "cell_type": "code",
      "execution_count": null,
      "metadata": {
        "colab": {
          "base_uri": "https://localhost:8080/"
        },
        "id": "TOw6E00O_wyw",
        "outputId": "4181d0ba-363b-48d8-fb60-9d959a035fb5"
      },
      "outputs": [],
      "source": [
        "#!pip install optuna"
      ]
    },
    {
      "cell_type": "code",
      "execution_count": null,
      "metadata": {},
      "outputs": [],
      "source": [
        "#!pip install tensorflow"
      ]
    },
    {
      "cell_type": "code",
      "execution_count": null,
      "metadata": {},
      "outputs": [],
      "source": [
        "#!pip install pandas"
      ]
    },
    {
      "cell_type": "code",
      "execution_count": null,
      "metadata": {
        "id": "rTa7IXUAt_B4"
      },
      "outputs": [],
      "source": [
        "import pandas as pd\n",
        "import numpy as np\n",
        "import seaborn as sns\n",
        "import matplotlib.pyplot as plt\n",
        "import statsmodels.api as sm\n",
        "from math import sqrt\n",
        "\n",
        "# De scikit-learn...\n",
        "\n",
        "# Pipeline\n",
        "from sklearn.base import BaseEstimator, TransformerMixin\n",
        "from sklearn.preprocessing import LabelEncoder\n",
        "from sklearn.preprocessing import PowerTransformer\n",
        "\n",
        "# Estandarización y modelado\n",
        "from sklearn.pipeline import make_pipeline\n",
        "from sklearn.preprocessing import StandardScaler\n",
        "from sklearn.metrics import mean_squared_error\n",
        "from sklearn import metrics\n",
        "\n",
        "from sklearn.pipeline import Pipeline\n",
        "from sklearn.compose import ColumnTransformer\n",
        "from sklearn.impute import SimpleImputer\n",
        "from sklearn.preprocessing import OneHotEncoder\n",
        "\n",
        "from sklearn.compose import make_column_selector\n",
        "# Division de los datos\n",
        "from sklearn.model_selection import train_test_split, RandomizedSearchCV\n",
        "\n",
        "# Normalización\n",
        "from sklearn.preprocessing import MinMaxScaler\n",
        "\n",
        "# Regresiones\n",
        "from sklearn.linear_model import LinearRegression, SGDRegressor, Ridge, Lasso, ElasticNet, RidgeCV, ElasticNetCV, LassoCV, LogisticRegression\n",
        "\n",
        "# ML metricas\n",
        "from sklearn.metrics import mean_squared_error, r2_score, classification_report, roc_curve, auc, confusion_matrix, accuracy_score, ConfusionMatrixDisplay, mean_absolute_percentage_error, mean_absolute_error\n",
        "\n",
        "# Validación Cruzada\n",
        "from sklearn.model_selection import cross_val_score, StratifiedKFold, KFold, LeaveOneOut\n",
        "\n",
        "# Explicabilidad\n",
        "import shap\n",
        "\n",
        "# Redes Neuronales\n",
        "from setuptools import setup\n",
        "from distutils.core import setup\n",
        "from tensorflow.keras.layers import Dense, Dropout\n",
        "from tensorflow.keras.models import Sequential\n",
        "from tensorflow.keras.metrics import Precision\n",
        "from tensorflow.keras.utils import to_categorical\n",
        "from keras.optimizers import Adam\n",
        "\n",
        "# Optimización de HP\n",
        "import optuna\n",
        "from optuna.trial import Trial\n"
      ]
    },
    {
      "cell_type": "code",
      "execution_count": null,
      "metadata": {
        "colab": {
          "base_uri": "https://localhost:8080/",
          "height": 342
        },
        "id": "xNw9O_YAuBTG",
        "outputId": "248fa8a4-6298-420d-8298-b5ce6db0c1ac"
      },
      "outputs": [],
      "source": [
        "path= 'weatherAUS.csv'\n",
        "#path = '/content/drive/MyDrive/weatherAUS.csv'\n",
        "df = pd.read_csv(path, usecols=range(1,25))\n",
        "df.head()"
      ]
    },
    {
      "cell_type": "code",
      "execution_count": null,
      "metadata": {
        "colab": {
          "base_uri": "https://localhost:8080/"
        },
        "id": "422Q8ZRVuULh",
        "outputId": "5c206e79-afed-477a-ad67-ad628995baaf"
      },
      "outputs": [],
      "source": [
        "### Columnas\n",
        "df.columns"
      ]
    },
    {
      "cell_type": "code",
      "execution_count": null,
      "metadata": {
        "colab": {
          "base_uri": "https://localhost:8080/",
          "height": 320
        },
        "id": "J7X8yU6buVWG",
        "outputId": "f45df896-e1af-4196-d3b4-58dd1a6878ba"
      },
      "outputs": [],
      "source": [
        "df.describe()"
      ]
    },
    {
      "cell_type": "code",
      "execution_count": null,
      "metadata": {
        "colab": {
          "base_uri": "https://localhost:8080/"
        },
        "id": "Sic_Qcs5uWrm",
        "outputId": "d76783dd-6e26-4fc9-ea60-d8690dc60220"
      },
      "outputs": [],
      "source": [
        "### Cantidad de valores faltantes.\n",
        "df.isna().sum()"
      ]
    },
    {
      "cell_type": "code",
      "execution_count": null,
      "metadata": {
        "colab": {
          "base_uri": "https://localhost:8080/"
        },
        "id": "tKUpkmxruswI",
        "outputId": "4babf417-6821-487d-cec7-03f0b1fbcef1"
      },
      "outputs": [],
      "source": [
        "df.info()"
      ]
    },
    {
      "cell_type": "code",
      "execution_count": null,
      "metadata": {
        "colab": {
          "base_uri": "https://localhost:8080/"
        },
        "id": "eU8UKsAPuuGW",
        "outputId": "e18fdb6e-b5db-41fa-c673-904eb81e9cdf"
      },
      "outputs": [],
      "source": [
        "df['Location'].unique()"
      ]
    },
    {
      "cell_type": "code",
      "execution_count": null,
      "metadata": {
        "id": "Ghy2bPmHuvjW"
      },
      "outputs": [],
      "source": [
        "costa_este = [\"Adelaide\", \"Canberra\", \"Cobar\", \"Dartmoor\", \"Melbourne\", \"MelbourneAirport\", \"MountGambier\", \"Sydney\", \"SydneyAirport\"]\n",
        "\n",
        "df.loc[df['Location'].isin(costa_este), 'Location'] = 'costa_este'\n",
        "\n",
        "df = df[df['Location'] == 'costa_este']\n",
        "\n",
        "df = df.reset_index(drop=True)"
      ]
    },
    {
      "cell_type": "code",
      "execution_count": null,
      "metadata": {
        "colab": {
          "base_uri": "https://localhost:8080/",
          "height": 342
        },
        "id": "fVUkTvL9uwtI",
        "outputId": "b6b2c589-adc9-4ec1-ae3b-f826587f36af"
      },
      "outputs": [],
      "source": [
        "df.head()"
      ]
    },
    {
      "cell_type": "code",
      "execution_count": null,
      "metadata": {
        "colab": {
          "base_uri": "https://localhost:8080/"
        },
        "id": "nbtNP9PQuX53",
        "outputId": "fa4d9818-55f7-4688-b31b-61689186f943"
      },
      "outputs": [],
      "source": [
        "### Busco duplicados\n",
        "if not df.duplicated().any():\n",
        "  print('No hay registros duplicados')"
      ]
    },
    {
      "cell_type": "code",
      "execution_count": null,
      "metadata": {
        "colab": {
          "base_uri": "https://localhost:8080/"
        },
        "id": "abPCQ39Wu17W",
        "outputId": "c09eeaff-f89b-4ff2-b3a8-ba551f851e3e"
      },
      "outputs": [],
      "source": [
        "df.isnull().sum()"
      ]
    },
    {
      "cell_type": "code",
      "execution_count": null,
      "metadata": {
        "colab": {
          "base_uri": "https://localhost:8080/"
        },
        "id": "7InPqeEOuZhI",
        "outputId": "2c971abf-a9fe-45b8-ed90-b253e8f161fb"
      },
      "outputs": [],
      "source": [
        "df.info()"
      ]
    },
    {
      "cell_type": "code",
      "execution_count": null,
      "metadata": {
        "colab": {
          "base_uri": "https://localhost:8080/",
          "height": 320
        },
        "id": "1aeD9HxGubUQ",
        "outputId": "4b787af6-5454-4b26-855b-f3a327cc2164"
      },
      "outputs": [],
      "source": [
        "df.describe()"
      ]
    },
    {
      "cell_type": "markdown",
      "metadata": {},
      "source": [
        "# Analisis Exploratorio"
      ]
    },
    {
      "cell_type": "markdown",
      "metadata": {},
      "source": [
        "## Correlación"
      ]
    },
    {
      "cell_type": "code",
      "execution_count": null,
      "metadata": {},
      "outputs": [],
      "source": [
        "num_col = df.select_dtypes(include=['float64'])\n",
        "corr = num_col.corr().round(1)\n",
        "plt.figure(figsize=(15, 15))\n",
        "sns.heatmap(corr, annot=True, cmap=\"rocket\", center=0)\n",
        "plt.show()"
      ]
    },
    {
      "cell_type": "code",
      "execution_count": null,
      "metadata": {},
      "outputs": [],
      "source": [
        "### scatter_plots entre variables que tienen una alta correlación\n",
        "### Humedad\n",
        "num_col['RainTomorrow'] = df['RainTomorrow']\n",
        "plt.figure(dpi=120)\n",
        "sns.scatterplot(num_col, x='Humidity9am', y='Humidity3pm', hue='RainTomorrow', alpha=0.3)"
      ]
    },
    {
      "cell_type": "markdown",
      "metadata": {},
      "source": [
        "\n",
        "Segun el gráfico, se observa si ambos valores de humedad son altos, entonces hay grandes chances de lluvia"
      ]
    },
    {
      "cell_type": "code",
      "execution_count": null,
      "metadata": {},
      "outputs": [],
      "source": [
        "### Presión\n",
        "plt.figure(dpi=120)\n",
        "sns.scatterplot(num_col, x='Pressure9am', y='Pressure3pm', hue='RainTomorrow', alpha=0.3)"
      ]
    },
    {
      "cell_type": "markdown",
      "metadata": {},
      "source": [
        "Segun el gráfico, si la presión de las 9am es baja al igual que la de las 3pm entonces hay grandes chances de lluvia"
      ]
    },
    {
      "cell_type": "code",
      "execution_count": null,
      "metadata": {},
      "outputs": [],
      "source": [
        "### Temperatura\n",
        "plt.figure(dpi=120)\n",
        "sns.scatterplot(num_col, x='MaxTemp', y='MinTemp', hue='RainTomorrow', alpha=0.3)"
      ]
    },
    {
      "cell_type": "code",
      "execution_count": null,
      "metadata": {},
      "outputs": [],
      "source": [
        "# Relación entre la Humedad a las 3pm y la cantidad de lluvia de mañana\n",
        "f ,ax = plt.subplots()\n",
        "plt.figure(figsize=(3, 2))\n",
        "ax.scatter(num_col['Humidity3pm'], num_col['RainfallTomorrow'], s= 10)\n",
        "ax.set_xlabel('Humidity3pm')\n",
        "ax.set_ylabel('RainfallTomorrow')\n",
        "plt.show()"
      ]
    },
    {
      "cell_type": "markdown",
      "metadata": {},
      "source": [
        "Segun el gráfico, se observa una tendencia de que a mayor humedad de las 3pm mayor cantidad de lluvia"
      ]
    },
    {
      "cell_type": "code",
      "execution_count": null,
      "metadata": {},
      "outputs": [],
      "source": [
        "# Distribución de RainfallTomorrow\n",
        "sns.kdeplot(num_col['RainfallTomorrow'], bw_method=0.5)"
      ]
    },
    {
      "cell_type": "markdown",
      "metadata": {},
      "source": [
        "Segun el gráfico, se observan gran cantidad de outliers"
      ]
    },
    {
      "cell_type": "code",
      "execution_count": null,
      "metadata": {},
      "outputs": [],
      "source": [
        "#  QQ-plot\n",
        "sm.qqplot((num_col['RainfallTomorrow']))\n",
        "plt.title(\"Gráfico de Probabilidad Normal (QQ-plot)\")\n",
        "plt.show()"
      ]
    },
    {
      "cell_type": "markdown",
      "metadata": {},
      "source": [
        "La distribución de la variable a predecir no presenta normalidad"
      ]
    },
    {
      "cell_type": "markdown",
      "metadata": {},
      "source": [
        "## Pipeline\n",
        "\n",
        "* Descartar Unnamed y Date porque son features que no vamos a utilizar: **ColDropper** (Ademas droppear RainfallTomorrow para prevenir la fuga de datos)\n",
        "* Descartar todas las location que no son necesarias: **LocDropper**\n",
        "* Dropear nulos y Label Encoding para las variables yes/no: **BoolYNDropperEncoder**\n",
        "* Imputar valores nulos en variables categoricas con la moda: **CatFiller**\n",
        "* Imputar valores nulos en variables numericas con la media:  **NumFiller**\n",
        "* One Hot Encoding para las location: **LocEncoder**\n",
        "* Encoding en sin y cos para WinDir: **CoordRecat**\n",
        "* Estandarizar valores: **Standarizer**\n"
      ]
    },
    {
      "cell_type": "code",
      "execution_count": null,
      "metadata": {
        "id": "tlDvlhQ7ucNl"
      },
      "outputs": [],
      "source": [
        "class ColDropper(BaseEstimator, TransformerMixin):\n",
        "  def fit(self, X, y=None):\n",
        "        return self\n",
        "\n",
        "  def transform(self, X):\n",
        "    return X.drop(['Unnamed: 0', 'Date', 'RainTomorrow'], axis=1)"
      ]
    },
    {
      "cell_type": "code",
      "execution_count": null,
      "metadata": {
        "id": "fWOUCStGuc-F"
      },
      "outputs": [],
      "source": [
        "class LocDropper(BaseEstimator, TransformerMixin):\n",
        "  def fit(self, X, y=None):\n",
        "        return self\n",
        "\n",
        "  def transform(self, X):\n",
        "    aus_loc = [' Adelaide', 'Canberra', 'Cobar', 'Dartmoor', 'Melbourne', 'MelbourneAirport', 'MountGambier', 'Sydney', 'SydneyAirport' ]\n",
        "    return X[X['Location'].isin(aus_loc)]"
      ]
    },
    {
      "cell_type": "code",
      "execution_count": null,
      "metadata": {
        "id": "UWUc48z5vMUo"
      },
      "outputs": [],
      "source": [
        "class CatFiller(BaseEstimator, TransformerMixin):\n",
        "    def fit(self, X, y=None):\n",
        "        return self\n",
        "\n",
        "    def transform(self, X):\n",
        "      X['WindGustDir'] = X.groupby('Location')['WindGustDir'].transform(lambda x: x.fillna(x.mode()[0]))\n",
        "      X['WindDir9am'] = X.groupby('Location')['WindDir9am'].transform(lambda x: x.fillna(x.mode()[0]))\n",
        "      X['WindDir3pm'] = X.groupby('Location')['WindDir3pm'].transform(lambda x: x.fillna(x.mode()[0]))\n",
        "\n",
        "      return X"
      ]
    },
    {
      "cell_type": "code",
      "execution_count": null,
      "metadata": {
        "id": "W7eGEYtCvNdY"
      },
      "outputs": [],
      "source": [
        "class NumFiller(BaseEstimator, TransformerMixin):\n",
        "    def fit(self, X, y=None):\n",
        "        return self\n",
        "\n",
        "    def transform(self, X):\n",
        "      remanining_vnul_columns = X.columns[X.isna().any()].tolist()\n",
        "      for col in remanining_vnul_columns:\n",
        "        X[col] =  X[col].fillna(X[col].mean())\n",
        "\n",
        "      return X"
      ]
    },
    {
      "cell_type": "code",
      "execution_count": null,
      "metadata": {
        "id": "pgRQT-aKvPng"
      },
      "outputs": [],
      "source": [
        "# https://www.mdpi.com/2078-2489/13/4/163 Como las variables de la dirección de los vientos pueden tener hasta 16 direcciones diferentes, para convertirlos a variables numéricas, se tiene encuenta una distribución circular. Por eso, cada una de las variables se dividió en dos: Una con el seno y otra con el coseno del angulo\n",
        "class CoordRecat(BaseEstimator, TransformerMixin):\n",
        "    def fit(self, X, y=None):\n",
        "        return self\n",
        "\n",
        "    def transform(self, X):\n",
        "        coord = {\n",
        "            'N': 0, 'NNE': 22.5, 'NE': 45, 'ENE': 67.5,\n",
        "            'E': 90, 'ESE': 112.5, 'SE': 135, 'SSE': 157.5,\n",
        "            'S': 180, 'SSW': 202.5, 'SW': 225, 'WSW': 247.5,\n",
        "            'W': 270, 'WNW': 292.5, 'NW': 315, 'NNW': 337.5,\n",
        "        }\n",
        "\n",
        "        # Aplicar la recategorización\n",
        "        for col in ['WindGustDir', 'WindDir9am', 'WindDir3pm']:\n",
        "            X[col] = X[col].map(coord)\n",
        "            X[f'{col}_rad'] = np.deg2rad(X[col])\n",
        "            X[f'{col}_sin'] = np.sin(X[f'{col}_rad']).round(5)\n",
        "            X[f'{col}_cos'] = np.cos(X[f'{col}_rad']).round(5)\n",
        "\n",
        "        # Eliminar columnas originales y columnas radianes\n",
        "        columns_to_drop = [f'{col}_rad' for col in ['WindGustDir', 'WindDir9am', 'WindDir3pm']] + ['WindGustDir', 'WindDir9am', 'WindDir3pm']\n",
        "        X = X.drop(columns=columns_to_drop, axis=1)\n",
        "\n",
        "        return X"
      ]
    },
    {
      "cell_type": "code",
      "execution_count": null,
      "metadata": {
        "id": "EVp_npXTvQv_"
      },
      "outputs": [],
      "source": [
        "class LocEncoder(BaseEstimator, TransformerMixin):\n",
        "    def fit(self, X, y=None):\n",
        "        return self\n",
        "\n",
        "    def transform(self, X):\n",
        "      dummies = pd.get_dummies(X['Location'], dtype=int)\n",
        "      X = pd.concat([X, dummies], axis=1)\n",
        "      X.drop('Location', axis=1, inplace=True)\n",
        "\n",
        "      return X"
      ]
    },
    {
      "cell_type": "code",
      "execution_count": null,
      "metadata": {
        "id": "1NjRiYVJvR2o"
      },
      "outputs": [],
      "source": [
        "class ResetIndex(BaseEstimator, TransformerMixin):\n",
        "    def fit(self, X, y=None):\n",
        "        return self\n",
        "\n",
        "    def transform(self, X):\n",
        "        return X.reset_index(drop=True)"
      ]
    },
    {
      "cell_type": "code",
      "execution_count": null,
      "metadata": {
        "id": "r4XASsxfvTc3"
      },
      "outputs": [],
      "source": [
        "class Standarizer(BaseEstimator, TransformerMixin):\n",
        "  def fit(self, X, y=None):\n",
        "      return self\n",
        "  def transform(self, X):\n",
        "    # Exclusión de variables booleanas y RainfallTmorrow porque no serán estandarizaradas\n",
        "    exc_c = ['RainToday', 'RainTomorrow', 'RainfallTomorrow']\n",
        "\n",
        "    # Estandarización\n",
        "    df_sub = X[[col for col in X.columns if col not in exc_c]]\n",
        "    scaler = StandardScaler()\n",
        "    X_scaled = scaler.fit_transform(df_sub)\n",
        "\n",
        "    X_scaled = pd.DataFrame(X_scaled, columns=df_sub.columns)\n",
        "    for col in exc_c:\n",
        "      X_scaled[f'{col}'] = X[col]\n",
        "\n",
        "    # Nuevo DataFrame estandarizado con los nombres de las columnas originales\n",
        "    return X_scaled"
      ]
    },
    {
      "cell_type": "code",
      "execution_count": null,
      "metadata": {
        "id": "dDYi2EyfvU0B"
      },
      "outputs": [],
      "source": [
        "class OutliersTreater(BaseEstimator, TransformerMixin):\n",
        "  def fit(self, X, y=None):\n",
        "      return self\n",
        "  def transform(self, X):\n",
        "    cols_with_ouliers=['MinTemp', 'MaxTemp', 'Rainfall', 'Evaporation', 'Sunshine',\n",
        "       'WindGustSpeed', 'WindSpeed9am', 'WindSpeed3pm', 'Humidity9am',\n",
        "       'Humidity3pm', 'Pressure9am', 'Pressure3pm', 'Cloud9am', 'Cloud3pm',\n",
        "       'Temp9am', 'Temp3pm']\n",
        "\n",
        "    for col in cols_with_ouliers:\n",
        "      IQR=X[col].quantile(0.75)-X[col].quantile(0.25)\n",
        "      lower_bridge=X[col].quantile(0.25)-(IQR*1.5)\n",
        "      upper_bridge=X[col].quantile(0.75)+(IQR*1.5)\n",
        "\n",
        "      X.loc[X[col]>=round(upper_bridge,2),col]=round(upper_bridge,2)\n",
        "      X.loc[X[col]<=round(lower_bridge,2),col]=round(lower_bridge,2)\n",
        "\n",
        "    return X"
      ]
    },
    {
      "cell_type": "code",
      "execution_count": null,
      "metadata": {
        "id": "xrYgWE-328DY"
      },
      "outputs": [],
      "source": [
        "class ColDropper(BaseEstimator, TransformerMixin):\n",
        "  def fit(self, X, y=None):\n",
        "        return self\n",
        "\n",
        "  def transform(self, X):\n",
        "    return X.drop(['Date'], axis=1)"
      ]
    },
    {
      "cell_type": "code",
      "execution_count": null,
      "metadata": {
        "id": "BvQ9LAWs3-GP"
      },
      "outputs": [],
      "source": [
        "class LocDropper(BaseEstimator, TransformerMixin):\n",
        "  def fit(self, X, y=None):\n",
        "        return self\n",
        "\n",
        "  def transform(self, X):\n",
        "    costa_este = [' Adelaide', 'Canberra', 'Cobar', 'Dartmoor', 'Melbourne', 'MelbourneAirport', 'MountGambier', 'Sydney', 'SydneyAirport' ]\n",
        "    X.loc[X['Location'].isin(costa_este), 'Location'] = 'costa_este'\n",
        "    return X[X['Location'] == 'costa_este']"
      ]
    },
    {
      "cell_type": "code",
      "execution_count": null,
      "metadata": {
        "id": "OPhl3wML3_uE"
      },
      "outputs": [],
      "source": [
        "class CatFiller(BaseEstimator, TransformerMixin):\n",
        "    def fit(self, X, y=None):\n",
        "        return self\n",
        "\n",
        "    def transform(self, X):\n",
        "      X['WindGustDir'] = X.groupby('Location')['WindGustDir'].transform(lambda x: x.fillna(x.mode()[0]))\n",
        "      X['WindDir9am'] = X.groupby('Location')['WindDir9am'].transform(lambda x: x.fillna(x.mode()[0]))\n",
        "      X['WindDir3pm'] = X.groupby('Location')['WindDir3pm'].transform(lambda x: x.fillna(x.mode()[0]))\n",
        "\n",
        "      return X"
      ]
    },
    {
      "cell_type": "code",
      "execution_count": null,
      "metadata": {
        "id": "GtnqzGhp4Aub"
      },
      "outputs": [],
      "source": [
        "class NumFiller(BaseEstimator, TransformerMixin):\n",
        "    def fit(self, X, y=None):\n",
        "        return self\n",
        "\n",
        "    def transform(self, X):\n",
        "      remanining_vnul_columns = X.columns[X.isna().any()].tolist()\n",
        "      for col in remanining_vnul_columns:\n",
        "        X[col] =  X[col].fillna(X[col].mean())\n",
        "\n",
        "      return X"
      ]
    },
    {
      "cell_type": "code",
      "execution_count": null,
      "metadata": {
        "id": "_qH0GTyh4B3d"
      },
      "outputs": [],
      "source": [
        "# https://www.mdpi.com/2078-2489/13/4/163 Como las variables de la dirección de los vientos pueden tener hasta 16 direcciones diferentes, para convertirlos a variables numéricas, se tiene encuenta una distribución circular. Por eso, cada una de las variables se dividió en dos: Una con el seno y otra con el coseno del angulo\n",
        "class CoordRecat(BaseEstimator, TransformerMixin):\n",
        "    def fit(self, X, y=None):\n",
        "        return self\n",
        "\n",
        "    def transform(self, X):\n",
        "        coord = {\n",
        "            'N': 0, 'NNE': 22.5, 'NE': 45, 'ENE': 67.5,\n",
        "            'E': 90, 'ESE': 112.5, 'SE': 135, 'SSE': 157.5,\n",
        "            'S': 180, 'SSW': 202.5, 'SW': 225, 'WSW': 247.5,\n",
        "            'W': 270, 'WNW': 292.5, 'NW': 315, 'NNW': 337.5,\n",
        "        }\n",
        "\n",
        "        # Aplicar la recategorización\n",
        "        for col in ['WindGustDir', 'WindDir9am', 'WindDir3pm']:\n",
        "            X[col] = X[col].map(coord)\n",
        "            X[f'{col}_rad'] = np.deg2rad(X[col])\n",
        "            X[f'{col}_sin'] = np.sin(X[f'{col}_rad']).round(5)\n",
        "            X[f'{col}_cos'] = np.cos(X[f'{col}_rad']).round(5)\n",
        "\n",
        "        # Eliminar columnas originales y columnas radianes\n",
        "        columns_to_drop = [f'{col}_rad' for col in ['WindGustDir', 'WindDir9am', 'WindDir3pm']] + ['WindGustDir', 'WindDir9am', 'WindDir3pm']\n",
        "        X = X.drop(columns=columns_to_drop, axis=1)\n",
        "\n",
        "        return X"
      ]
    },
    {
      "cell_type": "code",
      "execution_count": null,
      "metadata": {
        "id": "8kPJcQGG4C8Y"
      },
      "outputs": [],
      "source": [
        "class LocEncoder(BaseEstimator, TransformerMixin):\n",
        "    def fit(self, X, y=None):\n",
        "        return self\n",
        "\n",
        "    def transform(self, X):\n",
        "      dummies = pd.get_dummies(X['Location'], dtype=int)\n",
        "      X = pd.concat([X, dummies], axis=1)\n",
        "      X.drop('Location', axis=1, inplace=True)\n",
        "\n",
        "      return X"
      ]
    },
    {
      "cell_type": "code",
      "execution_count": null,
      "metadata": {
        "id": "3HBEtwi24ECC"
      },
      "outputs": [],
      "source": [
        "class ResetIndex(BaseEstimator, TransformerMixin):\n",
        "    def fit(self, X, y=None):\n",
        "        return self\n",
        "\n",
        "    def transform(self, X):\n",
        "        return X.reset_index(drop=True)"
      ]
    },
    {
      "cell_type": "code",
      "execution_count": null,
      "metadata": {
        "id": "Wyyv074d4FBY"
      },
      "outputs": [],
      "source": [
        "class BoolYNDropperEncoder(BaseEstimator, TransformerMixin):\n",
        "    def fit(self, X, y=None):\n",
        "        return self\n",
        "\n",
        "    def transform(self, X):\n",
        "      X.dropna(subset=['RainToday'], inplace=True)\n",
        "      X['RainTomorrow'] = X['RainTomorrow'].map({'No': 0, 'Yes': 1}).astype(float)\n",
        "      X['RainToday'] = X['RainToday'].map({'No': 0, 'Yes': 1}).astype(float)\n",
        "\n",
        "      return X"
      ]
    },
    {
      "cell_type": "code",
      "execution_count": null,
      "metadata": {
        "id": "pGE_Lh_T4GCR"
      },
      "outputs": [],
      "source": [
        "class Standarizer(BaseEstimator, TransformerMixin):\n",
        "  def fit(self, X, y=None):\n",
        "      return self\n",
        "  def transform(self, X):\n",
        "    # Exclusión de variables booleanas y RainfallTmorrow porque no serán estandarizaradas\n",
        "    exc_c = ['RainToday', 'RainTomorrow']\n",
        "\n",
        "    # Estandarización\n",
        "    df_sub = X[[col for col in X.columns if col not in exc_c]]\n",
        "    scaler = StandardScaler()\n",
        "    X_scaled = scaler.fit_transform(df_sub)\n",
        "\n",
        "    X_scaled = pd.DataFrame(X_scaled, columns=df_sub.columns)\n",
        "    for col in exc_c:\n",
        "      X_scaled[f'{col}'] = X[col]\n",
        "\n",
        "    # Nuevo DataFrame estandarizado con los nombres de las columnas originales\n",
        "    return X_scaled"
      ]
    },
    {
      "cell_type": "code",
      "execution_count": null,
      "metadata": {
        "id": "Y-SXOXKH4IW9"
      },
      "outputs": [],
      "source": [
        "class OutliersTreater(BaseEstimator, TransformerMixin):\n",
        "  def fit(self, X, y=None):\n",
        "      return self\n",
        "  def transform(self, X):\n",
        "    cols_with_ouliers=['MinTemp', 'MaxTemp', 'Rainfall', 'Evaporation', 'Sunshine',\n",
        "       'WindGustSpeed', 'WindSpeed9am', 'WindSpeed3pm', 'Humidity9am',\n",
        "       'Humidity3pm', 'Pressure9am', 'Pressure3pm', 'Cloud9am', 'Cloud3pm',\n",
        "       'Temp9am', 'Temp3pm']\n",
        "\n",
        "    for col in cols_with_ouliers:\n",
        "      IQR=X[col].quantile(0.75)-X[col].quantile(0.25)\n",
        "      lower_bridge=X[col].quantile(0.25)-(IQR*1.5)\n",
        "      upper_bridge=X[col].quantile(0.75)+(IQR*1.5)\n",
        "\n",
        "      X.loc[X[col]>=round(upper_bridge,2),col]=round(upper_bridge,2)\n",
        "      X.loc[X[col]<=round(lower_bridge,2),col]=round(lower_bridge,2)\n",
        "\n",
        "    return X\n"
      ]
    },
    {
      "cell_type": "code",
      "execution_count": null,
      "metadata": {
        "id": "WEPSj55J4JZh"
      },
      "outputs": [],
      "source": [
        "class RLValDropper(BaseEstimator, TransformerMixin):\n",
        "  def fit (self, X, y=None):\n",
        "    return self\n",
        "  def transform(self, X):\n",
        "    X.dropna(subset=['RainTomorrow'], inplace=True)\n",
        "    return X\n"
      ]
    },
    {
      "cell_type": "code",
      "execution_count": null,
      "metadata": {
        "id": "r0yWOzs14KJR"
      },
      "outputs": [],
      "source": [
        "preprocessor = Pipeline([\n",
        "     ('drop_null_val_rl', RLValDropper()),\n",
        "     ('drop_not_needed_features', ColDropper()),\n",
        "     ('drop_nor_needed_locations',LocDropper()),\n",
        "     ('yes_no_dropper_encoder', BoolYNDropperEncoder()),\n",
        "     ('fill_null_cat', CatFiller()),\n",
        "     ('fill_num_cat', NumFiller()),\n",
        "     ('encode_loc', LocEncoder()),\n",
        "     ('encode_wind_dir', CoordRecat()),\n",
        "     ('reset_index',ResetIndex()),\n",
        "     ('treat_outliers',OutliersTreater()),\n",
        "     ('standariza_values', Standarizer())\n",
        "])\n"
      ]
    },
    {
      "cell_type": "markdown",
      "metadata": {},
      "source": [
        "# Split Train-Test"
      ]
    },
    {
      "cell_type": "code",
      "execution_count": null,
      "metadata": {},
      "outputs": [],
      "source": [
        "# Dropeo valores nulos de 'RainfallTomorrow' de mi dataframe original\n",
        "df.dropna(subset=['RainToday', 'RainTomorrow'], inplace=True)\n",
        "\n",
        "# Separación de variables explicativas y variables objetivo\n",
        "X = df.drop(['RainfallTomorrow'], axis=1).copy()\n",
        "y = df[['RainfallTomorrow']].copy()\n",
        "\n",
        "# Spliteo mi dataset en train-test\n",
        "X_train, X_test, y_train, y_test = train_test_split(X, y, test_size=0.2, random_state=42)\n",
        "X_train.shape, X_test.shape, y_train.shape, y_test.shape"
      ]
    },
    {
      "cell_type": "code",
      "execution_count": null,
      "metadata": {},
      "outputs": [],
      "source": [
        "# Creo un Dataframe de TRAIN\n",
        "df_train = pd.DataFrame(X_train, columns=X.columns)\n",
        "df_train['RainfallTomorrow'] = y['RainfallTomorrow']\n",
        "\n",
        "# Creo un Dataframe de TEST\n",
        "df_test = pd.DataFrame(X_test, columns=X.columns)\n",
        "\n",
        "df_test['RainfallTomorrow'] = y['RainfallTomorrow']\n",
        "\n",
        "# Preproceso mi df de test y mi df de train\n",
        "df_train = preprocessor.fit_transform(df_train)\n",
        "df_test = preprocessor.fit_transform(df_test)"
      ]
    },
    {
      "cell_type": "code",
      "execution_count": null,
      "metadata": {},
      "outputs": [],
      "source": [
        "num_cols = df_train.select_dtypes(include=['float64']).columns.tolist()\n",
        "for col in num_cols:\n",
        "  plt.figure(figsize=(6, 2))\n",
        "  df_train[col].plot(kind='box', vert=False)\n",
        "  plt.tight_layout()\n",
        "  plt.show()"
      ]
    },
    {
      "cell_type": "markdown",
      "metadata": {},
      "source": [
        "# Regresiones\n"
      ]
    },
    {
      "cell_type": "markdown",
      "metadata": {},
      "source": [
        "Modelo que predice la cantidad de lluvia para el día siguiente. \"RainfallTomorrow\" --> varibale continua a predecir."
      ]
    },
    {
      "cell_type": "code",
      "execution_count": null,
      "metadata": {},
      "outputs": [],
      "source": [
        "## Con features correlacionadas >= 0.1\n",
        "X_train = df_train[['RainToday', 'Humidity3pm', 'Rainfall', 'WindGustSpeed', 'Cloud9am', 'Cloud3pm', 'MinTemp', 'WindSpeed9am', 'WindSpeed3pm']]\n",
        "y_train = df_train['RainfallTomorrow']\n",
        "\n",
        "X_test = df_test[['RainToday', 'Humidity3pm', 'Rainfall', 'WindGustSpeed', 'Cloud9am', 'Cloud3pm', 'MinTemp', 'WindSpeed9am', 'WindSpeed3pm']]\n",
        "y_test = df_test['RainfallTomorrow']"
      ]
    },
    {
      "cell_type": "code",
      "execution_count": null,
      "metadata": {},
      "outputs": [],
      "source": [
        "# Modelo de regresión lineal\n",
        "linear_model = LinearRegression()\n",
        "# Entrenamiento del modelo\n",
        "linear_model.fit(X_train, y_train)\n",
        "# Predicciones en el conjunto de prueba\n",
        "y_pred = linear_model.predict(X_test)"
      ]
    },
    {
      "cell_type": "markdown",
      "metadata": {},
      "source": [
        "# Regresión Lineal"
      ]
    },
    {
      "cell_type": "code",
      "execution_count": null,
      "metadata": {},
      "outputs": [],
      "source": [
        "# Métricas del modelo\n",
        "mse_selfeat = mean_squared_error(y_test, y_pred)\n",
        "r2_selfeat = r2_score(y_test, y_pred)\n",
        "score_selfeat = linear_model.score(X_test, y_test)\n",
        "score_selfeat_train = linear_model.score(X_train, y_train)\n",
        "print(f\"Puntaje train: {score_selfeat_train}\")\n",
        "print(f\"Puntaje test: {score_selfeat}\")\n",
        "\n",
        "print(f'Error cuadrático medio (MSE) con features seleccionadas: {mse_selfeat:.2f}')\n",
        "print(f'Coeficiente de determinación (R^2) con features seleccionadas: {r2_selfeat:.2f}\\n')"
      ]
    },
    {
      "cell_type": "code",
      "execution_count": null,
      "metadata": {},
      "outputs": [],
      "source": [
        "fig = plt.figure(figsize=(8,4))\n",
        "fig.suptitle('residuos')\n",
        "plt.xlabel('y_test')\n",
        "plt.ylabel('residuos')\n",
        "plt.scatter(y_test,100*(y_test-y_pred)/y_test)\n",
        "plt.show()"
      ]
    },
    {
      "cell_type": "markdown",
      "metadata": {},
      "source": [
        "El patrón nos sugiere que la función de regresión no es lineal, hay sesgo. Simplificamos el modelo para mejorar las métricas"
      ]
    },
    {
      "cell_type": "code",
      "execution_count": null,
      "metadata": {},
      "outputs": [],
      "source": [
        "# Características (X) y la variable objetivo (y)\n",
        "X_train = df_train['Humidity3pm'].values.reshape(-1, 1)\n",
        "y_train = df_train['RainfallTomorrow'].values\n",
        "\n",
        "# Características (X) y la variable objetivo (y) para el conjunto de prueba\n",
        "X_test = df_test[['Humidity3pm']].values.reshape(-1, 1)\n",
        "y_test = df_test['RainfallTomorrow'].values"
      ]
    },
    {
      "cell_type": "code",
      "execution_count": null,
      "metadata": {},
      "outputs": [],
      "source": [
        "# Modelo de regresión lineal\n",
        "linear_model = LinearRegression()\n",
        "# Entrenamiento del modelo\n",
        "linear_model.fit(X_train, y_train)\n",
        "# Predicciones en el conjunto de prueba\n",
        "y_pred = linear_model.predict(X_test)\n",
        "\n",
        "# Métricas del modelo\n",
        "mse = mean_squared_error(y_test, y_pred)\n",
        "r2 = r2_score(y_test, y_pred)\n",
        "\n",
        "score_selfeat = linear_model.score(X_test, y_test)\n",
        "score_selfeat_train = linear_model.score(X_train, y_train)\n",
        "print(f\"Puntaje train: {score_selfeat_train}\")\n",
        "print(f\"Puntaje test: {score_selfeat}\")\n",
        "\n",
        "print(f'Error cuadrático medio (MSE): {mse:.2f}')\n",
        "print(f'Coeficiente de determinación (R^2): {r2:.2f}\\n')"
      ]
    },
    {
      "cell_type": "code",
      "execution_count": null,
      "metadata": {},
      "outputs": [],
      "source": [
        "plt.scatter(X_train, y_train, color='blue')\n",
        "plt.plot(X_train, linear_model.predict(X_train), color='red')\n",
        "\n",
        "plt.xlabel('Humidity3pm')\n",
        "plt.ylabel('RainfallTomorrow')\n",
        "plt.title('Linear Regression Model')\n",
        "\n",
        "plt.show()"
      ]
    },
    {
      "cell_type": "markdown",
      "metadata": {},
      "source": [
        "## Regresión lineal con gradiente descendiente"
      ]
    },
    {
      "cell_type": "code",
      "execution_count": null,
      "metadata": {},
      "outputs": [],
      "source": [
        "## Con todas las features\n",
        "X_train = df_train.drop(['RainfallTomorrow'], axis=1)\n",
        "y_train = df_train['RainfallTomorrow']\n",
        "\n",
        "X_test = df_test.drop(['RainfallTomorrow'], axis=1)\n",
        "y_test = df_test['RainfallTomorrow']"
      ]
    },
    {
      "cell_type": "code",
      "execution_count": null,
      "metadata": {},
      "outputs": [],
      "source": [
        "# Creación del modelo\n",
        "model_sgd = SGDRegressor(max_iter=10000, random_state=42)\n",
        "\n",
        "# Listas para almacenar las pérdidas\n",
        "training_losses = []\n",
        "validation_losses = []\n",
        "\n",
        "# Ciclo de entrenamiento\n",
        "for epoch in range(1000):  # Ajusta según el número real de épocas\n",
        "    # train\n",
        "    model_sgd.partial_fit(X_train, y_train)\n",
        "    y_train_pred = model_sgd.predict(X_train)\n",
        "    training_loss = mean_squared_error(y_train, y_train_pred)\n",
        "    training_losses.append(training_loss)\n",
        "\n",
        "    # Validación\n",
        "    y_val_pred = model_sgd.predict(X_test)\n",
        "    validation_loss = mean_squared_error(y_test, y_val_pred)\n",
        "    validation_losses.append(validation_loss)\n",
        "\n",
        "# Graficar las pérdidas\n",
        "plt.plot(training_losses, label='Training Loss')\n",
        "plt.plot(validation_losses, label='Validation Loss')\n",
        "plt.xlabel('Época')\n",
        "plt.ylabel('Pérdida')\n",
        "plt.legend()\n",
        "plt.show()\n",
        "\n",
        "\n",
        "# Predicciones en el conjunto de prueba (Test)\n",
        "y_pred_sgd = model_sgd.predict(X_test)\n",
        "\n",
        "# Métricas del modelo\n",
        "mse_sgd = mean_squared_error(y_test, y_pred_sgd)\n",
        "r2_sgd = r2_score(y_test, y_pred_sgd)\n",
        "\n",
        "# Outputs\n",
        "print('Resultados con Gradiente Descendiente:')\n",
        "print(f'Error cuadrático medio (MSE): {mse_sgd:.2f}')\n",
        "print(f'Coeficiente de determinación (R^2): {r2_sgd:.2f}')"
      ]
    },
    {
      "cell_type": "markdown",
      "metadata": {},
      "source": [
        "Hay una mejora para ambas métricas en comparación con la regresión lineal sin regularización. El R-cuadrado aumenta en unos 23 centecimas, lo que indica un mejor ajuste."
      ]
    },
    {
      "cell_type": "markdown",
      "metadata": {},
      "source": [
        "## LR con Regularización"
      ]
    },
    {
      "cell_type": "markdown",
      "metadata": {},
      "source": [
        "### Lasso"
      ]
    },
    {
      "cell_type": "code",
      "execution_count": null,
      "metadata": {},
      "outputs": [],
      "source": [
        "## Con todas las features\n",
        "X_train = df_train.drop(['RainfallTomorrow'], axis=1)\n",
        "y_train = df_train['RainfallTomorrow']\n",
        "\n",
        "X_test = df_test.drop(['RainfallTomorrow'], axis=1)\n",
        "y_test = df_test['RainfallTomorrow']"
      ]
    },
    {
      "cell_type": "code",
      "execution_count": null,
      "metadata": {},
      "outputs": [],
      "source": [
        "modelo_lasso = make_pipeline(StandardScaler(),\n",
        "                        LassoCV(\n",
        "                           alphas=np.logspace(-10, 10, 200),\n",
        "                           cv=10\n",
        "                        )\n",
        "         )\n",
        "\n",
        "_ = modelo_lasso.fit(X_train, y_train)"
      ]
    },
    {
      "cell_type": "code",
      "execution_count": null,
      "metadata": {},
      "outputs": [],
      "source": [
        "# Evolución de los parámetros en función de alpha\n",
        "alphas = modelo_lasso.steps[1][1].alphas\n",
        "coefs = []\n",
        "\n",
        "for alpha in alphas:\n",
        "    modelo_aux = make_pipeline(StandardScaler(), Lasso(alpha=alpha, tol=1))\n",
        "    modelo_aux.fit(X_train, y_train)\n",
        "    coefs.append(modelo_aux.steps[1][1].coef_.flatten())\n",
        "\n",
        "fig, ax = plt.subplots(figsize=(15,5))\n",
        "ax.plot(alphas, coefs, label=X_train.columns)\n",
        "ax.set_xscale('log')\n",
        "ax.set_ylim([-0.5,None])\n",
        "ax.set_xlabel('alpha')\n",
        "ax.set_ylabel('parámetros')\n",
        "ax.legend()\n",
        "ax.set_title('Coeficientes del modelo en función de la regularización')\n",
        "plt.show()"
      ]
    },
    {
      "cell_type": "code",
      "execution_count": null,
      "metadata": {},
      "outputs": [],
      "source": [
        "n_predictores = []\n",
        "\n",
        "for alpha in alphas:\n",
        "    modelo_aux = make_pipeline(StandardScaler(), Lasso(alpha=alpha, tol=1))\n",
        "    modelo_aux.fit(X_train, y_train)\n",
        "    coef_no_cero = np.sum(modelo_aux.steps[1][1].coef_.flatten() != 0)\n",
        "    n_predictores.append(coef_no_cero)\n",
        "\n",
        "fig, ax = plt.subplots(figsize=(15, 5))\n",
        "ax.plot(alphas, n_predictores)\n",
        "ax.set_xscale('log')\n",
        "ax.set_ylim([-0.5,None])\n",
        "ax.set_xlabel('alpha')\n",
        "ax.set_ylabel('nº parámetros')\n",
        "ax.set_title('Features incluidas en función de la regularización')"
      ]
    },
    {
      "cell_type": "code",
      "execution_count": null,
      "metadata": {},
      "outputs": [],
      "source": [
        "# Mejor valor alpha encontrado\n",
        "mod = modelo_lasso.steps[1][1]\n",
        "print(f\"Mejor valor de alpha encontrado: {mod.alpha_}\")"
      ]
    },
    {
      "cell_type": "code",
      "execution_count": null,
      "metadata": {},
      "outputs": [],
      "source": [
        "# Error de test del modelo\n",
        "rmse_lasso = mean_squared_error(y_test,y_pred,squared = False)\n",
        "R2_lasso = metrics.r2_score(y_test, y_pred)\n",
        "\n",
        "print(f\"El error (rmse) de test es: {rmse_lasso}\")\n",
        "print(f\"El error (R2) de test es: {R2_lasso}\")"
      ]
    },
    {
      "cell_type": "markdown",
      "metadata": {},
      "source": [
        "### Ridge"
      ]
    },
    {
      "cell_type": "code",
      "execution_count": null,
      "metadata": {},
      "outputs": [],
      "source": [
        "## Con todas las features\n",
        "X_train = df_train.drop(['RainfallTomorrow'], axis=1)\n",
        "y_train = df_train['RainfallTomorrow']\n",
        "\n",
        "X_test = df_test.drop(['RainfallTomorrow'], axis=1)\n",
        "y_test = df_test['RainfallTomorrow']"
      ]
    },
    {
      "cell_type": "code",
      "execution_count": null,
      "metadata": {},
      "outputs": [],
      "source": [
        "modelo_ridge = make_pipeline(StandardScaler(),\n",
        "                        RidgeCV(\n",
        "                           alphas          = np.logspace(-10, 10, 200),\n",
        "                           fit_intercept   = True,\n",
        "                           store_cv_values = True\n",
        "                        )\n",
        "         )\n",
        "\n",
        "_ = modelo_ridge.fit(X_train, y_train)"
      ]
    },
    {
      "cell_type": "code",
      "execution_count": null,
      "metadata": {},
      "outputs": [],
      "source": [
        "alphas = modelo_ridge.steps[1][1].alphas\n",
        "coefs = []\n",
        "\n",
        "for alpha in alphas:\n",
        "    modelo_aux = make_pipeline(StandardScaler(), Ridge(alpha=alpha))\n",
        "    modelo_aux.fit(X_train, y_train)\n",
        "    coefs.append(modelo_aux.steps[1][1].coef_.flatten())\n",
        "\n",
        "fig, ax = plt.subplots(figsize=(15, 5))\n",
        "ax.plot(alphas, coefs, label=X_train.columns)\n",
        "ax.set_xscale('log')\n",
        "ax.set_xlabel('log(alpha)')\n",
        "ax.set_ylabel('Parámetros')\n",
        "ax.set_title('Parámetros del modelo en función de la regularización');\n",
        "plt.axis('tight')\n",
        "plt.legend()\n",
        "plt.show()"
      ]
    },
    {
      "cell_type": "code",
      "execution_count": null,
      "metadata": {},
      "outputs": [],
      "source": [
        "print(f\"Mejor valor de alpha encontrado: {modelo_ridge.steps[1][1].alpha_}\")"
      ]
    },
    {
      "cell_type": "code",
      "execution_count": null,
      "metadata": {},
      "outputs": [],
      "source": [
        "df_coeficientes = pd.DataFrame({'predictor': X_train.columns,'coef': mod.coef_.flatten()})\n",
        "\n",
        "fig, ax = plt.subplots(figsize=(15,5))\n",
        "ax.stem(df_coeficientes.predictor, df_coeficientes.coef, markerfmt=' ')\n",
        "plt.xticks(rotation=90, ha='right', size=10)\n",
        "ax.set_xlabel('feature')\n",
        "ax.set_ylabel('weights')\n",
        "ax.set_title('Parámetros del modelo');"
      ]
    },
    {
      "cell_type": "code",
      "execution_count": null,
      "metadata": {},
      "outputs": [],
      "source": [
        "# Predicciones test\n",
        "y_pred = modelo_ridge.predict(X_test)"
      ]
    },
    {
      "cell_type": "code",
      "execution_count": null,
      "metadata": {},
      "outputs": [],
      "source": [
        "# Error de test del modelo\n",
        "rmse_ridge = mean_squared_error(y_test,\n",
        "                y_pred,\n",
        "                squared = False\n",
        "             )\n",
        "R2_ridge = metrics.r2_score(y_test, y_pred)\n",
        "\n",
        "print(f\"El error (rmse) de test es: {rmse_ridge}\")\n",
        "print(f\"El error (R) de test es: {R2_ridge}\")"
      ]
    },
    {
      "cell_type": "markdown",
      "metadata": {},
      "source": [
        "### Elastic Net"
      ]
    },
    {
      "cell_type": "code",
      "execution_count": null,
      "metadata": {},
      "outputs": [],
      "source": [
        "## Con todas las features\n",
        "X_train = df_train.drop(['RainfallTomorrow'], axis=1)\n",
        "y_train = df_train['RainfallTomorrow']\n",
        "\n",
        "X_test = df_test.drop(['RainfallTomorrow'], axis=1)\n",
        "y_test = df_test['RainfallTomorrow']"
      ]
    },
    {
      "cell_type": "code",
      "execution_count": null,
      "metadata": {},
      "outputs": [],
      "source": [
        "model_elastic = ElasticNet(alpha=0.05, l1_ratio=0.5)\n",
        "alpha_EN=model_elastic.get_params()['alpha']\n",
        "model_elastic.fit(X_train, y_train)"
      ]
    },
    {
      "cell_type": "code",
      "execution_count": null,
      "metadata": {},
      "outputs": [],
      "source": [
        "y_pred_elastic = model_elastic.predict(X_test)"
      ]
    },
    {
      "cell_type": "code",
      "execution_count": null,
      "metadata": {},
      "outputs": [],
      "source": [
        "mse_elastic = mean_squared_error(y_test, y_pred_elastic)\n",
        "r2_elastic = r2_score(y_test, y_pred_elastic)"
      ]
    },
    {
      "cell_type": "code",
      "execution_count": null,
      "metadata": {},
      "outputs": [],
      "source": [
        "print(\"----------\")\n",
        "print(f'Resultados con Regularización (Elastic Net) con alpha = {alpha_EN}')\n",
        "print(f'Error cuadrático medio (MSE): {mse_elastic:.2f}')\n",
        "print(f'Coeficiente de determinación (R^2): {r2_elastic:.2f}')"
      ]
    },
    {
      "cell_type": "code",
      "execution_count": null,
      "metadata": {},
      "outputs": [],
      "source": [
        "print(\"Regresión Lineal:\")\n",
        "print(\"----------\")\n",
        "print(f'Error cuadrático medio (MSE): {mse:.2f}')\n",
        "print(f'Coeficiente de determinación (R^2): {r2:.2f}\\n')\n",
        "print(\"Regresión Lineal con gradiente descendiente:\")\n",
        "print(\"----------\")\n",
        "print('Resultados con Gradiente Descendiente:')\n",
        "print(f'Error cuadrático medio (MSE): {mse_sgd:.2f}')\n",
        "print(f'Coeficiente de determinación (R^2): {r2_sgd:.2f}\\n')\n",
        "print(\"\\nCon regularizaciones\\n\")\n",
        "print('Lasso (L1):')\n",
        "print(\"----------\")\n",
        "print(f\"El error (rmse) de test es: {rmse_lasso}\")\n",
        "print(f\"El error (R^2) de test es: {R2_lasso}\\n\")\n",
        "print('Ridge (L2):')\n",
        "print(\"----------\")\n",
        "print(f\"El error (rmse) de test es: {rmse_ridge}\")\n",
        "print(f\"El error (R^2) de test es: {R2_ridge}\\n\")\n",
        "print(f'Elastic Net: alpha = {alpha_EN}')\n",
        "print(\"----------\")\n",
        "print(f'Error cuadrático medio (MSE): {mse_elastic:.2f}')\n",
        "print(f'Coeficiente de determinación (R^2): {r2_elastic:.2f}\\n')"
      ]
    },
    {
      "cell_type": "markdown",
      "metadata": {},
      "source": [
        "El modelo con mejores métricas para el problema de regresión lineal es: Regresión Lineal con gradiente descendiente ya que tiene mejor R-cuadrado"
      ]
    },
    {
      "cell_type": "markdown",
      "metadata": {
        "id": "WEwP_DWb6NEj"
      },
      "source": [
        "# Regresion logistica sin balancear"
      ]
    },
    {
      "cell_type": "markdown",
      "metadata": {
        "id": "T3jdlv22hnAJ"
      },
      "source": [
        "Decidimos hacer un analísis de los modelos de regresión con los datos balanceados y no balanceados y observar si hay alguna mejora al balancear las clases"
      ]
    },
    {
      "cell_type": "code",
      "execution_count": null,
      "metadata": {
        "colab": {
          "base_uri": "https://localhost:8080/"
        },
        "id": "w1Q83AyS4LTC",
        "outputId": "14277e26-3589-4c60-fda2-e9e7578bef26"
      },
      "outputs": [],
      "source": [
        "# Separación de variables explicativas y variables objetivo\n",
        "X = df.drop(['RainTomorrow', 'RainfallTomorrow'], axis=1).copy()\n",
        "y = df[['RainTomorrow']].copy()\n",
        "\n",
        "# Spliteo mi dataset en train-test\n",
        "X_train, X_test, y_train, y_test = train_test_split(X, y, test_size=0.2, random_state=42)\n",
        "X_train.shape, X_test.shape, y_train.shape, y_test.shape"
      ]
    },
    {
      "cell_type": "code",
      "execution_count": null,
      "metadata": {
        "id": "TdCvpVyn4MD3"
      },
      "outputs": [],
      "source": [
        "# Creo un Dataframe de TRAIN\n",
        "df_train = pd.DataFrame(X_train, columns=X.columns)\n",
        "df_train['RainTomorrow'] = y['RainTomorrow']"
      ]
    },
    {
      "cell_type": "code",
      "execution_count": null,
      "metadata": {
        "id": "ooDOjGad4M0u"
      },
      "outputs": [],
      "source": [
        "# Creo un Dataframe de TEST\n",
        "df_test = pd.DataFrame(X_test, columns=X.columns)\n",
        "df_test['RainTomorrow'] = y['RainTomorrow']"
      ]
    },
    {
      "cell_type": "code",
      "execution_count": null,
      "metadata": {
        "id": "Vj8onmeV4Nrx"
      },
      "outputs": [],
      "source": [
        "# Preproceso mi df de test y mi df de train\n",
        "df_train = preprocessor.fit_transform(df_train)\n",
        "df_test = preprocessor.fit_transform(df_test)"
      ]
    },
    {
      "cell_type": "code",
      "execution_count": null,
      "metadata": {
        "colab": {
          "base_uri": "https://localhost:8080/",
          "height": 256
        },
        "id": "4qKknz304Ohy",
        "outputId": "c129da21-a256-448f-a2cf-026aed9497ee"
      },
      "outputs": [],
      "source": [
        "df_train.head()"
      ]
    },
    {
      "cell_type": "code",
      "execution_count": null,
      "metadata": {
        "id": "K6ralZvX4P0M"
      },
      "outputs": [],
      "source": [
        "train_clasificacion_X = df_train.iloc[:, :-1]\n",
        "y_train_clasificacion = df_train.iloc[:,-1]"
      ]
    },
    {
      "cell_type": "code",
      "execution_count": null,
      "metadata": {
        "id": "PpWerqXl4Qm8"
      },
      "outputs": [],
      "source": [
        "x_test_clasificacion = df_test.iloc[:, :-1]\n",
        "y_test_clasificacion = df_test.iloc[:,-1]"
      ]
    },
    {
      "cell_type": "code",
      "execution_count": null,
      "metadata": {
        "id": "XL-f-65g4RcJ"
      },
      "outputs": [],
      "source": [
        "classifier = LogisticRegression(random_state = 0)\n",
        "classifier.fit(train_clasificacion_X, y_train_clasificacion)\n",
        "valor_y_predecir = classifier.predict(x_test_clasificacion)\n",
        "\n",
        "#metricas\n",
        "cm = confusion_matrix(y_test_clasificacion, valor_y_predecir)\n",
        "acc_score = accuracy_score(y_test_clasificacion, valor_y_predecir)"
      ]
    },
    {
      "cell_type": "code",
      "execution_count": null,
      "metadata": {
        "id": "r6QdOcke4TB5"
      },
      "outputs": [],
      "source": [
        "probabilidades_y = classifier.predict_proba(x_test_clasificacion)[:,-1]\n",
        "fpr, tpr, thresholds = roc_curve(y_test_clasificacion, probabilidades_y)\n",
        "roc_auc = auc(fpr,tpr)"
      ]
    },
    {
      "cell_type": "code",
      "execution_count": null,
      "metadata": {
        "colab": {
          "base_uri": "https://localhost:8080/",
          "height": 487
        },
        "id": "ttOeJU6c4TwZ",
        "outputId": "17479ff9-4fe0-49c4-8795-c2fd760bbce4"
      },
      "outputs": [],
      "source": [
        "plt.figure(figsize=(5,5))\n",
        "plt.plot(fpr, tpr, color=\"red\", lw=2, label='CURVA ROC (AUC = %0.2f)' % roc_auc)\n",
        "plt.plot([0,1],[0,1], color=\"blue\", lw=2, linestyle=\"--\")\n",
        "plt.xlim([0.0, 1.10])\n",
        "plt.ylim([0.0, 1.10])\n",
        "plt.xlabel(\"Tasa de Falsos positivos(FPR)\")\n",
        "plt.ylabel(\"Tasa de Verdaderos positivos(TPR)\")\n",
        "plt.title(\"ROC\")\n",
        "plt.legend(loc=\"lower right\")\n",
        "plt.show()"
      ]
    },
    {
      "cell_type": "markdown",
      "metadata": {
        "id": "2zv_xEb7jwuS"
      },
      "source": [
        "Podemos concluir que para este modelo (regresión logística) entrenado con todas las features y los datos sin balancear, tiene valor cercano a uno, lo que siginifica que el TPR (ratio de verdaderos positivos) es mas alto que el FPR (ratio de falsos positivos, es decir, predice días de no lluvia como lluvia)"
      ]
    },
    {
      "cell_type": "markdown",
      "metadata": {
        "id": "ViIwJ6SakP3j"
      },
      "source": [
        "# Explicabilidad con dataset no balanceado"
      ]
    },
    {
      "cell_type": "markdown",
      "metadata": {
        "id": "NcSukppj6YPs"
      },
      "source": [
        "# Explicabilidad de modelo de regresion logistica sin balancear"
      ]
    },
    {
      "cell_type": "code",
      "execution_count": null,
      "metadata": {
        "colab": {
          "base_uri": "https://localhost:8080/",
          "height": 118
        },
        "id": "Vjp07r3w4V5Z",
        "outputId": "d41f2bd3-89ee-42a2-9001-2800c20d6a03"
      },
      "outputs": [],
      "source": [
        "clasificacion_parametros = {\n",
        "    'C': [0.001, 0.01, 0.1, 1, 10],\n",
        "    'penalty': ['l2'],\n",
        "    'solver': ['liblinear', 'lbfgs', 'saga'],\n",
        "    'max_iter': [100, 200, 300],\n",
        "    'class_weight': [None, 'balanced']\n",
        "}\n",
        "\n",
        "optimizar_clasificacion = RandomizedSearchCV(\n",
        "    LogisticRegression(random_state=23), clasificacion_parametros\n",
        ")\n",
        "\n",
        "optimizar_clasificacion.fit(train_clasificacion_X, y_train_clasificacion)"
      ]
    },
    {
      "cell_type": "markdown",
      "metadata": {
        "id": "DoFbS5ww6UmD"
      },
      "source": [
        "# Métricas para datos NO balanceados"
      ]
    },
    {
      "cell_type": "code",
      "execution_count": null,
      "metadata": {
        "id": "DnBOKSAu4XeJ"
      },
      "outputs": [],
      "source": [
        "modelo_optimizado_clasificacion = optimizar_clasificacion.best_estimator_"
      ]
    },
    {
      "cell_type": "code",
      "execution_count": null,
      "metadata": {
        "colab": {
          "base_uri": "https://localhost:8080/",
          "height": 623
        },
        "id": "M2k4TSQa4YQp",
        "outputId": "d4ef2def-bc76-4fd7-eb26-2b3f3d458168"
      },
      "outputs": [],
      "source": [
        "y_pred_clasificacion_optimizado = modelo_optimizado_clasificacion.predict(x_test_clasificacion)\n",
        "\n",
        "\n",
        "print(classification_report(y_test_clasificacion, y_pred_clasificacion_optimizado))\n",
        "\n",
        "\n",
        "ConfusionMatrixDisplay(\n",
        "    confusion_matrix(y_test_clasificacion, y_pred_clasificacion_optimizado)\n",
        ").plot()"
      ]
    },
    {
      "cell_type": "markdown",
      "metadata": {
        "id": "_m5UN_Vd1tXu"
      },
      "source": [
        "Tiene una exactitud del 83% el modelo con los parametro optmizados con GridCV"
      ]
    },
    {
      "cell_type": "code",
      "execution_count": null,
      "metadata": {
        "colab": {
          "base_uri": "https://localhost:8080/",
          "height": 957
        },
        "id": "dA4S12Qy4ZT7",
        "outputId": "202a174a-0931-4dcf-f4a7-0edc39d29aeb"
      },
      "outputs": [],
      "source": [
        "explicar_clasificacion = shap.LinearExplainer(\n",
        "    classifier,\n",
        "    train_clasificacion_X.astype(\"float64\").copy(),\n",
        "    features_names=train_clasificacion_X.columns,\n",
        ")\n",
        "\n",
        "\n",
        "shap_valores_clasificacion = explicar_clasificacion(\n",
        "    train_clasificacion_X.astype(\"float64\")\n",
        ")\n",
        "\n",
        "shap.summary_plot(shap_valores_clasificacion, train_clasificacion_X)"
      ]
    },
    {
      "cell_type": "markdown",
      "metadata": {
        "id": "1VJ2kcm4psNV"
      },
      "source": [
        "Las dos variables mas importantes para mi modelo son la Presión y la humedad de las 3pm. A menor presión mayor es el impacto en el modelo, osea es mas probable de que lo clasifique como un día de lluvia. Sin embargo con los valores de la humedad es al reves, A mayor humedad mayor es el impacto de la variable para el modelo prediga un dia de lluvia."
      ]
    },
    {
      "cell_type": "code",
      "execution_count": null,
      "metadata": {
        "colab": {
          "base_uri": "https://localhost:8080/",
          "height": 617
        },
        "id": "Nt8NoOqc4av7",
        "outputId": "3a674db2-e5e7-4418-dd2c-dae78118921b"
      },
      "outputs": [],
      "source": [
        "index = 50\n",
        "\n",
        "classifier.predict(x_test_clasificacion)[index]\n",
        "\n",
        "shap_valores_clasificacion = explicar_clasificacion(x_test_clasificacion)\n",
        "\n",
        "explicacion = shap.Explanation(\n",
        "    values=shap_valores_clasificacion[index],\n",
        "    base_values=explicar_clasificacion.expected_value,\n",
        "    feature_names=train_clasificacion_X.columns,\n",
        ")\n",
        "\n",
        "\n",
        "shap.plots.waterfall(explicacion)"
      ]
    },
    {
      "cell_type": "markdown",
      "metadata": {
        "id": "xFLeg-J-eFCs"
      },
      "source": [
        "El valor SHAP para cada variable cuantifica cuánto impacto tiene mi variable en el modelo. Por ejemplo, según el gráfico, una presion a las 3 pm de 2.47 empuja el modelo hacia predecir menos cm cúbicos de lluvia. Caso contrario para un valor de 2.5 para la variable de presión a las 9am que contribuye a que mi modelo prediga mas cantidad de lluvia. En conclusión, para este ejemplo predijo una lluvia de -1.726 cm cúbicos."
      ]
    },
    {
      "cell_type": "markdown",
      "metadata": {
        "id": "nMWepdyHhJov"
      },
      "source": [
        "### Interpretabilidad Global"
      ]
    },
    {
      "cell_type": "code",
      "execution_count": null,
      "metadata": {
        "colab": {
          "base_uri": "https://localhost:8080/",
          "height": 585
        },
        "id": "_dPb3gyK4bmG",
        "outputId": "c72c1868-79b8-4a08-9e15-7da9f34e98e4"
      },
      "outputs": [],
      "source": [
        "explicabilidad_global_clasificacion = shap.Explanation(\n",
        "    shap_valores_clasificacion,\n",
        "    base_values=explicar_clasificacion.expected_value,\n",
        "    feature_names=train_clasificacion_X.columns,\n",
        "    data=x_test_clasificacion,\n",
        ")\n",
        "\n",
        "\n",
        "shap.plots.bar(explicabilidad_global_clasificacion, max_display=None)"
      ]
    },
    {
      "cell_type": "markdown",
      "metadata": {
        "id": "ICVV1MMuiUph"
      },
      "source": [
        "Al calcular el la media del valor absoluto del SHAP entonces obtenemos que las variables que mas impactan en nuestro modelo ya sea a predecir un dia de lluvia como uno de no lluvia son La presión de las 3pm y la humedad de las 3pm"
      ]
    },
    {
      "cell_type": "markdown",
      "metadata": {
        "id": "h7BVdWqx2Yv_"
      },
      "source": [
        "Las variables con mayor impacto en nuestro modelo de regresión son Presion 3pm, Presion 9am y la direccion del viento mientras que para el modelo de clasificación son Presion 3pm, HUmedad 3pm y Presion 9am"
      ]
    },
    {
      "cell_type": "markdown",
      "metadata": {
        "id": "TuPlme-16b3V"
      },
      "source": [
        "# Modelo de regresión logistica balanceado"
      ]
    },
    {
      "cell_type": "markdown",
      "metadata": {
        "id": "ItvHubA_rn6i"
      },
      "source": [
        "## Balanceo"
      ]
    },
    {
      "cell_type": "code",
      "execution_count": null,
      "metadata": {
        "id": "BNsINiY36e0G"
      },
      "outputs": [],
      "source": [
        "# Modulos para el balanceo\n",
        "from imblearn.over_sampling import SMOTE\n",
        "from imblearn.combine import SMOTETomek\n",
        "from imblearn.over_sampling import RandomOverSampler\n",
        "from imblearn.under_sampling import RandomUnderSampler"
      ]
    },
    {
      "cell_type": "code",
      "execution_count": null,
      "metadata": {
        "id": "Sl1Tq1su_vKy"
      },
      "outputs": [],
      "source": [
        "def plot_balance(df):\n",
        "  ### Balance de datos:\n",
        "  rain_classes = pd.value_counts(df['RainTomorrow'], sort = True)\n",
        "  rain_classes.plot(kind = 'bar', rot=0)\n",
        "  plt.xticks(range(2))\n",
        "  plt.title(\"Frecuencia\")\n",
        "  plt.xlabel(\"RainTomorrow\")\n",
        "  plt.ylabel(\"Cantidad\")\n",
        "  X_train_resampled=df.drop(['RainTomorrow'], axis=1)\n",
        "  y_train_resampled=df['RainTomorrow']\n",
        "  print(X_train_resampled.shape, y_train_resampled.shape)\n",
        "  plt.show()"
      ]
    },
    {
      "cell_type": "code",
      "execution_count": null,
      "metadata": {
        "id": "DE1Bral-_wcJ"
      },
      "outputs": [],
      "source": [
        "# Helper function for plotting ROC -- > https://towardsdatascience.com/class-imbalance-strategies-a-visual-guide-with-code-8bc8fae71e1a\n",
        "def plot_roc(ax, X_train, y_train, X_test, y_test, title):\n",
        "    model = LogisticRegression(random_state=42)\n",
        "    model.fit(X_train, y_train)\n",
        "    y_test_pred = model.predict_proba(X_test)[:,1]\n",
        "    fpr, tpr, thresh = metrics.roc_curve(y_test, y_test_pred)\n",
        "    auc = metrics.roc_auc_score(y_test, y_test_pred)\n",
        "    ax.plot(fpr,tpr,label=f\"{title} AUC={auc:.3f}\")\n",
        "    ax.plot([0, 1], [0, 1], color='navy', lw=2, linestyle='--')\n",
        "\n",
        "    ax.set_title('ROC Curve')\n",
        "    ax.set_xlabel('False Positive Rate')\n",
        "    ax.set_ylabel('True Positive Rate')\n",
        "    ax.legend(loc=0)"
      ]
    },
    {
      "cell_type": "code",
      "execution_count": null,
      "metadata": {
        "colab": {
          "base_uri": "https://localhost:8080/",
          "height": 489
        },
        "id": "dfgji0FP_xop",
        "outputId": "d2f8ac85-ca4e-44b8-fe2f-9a57dfc37558"
      },
      "outputs": [],
      "source": [
        "plot_balance(df_train)"
      ]
    },
    {
      "cell_type": "markdown",
      "metadata": {
        "id": "rXULvAjasRJB"
      },
      "source": [
        "En el gráfico de arriba se puede ver como en el dataframe original la cantidad de muestras para los dias de lluvia son mucho menor que la de los días que no llovieron.\n",
        "\n",
        "Comparamos con AUC que técnica de balanceo de datos es mejor para la regresión logística"
      ]
    },
    {
      "cell_type": "code",
      "execution_count": null,
      "metadata": {
        "id": "AymbG9i26exs"
      },
      "outputs": [],
      "source": [
        "# Separación de variables explicativas y variables objetivo\n",
        "X_train_balance = df_train.drop(['RainTomorrow'], axis=1).copy()\n",
        "y_train_balance = df_train['RainTomorrow'].copy()\n",
        "\n",
        "X_test_balance = df_test.drop(['RainTomorrow'], axis=1).copy()\n",
        "y_test_balance = df_test['RainTomorrow'].copy()"
      ]
    },
    {
      "cell_type": "markdown",
      "metadata": {
        "id": "tk_ZLekhkB1Z"
      },
      "source": [
        "### Subsampleo"
      ]
    },
    {
      "cell_type": "code",
      "execution_count": null,
      "metadata": {
        "id": "YE9PXOMC_1IU"
      },
      "outputs": [],
      "source": [
        "rus = RandomUnderSampler(random_state=0)\n",
        "X_train_rus, y_train_rus = rus.fit_resample(X_train_balance, y_train_balance)"
      ]
    },
    {
      "cell_type": "code",
      "execution_count": null,
      "metadata": {
        "id": "s8tkBFjX_1GB"
      },
      "outputs": [],
      "source": [
        "df_rus = pd.DataFrame(X_train_rus, columns=X_train_balance.columns)\n",
        "df_rus['RainTomorrow'] = y_train_rus"
      ]
    },
    {
      "cell_type": "code",
      "execution_count": null,
      "metadata": {
        "colab": {
          "base_uri": "https://localhost:8080/",
          "height": 489
        },
        "id": "N6YSZeMz_1Dx",
        "outputId": "c15a1248-2c6f-4578-eb90-ecedf547bdaa"
      },
      "outputs": [],
      "source": [
        "plot_balance(df_rus)"
      ]
    },
    {
      "cell_type": "markdown",
      "metadata": {
        "id": "1td9ETF2zrNr"
      },
      "source": [
        "Ahora en total tenemos 10004 muestras distribuidas igualitariamente entre los dias que llueve y los que no"
      ]
    },
    {
      "cell_type": "code",
      "execution_count": null,
      "metadata": {
        "colab": {
          "base_uri": "https://localhost:8080/",
          "height": 487
        },
        "id": "m9EPLgLY1vDj",
        "outputId": "aa702bc6-ed97-4e16-ce3c-4e181adb68af"
      },
      "outputs": [],
      "source": [
        "fig,ax1 = plt.subplots(1,1,figsize=(8,5))\n",
        "plot_roc(ax1, X_train_rus, y_train_rus, X_test_balance, y_test_balance, 'Random Subsampleo')"
      ]
    },
    {
      "cell_type": "markdown",
      "metadata": {
        "id": "BKWq9kC0_7gR"
      },
      "source": [
        "#### - Balanceo con SMOTE"
      ]
    },
    {
      "cell_type": "code",
      "execution_count": null,
      "metadata": {
        "id": "ilr_fk8A_05h"
      },
      "outputs": [],
      "source": [
        "smote = SMOTE(random_state=0)\n",
        "X_train_smote, y_train_smote = smote.fit_resample(X_train_balance, y_train_balance)"
      ]
    },
    {
      "cell_type": "code",
      "execution_count": null,
      "metadata": {
        "id": "4H8LM7fU_9Fq"
      },
      "outputs": [],
      "source": [
        "df_SMOTE = pd.DataFrame(X_train_smote, columns=X_train_balance.columns)\n",
        "df_SMOTE['RainTomorrow'] = y_train_smote"
      ]
    },
    {
      "cell_type": "code",
      "execution_count": null,
      "metadata": {
        "colab": {
          "base_uri": "https://localhost:8080/",
          "height": 489
        },
        "id": "tcZobEhB_9DT",
        "outputId": "684d759d-4bf3-4a24-ea8f-9d59b8c48b8a"
      },
      "outputs": [],
      "source": [
        "plot_balance(df_SMOTE)"
      ]
    },
    {
      "cell_type": "markdown",
      "metadata": {
        "id": "bD95x_SsjtJ7"
      },
      "source": [
        "Para esta técnica logramos tener 33176 muestras para cada clase"
      ]
    },
    {
      "cell_type": "code",
      "execution_count": null,
      "metadata": {
        "colab": {
          "base_uri": "https://localhost:8080/",
          "height": 487
        },
        "id": "06Q5Oae91eaj",
        "outputId": "6a6812f5-c466-49f1-af2d-af99bc4d1c60"
      },
      "outputs": [],
      "source": [
        "fig,ax1 = plt.subplots(1,1,figsize=(8,5))\n",
        "plot_roc(ax1, X_train_smote, y_train_smote, X_test_balance, y_test_balance, 'SMOTE Dataset')"
      ]
    },
    {
      "cell_type": "markdown",
      "metadata": {
        "id": "OnvG-zh1zWGM"
      },
      "source": [
        "#### - Balanceo con SMOTE(oversampling)-TOMEK(undersampling)"
      ]
    },
    {
      "cell_type": "markdown",
      "metadata": {
        "id": "GRc9PPr7AASB"
      },
      "source": [
        "Además, investigamos otras maneras de balancear el DataSet y nos encontramos con SMOTE-TOMEK. Esta técnica combina el sobresampleo con SMOTE con el subsampleo con TOMEK Link que toma dos puntos cercanos de diferentes clases y por cada par se borran aquellos que pertenezcan a la clase mayoritoria, de esa forma el límite de decisión se vuelve mas claro.\n",
        "\n",
        "  Fuente: https://towardsdatascience.com/class-imbalance-strategies-a-visual-guide-with-code-8bc8fae71e1a"
      ]
    },
    {
      "cell_type": "code",
      "execution_count": null,
      "metadata": {
        "id": "Dr06EZBV_9BB"
      },
      "outputs": [],
      "source": [
        "smotetomek = SMOTETomek(random_state=0)\n",
        "X_train_smotetomek, y_train_smotetomek = smotetomek.fit_resample(X_train_balance, y_train_balance)"
      ]
    },
    {
      "cell_type": "code",
      "execution_count": null,
      "metadata": {
        "id": "hJRUxzm-_8-h"
      },
      "outputs": [],
      "source": [
        "df_smotetomek = pd.DataFrame(X_train_smotetomek, columns=X_train_balance.columns)\n",
        "df_smotetomek['RainTomorrow'] = y_train_smotetomek"
      ]
    },
    {
      "cell_type": "code",
      "execution_count": null,
      "metadata": {
        "colab": {
          "base_uri": "https://localhost:8080/",
          "height": 489
        },
        "id": "3ECCGCHK_86J",
        "outputId": "a354cc7d-0994-4e41-ea87-74664f172326"
      },
      "outputs": [],
      "source": [
        "plot_balance(df_smotetomek)"
      ]
    },
    {
      "cell_type": "markdown",
      "metadata": {
        "id": "x1s1gqc40OcS"
      },
      "source": [
        "Se logran tener 33056 muestras en total."
      ]
    },
    {
      "cell_type": "code",
      "execution_count": null,
      "metadata": {
        "colab": {
          "base_uri": "https://localhost:8080/",
          "height": 487
        },
        "id": "xR14mcKd0873",
        "outputId": "3ef8960a-e07d-4484-b40b-7c93da1008b4"
      },
      "outputs": [],
      "source": [
        "fig,ax1 = plt.subplots(1,1,figsize=(8,5))\n",
        "plot_roc(ax1, X_train_smotetomek, y_train_smotetomek, X_test_balance, y_test_balance, 'SMOTE-TOMEK Dataset')"
      ]
    },
    {
      "cell_type": "code",
      "execution_count": null,
      "metadata": {
        "colab": {
          "base_uri": "https://localhost:8080/",
          "height": 833
        },
        "id": "UncIlCTX179M",
        "outputId": "1c9acca3-1940-4237-8b58-b73664fd40b8"
      },
      "outputs": [],
      "source": [
        "# VARIABILIDAD DE LOS DATASETS BALANCEADOS CON: Oversampling, SMOTE, SMOTE-Tomek\n",
        "std_combined = pd.DataFrame([df_rus.describe().loc['std'], df_SMOTE.describe().loc['std'], df_smotetomek.describe().loc['std'], df_test.describe().loc['std']]).T\n",
        "std_combined.columns = ['Undersampling', 'SMOTE', 'SMOTE-Tomek', 'Original']\n",
        "std_combined"
      ]
    },
    {
      "cell_type": "markdown",
      "metadata": {
        "id": "9EFfqtv42APR"
      },
      "source": [
        "Los tres datasets tiene una variabilidad muy similar, lo que explica porqué la performace es muy parecida. Optamos por usar el Dataset balanceado con la técnica SMOTE"
      ]
    },
    {
      "cell_type": "markdown",
      "metadata": {
        "id": "6K3vc_UDAGXJ"
      },
      "source": [
        "# Métricas regresion logistica con datos balanceado"
      ]
    },
    {
      "cell_type": "code",
      "execution_count": null,
      "metadata": {
        "id": "4E8UphGsAF4Z"
      },
      "outputs": [],
      "source": [
        "def plot_matrix_confusion(y_test, y_pred):\n",
        "  # Calcular la matriz de confusión\n",
        "  confusion_mat = confusion_matrix(y_test, y_pred)\n",
        "\n",
        "  # Crear una figura y un eje para la matriz de confusión\n",
        "  plt.figure(figsize=(4, 3))\n",
        "  sns.heatmap(confusion_mat, annot=True, fmt=\"d\", cmap=\"Blues\", linewidths=0.1, linecolor='blue', cbar=True)\n",
        "\n",
        "  # Añadir etiquetas a los ejes y al gráfico\n",
        "  plt.xlabel('Predicción')\n",
        "  plt.ylabel('Verdaderos')\n",
        "  plt.title('Matriz de Confusión')\n",
        "  plt.xticks(np.arange(2) + 0.5, ['No', 'Sí'])\n",
        "  plt.yticks(np.arange(2) + 0.5, ['No', 'Sí'])\n",
        "  plt.show()"
      ]
    },
    {
      "cell_type": "code",
      "execution_count": null,
      "metadata": {
        "id": "QKb-hfEXAF0B"
      },
      "outputs": [],
      "source": [
        "def train_test_with_balanced_df(df_train, df_test, model, title=None):\n",
        "  \"\"\" Entrena, muestra métricas y plotea la curva AUC \"\"\"\n",
        "  X_train = df_train.drop(['RainTomorrow'], axis=1).copy()\n",
        "  y_train = df_train['RainTomorrow'].copy()\n",
        "\n",
        "  X_test = df_test.drop(['RainTomorrow'], axis=1).copy()\n",
        "  y_test = df_test['RainTomorrow'].copy()\n",
        "\n",
        "  my_model = model(random_state=42)\n",
        "  my_model.fit(X_train, y_train)\n",
        "  y_pred = my_model.predict(X_test)\n",
        "\n",
        "\n",
        "  print(f\"Resultados con: {model.__name__}\\n\")\n",
        "  print(classification_report(y_test, y_pred))\n",
        "  print(confusion_matrix(y_test, y_pred))\n",
        "\n",
        "  print(f\"\\n\\nMatriz de confusión para: {model.__name__}\")\n",
        "  plot_matrix_confusion(y_test, y_pred)\n",
        "\n",
        "  fig,ax = plt.subplots(1,1,figsize=(8,5))\n",
        "  y_test_pred = my_model.predict_proba(X_test)[:,1]\n",
        "  fpr, tpr, thresh = metrics.roc_curve(y_test, y_test_pred)\n",
        "\n",
        "  # Posicion del indice del umbral 0.5\n",
        "  thresh_index = np.abs(thresh - 0.5).argmin()\n",
        "  # Posicion del indice del umbral con valores mas cercanos a (0,1) para TPR y FPR\n",
        "  optimal_index = ((1 - tpr**2) + fpr**2).argmin()\n",
        "\n",
        "\n",
        "  auc = metrics.roc_auc_score(y_test, y_test_pred)\n",
        "  ax.plot(fpr,tpr,label=f\"Logistic Regression AUC={auc:.3f}\")\n",
        "  ax.plot([0, 1], [0, 1], color='navy', lw=2, linestyle='--')\n",
        "\n",
        "  ax.set_title(f'{title}')\n",
        "  ax.set_xlabel('False Positive Rate')\n",
        "  ax.set_ylabel('True Positive Rate')\n",
        "  ax.legend(loc=0)\n",
        "\n",
        "  print(f\"\\n\\nUmbrales:\")\n",
        "  print(f\"Actual: {thresh[thresh_index]}\")\n",
        "  print(f\"Optimo: {thresh[optimal_index]}\")\n",
        "\n",
        "  print(f\"\\n\\nPuntaje para training vs test\")\n",
        "  print(f\"Training: {my_model.score(X_train, y_train)}\")\n",
        "  print(f\"Test: {my_model.score(X_test, y_test)}\")"
      ]
    },
    {
      "cell_type": "code",
      "execution_count": null,
      "metadata": {
        "colab": {
          "base_uri": "https://localhost:8080/",
          "height": 1000
        },
        "id": "Jy8nZYhIAFxR",
        "outputId": "c7ffea0b-dc7c-4250-eb5c-09fa45e35ab5"
      },
      "outputs": [],
      "source": [
        "train_test_with_balanced_df(df_rus, df_test, LogisticRegression, \"AUC Curva: TODAS LAS VARIABLES\")"
      ]
    },
    {
      "cell_type": "markdown",
      "metadata": {
        "id": "7bT0sR5538pO"
      },
      "source": [
        "Un umbral de 0.5 no es óptimo para este problema, se logran mejores métricas con uno de 0.3.\n",
        "Logramos un buen fitteo de los datos porque nuestro modelo performa mejor para los datos de test(0.796) que los de train (0.791)"
      ]
    },
    {
      "cell_type": "markdown",
      "metadata": {
        "id": "Jxr7dw5y7aYe"
      },
      "source": [
        "# Modelo base Regresion Lineal"
      ]
    },
    {
      "cell_type": "code",
      "execution_count": null,
      "metadata": {
        "colab": {
          "base_uri": "https://localhost:8080/"
        },
        "id": "s4bNGpSb7e4K",
        "outputId": "8eb0af20-032a-4df7-9d7a-d5e7087af746"
      },
      "outputs": [],
      "source": [
        "# Separación de variables explicativas y variables objetivo\n",
        "X = df.drop(['RainfallTomorrow'], axis=1).copy()\n",
        "y = df[['RainfallTomorrow']].copy()\n",
        "\n",
        "# Spliteo mi dataset en train-test\n",
        "X_train, X_test, y_train, y_test = train_test_split(X, y, test_size=0.2, random_state=42)\n",
        "X_train.shape, X_test.shape, y_train.shape, y_test.shape\n"
      ]
    },
    {
      "cell_type": "code",
      "execution_count": null,
      "metadata": {
        "id": "3pULs5oi7fLK"
      },
      "outputs": [],
      "source": [
        "# Creo un Dataframe de TRAIN\n",
        "df_train = pd.DataFrame(X_train, columns=X.columns)\n",
        "df_train['RainfallTomorrow'] = y['RainfallTomorrow']"
      ]
    },
    {
      "cell_type": "code",
      "execution_count": null,
      "metadata": {
        "id": "Xc_J4lfd7fJH"
      },
      "outputs": [],
      "source": [
        "# Creo un Dataframe de TEST\n",
        "df_test = pd.DataFrame(X_test, columns=X.columns)\n",
        "df_test['RainfallTomorrow'] = y['RainfallTomorrow']"
      ]
    },
    {
      "cell_type": "code",
      "execution_count": null,
      "metadata": {
        "id": "gQHTKZe47rDB"
      },
      "outputs": [],
      "source": [
        "# Preproceso mi df de test y mi df de train\n",
        "df_train = preprocessor.fit_transform(df_train)\n",
        "df_test = preprocessor.fit_transform(df_test)"
      ]
    },
    {
      "cell_type": "code",
      "execution_count": null,
      "metadata": {
        "id": "Wr8Y4YdY7q7I"
      },
      "outputs": [],
      "source": [
        "X_base_regresion_train = df_train[['RainToday', 'Sunshine']]\n",
        "Y_base_regresion_train = df_train[\"RainfallTomorrow\"]"
      ]
    },
    {
      "cell_type": "code",
      "execution_count": null,
      "metadata": {
        "id": "sWoBEPFo7tkh"
      },
      "outputs": [],
      "source": [
        "X_base_regresion_test = df_test[['RainToday', 'Sunshine',]]\n",
        "Y_base_regresion_test = df_test[\"RainfallTomorrow\"]"
      ]
    },
    {
      "cell_type": "code",
      "execution_count": null,
      "metadata": {
        "id": "2oO9snsk7wzC"
      },
      "outputs": [],
      "source": [
        "modelo_base_regresion = LinearRegression()"
      ]
    },
    {
      "cell_type": "code",
      "execution_count": null,
      "metadata": {
        "colab": {
          "base_uri": "https://localhost:8080/",
          "height": 75
        },
        "id": "M1H823wt7wwp",
        "outputId": "a5dbcae2-d7a5-4182-9ffa-e00ee08b0554"
      },
      "outputs": [],
      "source": [
        "modelo_base_regresion.fit(X_base_regresion_train, Y_base_regresion_train)"
      ]
    },
    {
      "cell_type": "code",
      "execution_count": null,
      "metadata": {
        "id": "UE6mm-Zt7wui"
      },
      "outputs": [],
      "source": [
        "y_pred_base_regresion = modelo_base_regresion.predict(X_base_regresion_test)"
      ]
    },
    {
      "cell_type": "code",
      "execution_count": null,
      "metadata": {
        "colab": {
          "base_uri": "https://localhost:8080/"
        },
        "id": "c2YmTXSC7zd8",
        "outputId": "e5a2f22d-8d05-41a5-d33c-a97260d2dce2"
      },
      "outputs": [],
      "source": [
        "def errores(y_test, y_pred):\n",
        "    print(\"R2:   %.2f\" % r2_score(y_test, y_pred))\n",
        "    print(\"MSE:  %.2f\" % mean_squared_error(y_test, y_pred))\n",
        "    print(\"RMSE: %.2f\" % sqrt(mean_squared_error(y_test, y_pred)))\n",
        "    print(\"MAE:  %.2f\" % mean_absolute_error(y_test, y_pred))\n",
        "    print(\"MAPE: %.2f\" % mean_absolute_percentage_error(y_test, y_pred))\n",
        "\n",
        "\n",
        "errores(Y_base_regresion_test, y_pred_base_regresion)"
      ]
    },
    {
      "cell_type": "markdown",
      "metadata": {
        "id": "6_1eG5GPk-DC"
      },
      "source": [
        "EL modelo base (seleccionando solamente dos variables) para nuestro problema de regresión lineal tiene métricas no muy buenas, un valor MSE alejado de cero lo que indica que no es muy exacto. Un r2 muy bajo por lo que tambien indica que no explica tampoco bien la variabilidad de nuestro dataset"
      ]
    },
    {
      "cell_type": "markdown",
      "metadata": {
        "id": "y3c0vCIp78V1"
      },
      "source": [
        "# Base Regresión - Importado de scikit learn"
      ]
    },
    {
      "cell_type": "code",
      "execution_count": null,
      "metadata": {
        "id": "g2Iamiu8lyP1"
      },
      "outputs": [],
      "source": [
        "# https://scikit-learn.org/stable/modules/generated/sklearn.dummy.DummyClassifier.html#sklearn-dummy-dummyclassifier\n",
        "from sklearn.dummy import DummyRegressor\n",
        "\n",
        "df_base=preprocessor.fit_transform(df)\n",
        "X=df_base.drop(['RainTomorrow'], axis=1)\n",
        "y=df_base['RainTomorrow']\n",
        "y_reg=df_base['RainfallTomorrow']\n",
        "X_train, X_test, y_train, y_test = train_test_split(X, y,test_size=0.3, stratify=y, random_state=777)\n",
        "X_train_reg, X_test_reg, y_train_reg, y_test_reg = train_test_split(X, y_reg,test_size=0.3, stratify=y, random_state=777)"
      ]
    },
    {
      "cell_type": "code",
      "execution_count": null,
      "metadata": {
        "colab": {
          "base_uri": "https://localhost:8080/"
        },
        "id": "X2mjeq-M780O",
        "outputId": "b795f055-bdcc-4648-9f4a-86e3c2ab0e14"
      },
      "outputs": [],
      "source": [
        "dummy_regr = DummyRegressor(strategy=\"mean\")\n",
        "\n",
        "dummy_regr.fit(X_train_reg, y_train_reg)\n",
        "\n",
        "y_pred = dummy_regr.predict(X_test_reg)\n",
        "\n",
        "# Metricas\n",
        "mse = mean_squared_error(y_test_reg, y_pred)\n",
        "\n",
        "r2 = r2_score(y_test_reg, y_pred)\n",
        "\n",
        "print(f\"Mean squared error: {mse}\")\n",
        "print(f\"R-squared score: {r2}\")"
      ]
    },
    {
      "cell_type": "code",
      "execution_count": null,
      "metadata": {
        "colab": {
          "base_uri": "https://localhost:8080/",
          "height": 489
        },
        "id": "by8-MjF88Kbb",
        "outputId": "6dd7bf5d-80d7-46ab-9633-d0c76153b041"
      },
      "outputs": [],
      "source": [
        "# Plot the predicted values against the actual values\n",
        "plt.scatter(y_test_reg, y_pred)\n",
        "plt.xlabel(\"Actual Values\")\n",
        "plt.ylabel(\"Predicted Values\")\n",
        "plt.title(\"Dummy Regressor: Predicted vs. Actual\")\n",
        "# Add a diagonal line to show where the predicted values match the actual values\n",
        "plt.plot([min(y_test_reg), max(y_test_reg)], [min(y_test_reg), max(y_test_reg)], color=\"red\")"
      ]
    },
    {
      "cell_type": "markdown",
      "metadata": {
        "id": "-5yXvPNrmBc4"
      },
      "source": [
        "Tampoco es un buen modelo base predecir con la media de los datos, el mse para este modelo es mayor a uno y un r2 negativo indica que no explica en absoluto la variabilidad de nuestros datos"
      ]
    },
    {
      "cell_type": "markdown",
      "metadata": {
        "id": "30eiOqVb75T7"
      },
      "source": [
        "# Modelo Base clasificación"
      ]
    },
    {
      "cell_type": "code",
      "execution_count": null,
      "metadata": {
        "colab": {
          "base_uri": "https://localhost:8080/"
        },
        "id": "_kMc7zPt77D6",
        "outputId": "f660c441-e4f6-4a40-dbb9-19f7caf099e8"
      },
      "outputs": [],
      "source": [
        "# Separación de variables explicativas y variables objetivo\n",
        "X = df.drop(['RainTomorrow', 'RainfallTomorrow'], axis=1).copy()\n",
        "y = df[['RainTomorrow']].copy()\n",
        "\n",
        "# Spliteo mi dataset en train-test\n",
        "X_train, X_test, y_train, y_test = train_test_split(X, y, test_size=0.2, random_state=42)\n",
        "X_train.shape, X_test.shape, y_train.shape, y_test.shape"
      ]
    },
    {
      "cell_type": "code",
      "execution_count": null,
      "metadata": {
        "id": "kA69_1sf7-rO"
      },
      "outputs": [],
      "source": [
        "# Creo un Dataframe de TRAIN\n",
        "df_train = pd.DataFrame(X_train, columns=X.columns)\n",
        "df_train['RainTomorrow'] = y['RainTomorrow']"
      ]
    },
    {
      "cell_type": "code",
      "execution_count": null,
      "metadata": {
        "id": "GZBhlfMy8AiJ"
      },
      "outputs": [],
      "source": [
        "# Creo un Dataframe de TEST\n",
        "df_test = pd.DataFrame(X_test, columns=X.columns)\n",
        "df_test['RainTomorrow'] = y['RainTomorrow']"
      ]
    },
    {
      "cell_type": "code",
      "execution_count": null,
      "metadata": {
        "id": "0i1uBtOn8CIT"
      },
      "outputs": [],
      "source": [
        "# Preproceso mi df de test y mi df de train\n",
        "df_train = preprocessor.fit_transform(df_train)\n",
        "df_test = preprocessor.fit_transform(df_test)"
      ]
    },
    {
      "cell_type": "code",
      "execution_count": null,
      "metadata": {
        "id": "nKwwu-6u8DQ8"
      },
      "outputs": [],
      "source": [
        "X_base_clasificacion_train = df_train[['MaxTemp', 'Sunshine', 'MinTemp']]\n",
        "Y_base_clasificacion_train = df_train[\"RainTomorrow\"]"
      ]
    },
    {
      "cell_type": "code",
      "execution_count": null,
      "metadata": {
        "id": "6It0cVFz8Gcl"
      },
      "outputs": [],
      "source": [
        "X_base_clasificacion_test = df_test[['MaxTemp', 'Sunshine', 'MinTemp']]\n",
        "Y_base_clasificacion_test = df_test[\"RainTomorrow\"]"
      ]
    },
    {
      "cell_type": "code",
      "execution_count": null,
      "metadata": {
        "id": "LN9n0SMD8H3U"
      },
      "outputs": [],
      "source": [
        "modelo_base_clasificacion = LogisticRegression()"
      ]
    },
    {
      "cell_type": "code",
      "execution_count": null,
      "metadata": {
        "colab": {
          "base_uri": "https://localhost:8080/",
          "height": 0
        },
        "id": "GaCQ_MVX8KoU",
        "outputId": "f81a810d-8892-49c3-833d-0d863f06177c"
      },
      "outputs": [],
      "source": [
        "modelo_base_clasificacion.fit(X_base_clasificacion_train, Y_base_clasificacion_train)"
      ]
    },
    {
      "cell_type": "code",
      "execution_count": null,
      "metadata": {
        "id": "5lwFfmWl8OW-"
      },
      "outputs": [],
      "source": [
        "y_pred_base_clasificacion = modelo_base_clasificacion.predict(X_base_clasificacion_test)"
      ]
    },
    {
      "cell_type": "code",
      "execution_count": null,
      "metadata": {
        "colab": {
          "base_uri": "https://localhost:8080/",
          "height": 0
        },
        "id": "nYKnEnPX8Y75",
        "outputId": "2374b5b7-62fa-40f8-9f00-fb609c1e062b"
      },
      "outputs": [],
      "source": [
        "print(\"Logistica Modelo base\\n\")\n",
        "print(classification_report(Y_base_clasificacion_test, y_pred_base_clasificacion))\n",
        "ConfusionMatrixDisplay(confusion_matrix(Y_base_clasificacion_test, y_pred_base_clasificacion)).plot()\n"
      ]
    },
    {
      "cell_type": "markdown",
      "metadata": {
        "id": "icJzy5w2Aizy"
      },
      "source": [
        "\n",
        "Nuestro modelo base de regresión, tiene una buena performance ya que al rededor del 78% de los datos son categorizados correctamente"
      ]
    },
    {
      "cell_type": "markdown",
      "metadata": {
        "id": "0rD4dGVrAYVy"
      },
      "source": [
        "# Base Clasificación - Importado de scikit learn"
      ]
    },
    {
      "cell_type": "code",
      "execution_count": null,
      "metadata": {
        "id": "-x19_rftAbZC"
      },
      "outputs": [],
      "source": [
        "# https://scikit-learn.org/stable/modules/generated/sklearn.dummy.DummyClassifier.html#sklearn-dummy-dummyclassifier\n",
        "from sklearn.dummy import DummyClassifier\n",
        "\n",
        "\n",
        "df_base=preprocessor.fit_transform(df)\n",
        "X=df_base.drop(['RainTomorrow'], axis=1)\n",
        "y=df_base['RainTomorrow']\n",
        "y_reg=df_base['RainfallTomorrow']\n",
        "X_train, X_test, y_train, y_test = train_test_split(X, y,test_size=0.3, stratify=y, random_state=777)\n",
        "X_train_reg, X_test_reg, y_train_reg, y_test_reg = train_test_split(X, y_reg,test_size=0.3, stratify=y, random_state=777)"
      ]
    },
    {
      "cell_type": "code",
      "execution_count": null,
      "metadata": {
        "colab": {
          "base_uri": "https://localhost:8080/"
        },
        "id": "qkhNy4ap7zbz",
        "outputId": "f6ce13a9-e7d5-41ee-cd3c-c0200f4d0312"
      },
      "outputs": [],
      "source": [
        "# Crear un clasificador de la mayoría\n",
        "dummy_clf = DummyClassifier(strategy=\"most_frequent\")\n",
        "\n",
        "# Entreno, aunque no es necesario porque no aprende nada\n",
        "dummy_clf.fit(X_train, y_train)\n",
        "\n",
        "# Hacer predicciones\n",
        "y_pred = dummy_clf.predict(X_test)\n",
        "\n",
        "# Score\n",
        "dummy_clf.score(X_test, y_test)\n",
        "\n",
        "# Metricas\n",
        "print(confusion_matrix(y_test, y_pred))\n",
        "print(classification_report(y_test, y_pred))"
      ]
    },
    {
      "cell_type": "markdown",
      "metadata": {
        "id": "NGLasT2N_IfF"
      },
      "source": [
        "La presición obtenida es equivalente a predecir siempre que no lloverá, habría asertado un 76% de los casos según nuestro data set.\n",
        "\n",
        "El cual podemos verificarlo rápidamente contando la cantidad de cada valor de la variable a predecir.  Nuestro modelo dirá todas las predicciones que NO lloverá pero éste tendra una eficiencia del 76%.\n"
      ]
    },
    {
      "cell_type": "code",
      "execution_count": null,
      "metadata": {
        "colab": {
          "base_uri": "https://localhost:8080/"
        },
        "id": "fs1ZBMo0Aq0y",
        "outputId": "aad4ce8b-56ca-4abb-bfd4-4648c9372027"
      },
      "outputs": [],
      "source": [
        "df_base.value_counts(\"RainTomorrow\", normalize=True)"
      ]
    },
    {
      "cell_type": "markdown",
      "metadata": {
        "id": "p8xlljDFA8qr"
      },
      "source": [
        "# Optimizacion de parametros"
      ]
    },
    {
      "cell_type": "code",
      "execution_count": null,
      "metadata": {
        "id": "gwu6Sn1HA_Ch"
      },
      "outputs": [],
      "source": [
        "from sklearn.model_selection import GridSearchCV"
      ]
    },
    {
      "cell_type": "markdown",
      "metadata": {
        "id": "0Gyg6eIf_ly6"
      },
      "source": [
        "### Analisis de los HP - GridCV"
      ]
    },
    {
      "cell_type": "code",
      "execution_count": null,
      "metadata": {
        "id": "zcIAfLU_A_kx"
      },
      "outputs": [],
      "source": [
        "### Para cada hiperparámetro se chequean las métricas de Precisión y Recall.\n",
        "scores = [\"precision\", \"recall\"]"
      ]
    },
    {
      "cell_type": "code",
      "execution_count": null,
      "metadata": {
        "id": "QiOacs7qA_iR"
      },
      "outputs": [],
      "source": [
        "def print_dataframe(filtered_cv_results):\n",
        "    ### Un print bonito de los resultados de cross validation\n",
        "    for mean_precision, std_precision, mean_recall, std_recall, params in zip(\n",
        "        filtered_cv_results[\"mean_test_precision\"],\n",
        "        filtered_cv_results[\"std_test_precision\"],\n",
        "        filtered_cv_results[\"mean_test_recall\"],\n",
        "        filtered_cv_results[\"std_test_recall\"],\n",
        "        filtered_cv_results[\"params\"],\n",
        "    ):\n",
        "        print(\n",
        "            f\"precision: {mean_precision:0.3f} (±{std_precision:0.03f}),\"\n",
        "            f\" recall: {mean_recall:0.3f} (±{std_recall:0.03f}),\"\n",
        "            f\" for {params}\"\n",
        "        )\n",
        "    print()"
      ]
    },
    {
      "cell_type": "code",
      "execution_count": null,
      "metadata": {
        "id": "1qyRJKyWBEQh"
      },
      "outputs": [],
      "source": [
        "def refit_strategy(cv_results):\n",
        "    \"\"\"Define the strategy to select the best estimator.\n",
        "\n",
        "    The strategy defined here is to filter-out all results below a precision threshold\n",
        "    of 0.7, rank the remaining by recall and keep all models with one standard\n",
        "    deviation of the best by recall. Once these models are selected, we can select the\n",
        "    fastest model to predict.\n",
        "\n",
        "    Parameters\n",
        "    ----------\n",
        "    cv_results : dict of numpy (masked) ndarrays\n",
        "        CV results as returned by the `GridSearchCV`.\n",
        "\n",
        "    Returns\n",
        "    -------\n",
        "    best_index : int\n",
        "        The index of the best estimator as it appears in `cv_results`.\n",
        "    \"\"\"\n",
        "    # print the info about the grid-search for the different scores\n",
        "    precision_threshold = 0.7\n",
        "\n",
        "    cv_results_ = pd.DataFrame(cv_results)\n",
        "    print(\"All grid-search results:\")\n",
        "    print_dataframe(cv_results_)\n",
        "\n",
        "    # Filter-out all results below the threshold\n",
        "    high_precision_cv_results = cv_results_[\n",
        "        cv_results_[\"mean_test_precision\"] > precision_threshold\n",
        "    ]\n",
        "\n",
        "    print(f\"Models with a precision higher than {precision_threshold}:\")\n",
        "    print_dataframe(high_precision_cv_results)\n",
        "\n",
        "    high_precision_cv_results = high_precision_cv_results[\n",
        "        [\n",
        "            \"mean_score_time\",\n",
        "            \"mean_test_recall\",\n",
        "            \"std_test_recall\",\n",
        "            \"mean_test_precision\",\n",
        "            \"std_test_precision\",\n",
        "            \"rank_test_recall\",\n",
        "            \"rank_test_precision\",\n",
        "            \"params\",\n",
        "        ]\n",
        "    ]\n",
        "\n",
        "    # Select the most performant models in terms of recall\n",
        "    # (within 1 sigma from the best)\n",
        "    best_recall_std = high_precision_cv_results[\"mean_test_recall\"].std()\n",
        "    best_recall = high_precision_cv_results[\"mean_test_recall\"].max()\n",
        "    best_recall_threshold = best_recall - best_recall_std\n",
        "\n",
        "    high_recall_cv_results = high_precision_cv_results[\n",
        "        high_precision_cv_results[\"mean_test_recall\"] > best_recall_threshold\n",
        "    ]\n",
        "    print(\n",
        "        \"Out of the previously selected high precision models, we keep all the\\n\"\n",
        "        \"the models within one standard deviation of the highest recall model:\"\n",
        "    )\n",
        "    print_dataframe(high_recall_cv_results)\n",
        "\n",
        "    # From the best candidates, select the fastest model to predict\n",
        "    fastest_top_recall_high_precision_index = high_recall_cv_results[\n",
        "        \"mean_score_time\"\n",
        "    ].idxmin()\n",
        "\n",
        "    print(\n",
        "        \"\\nThe selected final model is the fastest to predict out of the previously\\n\"\n",
        "        \"selected subset of best models based on precision and recall.\\n\"\n",
        "        \"Its scoring time is:\\n\\n\"\n",
        "        f\"{high_recall_cv_results.loc[fastest_top_recall_high_precision_index]}\"\n",
        "    )\n",
        "\n",
        "    return fastest_top_recall_high_precision_index"
      ]
    },
    {
      "cell_type": "code",
      "execution_count": null,
      "metadata": {
        "id": "Ji9BDiUOBFYC"
      },
      "outputs": [],
      "source": [
        "# Spliteo mi dataset en train-test\n",
        "X_train_gs = df_test.drop(['RainTomorrow'], axis=1)\n",
        "y_train_gs = df_test['RainTomorrow']"
      ]
    },
    {
      "cell_type": "code",
      "execution_count": null,
      "metadata": {
        "colab": {
          "base_uri": "https://localhost:8080/",
          "height": 934
        },
        "id": "thit6xWuBF2x",
        "outputId": "0a626097-1a29-4274-8e2a-c53e4faa16dc"
      },
      "outputs": [],
      "source": [
        "tuned_parameters = [\n",
        "    {\"class_weight\": [None, 'balanced'], \"C\": [0.1, 1, 10,100], \"solver\": ['newton-cg'], \"max_iter\": [200, 500]}\n",
        "]\n",
        "\n",
        "grid_search = GridSearchCV(\n",
        "    LogisticRegression(), tuned_parameters, scoring=scores, refit=refit_strategy\n",
        ")\n",
        "grid_search.fit(X_train_gs, y_train_gs)"
      ]
    },
    {
      "cell_type": "code",
      "execution_count": null,
      "metadata": {
        "colab": {
          "base_uri": "https://localhost:8080/"
        },
        "id": "uRBV58iGBH-p",
        "outputId": "4f08be8c-13f4-465e-8210-f6247d3cf3b7"
      },
      "outputs": [],
      "source": [
        "grid_search.best_params_"
      ]
    },
    {
      "cell_type": "code",
      "execution_count": null,
      "metadata": {
        "colab": {
          "base_uri": "https://localhost:8080/"
        },
        "id": "Aw2SS469BIzS",
        "outputId": "e5804c07-f85d-4302-e96d-fc53853de4b3"
      },
      "outputs": [],
      "source": [
        "y_pred = grid_search.predict(df_test.drop(['RainTomorrow'], axis=1))\n",
        "print(classification_report(df_test['RainTomorrow'], y_pred))"
      ]
    },
    {
      "cell_type": "markdown",
      "metadata": {
        "id": "FNXNF_D9__Po"
      },
      "source": [
        "Con la optimización de hiperparámetros usando gridcv, nos muestra que los mejores hiperparametros para nuestro modelo de regresión logística con buen score de precision y recall son los siguentes:\n",
        "<br>\n",
        "No hace falta que el data set esté balanceado, converge en 200 iteraciones y con un valor de regularización bajo|.\n",
        "\n",
        "Por default en LogisticRegression de scikit-learn por default usa un valor\n",
        "C= 1.0\n",
        "ClassWeight=None, que no es optimizado\n",
        "max_iter=100\n",
        "y seteamos el solver para que solo pruebe con newton-cg pero por default usa 'lbfgs'"
      ]
    },
    {
      "cell_type": "markdown",
      "metadata": {
        "id": "vOj2EVE8BxcG"
      },
      "source": [
        "# Validación Cruzada"
      ]
    },
    {
      "cell_type": "markdown",
      "metadata": {
        "id": "oQgTJTV-iJxl"
      },
      "source": [
        "Consideramos necesario usar validación cruzada para evaluar mejor la performance del modelo con los mejores parametros"
      ]
    },
    {
      "cell_type": "code",
      "execution_count": null,
      "metadata": {
        "id": "ZM2hvXrTKYcS"
      },
      "outputs": [],
      "source": [
        "classification = LogisticRegression(C=10, class_weight='balanced', max_iter=500, solver='newton-cg')"
      ]
    },
    {
      "cell_type": "code",
      "execution_count": null,
      "metadata": {
        "id": "wYtELkDJL8bS"
      },
      "outputs": [],
      "source": [
        "df_test_cv = pd.concat([df_test, df_train], ignore_index=True)\n",
        "\n",
        "X_cv, y_cv = df_test_cv.drop(['RainTomorrow'], axis=1), df_test_cv['RainTomorrow']"
      ]
    },
    {
      "cell_type": "code",
      "execution_count": null,
      "metadata": {
        "colab": {
          "base_uri": "https://localhost:8080/"
        },
        "id": "PSj4LVBPKjHu",
        "outputId": "2d9ca8ad-2367-45ef-e026-9a3f69229f96"
      },
      "outputs": [],
      "source": [
        "scores = cross_val_score(classification, X_cv, y_cv, cv=KFold(n_splits=5, shuffle=True, random_state=42))\n",
        "scores"
      ]
    },
    {
      "cell_type": "code",
      "execution_count": null,
      "metadata": {
        "id": "1yFiLrAHUOEs"
      },
      "outputs": [],
      "source": [
        "cv_strategies = [\n",
        "    (\"KFold\", KFold(n_splits=5, shuffle=True, random_state=42))\n",
        "]\n",
        "\n",
        "results = {}\n",
        "for name, cv in cv_strategies:\n",
        "    scores = cross_val_score(classification, X_cv, y_cv, cv=cv)\n",
        "    results[name] = scores"
      ]
    },
    {
      "cell_type": "code",
      "execution_count": null,
      "metadata": {
        "colab": {
          "base_uri": "https://localhost:8080/",
          "height": 565
        },
        "id": "2Ez027LYUoZh",
        "outputId": "ff426b55-63c3-4d1d-b2ef-78ee4ea2bf8c"
      },
      "outputs": [],
      "source": [
        "plt.figure(figsize=(10, 6))\n",
        "for name, scores in results.items():\n",
        "    plt.plot(range(1, len(scores) + 1), scores, marker='o', label=name)\n",
        "\n",
        "plt.xlabel(\"Fold\")\n",
        "plt.ylabel(\"Accuracy\")\n",
        "plt.title(\"Estrategias de validación cruzada\")\n",
        "plt.legend()\n",
        "plt.grid(True)\n",
        "plt.show()"
      ]
    },
    {
      "cell_type": "markdown",
      "metadata": {
        "id": "V2qROOsYw6XM"
      },
      "source": [
        "En k-folds, los scores no varían demasiado por lo que indica que nuestro modelo tiene robustez"
      ]
    },
    {
      "cell_type": "markdown",
      "metadata": {
        "id": "Wp30U89R-pW3"
      },
      "source": [
        "# Redes Neuronales"
      ]
    },
    {
      "cell_type": "markdown",
      "metadata": {
        "id": "KTLCkREn-uQ_"
      },
      "source": [
        "## Redes Neuronales -- Regresión"
      ]
    },
    {
      "cell_type": "code",
      "execution_count": null,
      "metadata": {
        "colab": {
          "base_uri": "https://localhost:8080/"
        },
        "id": "wuXKOnWYBZED",
        "outputId": "70108d39-21e4-4494-bd60-d297ff24067d"
      },
      "outputs": [],
      "source": [
        "# Dropeo valores nulos de 'RainfallTomorrow' de mi dataframe original\n",
        "df.dropna(subset=['RainToday', 'RainTomorrow'], inplace=True)\n",
        "\n",
        "# Separación de variables explicativas y variables objetivo\n",
        "X = df.drop(['RainfallTomorrow'], axis=1).copy()\n",
        "y = df[['RainfallTomorrow']].copy()\n",
        "\n",
        "# Spliteo mi dataset en train-test\n",
        "X_train, X_test, y_train, y_test = train_test_split(X, y, test_size=0.2, random_state=42)\n",
        "X_train.shape, X_test.shape, y_train.shape, y_test.shape"
      ]
    },
    {
      "cell_type": "code",
      "execution_count": null,
      "metadata": {
        "id": "lrmu2fTEB7pn"
      },
      "outputs": [],
      "source": [
        "# DF train\n",
        "df_train = pd.DataFrame(X_train, columns=X.columns)\n",
        "df_train['RainfallTomorrow'] = y['RainfallTomorrow']\n",
        "\n",
        "# DF test\n",
        "df_test = pd.DataFrame(X_test, columns=X.columns)\n",
        "df_test['RainfallTomorrow'] = y['RainfallTomorrow']\n",
        "\n",
        "# Preproceso mi df de test y mi df de train\n",
        "df_train = preprocessor.fit_transform(df_train)\n",
        "df_test = preprocessor.fit_transform(df_test)"
      ]
    },
    {
      "cell_type": "code",
      "execution_count": null,
      "metadata": {
        "id": "fhUJZK3zCEw3"
      },
      "outputs": [],
      "source": [
        "X_train_regresion = df_train.drop(['RainfallTomorrow', 'RainTomorrow'], axis=1)\n",
        "y_train_regresion = df_train['RainfallTomorrow']\n",
        "\n",
        "X_test_regresion = df_test.drop(['RainfallTomorrow', 'RainTomorrow'], axis=1)\n",
        "y_test_regresion = df_test['RainfallTomorrow']"
      ]
    },
    {
      "cell_type": "code",
      "execution_count": null,
      "metadata": {
        "id": "-rGbtF9O-ow5"
      },
      "outputs": [],
      "source": [
        "def objective_reg(trial: Trial):\n",
        "\n",
        "    # Creamos el modelo\n",
        "    model = Sequential()\n",
        "\n",
        "    # Definimos HP a optimizar\n",
        "    num_layers = trial.suggest_int('num_layers', 1, 5)\n",
        "    num_units_input = trial.suggest_int('n_units_input', 4, 128)\n",
        "    model.add(Dense(num_units_input, activation='relu', input_shape=(X_train_regresion.shape[1],)))\n",
        "\n",
        "    for i in range(num_layers):\n",
        "        num_units = trial.suggest_int(f'n_units_layer_{i}', 4, 128)\n",
        "        model.add(Dense(num_units, activation='relu'))\n",
        "        dropout_rate = trial.suggest_float(f'dropout_rate_layer_{i}', 0.0, 0.5)\n",
        "        model.add(Dropout(dropout_rate))\n",
        "\n",
        "    model.add(Dense(1, activation='linear'))  # Capa final para la regresión\n",
        "\n",
        "    # Compilamos el modelo\n",
        "    learning_rate = trial.suggest_float('learning_rate', 1e-5, 1e-1, log=True)\n",
        "    model.compile(optimizer=Adam(learning_rate=learning_rate), loss='mean_squared_error')\n",
        "\n",
        "    # Split train, val test\n",
        "    X_train, X_valid, y_train, y_valid = train_test_split(X_train_regresion, y_train_regresion, test_size=0.2, random_state=42)\n",
        "\n",
        "    # Entrenamos el modelo\n",
        "    model.fit(X_train, y_train, validation_data=(X_valid, y_valid), epochs=10, batch_size=64, verbose=0)\n",
        "\n",
        "    # Evaluamos el modelo\n",
        "    score = model.evaluate(X_valid, y_valid, verbose=0)\n",
        "    return score"
      ]
    },
    {
      "cell_type": "code",
      "execution_count": null,
      "metadata": {
        "colab": {
          "base_uri": "https://localhost:8080/"
        },
        "id": "T7fzfWvSAAf3",
        "outputId": "e5566923-a797-48e7-8d00-eecc5bdcb8b3"
      },
      "outputs": [],
      "source": [
        "study = optuna.create_study(direction='minimize')  # Minimizar la pérdida\n",
        "study.optimize(objective_reg, n_trials=10)"
      ]
    },
    {
      "cell_type": "code",
      "execution_count": null,
      "metadata": {
        "colab": {
          "base_uri": "https://localhost:8080/"
        },
        "id": "xkIITV7kDEwf",
        "outputId": "3eaab809-08df-492a-b21f-bfadd1b9c5ce"
      },
      "outputs": [],
      "source": [
        "best_params = study.best_params\n",
        "print(\"Best parameters:\", best_params)"
      ]
    },
    {
      "cell_type": "code",
      "execution_count": null,
      "metadata": {
        "id": "KIvhq2uaDHiU"
      },
      "outputs": [],
      "source": [
        "# Entrenamos el modelo\n",
        "best_model = Sequential()\n",
        "best_model.add(Dense(best_params['n_units_input'], activation='relu', input_shape=(X_train_regresion.shape[1],)))\n",
        "\n",
        "\n",
        "for i in range(best_params['num_layers']):\n",
        "    best_model.add(Dense(best_params[f'n_units_layer_{i}'], activation='relu'))\n",
        "    best_model.add(Dropout(best_params[f'dropout_rate_layer_{i}']))\n",
        "\n",
        "best_model.add(Dense(1, activation='linear'))"
      ]
    },
    {
      "cell_type": "code",
      "execution_count": null,
      "metadata": {
        "id": "yLvWcyGTDNVk"
      },
      "outputs": [],
      "source": [
        "best_model.compile(optimizer=Adam(learning_rate=best_params['learning_rate']), loss='mean_squared_error')"
      ]
    },
    {
      "cell_type": "code",
      "execution_count": null,
      "metadata": {
        "colab": {
          "base_uri": "https://localhost:8080/"
        },
        "id": "wSHgUzWjDPaV",
        "outputId": "c6cb8901-d4c1-4df3-cb76-0f6f0cda6ef4"
      },
      "outputs": [],
      "source": [
        "# Entrenamos el MEJOR modelo\n",
        "best_model.fit(X_train_regresion, y_train_regresion, epochs=10, batch_size=64, verbose=0)"
      ]
    },
    {
      "cell_type": "code",
      "execution_count": null,
      "metadata": {
        "colab": {
          "base_uri": "https://localhost:8080/"
        },
        "id": "NFExbWM1DTv8",
        "outputId": "86704731-a1f7-4171-b5bd-36e20622cf9a"
      },
      "outputs": [],
      "source": [
        "# Evaluamos el MEJOR modelo\n",
        "train_scores = best_model.evaluate(X_train_regresion, y_train_regresion, verbose=0)\n",
        "valid_scores = best_model.evaluate(X_test_regresion, y_test_regresion, verbose=0)\n",
        "\n",
        "train_r2 = r2_score(y_train_regresion, best_model.predict(X_train_regresion))\n",
        "valid_r2 = r2_score(y_test_regresion, best_model.predict(X_test_regresion))\n",
        "\n",
        "train_mse = mean_squared_error(y_train_regresion, best_model.predict(X_train_regresion))\n",
        "valid_mse = mean_squared_error(y_test_regresion, best_model.predict(X_test_regresion))"
      ]
    },
    {
      "cell_type": "code",
      "execution_count": null,
      "metadata": {
        "colab": {
          "base_uri": "https://localhost:8080/"
        },
        "id": "OivRpNLCDpmN",
        "outputId": "996cfe8f-3e04-47e5-83b0-14d4a7dc2033"
      },
      "outputs": [],
      "source": [
        "# Chequeamos sus métricas\n",
        "print(f\"Train R2: {train_r2}, Test R2: {valid_r2}\")\n",
        "print(f\"Train MSE: {train_mse}, Test MSE: {valid_mse}\")"
      ]
    },
    {
      "cell_type": "markdown",
      "metadata": {
        "id": "Dxkwu5ubEPXM"
      },
      "source": [
        "El valor de r2 no es muy cercano a uno, en general explica alrededor del 35% de la variabilidad en los datos de entrenamiento y prueba.\n"
      ]
    },
    {
      "cell_type": "code",
      "execution_count": null,
      "metadata": {
        "colab": {
          "base_uri": "https://localhost:8080/"
        },
        "id": "B2T8xZU3Dukk",
        "outputId": "febf146b-c1d6-4e75-92d7-e1d162cc2c7c"
      },
      "outputs": [],
      "source": [
        "# Predicciones\n",
        "y_pred = best_model.predict(X_test_regresion)\n",
        "\n",
        "# Metricas\n",
        "print(f\"R2: {r2_score(y_test_regresion, y_pred)}\")\n",
        "print(f\"MSE: {mean_squared_error(y_test_regresion, y_pred)}\")"
      ]
    },
    {
      "cell_type": "markdown",
      "metadata": {},
      "source": [
        "En comparación con el mejor modelo de regresión linear que fue la RN con gradiente descendiente, la red neuronal ajusta mejor a los datos"
      ]
    },
    {
      "cell_type": "markdown",
      "metadata": {
        "id": "-RKx9-K1HwQU"
      },
      "source": [
        "# Explicabilidad - NN Regresión"
      ]
    },
    {
      "cell_type": "code",
      "execution_count": null,
      "metadata": {
        "id": "mKT46y9-fUkG"
      },
      "outputs": [],
      "source": [
        "X_train_regresion = X_train_regresion.sample(frac=.25, random_state=123)\n",
        "X_test_regresion = X_test_regresion.sample(frac=.25, random_state=123)"
      ]
    },
    {
      "cell_type": "code",
      "execution_count": null,
      "metadata": {
        "colab": {
          "base_uri": "https://localhost:8080/"
        },
        "id": "EubG59LyH1uQ",
        "outputId": "688e0a94-8fd1-4b55-8135-49c772448902"
      },
      "outputs": [],
      "source": [
        "explainer = shap.Explainer(best_model,\n",
        "                            X_train_regresion.values,\n",
        "                            feature_names=X_train_regresion.columns)\n",
        "\n",
        "explanation = explainer(X_test_regresion)"
      ]
    },
    {
      "cell_type": "code",
      "execution_count": null,
      "metadata": {
        "colab": {
          "base_uri": "https://localhost:8080/",
          "height": 945
        },
        "id": "6Js9ysb70mG-",
        "outputId": "daba9811-99e2-4f00-c491-30bdc3f9fd66"
      },
      "outputs": [],
      "source": [
        "# Prevenir error de dimensiones, porque explica ambas clases: https://stackoverflow.com/questions/73605032/error-in-shap-plots-tree-explainer-when-using-sklearn-pipeline-for-classificat\n",
        "shap.plots.beeswarm(explanation, max_display=None)"
      ]
    },
    {
      "cell_type": "markdown",
      "metadata": {
        "id": "vMarSJHbH5yt"
      },
      "source": [
        "Para las redes neuronales, las variables mas explicativas son La humedad de las 3pm, La presion de las 3pm y la presion de las 9am. Tanto la presión como la humedad, a mayor valor mayor es la cantidad de lluvia que predice mi modelo. En cambio para la presion de las 3pm a mayor valor, en el modelo resta la cantidad de lluvia. Esto lo concluimos con los resultado de la primera vez que creamos la red."
      ]
    },
    {
      "cell_type": "markdown",
      "metadata": {},
      "source": [
        "## Explicabilidad local NN Regresión"
      ]
    },
    {
      "cell_type": "code",
      "execution_count": null,
      "metadata": {
        "id": "6JQwEszyI49A"
      },
      "outputs": [],
      "source": [
        "x_train_array = X_train_regresion.sample(150)\n",
        "x_test_array = X_test_regresion.sample(150)"
      ]
    },
    {
      "cell_type": "code",
      "execution_count": null,
      "metadata": {
        "id": "nhMVpfypH2k8"
      },
      "outputs": [],
      "source": [
        "explainer = shap.KernelExplainer(best_model, shap.sample(x_train_array,90))"
      ]
    },
    {
      "cell_type": "code",
      "execution_count": null,
      "metadata": {},
      "outputs": [],
      "source": [
        "muestra = x_test_array.iloc[0:1].values\n",
        "shap_values = explainer.shap_values(muestra)\n",
        "\n",
        "base_value = explainer.expected_value\n",
        "\n",
        "pr_proba = best_model.predict(x_test_array)[0]\n",
        "result = np.argmax(pr_proba)"
      ]
    },
    {
      "cell_type": "code",
      "execution_count": null,
      "metadata": {
        "colab": {
          "base_uri": "https://localhost:8080/",
          "height": 697
        },
        "id": "yYvvszAWNYX8",
        "outputId": "7bda5b38-b0cd-424a-eaed-d04ac9b5bb65"
      },
      "outputs": [],
      "source": [
        "explanation = shap.Explanation(shap_values, base_value)\n",
        "shap.summary_plot(explanation, x_test_array, feature_names=X_train_regresion.columns)\n",
        "shap.plots.bar(explanation)"
      ]
    },
    {
      "cell_type": "markdown",
      "metadata": {
        "id": "7JaVKc5TMKYq"
      },
      "source": [
        "Conclusión: Al comparar los valores de MSE, para el problema de regresión, el mejor modelo es el de Redes Neuronales con los hiperparámetros optimizados. Anteriormente el mejor modelo había sido el de Regresión Lineal con gradiente descendiente con un valor de MSE igual a 0.76 mientra que el de las NN es igual a 0.67"
      ]
    },
    {
      "cell_type": "markdown",
      "metadata": {
        "id": "HAUf0GyZIG9c"
      },
      "source": [
        "## Redes Neuronales -- Clasificación"
      ]
    },
    {
      "cell_type": "code",
      "execution_count": null,
      "metadata": {
        "colab": {
          "base_uri": "https://localhost:8080/"
        },
        "id": "cuQBGmkUIJXr",
        "outputId": "0f75e0ea-7303-4624-cb3c-4b0c80a9225f"
      },
      "outputs": [],
      "source": [
        "# Dropeo valores nulos de 'RainfallTomorrow' de mi dataframe original\n",
        "df.dropna(subset=['RainToday', 'RainTomorrow'], inplace=True)\n",
        "\n",
        "# Separación de variables explicativas y variables objetivo\n",
        "X = df.drop(['RainfallTomorrow', 'RainTomorrow'], axis=1).copy()\n",
        "y = df[['RainTomorrow']].copy()\n",
        "\n",
        "# Spliteo mi dataset en train-test\n",
        "X_train, X_test, y_train, y_test = train_test_split(X, y, test_size=0.2, random_state=42)\n",
        "X_train.shape, X_test.shape, y_train.shape, y_test.shape"
      ]
    },
    {
      "cell_type": "code",
      "execution_count": null,
      "metadata": {
        "id": "nnh6m0RkITGX"
      },
      "outputs": [],
      "source": [
        "# DF train\n",
        "df_train = pd.DataFrame(X_train, columns=X.columns)\n",
        "df_train['RainTomorrow'] = y['RainTomorrow']\n",
        "\n",
        "# DF test\n",
        "df_test = pd.DataFrame(X_test, columns=X.columns)\n",
        "df_test['RainTomorrow'] = y['RainTomorrow']\n",
        "\n",
        "# Preproceso mi df de test y mi df de train\n",
        "df_train = preprocessor.fit_transform(df_train)\n",
        "df_test = preprocessor.fit_transform(df_test)"
      ]
    },
    {
      "cell_type": "code",
      "execution_count": null,
      "metadata": {
        "id": "Sq53w81XIVkX"
      },
      "outputs": [],
      "source": [
        "X_train_clasificacion  = df_train.drop('RainTomorrow', axis=1)\n",
        "y_train_clasificacion  = df_train['RainTomorrow']\n",
        "\n",
        "X_test_clasificacion  = df_test.drop('RainTomorrow', axis=1)\n",
        "y_test_clasificacion  = df_test['RainTomorrow']"
      ]
    },
    {
      "cell_type": "code",
      "execution_count": null,
      "metadata": {
        "id": "FFei3c7FQBNh"
      },
      "outputs": [],
      "source": [
        "def objective_class(trial: Trial):\n",
        "    # Create the model\n",
        "    model = Sequential()\n",
        "    num_layers = trial.suggest_int('num_layers', 1, 5)\n",
        "\n",
        "    for i in range(num_layers):\n",
        "        num_units = trial.suggest_int(f'n_units_layer_{i}', 4, 128)\n",
        "        model.add(Dense(num_units, activation='relu'))\n",
        "        dropout_rate = trial.suggest_float(f'dropout_rate_layer_{i}', 0.0, 0.5)\n",
        "        model.add(Dropout(dropout_rate))\n",
        "\n",
        "\n",
        "    model.add(Dense(2, activation='sigmoid'))  # Output layer for multi-class classification\n",
        "\n",
        "    model.compile(optimizer='adam', loss='binary_crossentropy', metrics=[Precision()])\n",
        "\n",
        "    # Split test, val, train\n",
        "    X_train, X_valid, y_train, y_valid = train_test_split(X_train_clasificacion, y_train_clasificacion, test_size=0.2, random_state=42)\n",
        "\n",
        "\n",
        "    # Convertir etiquetas a one-hot encoding\n",
        "    label_encoder = LabelEncoder()\n",
        "    y_train = to_categorical(label_encoder.fit_transform(y_train))\n",
        "    y_valid = to_categorical(label_encoder.transform(y_valid))\n",
        "\n",
        "    # Entreno\n",
        "    model.fit(X_train, y_train, validation_data=(X_valid, y_valid), epochs=5, batch_size=64, verbose=0)\n",
        "\n",
        "    # Fitteo\n",
        "    score = model.evaluate(X_valid, y_valid, verbose=0)\n",
        "    return score[1]  # Devuelve precision"
      ]
    },
    {
      "cell_type": "code",
      "execution_count": null,
      "metadata": {
        "colab": {
          "base_uri": "https://localhost:8080/"
        },
        "id": "70IG3dyOQFyv",
        "outputId": "86affd2f-7f04-4917-d75f-18a8d886de55"
      },
      "outputs": [],
      "source": [
        "# Otimizacion de HP\n",
        "study = optuna.create_study(direction='maximize')  # Minimizar la pérdida\n",
        "study.optimize(objective_class, n_trials=10)"
      ]
    },
    {
      "cell_type": "code",
      "execution_count": null,
      "metadata": {
        "colab": {
          "base_uri": "https://localhost:8080/"
        },
        "id": "1x9ZxWKpQHTw",
        "outputId": "566d22fb-6316-4d95-deb1-22d5bc7e9837"
      },
      "outputs": [],
      "source": [
        "# Obtenemos los mejores parametros\n",
        "best_params = study.best_params\n",
        "print(\"Best parameters:\", best_params)"
      ]
    },
    {
      "cell_type": "code",
      "execution_count": null,
      "metadata": {
        "id": "7EjO-EcEQKg7"
      },
      "outputs": [],
      "source": [
        "best_model = Sequential()\n",
        "best_model.add(Dense(2, activation='relu', input_shape=(X_train_clasificacion.shape[1],)))\n",
        "\n",
        "for i in range(best_params['num_layers']):\n",
        "    best_model.add(Dense(best_params[f'n_units_layer_{i}'], activation='relu'))\n",
        "    best_model.add(Dropout(best_params[f'dropout_rate_layer_{i}']))\n",
        "\n",
        "best_model.add(Dense(2, activation='softmax'))"
      ]
    },
    {
      "cell_type": "code",
      "execution_count": null,
      "metadata": {
        "id": "eNy_UyMcQPHn"
      },
      "outputs": [],
      "source": [
        "best_model.compile(optimizer='adam', loss='binary_crossentropy', metrics=[Precision()])"
      ]
    },
    {
      "cell_type": "code",
      "execution_count": null,
      "metadata": {
        "id": "8FRXlEcaQPj9"
      },
      "outputs": [],
      "source": [
        "label_encoder = LabelEncoder()\n",
        "y_train_clasificacion = to_categorical(label_encoder.fit_transform(y_train_clasificacion))\n",
        "y_test_clasificacion = to_categorical(label_encoder.transform(y_test_clasificacion))"
      ]
    },
    {
      "cell_type": "code",
      "execution_count": null,
      "metadata": {
        "colab": {
          "base_uri": "https://localhost:8080/"
        },
        "id": "KaTlrGy2QR24",
        "outputId": "1674d080-55f2-426f-868e-f4824101731a"
      },
      "outputs": [],
      "source": [
        "# Entrenamos\n",
        "best_model.fit(X_train_clasificacion, y_train_clasificacion, epochs=20, batch_size=64, verbose=0)"
      ]
    },
    {
      "cell_type": "code",
      "execution_count": null,
      "metadata": {
        "colab": {
          "base_uri": "https://localhost:8080/"
        },
        "id": "o-n_DGfSQTiU",
        "outputId": "bb0ab1d0-fbc2-4c6f-f2bd-e842dccb96d5"
      },
      "outputs": [],
      "source": [
        "# Evaluamos\n",
        "train_scores = best_model.evaluate(X_train_clasificacion, y_train_clasificacion, verbose=0)\n",
        "valid_scores = best_model.evaluate(X_test_clasificacion, y_test_clasificacion, verbose=0)\n",
        "\n",
        "train_preds = np.argmax(best_model.predict(X_train_clasificacion), axis=1)\n",
        "valid_preds = np.argmax(best_model.predict(X_test_clasificacion), axis=1)\n",
        "\n",
        "train_labels = np.argmax(y_train_clasificacion, axis=1)\n",
        "valid_labels = np.argmax(y_test_clasificacion, axis=1)\n",
        "\n",
        "train_accuracy = accuracy_score(train_labels, train_preds)\n",
        "valid_accuracy = accuracy_score(valid_labels, valid_preds)"
      ]
    },
    {
      "cell_type": "code",
      "execution_count": null,
      "metadata": {
        "colab": {
          "base_uri": "https://localhost:8080/"
        },
        "id": "mHEu9uiUQTdO",
        "outputId": "23e67ff6-7b80-4acb-c6a0-64ff97108639"
      },
      "outputs": [],
      "source": [
        "# Metricas\n",
        "print(f\"Train Accuracy: {train_accuracy}, Validation Accuracy: {valid_accuracy}\")"
      ]
    },
    {
      "cell_type": "code",
      "execution_count": null,
      "metadata": {
        "id": "-9eARdHQQb1P"
      },
      "outputs": [],
      "source": [
        "if len(y_test_clasificacion.shape) > 1 and y_test_clasificacion.shape[1] > 1:\n",
        "    y_test_clasificacion = np.argmax(y_test_clasificacion, axis=1)"
      ]
    },
    {
      "cell_type": "code",
      "execution_count": null,
      "metadata": {
        "colab": {
          "base_uri": "https://localhost:8080/"
        },
        "id": "-DuFw5psQdFW",
        "outputId": "65ae6a7f-a8d0-46ca-eb14-694d9e00b645"
      },
      "outputs": [],
      "source": [
        "predictions_prob = best_model.predict(X_test_clasificacion)\n",
        "\n",
        "predictions = (predictions_prob > 0.5).astype('int32')  # Convertir probabilidades a etiquetas binarias\n",
        "if len(predictions.shape) > 1 and predictions.shape[1] > 1:\n",
        "    predictions = np.argmax(predictions, axis=1)\n",
        "\n",
        "conf_matrix = confusion_matrix(y_test_clasificacion, predictions)"
      ]
    },
    {
      "cell_type": "code",
      "execution_count": null,
      "metadata": {
        "colab": {
          "base_uri": "https://localhost:8080/",
          "height": 466
        },
        "id": "sGYVW3aBQeNZ",
        "outputId": "bc70afd5-b270-4f0e-e754-a035adc4db54"
      },
      "outputs": [],
      "source": [
        "ConfusionMatrixDisplay(conf_matrix).plot()"
      ]
    },
    {
      "cell_type": "code",
      "execution_count": null,
      "metadata": {
        "colab": {
          "base_uri": "https://localhost:8080/"
        },
        "id": "cTLkdYoqToi-",
        "outputId": "63dda31c-44c7-4283-9933-ff801e792b64"
      },
      "outputs": [],
      "source": [
        "# Print recall, accuracy of the neuralnetwork\n",
        "from sklearn.metrics import recall_score, accuracy_score, precision_score\n",
        "\n",
        "print(f\"La red Neuronal predice:\\n -Correctamente la días de lluvia y no lluvia en un {accuracy_score(y_test_clasificacion, predictions)} (accuracy)\\n -De todos los días de lluvia, le acierta al: {recall_score(y_test_clasificacion, predictions)} (recall)\\n -De todos los días de no lluvia, le acierta al {precision_score(y_test_clasificacion, predictions)} (precision) \")"
      ]
    },
    {
      "cell_type": "code",
      "execution_count": null,
      "metadata": {
        "colab": {
          "base_uri": "https://localhost:8080/"
        },
        "id": "Z7_dAL7RQgAp",
        "outputId": "4827d22f-01f8-4132-9cb4-6057586ccf1b"
      },
      "outputs": [],
      "source": [
        "print(type(best_model))"
      ]
    },
    {
      "cell_type": "markdown",
      "metadata": {
        "id": "r2ziX4rcjHXo"
      },
      "source": [
        "# Explicabilidad RN Clasificación"
      ]
    },
    {
      "cell_type": "markdown",
      "metadata": {
        "id": "OHimvx4ZBCoW"
      },
      "source": [
        "Se necesita la version de python 3.10 para correrlo"
      ]
    },
    {
      "cell_type": "code",
      "execution_count": null,
      "metadata": {
        "id": "StnPN5NIkvle"
      },
      "outputs": [],
      "source": [
        "x_train_clasi_array = X_train_clasificacion.sample(frac=0.003, random_state=123)\n",
        "x_test_clasi_array = X_test_clasificacion.sample(frac=0.003, random_state=123)"
      ]
    },
    {
      "cell_type": "code",
      "execution_count": null,
      "metadata": {
        "id": "0t-KyNeqnUND"
      },
      "outputs": [],
      "source": [
        "explainer = shap.KernelExplainer(best_model,\n",
        "                            x_train_clasi_array.values,\n",
        "                            feature_names=x_train_clasi_array.columns)"
      ]
    },
    {
      "cell_type": "code",
      "execution_count": null,
      "metadata": {
        "colab": {
          "base_uri": "https://localhost:8080/",
          "height": 49,
          "referenced_widgets": [
            "bf206679f03e4c4aafb9af3e8d94fd19",
            "5936bbf720874ade9a5b58a7d47c965b",
            "db1864e949bd47f9919e09dceb97524c",
            "97028608a24541bda09328a01e698b66",
            "d32e2ea77cf94f63a8d4121cd046f37c",
            "0260989f50884a88a446cb8ccbc3b11c",
            "ebfbc2902c6643379339ff57ccf62980",
            "415582f0aeac4d88858660f56751cea7",
            "2494deb74197433896bf2eae15c112ba",
            "1f9f34aae3b6495b96d8087fa2e5cff0",
            "26a325594e114f2fafd1d5ff6615161c"
          ]
        },
        "id": "yMLYud25ov7g",
        "outputId": "189010a8-4902-46d3-82ab-d43f7de88bb4"
      },
      "outputs": [],
      "source": [
        "shap_values = explainer.shap_values(x_train_clasi_array)"
      ]
    },
    {
      "cell_type": "code",
      "execution_count": null,
      "metadata": {
        "colab": {
          "base_uri": "https://localhost:8080/",
          "height": 49,
          "referenced_widgets": [
            "766188f118c7455aae876cd8063fb402",
            "da548fd7768d4f93818bc6a6ba01a49c",
            "076f4778a7434cab82b5957848b5a235",
            "c71cb49321bb4216951f8832f58d9663",
            "2246850a3ec74f11a98458a4b9ee585f",
            "3416119a50b34f50b5705d860b99ccbe",
            "adce02b4b9824be89d3206f838dceb58",
            "b2fc05dc1ef94746b194bad1b124f1e8",
            "25027b1ff3aa43e886fc26637f2e5ec2",
            "690f039f67b94882a84c531fc3a91e81",
            "a025c2d771bf49a2b62782b6f4a2d360"
          ]
        },
        "id": "xmUbOoyt8fza",
        "outputId": "df64879c-0f52-464c-825f-5d9ff6d74ee8"
      },
      "outputs": [],
      "source": [
        "explanation = explainer(x_train_clasi_array)"
      ]
    },
    {
      "cell_type": "code",
      "execution_count": null,
      "metadata": {
        "colab": {
          "base_uri": "https://localhost:8080/",
          "height": 697
        },
        "id": "oFxJk1iVFMP6",
        "outputId": "3ca30608-a8e5-46e6-c1eb-5c7a32411e36"
      },
      "outputs": [],
      "source": [
        "shap.summary_plot(shap_values, x_train_clasi_array.values, feature_names = x_train_clasi_array.columns, class_names=['Llueve', 'No llueve'])"
      ]
    },
    {
      "cell_type": "markdown",
      "metadata": {
        "id": "oHScx2z7KG0h"
      },
      "source": [
        "Conclusión: Al comparar los valores de Accuracy, para el problema de clasificación, el mejor modelo es el de Regresión Logística con los hiperparametros optimizados con una Accuracy del 85% seguido por las Redes Neuronales con los hiperparámetros optimizados que tiene un 84%"
      ]
    }
  ],
  "metadata": {
    "accelerator": "GPU",
    "colab": {
      "collapsed_sections": [
        "NEX0XNftgHrf",
        "30eiOqVb75T7",
        "0rD4dGVrAYVy"
      ],
      "gpuType": "T4",
      "include_colab_link": true,
      "provenance": []
    },
    "kernelspec": {
      "display_name": "Python 3",
      "name": "python3"
    },
    "language_info": {
      "codemirror_mode": {
        "name": "ipython",
        "version": 3
      },
      "file_extension": ".py",
      "mimetype": "text/x-python",
      "name": "python",
      "nbconvert_exporter": "python",
      "pygments_lexer": "ipython3",
      "version": "3.11.7"
    },
    "widgets": {
      "application/vnd.jupyter.widget-state+json": {
        "0260989f50884a88a446cb8ccbc3b11c": {
          "model_module": "@jupyter-widgets/base",
          "model_module_version": "1.2.0",
          "model_name": "LayoutModel",
          "state": {
            "_model_module": "@jupyter-widgets/base",
            "_model_module_version": "1.2.0",
            "_model_name": "LayoutModel",
            "_view_count": null,
            "_view_module": "@jupyter-widgets/base",
            "_view_module_version": "1.2.0",
            "_view_name": "LayoutView",
            "align_content": null,
            "align_items": null,
            "align_self": null,
            "border": null,
            "bottom": null,
            "display": null,
            "flex": null,
            "flex_flow": null,
            "grid_area": null,
            "grid_auto_columns": null,
            "grid_auto_flow": null,
            "grid_auto_rows": null,
            "grid_column": null,
            "grid_gap": null,
            "grid_row": null,
            "grid_template_areas": null,
            "grid_template_columns": null,
            "grid_template_rows": null,
            "height": null,
            "justify_content": null,
            "justify_items": null,
            "left": null,
            "margin": null,
            "max_height": null,
            "max_width": null,
            "min_height": null,
            "min_width": null,
            "object_fit": null,
            "object_position": null,
            "order": null,
            "overflow": null,
            "overflow_x": null,
            "overflow_y": null,
            "padding": null,
            "right": null,
            "top": null,
            "visibility": null,
            "width": null
          }
        },
        "076f4778a7434cab82b5957848b5a235": {
          "model_module": "@jupyter-widgets/controls",
          "model_module_version": "1.5.0",
          "model_name": "FloatProgressModel",
          "state": {
            "_dom_classes": [],
            "_model_module": "@jupyter-widgets/controls",
            "_model_module_version": "1.5.0",
            "_model_name": "FloatProgressModel",
            "_view_count": null,
            "_view_module": "@jupyter-widgets/controls",
            "_view_module_version": "1.5.0",
            "_view_name": "ProgressView",
            "bar_style": "success",
            "description": "",
            "description_tooltip": null,
            "layout": "IPY_MODEL_b2fc05dc1ef94746b194bad1b124f1e8",
            "max": 65,
            "min": 0,
            "orientation": "horizontal",
            "style": "IPY_MODEL_25027b1ff3aa43e886fc26637f2e5ec2",
            "value": 65
          }
        },
        "1f9f34aae3b6495b96d8087fa2e5cff0": {
          "model_module": "@jupyter-widgets/base",
          "model_module_version": "1.2.0",
          "model_name": "LayoutModel",
          "state": {
            "_model_module": "@jupyter-widgets/base",
            "_model_module_version": "1.2.0",
            "_model_name": "LayoutModel",
            "_view_count": null,
            "_view_module": "@jupyter-widgets/base",
            "_view_module_version": "1.2.0",
            "_view_name": "LayoutView",
            "align_content": null,
            "align_items": null,
            "align_self": null,
            "border": null,
            "bottom": null,
            "display": null,
            "flex": null,
            "flex_flow": null,
            "grid_area": null,
            "grid_auto_columns": null,
            "grid_auto_flow": null,
            "grid_auto_rows": null,
            "grid_column": null,
            "grid_gap": null,
            "grid_row": null,
            "grid_template_areas": null,
            "grid_template_columns": null,
            "grid_template_rows": null,
            "height": null,
            "justify_content": null,
            "justify_items": null,
            "left": null,
            "margin": null,
            "max_height": null,
            "max_width": null,
            "min_height": null,
            "min_width": null,
            "object_fit": null,
            "object_position": null,
            "order": null,
            "overflow": null,
            "overflow_x": null,
            "overflow_y": null,
            "padding": null,
            "right": null,
            "top": null,
            "visibility": null,
            "width": null
          }
        },
        "2246850a3ec74f11a98458a4b9ee585f": {
          "model_module": "@jupyter-widgets/base",
          "model_module_version": "1.2.0",
          "model_name": "LayoutModel",
          "state": {
            "_model_module": "@jupyter-widgets/base",
            "_model_module_version": "1.2.0",
            "_model_name": "LayoutModel",
            "_view_count": null,
            "_view_module": "@jupyter-widgets/base",
            "_view_module_version": "1.2.0",
            "_view_name": "LayoutView",
            "align_content": null,
            "align_items": null,
            "align_self": null,
            "border": null,
            "bottom": null,
            "display": null,
            "flex": null,
            "flex_flow": null,
            "grid_area": null,
            "grid_auto_columns": null,
            "grid_auto_flow": null,
            "grid_auto_rows": null,
            "grid_column": null,
            "grid_gap": null,
            "grid_row": null,
            "grid_template_areas": null,
            "grid_template_columns": null,
            "grid_template_rows": null,
            "height": null,
            "justify_content": null,
            "justify_items": null,
            "left": null,
            "margin": null,
            "max_height": null,
            "max_width": null,
            "min_height": null,
            "min_width": null,
            "object_fit": null,
            "object_position": null,
            "order": null,
            "overflow": null,
            "overflow_x": null,
            "overflow_y": null,
            "padding": null,
            "right": null,
            "top": null,
            "visibility": null,
            "width": null
          }
        },
        "2494deb74197433896bf2eae15c112ba": {
          "model_module": "@jupyter-widgets/controls",
          "model_module_version": "1.5.0",
          "model_name": "ProgressStyleModel",
          "state": {
            "_model_module": "@jupyter-widgets/controls",
            "_model_module_version": "1.5.0",
            "_model_name": "ProgressStyleModel",
            "_view_count": null,
            "_view_module": "@jupyter-widgets/base",
            "_view_module_version": "1.2.0",
            "_view_name": "StyleView",
            "bar_color": null,
            "description_width": ""
          }
        },
        "25027b1ff3aa43e886fc26637f2e5ec2": {
          "model_module": "@jupyter-widgets/controls",
          "model_module_version": "1.5.0",
          "model_name": "ProgressStyleModel",
          "state": {
            "_model_module": "@jupyter-widgets/controls",
            "_model_module_version": "1.5.0",
            "_model_name": "ProgressStyleModel",
            "_view_count": null,
            "_view_module": "@jupyter-widgets/base",
            "_view_module_version": "1.2.0",
            "_view_name": "StyleView",
            "bar_color": null,
            "description_width": ""
          }
        },
        "26a325594e114f2fafd1d5ff6615161c": {
          "model_module": "@jupyter-widgets/controls",
          "model_module_version": "1.5.0",
          "model_name": "DescriptionStyleModel",
          "state": {
            "_model_module": "@jupyter-widgets/controls",
            "_model_module_version": "1.5.0",
            "_model_name": "DescriptionStyleModel",
            "_view_count": null,
            "_view_module": "@jupyter-widgets/base",
            "_view_module_version": "1.2.0",
            "_view_name": "StyleView",
            "description_width": ""
          }
        },
        "3416119a50b34f50b5705d860b99ccbe": {
          "model_module": "@jupyter-widgets/base",
          "model_module_version": "1.2.0",
          "model_name": "LayoutModel",
          "state": {
            "_model_module": "@jupyter-widgets/base",
            "_model_module_version": "1.2.0",
            "_model_name": "LayoutModel",
            "_view_count": null,
            "_view_module": "@jupyter-widgets/base",
            "_view_module_version": "1.2.0",
            "_view_name": "LayoutView",
            "align_content": null,
            "align_items": null,
            "align_self": null,
            "border": null,
            "bottom": null,
            "display": null,
            "flex": null,
            "flex_flow": null,
            "grid_area": null,
            "grid_auto_columns": null,
            "grid_auto_flow": null,
            "grid_auto_rows": null,
            "grid_column": null,
            "grid_gap": null,
            "grid_row": null,
            "grid_template_areas": null,
            "grid_template_columns": null,
            "grid_template_rows": null,
            "height": null,
            "justify_content": null,
            "justify_items": null,
            "left": null,
            "margin": null,
            "max_height": null,
            "max_width": null,
            "min_height": null,
            "min_width": null,
            "object_fit": null,
            "object_position": null,
            "order": null,
            "overflow": null,
            "overflow_x": null,
            "overflow_y": null,
            "padding": null,
            "right": null,
            "top": null,
            "visibility": null,
            "width": null
          }
        },
        "415582f0aeac4d88858660f56751cea7": {
          "model_module": "@jupyter-widgets/base",
          "model_module_version": "1.2.0",
          "model_name": "LayoutModel",
          "state": {
            "_model_module": "@jupyter-widgets/base",
            "_model_module_version": "1.2.0",
            "_model_name": "LayoutModel",
            "_view_count": null,
            "_view_module": "@jupyter-widgets/base",
            "_view_module_version": "1.2.0",
            "_view_name": "LayoutView",
            "align_content": null,
            "align_items": null,
            "align_self": null,
            "border": null,
            "bottom": null,
            "display": null,
            "flex": null,
            "flex_flow": null,
            "grid_area": null,
            "grid_auto_columns": null,
            "grid_auto_flow": null,
            "grid_auto_rows": null,
            "grid_column": null,
            "grid_gap": null,
            "grid_row": null,
            "grid_template_areas": null,
            "grid_template_columns": null,
            "grid_template_rows": null,
            "height": null,
            "justify_content": null,
            "justify_items": null,
            "left": null,
            "margin": null,
            "max_height": null,
            "max_width": null,
            "min_height": null,
            "min_width": null,
            "object_fit": null,
            "object_position": null,
            "order": null,
            "overflow": null,
            "overflow_x": null,
            "overflow_y": null,
            "padding": null,
            "right": null,
            "top": null,
            "visibility": null,
            "width": null
          }
        },
        "5936bbf720874ade9a5b58a7d47c965b": {
          "model_module": "@jupyter-widgets/controls",
          "model_module_version": "1.5.0",
          "model_name": "HTMLModel",
          "state": {
            "_dom_classes": [],
            "_model_module": "@jupyter-widgets/controls",
            "_model_module_version": "1.5.0",
            "_model_name": "HTMLModel",
            "_view_count": null,
            "_view_module": "@jupyter-widgets/controls",
            "_view_module_version": "1.5.0",
            "_view_name": "HTMLView",
            "description": "",
            "description_tooltip": null,
            "layout": "IPY_MODEL_0260989f50884a88a446cb8ccbc3b11c",
            "placeholder": "​",
            "style": "IPY_MODEL_ebfbc2902c6643379339ff57ccf62980",
            "value": "100%"
          }
        },
        "690f039f67b94882a84c531fc3a91e81": {
          "model_module": "@jupyter-widgets/base",
          "model_module_version": "1.2.0",
          "model_name": "LayoutModel",
          "state": {
            "_model_module": "@jupyter-widgets/base",
            "_model_module_version": "1.2.0",
            "_model_name": "LayoutModel",
            "_view_count": null,
            "_view_module": "@jupyter-widgets/base",
            "_view_module_version": "1.2.0",
            "_view_name": "LayoutView",
            "align_content": null,
            "align_items": null,
            "align_self": null,
            "border": null,
            "bottom": null,
            "display": null,
            "flex": null,
            "flex_flow": null,
            "grid_area": null,
            "grid_auto_columns": null,
            "grid_auto_flow": null,
            "grid_auto_rows": null,
            "grid_column": null,
            "grid_gap": null,
            "grid_row": null,
            "grid_template_areas": null,
            "grid_template_columns": null,
            "grid_template_rows": null,
            "height": null,
            "justify_content": null,
            "justify_items": null,
            "left": null,
            "margin": null,
            "max_height": null,
            "max_width": null,
            "min_height": null,
            "min_width": null,
            "object_fit": null,
            "object_position": null,
            "order": null,
            "overflow": null,
            "overflow_x": null,
            "overflow_y": null,
            "padding": null,
            "right": null,
            "top": null,
            "visibility": null,
            "width": null
          }
        },
        "766188f118c7455aae876cd8063fb402": {
          "model_module": "@jupyter-widgets/controls",
          "model_module_version": "1.5.0",
          "model_name": "HBoxModel",
          "state": {
            "_dom_classes": [],
            "_model_module": "@jupyter-widgets/controls",
            "_model_module_version": "1.5.0",
            "_model_name": "HBoxModel",
            "_view_count": null,
            "_view_module": "@jupyter-widgets/controls",
            "_view_module_version": "1.5.0",
            "_view_name": "HBoxView",
            "box_style": "",
            "children": [
              "IPY_MODEL_da548fd7768d4f93818bc6a6ba01a49c",
              "IPY_MODEL_076f4778a7434cab82b5957848b5a235",
              "IPY_MODEL_c71cb49321bb4216951f8832f58d9663"
            ],
            "layout": "IPY_MODEL_2246850a3ec74f11a98458a4b9ee585f"
          }
        },
        "97028608a24541bda09328a01e698b66": {
          "model_module": "@jupyter-widgets/controls",
          "model_module_version": "1.5.0",
          "model_name": "HTMLModel",
          "state": {
            "_dom_classes": [],
            "_model_module": "@jupyter-widgets/controls",
            "_model_module_version": "1.5.0",
            "_model_name": "HTMLModel",
            "_view_count": null,
            "_view_module": "@jupyter-widgets/controls",
            "_view_module_version": "1.5.0",
            "_view_name": "HTMLView",
            "description": "",
            "description_tooltip": null,
            "layout": "IPY_MODEL_1f9f34aae3b6495b96d8087fa2e5cff0",
            "placeholder": "​",
            "style": "IPY_MODEL_26a325594e114f2fafd1d5ff6615161c",
            "value": " 65/65 [01:14&lt;00:00,  1.16it/s]"
          }
        },
        "a025c2d771bf49a2b62782b6f4a2d360": {
          "model_module": "@jupyter-widgets/controls",
          "model_module_version": "1.5.0",
          "model_name": "DescriptionStyleModel",
          "state": {
            "_model_module": "@jupyter-widgets/controls",
            "_model_module_version": "1.5.0",
            "_model_name": "DescriptionStyleModel",
            "_view_count": null,
            "_view_module": "@jupyter-widgets/base",
            "_view_module_version": "1.2.0",
            "_view_name": "StyleView",
            "description_width": ""
          }
        },
        "adce02b4b9824be89d3206f838dceb58": {
          "model_module": "@jupyter-widgets/controls",
          "model_module_version": "1.5.0",
          "model_name": "DescriptionStyleModel",
          "state": {
            "_model_module": "@jupyter-widgets/controls",
            "_model_module_version": "1.5.0",
            "_model_name": "DescriptionStyleModel",
            "_view_count": null,
            "_view_module": "@jupyter-widgets/base",
            "_view_module_version": "1.2.0",
            "_view_name": "StyleView",
            "description_width": ""
          }
        },
        "b2fc05dc1ef94746b194bad1b124f1e8": {
          "model_module": "@jupyter-widgets/base",
          "model_module_version": "1.2.0",
          "model_name": "LayoutModel",
          "state": {
            "_model_module": "@jupyter-widgets/base",
            "_model_module_version": "1.2.0",
            "_model_name": "LayoutModel",
            "_view_count": null,
            "_view_module": "@jupyter-widgets/base",
            "_view_module_version": "1.2.0",
            "_view_name": "LayoutView",
            "align_content": null,
            "align_items": null,
            "align_self": null,
            "border": null,
            "bottom": null,
            "display": null,
            "flex": null,
            "flex_flow": null,
            "grid_area": null,
            "grid_auto_columns": null,
            "grid_auto_flow": null,
            "grid_auto_rows": null,
            "grid_column": null,
            "grid_gap": null,
            "grid_row": null,
            "grid_template_areas": null,
            "grid_template_columns": null,
            "grid_template_rows": null,
            "height": null,
            "justify_content": null,
            "justify_items": null,
            "left": null,
            "margin": null,
            "max_height": null,
            "max_width": null,
            "min_height": null,
            "min_width": null,
            "object_fit": null,
            "object_position": null,
            "order": null,
            "overflow": null,
            "overflow_x": null,
            "overflow_y": null,
            "padding": null,
            "right": null,
            "top": null,
            "visibility": null,
            "width": null
          }
        },
        "bf206679f03e4c4aafb9af3e8d94fd19": {
          "model_module": "@jupyter-widgets/controls",
          "model_module_version": "1.5.0",
          "model_name": "HBoxModel",
          "state": {
            "_dom_classes": [],
            "_model_module": "@jupyter-widgets/controls",
            "_model_module_version": "1.5.0",
            "_model_name": "HBoxModel",
            "_view_count": null,
            "_view_module": "@jupyter-widgets/controls",
            "_view_module_version": "1.5.0",
            "_view_name": "HBoxView",
            "box_style": "",
            "children": [
              "IPY_MODEL_5936bbf720874ade9a5b58a7d47c965b",
              "IPY_MODEL_db1864e949bd47f9919e09dceb97524c",
              "IPY_MODEL_97028608a24541bda09328a01e698b66"
            ],
            "layout": "IPY_MODEL_d32e2ea77cf94f63a8d4121cd046f37c"
          }
        },
        "c71cb49321bb4216951f8832f58d9663": {
          "model_module": "@jupyter-widgets/controls",
          "model_module_version": "1.5.0",
          "model_name": "HTMLModel",
          "state": {
            "_dom_classes": [],
            "_model_module": "@jupyter-widgets/controls",
            "_model_module_version": "1.5.0",
            "_model_name": "HTMLModel",
            "_view_count": null,
            "_view_module": "@jupyter-widgets/controls",
            "_view_module_version": "1.5.0",
            "_view_name": "HTMLView",
            "description": "",
            "description_tooltip": null,
            "layout": "IPY_MODEL_690f039f67b94882a84c531fc3a91e81",
            "placeholder": "​",
            "style": "IPY_MODEL_a025c2d771bf49a2b62782b6f4a2d360",
            "value": " 65/65 [01:01&lt;00:00,  1.19it/s]"
          }
        },
        "d32e2ea77cf94f63a8d4121cd046f37c": {
          "model_module": "@jupyter-widgets/base",
          "model_module_version": "1.2.0",
          "model_name": "LayoutModel",
          "state": {
            "_model_module": "@jupyter-widgets/base",
            "_model_module_version": "1.2.0",
            "_model_name": "LayoutModel",
            "_view_count": null,
            "_view_module": "@jupyter-widgets/base",
            "_view_module_version": "1.2.0",
            "_view_name": "LayoutView",
            "align_content": null,
            "align_items": null,
            "align_self": null,
            "border": null,
            "bottom": null,
            "display": null,
            "flex": null,
            "flex_flow": null,
            "grid_area": null,
            "grid_auto_columns": null,
            "grid_auto_flow": null,
            "grid_auto_rows": null,
            "grid_column": null,
            "grid_gap": null,
            "grid_row": null,
            "grid_template_areas": null,
            "grid_template_columns": null,
            "grid_template_rows": null,
            "height": null,
            "justify_content": null,
            "justify_items": null,
            "left": null,
            "margin": null,
            "max_height": null,
            "max_width": null,
            "min_height": null,
            "min_width": null,
            "object_fit": null,
            "object_position": null,
            "order": null,
            "overflow": null,
            "overflow_x": null,
            "overflow_y": null,
            "padding": null,
            "right": null,
            "top": null,
            "visibility": null,
            "width": null
          }
        },
        "da548fd7768d4f93818bc6a6ba01a49c": {
          "model_module": "@jupyter-widgets/controls",
          "model_module_version": "1.5.0",
          "model_name": "HTMLModel",
          "state": {
            "_dom_classes": [],
            "_model_module": "@jupyter-widgets/controls",
            "_model_module_version": "1.5.0",
            "_model_name": "HTMLModel",
            "_view_count": null,
            "_view_module": "@jupyter-widgets/controls",
            "_view_module_version": "1.5.0",
            "_view_name": "HTMLView",
            "description": "",
            "description_tooltip": null,
            "layout": "IPY_MODEL_3416119a50b34f50b5705d860b99ccbe",
            "placeholder": "​",
            "style": "IPY_MODEL_adce02b4b9824be89d3206f838dceb58",
            "value": "100%"
          }
        },
        "db1864e949bd47f9919e09dceb97524c": {
          "model_module": "@jupyter-widgets/controls",
          "model_module_version": "1.5.0",
          "model_name": "FloatProgressModel",
          "state": {
            "_dom_classes": [],
            "_model_module": "@jupyter-widgets/controls",
            "_model_module_version": "1.5.0",
            "_model_name": "FloatProgressModel",
            "_view_count": null,
            "_view_module": "@jupyter-widgets/controls",
            "_view_module_version": "1.5.0",
            "_view_name": "ProgressView",
            "bar_style": "success",
            "description": "",
            "description_tooltip": null,
            "layout": "IPY_MODEL_415582f0aeac4d88858660f56751cea7",
            "max": 65,
            "min": 0,
            "orientation": "horizontal",
            "style": "IPY_MODEL_2494deb74197433896bf2eae15c112ba",
            "value": 65
          }
        },
        "ebfbc2902c6643379339ff57ccf62980": {
          "model_module": "@jupyter-widgets/controls",
          "model_module_version": "1.5.0",
          "model_name": "DescriptionStyleModel",
          "state": {
            "_model_module": "@jupyter-widgets/controls",
            "_model_module_version": "1.5.0",
            "_model_name": "DescriptionStyleModel",
            "_view_count": null,
            "_view_module": "@jupyter-widgets/base",
            "_view_module_version": "1.2.0",
            "_view_name": "StyleView",
            "description_width": ""
          }
        }
      }
    }
  },
  "nbformat": 4,
  "nbformat_minor": 0
}
