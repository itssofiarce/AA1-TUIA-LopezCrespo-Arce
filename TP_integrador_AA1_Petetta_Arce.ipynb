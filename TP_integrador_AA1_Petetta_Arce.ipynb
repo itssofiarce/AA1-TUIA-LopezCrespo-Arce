{
  "nbformat": 4,
  "nbformat_minor": 0,
  "metadata": {
    "colab": {
      "provenance": [],
      "include_colab_link": true
    },
    "kernelspec": {
      "name": "python3",
      "display_name": "Python 3"
    },
    "language_info": {
      "name": "python"
    }
  },
  "cells": [
    {
      "cell_type": "markdown",
      "metadata": {
        "id": "view-in-github",
        "colab_type": "text"
      },
      "source": [
        "<a href=\"https://colab.research.google.com/github/itssofiarce/AA1-TUIA-Petetta-Arce/blob/main/TP_integrador_AA1_Petetta_Arce.ipynb\" target=\"_parent\"><img src=\"https://colab.research.google.com/assets/colab-badge.svg\" alt=\"Open In Colab\"/></a>"
      ]
    },
    {
      "cell_type": "code",
      "execution_count": 1,
      "metadata": {
        "id": "9Ph9T6E0tuKX"
      },
      "outputs": [],
      "source": [
        "#from google.colab import drive\n",
        "#drive.mount('/content/drive')"
      ]
    },
    {
      "cell_type": "code",
      "source": [
        "!pip3 install shap"
      ],
      "metadata": {
        "colab": {
          "base_uri": "https://localhost:8080/"
        },
        "id": "Cy04OfhX5cTv",
        "outputId": "b4535831-bf69-4c8f-f7a3-c11e6464b9fe"
      },
      "execution_count": 2,
      "outputs": [
        {
          "output_type": "stream",
          "name": "stdout",
          "text": [
            "Collecting shap\n",
            "  Downloading shap-0.45.1-cp310-cp310-manylinux_2_12_x86_64.manylinux2010_x86_64.manylinux_2_17_x86_64.manylinux2014_x86_64.whl (540 kB)\n",
            "\u001b[2K     \u001b[90m━━━━━━━━━━━━━━━━━━━━━━━━━━━━━━━━━━━━━━━━\u001b[0m \u001b[32m540.5/540.5 kB\u001b[0m \u001b[31m6.4 MB/s\u001b[0m eta \u001b[36m0:00:00\u001b[0m\n",
            "\u001b[?25hRequirement already satisfied: numpy in /usr/local/lib/python3.10/dist-packages (from shap) (1.25.2)\n",
            "Requirement already satisfied: scipy in /usr/local/lib/python3.10/dist-packages (from shap) (1.11.4)\n",
            "Requirement already satisfied: scikit-learn in /usr/local/lib/python3.10/dist-packages (from shap) (1.2.2)\n",
            "Requirement already satisfied: pandas in /usr/local/lib/python3.10/dist-packages (from shap) (2.0.3)\n",
            "Requirement already satisfied: tqdm>=4.27.0 in /usr/local/lib/python3.10/dist-packages (from shap) (4.66.4)\n",
            "Requirement already satisfied: packaging>20.9 in /usr/local/lib/python3.10/dist-packages (from shap) (24.0)\n",
            "Collecting slicer==0.0.8 (from shap)\n",
            "  Downloading slicer-0.0.8-py3-none-any.whl (15 kB)\n",
            "Requirement already satisfied: numba in /usr/local/lib/python3.10/dist-packages (from shap) (0.58.1)\n",
            "Requirement already satisfied: cloudpickle in /usr/local/lib/python3.10/dist-packages (from shap) (2.2.1)\n",
            "Requirement already satisfied: llvmlite<0.42,>=0.41.0dev0 in /usr/local/lib/python3.10/dist-packages (from numba->shap) (0.41.1)\n",
            "Requirement already satisfied: python-dateutil>=2.8.2 in /usr/local/lib/python3.10/dist-packages (from pandas->shap) (2.8.2)\n",
            "Requirement already satisfied: pytz>=2020.1 in /usr/local/lib/python3.10/dist-packages (from pandas->shap) (2023.4)\n",
            "Requirement already satisfied: tzdata>=2022.1 in /usr/local/lib/python3.10/dist-packages (from pandas->shap) (2024.1)\n",
            "Requirement already satisfied: joblib>=1.1.1 in /usr/local/lib/python3.10/dist-packages (from scikit-learn->shap) (1.4.2)\n",
            "Requirement already satisfied: threadpoolctl>=2.0.0 in /usr/local/lib/python3.10/dist-packages (from scikit-learn->shap) (3.5.0)\n",
            "Requirement already satisfied: six>=1.5 in /usr/local/lib/python3.10/dist-packages (from python-dateutil>=2.8.2->pandas->shap) (1.16.0)\n",
            "Installing collected packages: slicer, shap\n",
            "Successfully installed shap-0.45.1 slicer-0.0.8\n"
          ]
        }
      ]
    },
    {
      "cell_type": "code",
      "source": [
        "import pandas as pd\n",
        "import numpy as np\n",
        "import seaborn as sns\n",
        "import matplotlib.pyplot as plt\n",
        "import statsmodels.api as sm\n",
        "\n",
        "# De scikit-learn...\n",
        "\n",
        "# Pipeline\n",
        "from sklearn.base import BaseEstimator, TransformerMixin\n",
        "from sklearn.preprocessing import LabelEncoder\n",
        "from sklearn.preprocessing import PowerTransformer\n",
        "\n",
        "# Estandarización y modelado\n",
        "from sklearn.pipeline import make_pipeline\n",
        "from sklearn.preprocessing import StandardScaler\n",
        "from sklearn.metrics import mean_squared_error\n",
        "from sklearn import metrics\n",
        "\n",
        "from sklearn.pipeline import Pipeline\n",
        "from sklearn.compose import ColumnTransformer\n",
        "from sklearn.impute import SimpleImputer\n",
        "from sklearn.preprocessing import OneHotEncoder\n",
        "\n",
        "from sklearn.compose import make_column_selector\n",
        "# Division de los datos\n",
        "from sklearn.model_selection import train_test_split\n",
        "\n",
        "# Normalización\n",
        "from sklearn.preprocessing import MinMaxScaler\n",
        "\n",
        "# Regresiones\n",
        "from sklearn.linear_model import LinearRegression, SGDRegressor, Ridge, Lasso, ElasticNet, RidgeCV, ElasticNetCV, LassoCV, LogisticRegression\n",
        "\n",
        "# ML metricas\n",
        "from sklearn.metrics import mean_squared_error, r2_score, classification_report"
      ],
      "metadata": {
        "id": "rTa7IXUAt_B4"
      },
      "execution_count": 3,
      "outputs": []
    },
    {
      "cell_type": "code",
      "source": [
        "path= '/content/weatherAUS.csv'\n",
        "df = pd.read_csv(path, usecols=range(1,25))\n",
        "df.head()"
      ],
      "metadata": {
        "colab": {
          "base_uri": "https://localhost:8080/",
          "height": 339
        },
        "id": "xNw9O_YAuBTG",
        "outputId": "bce62238-9f6a-4606-acd2-9c956be0326d"
      },
      "execution_count": 4,
      "outputs": [
        {
          "output_type": "error",
          "ename": "FileNotFoundError",
          "evalue": "[Errno 2] No such file or directory: '/content/weatherAUS.csv'",
          "traceback": [
            "\u001b[0;31m---------------------------------------------------------------------------\u001b[0m",
            "\u001b[0;31mFileNotFoundError\u001b[0m                         Traceback (most recent call last)",
            "\u001b[0;32m<ipython-input-4-de4dacd5a60f>\u001b[0m in \u001b[0;36m<cell line: 2>\u001b[0;34m()\u001b[0m\n\u001b[1;32m      1\u001b[0m \u001b[0mpath\u001b[0m\u001b[0;34m=\u001b[0m \u001b[0;34m'/content/weatherAUS.csv'\u001b[0m\u001b[0;34m\u001b[0m\u001b[0;34m\u001b[0m\u001b[0m\n\u001b[0;32m----> 2\u001b[0;31m \u001b[0mdf\u001b[0m \u001b[0;34m=\u001b[0m \u001b[0mpd\u001b[0m\u001b[0;34m.\u001b[0m\u001b[0mread_csv\u001b[0m\u001b[0;34m(\u001b[0m\u001b[0mpath\u001b[0m\u001b[0;34m,\u001b[0m \u001b[0musecols\u001b[0m\u001b[0;34m=\u001b[0m\u001b[0mrange\u001b[0m\u001b[0;34m(\u001b[0m\u001b[0;36m1\u001b[0m\u001b[0;34m,\u001b[0m\u001b[0;36m25\u001b[0m\u001b[0;34m)\u001b[0m\u001b[0;34m)\u001b[0m\u001b[0;34m\u001b[0m\u001b[0;34m\u001b[0m\u001b[0m\n\u001b[0m\u001b[1;32m      3\u001b[0m \u001b[0mdf\u001b[0m\u001b[0;34m.\u001b[0m\u001b[0mhead\u001b[0m\u001b[0;34m(\u001b[0m\u001b[0;34m)\u001b[0m\u001b[0;34m\u001b[0m\u001b[0;34m\u001b[0m\u001b[0m\n",
            "\u001b[0;32m/usr/local/lib/python3.10/dist-packages/pandas/io/parsers/readers.py\u001b[0m in \u001b[0;36mread_csv\u001b[0;34m(filepath_or_buffer, sep, delimiter, header, names, index_col, usecols, dtype, engine, converters, true_values, false_values, skipinitialspace, skiprows, skipfooter, nrows, na_values, keep_default_na, na_filter, verbose, skip_blank_lines, parse_dates, infer_datetime_format, keep_date_col, date_parser, date_format, dayfirst, cache_dates, iterator, chunksize, compression, thousands, decimal, lineterminator, quotechar, quoting, doublequote, escapechar, comment, encoding, encoding_errors, dialect, on_bad_lines, delim_whitespace, low_memory, memory_map, float_precision, storage_options, dtype_backend)\u001b[0m\n\u001b[1;32m    910\u001b[0m     \u001b[0mkwds\u001b[0m\u001b[0;34m.\u001b[0m\u001b[0mupdate\u001b[0m\u001b[0;34m(\u001b[0m\u001b[0mkwds_defaults\u001b[0m\u001b[0;34m)\u001b[0m\u001b[0;34m\u001b[0m\u001b[0;34m\u001b[0m\u001b[0m\n\u001b[1;32m    911\u001b[0m \u001b[0;34m\u001b[0m\u001b[0m\n\u001b[0;32m--> 912\u001b[0;31m     \u001b[0;32mreturn\u001b[0m \u001b[0m_read\u001b[0m\u001b[0;34m(\u001b[0m\u001b[0mfilepath_or_buffer\u001b[0m\u001b[0;34m,\u001b[0m \u001b[0mkwds\u001b[0m\u001b[0;34m)\u001b[0m\u001b[0;34m\u001b[0m\u001b[0;34m\u001b[0m\u001b[0m\n\u001b[0m\u001b[1;32m    913\u001b[0m \u001b[0;34m\u001b[0m\u001b[0m\n\u001b[1;32m    914\u001b[0m \u001b[0;34m\u001b[0m\u001b[0m\n",
            "\u001b[0;32m/usr/local/lib/python3.10/dist-packages/pandas/io/parsers/readers.py\u001b[0m in \u001b[0;36m_read\u001b[0;34m(filepath_or_buffer, kwds)\u001b[0m\n\u001b[1;32m    575\u001b[0m \u001b[0;34m\u001b[0m\u001b[0m\n\u001b[1;32m    576\u001b[0m     \u001b[0;31m# Create the parser.\u001b[0m\u001b[0;34m\u001b[0m\u001b[0;34m\u001b[0m\u001b[0m\n\u001b[0;32m--> 577\u001b[0;31m     \u001b[0mparser\u001b[0m \u001b[0;34m=\u001b[0m \u001b[0mTextFileReader\u001b[0m\u001b[0;34m(\u001b[0m\u001b[0mfilepath_or_buffer\u001b[0m\u001b[0;34m,\u001b[0m \u001b[0;34m**\u001b[0m\u001b[0mkwds\u001b[0m\u001b[0;34m)\u001b[0m\u001b[0;34m\u001b[0m\u001b[0;34m\u001b[0m\u001b[0m\n\u001b[0m\u001b[1;32m    578\u001b[0m \u001b[0;34m\u001b[0m\u001b[0m\n\u001b[1;32m    579\u001b[0m     \u001b[0;32mif\u001b[0m \u001b[0mchunksize\u001b[0m \u001b[0;32mor\u001b[0m \u001b[0miterator\u001b[0m\u001b[0;34m:\u001b[0m\u001b[0;34m\u001b[0m\u001b[0;34m\u001b[0m\u001b[0m\n",
            "\u001b[0;32m/usr/local/lib/python3.10/dist-packages/pandas/io/parsers/readers.py\u001b[0m in \u001b[0;36m__init__\u001b[0;34m(self, f, engine, **kwds)\u001b[0m\n\u001b[1;32m   1405\u001b[0m \u001b[0;34m\u001b[0m\u001b[0m\n\u001b[1;32m   1406\u001b[0m         \u001b[0mself\u001b[0m\u001b[0;34m.\u001b[0m\u001b[0mhandles\u001b[0m\u001b[0;34m:\u001b[0m \u001b[0mIOHandles\u001b[0m \u001b[0;34m|\u001b[0m \u001b[0;32mNone\u001b[0m \u001b[0;34m=\u001b[0m \u001b[0;32mNone\u001b[0m\u001b[0;34m\u001b[0m\u001b[0;34m\u001b[0m\u001b[0m\n\u001b[0;32m-> 1407\u001b[0;31m         \u001b[0mself\u001b[0m\u001b[0;34m.\u001b[0m\u001b[0m_engine\u001b[0m \u001b[0;34m=\u001b[0m \u001b[0mself\u001b[0m\u001b[0;34m.\u001b[0m\u001b[0m_make_engine\u001b[0m\u001b[0;34m(\u001b[0m\u001b[0mf\u001b[0m\u001b[0;34m,\u001b[0m \u001b[0mself\u001b[0m\u001b[0;34m.\u001b[0m\u001b[0mengine\u001b[0m\u001b[0;34m)\u001b[0m\u001b[0;34m\u001b[0m\u001b[0;34m\u001b[0m\u001b[0m\n\u001b[0m\u001b[1;32m   1408\u001b[0m \u001b[0;34m\u001b[0m\u001b[0m\n\u001b[1;32m   1409\u001b[0m     \u001b[0;32mdef\u001b[0m \u001b[0mclose\u001b[0m\u001b[0;34m(\u001b[0m\u001b[0mself\u001b[0m\u001b[0;34m)\u001b[0m \u001b[0;34m->\u001b[0m \u001b[0;32mNone\u001b[0m\u001b[0;34m:\u001b[0m\u001b[0;34m\u001b[0m\u001b[0;34m\u001b[0m\u001b[0m\n",
            "\u001b[0;32m/usr/local/lib/python3.10/dist-packages/pandas/io/parsers/readers.py\u001b[0m in \u001b[0;36m_make_engine\u001b[0;34m(self, f, engine)\u001b[0m\n\u001b[1;32m   1659\u001b[0m                 \u001b[0;32mif\u001b[0m \u001b[0;34m\"b\"\u001b[0m \u001b[0;32mnot\u001b[0m \u001b[0;32min\u001b[0m \u001b[0mmode\u001b[0m\u001b[0;34m:\u001b[0m\u001b[0;34m\u001b[0m\u001b[0;34m\u001b[0m\u001b[0m\n\u001b[1;32m   1660\u001b[0m                     \u001b[0mmode\u001b[0m \u001b[0;34m+=\u001b[0m \u001b[0;34m\"b\"\u001b[0m\u001b[0;34m\u001b[0m\u001b[0;34m\u001b[0m\u001b[0m\n\u001b[0;32m-> 1661\u001b[0;31m             self.handles = get_handle(\n\u001b[0m\u001b[1;32m   1662\u001b[0m                 \u001b[0mf\u001b[0m\u001b[0;34m,\u001b[0m\u001b[0;34m\u001b[0m\u001b[0;34m\u001b[0m\u001b[0m\n\u001b[1;32m   1663\u001b[0m                 \u001b[0mmode\u001b[0m\u001b[0;34m,\u001b[0m\u001b[0;34m\u001b[0m\u001b[0;34m\u001b[0m\u001b[0m\n",
            "\u001b[0;32m/usr/local/lib/python3.10/dist-packages/pandas/io/common.py\u001b[0m in \u001b[0;36mget_handle\u001b[0;34m(path_or_buf, mode, encoding, compression, memory_map, is_text, errors, storage_options)\u001b[0m\n\u001b[1;32m    857\u001b[0m         \u001b[0;32mif\u001b[0m \u001b[0mioargs\u001b[0m\u001b[0;34m.\u001b[0m\u001b[0mencoding\u001b[0m \u001b[0;32mand\u001b[0m \u001b[0;34m\"b\"\u001b[0m \u001b[0;32mnot\u001b[0m \u001b[0;32min\u001b[0m \u001b[0mioargs\u001b[0m\u001b[0;34m.\u001b[0m\u001b[0mmode\u001b[0m\u001b[0;34m:\u001b[0m\u001b[0;34m\u001b[0m\u001b[0;34m\u001b[0m\u001b[0m\n\u001b[1;32m    858\u001b[0m             \u001b[0;31m# Encoding\u001b[0m\u001b[0;34m\u001b[0m\u001b[0;34m\u001b[0m\u001b[0m\n\u001b[0;32m--> 859\u001b[0;31m             handle = open(\n\u001b[0m\u001b[1;32m    860\u001b[0m                 \u001b[0mhandle\u001b[0m\u001b[0;34m,\u001b[0m\u001b[0;34m\u001b[0m\u001b[0;34m\u001b[0m\u001b[0m\n\u001b[1;32m    861\u001b[0m                 \u001b[0mioargs\u001b[0m\u001b[0;34m.\u001b[0m\u001b[0mmode\u001b[0m\u001b[0;34m,\u001b[0m\u001b[0;34m\u001b[0m\u001b[0;34m\u001b[0m\u001b[0m\n",
            "\u001b[0;31mFileNotFoundError\u001b[0m: [Errno 2] No such file or directory: '/content/weatherAUS.csv'"
          ]
        }
      ]
    },
    {
      "cell_type": "code",
      "source": [
        "### Columnas\n",
        "df.columns"
      ],
      "metadata": {
        "id": "422Q8ZRVuULh"
      },
      "execution_count": null,
      "outputs": []
    },
    {
      "cell_type": "code",
      "source": [
        "df.describe()"
      ],
      "metadata": {
        "id": "J7X8yU6buVWG"
      },
      "execution_count": null,
      "outputs": []
    },
    {
      "cell_type": "code",
      "source": [
        "### Cantidad de valores faltantes.\n",
        "df.isna().sum()"
      ],
      "metadata": {
        "id": "Sic_Qcs5uWrm"
      },
      "execution_count": null,
      "outputs": []
    },
    {
      "cell_type": "code",
      "source": [
        "df.info()"
      ],
      "metadata": {
        "id": "tKUpkmxruswI"
      },
      "execution_count": null,
      "outputs": []
    },
    {
      "cell_type": "code",
      "source": [
        "df['Location'].unique()"
      ],
      "metadata": {
        "id": "eU8UKsAPuuGW"
      },
      "execution_count": null,
      "outputs": []
    },
    {
      "cell_type": "code",
      "source": [
        "\n",
        "costa_este = [\"Adelaide\", \"Canberra\", \"Cobar\", \"Dartmoor\", \"Melbourne\", \"MelbourneAirport\", \"MountGambier\", \"Sydney\", \"SydneyAirport\"]\n",
        "\n",
        "df.loc[df['Location'].isin(costa_este), 'Location'] = 'costa_este'\n",
        "\n",
        "df = df[df['Location'] == 'costa_este']\n",
        "\n",
        "df = df.reset_index(drop=True)"
      ],
      "metadata": {
        "id": "Ghy2bPmHuvjW"
      },
      "execution_count": null,
      "outputs": []
    },
    {
      "cell_type": "code",
      "source": [
        "df.head()"
      ],
      "metadata": {
        "id": "fVUkTvL9uwtI"
      },
      "execution_count": null,
      "outputs": []
    },
    {
      "cell_type": "code",
      "source": [
        "### Busco duplicados\n",
        "if not df.duplicated().any():\n",
        "  print('No hay registros duplicados')"
      ],
      "metadata": {
        "id": "nbtNP9PQuX53"
      },
      "execution_count": null,
      "outputs": []
    },
    {
      "cell_type": "code",
      "source": [
        "df.isnull().sum()"
      ],
      "metadata": {
        "id": "abPCQ39Wu17W"
      },
      "execution_count": null,
      "outputs": []
    },
    {
      "cell_type": "code",
      "source": [
        "df.info()"
      ],
      "metadata": {
        "id": "7InPqeEOuZhI"
      },
      "execution_count": null,
      "outputs": []
    },
    {
      "cell_type": "code",
      "source": [
        "df.describe()"
      ],
      "metadata": {
        "id": "1aeD9HxGubUQ"
      },
      "execution_count": null,
      "outputs": []
    },
    {
      "cell_type": "code",
      "source": [
        "class ColDropper(BaseEstimator, TransformerMixin):\n",
        "  def fit(self, X, y=None):\n",
        "        return self\n",
        "\n",
        "  def transform(self, X):\n",
        "    return X.drop(['Unnamed: 0', 'Date', 'RainTomorrow'], axis=1)"
      ],
      "metadata": {
        "id": "tlDvlhQ7ucNl"
      },
      "execution_count": null,
      "outputs": []
    },
    {
      "cell_type": "code",
      "source": [
        "class LocDropper(BaseEstimator, TransformerMixin):\n",
        "#\n",
        "#  costa_este = [\"Adelaide\", \"Canberra\", \"Cobar\", \"Dartmoor\", \"Melbourne\", \"MelbourneAirport\", \"MountGambier\", \"Sydney\", \"SydneyAirport\"]\n",
        "#\n",
        "#df.loc[df['Location'].isin(costa_este), 'Location'] = 'costa_este'\n",
        "#\n",
        "#df = df[df['Location'] == 'costa_este']\n",
        "#\n",
        "#df = df.reset_index(drop=True)\n",
        "\n",
        "\n",
        "  def fit(self, X, y=None):\n",
        "        return self\n",
        "\n",
        "  def transform(self, X):\n",
        "    aus_loc = [' Adelaide', 'Canberra', 'Cobar', 'Dartmoor', 'Melbourne', 'MelbourneAirport', 'MountGambier', 'Sydney', 'SydneyAirport' ]\n",
        "    return X[X['Location'].isin(aus_loc)]"
      ],
      "metadata": {
        "id": "fWOUCStGuc-F"
      },
      "execution_count": null,
      "outputs": []
    },
    {
      "cell_type": "code",
      "source": [
        "class LocDropper(BaseEstimator, TransformerMixin):\n",
        "  def fit(self, X, y=None):\n",
        "        return self\n",
        "\n",
        "  def transform(self, X):\n",
        "    aus_loc = [' Adelaide', 'Canberra', 'Cobar', 'Dartmoor', 'Melbourne', 'MelbourneAirport', 'MountGambier', 'Sydney', 'SydneyAirport' ]\n",
        "    return X[X['Location'].isin(aus_loc)]"
      ],
      "metadata": {
        "id": "U94dCCeMvJw_"
      },
      "execution_count": null,
      "outputs": []
    },
    {
      "cell_type": "code",
      "source": [
        "class CatFiller(BaseEstimator, TransformerMixin):\n",
        "    def fit(self, X, y=None):\n",
        "        return self\n",
        "\n",
        "    def transform(self, X):\n",
        "      X['WindGustDir'] = X.groupby('Location')['WindGustDir'].transform(lambda x: x.fillna(x.mode()[0]))\n",
        "      X['WindDir9am'] = X.groupby('Location')['WindDir9am'].transform(lambda x: x.fillna(x.mode()[0]))\n",
        "      X['WindDir3pm'] = X.groupby('Location')['WindDir3pm'].transform(lambda x: x.fillna(x.mode()[0]))\n",
        "\n",
        "      return X"
      ],
      "metadata": {
        "id": "UWUc48z5vMUo"
      },
      "execution_count": null,
      "outputs": []
    },
    {
      "cell_type": "code",
      "source": [
        "class NumFiller(BaseEstimator, TransformerMixin):\n",
        "    def fit(self, X, y=None):\n",
        "        return self\n",
        "\n",
        "    def transform(self, X):\n",
        "      remanining_vnul_columns = X.columns[X.isna().any()].tolist()\n",
        "      for col in remanining_vnul_columns:\n",
        "        X[col] =  X[col].fillna(X[col].mean())\n",
        "\n",
        "      return X"
      ],
      "metadata": {
        "id": "W7eGEYtCvNdY"
      },
      "execution_count": null,
      "outputs": []
    },
    {
      "cell_type": "code",
      "source": [
        "# https://www.mdpi.com/2078-2489/13/4/163 Como las variables de la dirección de los vientos pueden tener hasta 16 direcciones diferentes, para convertirlos a variables numéricas, se tiene encuenta una distribución circular. Por eso, cada una de las variables se dividió en dos: Una con el seno y otra con el coseno del angulo\n",
        "class CoordRecat(BaseEstimator, TransformerMixin):\n",
        "    def fit(self, X, y=None):\n",
        "        return self\n",
        "\n",
        "    def transform(self, X):\n",
        "        coord = {\n",
        "            'N': 0, 'NNE': 22.5, 'NE': 45, 'ENE': 67.5,\n",
        "            'E': 90, 'ESE': 112.5, 'SE': 135, 'SSE': 157.5,\n",
        "            'S': 180, 'SSW': 202.5, 'SW': 225, 'WSW': 247.5,\n",
        "            'W': 270, 'WNW': 292.5, 'NW': 315, 'NNW': 337.5,\n",
        "        }\n",
        "\n",
        "        # Aplicar la recategorización\n",
        "        for col in ['WindGustDir', 'WindDir9am', 'WindDir3pm']:\n",
        "            X[col] = X[col].map(coord)\n",
        "            X[f'{col}_rad'] = np.deg2rad(X[col])\n",
        "            X[f'{col}_sin'] = np.sin(X[f'{col}_rad']).round(5)\n",
        "            X[f'{col}_cos'] = np.cos(X[f'{col}_rad']).round(5)\n",
        "\n",
        "        # Eliminar columnas originales y columnas radianes\n",
        "        columns_to_drop = [f'{col}_rad' for col in ['WindGustDir', 'WindDir9am', 'WindDir3pm']] + ['WindGustDir', 'WindDir9am', 'WindDir3pm']\n",
        "        X = X.drop(columns=columns_to_drop, axis=1)\n",
        "\n",
        "        return X"
      ],
      "metadata": {
        "id": "pgRQT-aKvPng"
      },
      "execution_count": null,
      "outputs": []
    },
    {
      "cell_type": "code",
      "source": [
        "class LocEncoder(BaseEstimator, TransformerMixin):\n",
        "    def fit(self, X, y=None):\n",
        "        return self\n",
        "\n",
        "    def transform(self, X):\n",
        "      dummies = pd.get_dummies(X['Location'], dtype=int)\n",
        "      X = pd.concat([X, dummies], axis=1)\n",
        "      X.drop('Location', axis=1, inplace=True)\n",
        "\n",
        "      return X"
      ],
      "metadata": {
        "id": "EVp_npXTvQv_"
      },
      "execution_count": null,
      "outputs": []
    },
    {
      "cell_type": "code",
      "source": [
        "class ResetIndex(BaseEstimator, TransformerMixin):\n",
        "    def fit(self, X, y=None):\n",
        "        return self\n",
        "\n",
        "    def transform(self, X):\n",
        "        return X.reset_index(drop=True)"
      ],
      "metadata": {
        "id": "1NjRiYVJvR2o"
      },
      "execution_count": null,
      "outputs": []
    },
    {
      "cell_type": "code",
      "source": [
        "class Standarizer(BaseEstimator, TransformerMixin):\n",
        "  def fit(self, X, y=None):\n",
        "      return self\n",
        "  def transform(self, X):\n",
        "    # Exclusión de variables booleanas y RainfallTmorrow porque no serán estandarizaradas\n",
        "    exc_c = ['RainToday']#,'RainTomorrow' ,'Canberra','Cobar', 'Dartmoor', 'Melbourne', 'MelbourneAirport', 'MountGambier', 'Sydney', 'SydneyAirport']\n",
        "\n",
        "    # Estandarización\n",
        "    df_sub = X[[col for col in X.columns if col not in exc_c]]\n",
        "    scaler = StandardScaler()\n",
        "    X_scaled = scaler.fit_transform(df_sub)\n",
        "\n",
        "    X_scaled = pd.DataFrame(X_scaled, columns=df_sub.columns)\n",
        "    for col in exc_c:\n",
        "      X_scaled[f'{col}'] = X[col]\n",
        "\n",
        "    # Nuevo DataFrame estandarizado con los nombres de las columnas originales\n",
        "    return X_scaled"
      ],
      "metadata": {
        "id": "r4XASsxfvTc3"
      },
      "execution_count": null,
      "outputs": []
    },
    {
      "cell_type": "code",
      "source": [
        "class OutliersTreater(BaseEstimator, TransformerMixin):\n",
        "  def fit(self, X, y=None):\n",
        "      return self\n",
        "  def transform(self, X):\n",
        "    cols_with_ouliers=['MinTemp', 'MaxTemp', 'Rainfall', 'Evaporation', 'Sunshine',\n",
        "       'WindGustSpeed', 'WindSpeed9am', 'WindSpeed3pm', 'Humidity9am',\n",
        "       'Humidity3pm', 'Pressure9am', 'Pressure3pm', 'Cloud9am', 'Cloud3pm',\n",
        "       'Temp9am', 'Temp3pm']\n",
        "\n",
        "    for col in cols_with_ouliers:\n",
        "      IQR=X[col].quantile(0.75)-X[col].quantile(0.25)\n",
        "      lower_bridge=X[col].quantile(0.25)-(IQR*1.5)\n",
        "      upper_bridge=X[col].quantile(0.75)+(IQR*1.5)\n",
        "\n",
        "      X.loc[X[col]>=round(upper_bridge,2),col]=round(upper_bridge,2)\n",
        "      X.loc[X[col]<=round(lower_bridge,2),col]=round(lower_bridge,2)\n",
        "\n",
        "    return X"
      ],
      "metadata": {
        "id": "dDYi2EyfvU0B"
      },
      "execution_count": null,
      "outputs": []
    },
    {
      "cell_type": "code",
      "source": [
        "class ColDropper(BaseEstimator, TransformerMixin):\n",
        "  def fit(self, X, y=None):\n",
        "        return self\n",
        "\n",
        "  def transform(self, X):\n",
        "    return X.drop(['Date'], axis=1)"
      ],
      "metadata": {
        "id": "xrYgWE-328DY"
      },
      "execution_count": null,
      "outputs": []
    },
    {
      "cell_type": "code",
      "source": [
        "class LocDropper(BaseEstimator, TransformerMixin):\n",
        "  def fit(self, X, y=None):\n",
        "        return self\n",
        "\n",
        "  def transform(self, X):\n",
        "    costa_este = [' Adelaide', 'Canberra', 'Cobar', 'Dartmoor', 'Melbourne', 'MelbourneAirport', 'MountGambier', 'Sydney', 'SydneyAirport' ]\n",
        "    X.loc[X['Location'].isin(costa_este), 'Location'] = 'costa_este'\n",
        "    return X[X['Location'] == 'costa_este']"
      ],
      "metadata": {
        "id": "BvQ9LAWs3-GP"
      },
      "execution_count": null,
      "outputs": []
    },
    {
      "cell_type": "code",
      "source": [
        "class CatFiller(BaseEstimator, TransformerMixin):\n",
        "    def fit(self, X, y=None):\n",
        "        return self\n",
        "\n",
        "    def transform(self, X):\n",
        "      X['WindGustDir'] = X.groupby('Location')['WindGustDir'].transform(lambda x: x.fillna(x.mode()[0]))\n",
        "      X['WindDir9am'] = X.groupby('Location')['WindDir9am'].transform(lambda x: x.fillna(x.mode()[0]))\n",
        "      X['WindDir3pm'] = X.groupby('Location')['WindDir3pm'].transform(lambda x: x.fillna(x.mode()[0]))\n",
        "\n",
        "      return X"
      ],
      "metadata": {
        "id": "OPhl3wML3_uE"
      },
      "execution_count": null,
      "outputs": []
    },
    {
      "cell_type": "code",
      "source": [
        "class NumFiller(BaseEstimator, TransformerMixin):\n",
        "    def fit(self, X, y=None):\n",
        "        return self\n",
        "\n",
        "    def transform(self, X):\n",
        "      remanining_vnul_columns = X.columns[X.isna().any()].tolist()\n",
        "      for col in remanining_vnul_columns:\n",
        "        X[col] =  X[col].fillna(X[col].mean())\n",
        "\n",
        "      return X"
      ],
      "metadata": {
        "id": "GtnqzGhp4Aub"
      },
      "execution_count": null,
      "outputs": []
    },
    {
      "cell_type": "code",
      "source": [
        "# https://www.mdpi.com/2078-2489/13/4/163 Como las variables de la dirección de los vientos pueden tener hasta 16 direcciones diferentes, para convertirlos a variables numéricas, se tiene encuenta una distribución circular. Por eso, cada una de las variables se dividió en dos: Una con el seno y otra con el coseno del angulo\n",
        "class CoordRecat(BaseEstimator, TransformerMixin):\n",
        "    def fit(self, X, y=None):\n",
        "        return self\n",
        "\n",
        "    def transform(self, X):\n",
        "        coord = {\n",
        "            'N': 0, 'NNE': 22.5, 'NE': 45, 'ENE': 67.5,\n",
        "            'E': 90, 'ESE': 112.5, 'SE': 135, 'SSE': 157.5,\n",
        "            'S': 180, 'SSW': 202.5, 'SW': 225, 'WSW': 247.5,\n",
        "            'W': 270, 'WNW': 292.5, 'NW': 315, 'NNW': 337.5,\n",
        "        }\n",
        "\n",
        "        # Aplicar la recategorización\n",
        "        for col in ['WindGustDir', 'WindDir9am', 'WindDir3pm']:\n",
        "            X[col] = X[col].map(coord)\n",
        "            X[f'{col}_rad'] = np.deg2rad(X[col])\n",
        "            X[f'{col}_sin'] = np.sin(X[f'{col}_rad']).round(5)\n",
        "            X[f'{col}_cos'] = np.cos(X[f'{col}_rad']).round(5)\n",
        "\n",
        "        # Eliminar columnas originales y columnas radianes\n",
        "        columns_to_drop = [f'{col}_rad' for col in ['WindGustDir', 'WindDir9am', 'WindDir3pm']] + ['WindGustDir', 'WindDir9am', 'WindDir3pm']\n",
        "        X = X.drop(columns=columns_to_drop, axis=1)\n",
        "\n",
        "        return X"
      ],
      "metadata": {
        "id": "_qH0GTyh4B3d"
      },
      "execution_count": null,
      "outputs": []
    },
    {
      "cell_type": "code",
      "source": [
        "class LocEncoder(BaseEstimator, TransformerMixin):\n",
        "    def fit(self, X, y=None):\n",
        "        return self\n",
        "\n",
        "    def transform(self, X):\n",
        "      dummies = pd.get_dummies(X['Location'], dtype=int)\n",
        "      X = pd.concat([X, dummies], axis=1)\n",
        "      X.drop('Location', axis=1, inplace=True)\n",
        "\n",
        "      return X"
      ],
      "metadata": {
        "id": "8kPJcQGG4C8Y"
      },
      "execution_count": null,
      "outputs": []
    },
    {
      "cell_type": "code",
      "source": [
        "class ResetIndex(BaseEstimator, TransformerMixin):\n",
        "    def fit(self, X, y=None):\n",
        "        return self\n",
        "\n",
        "    def transform(self, X):\n",
        "        return X.reset_index(drop=True)"
      ],
      "metadata": {
        "id": "3HBEtwi24ECC"
      },
      "execution_count": null,
      "outputs": []
    },
    {
      "cell_type": "code",
      "source": [
        "class BoolYNDropperEncoder(BaseEstimator, TransformerMixin):\n",
        "    def fit(self, X, y=None):\n",
        "        return self\n",
        "\n",
        "    def transform(self, X):\n",
        "      X.dropna(subset=['RainToday'], inplace=True)\n",
        "      X['RainTomorrow'] = X['RainTomorrow'].map({'No': 0, 'Yes': 1}).astype(float)\n",
        "      X['RainToday'] = X['RainToday'].map({'No': 0, 'Yes': 1}).astype(float)\n",
        "\n",
        "      return X"
      ],
      "metadata": {
        "id": "Wyyv074d4FBY"
      },
      "execution_count": null,
      "outputs": []
    },
    {
      "cell_type": "code",
      "source": [
        "class Standarizer(BaseEstimator, TransformerMixin):\n",
        "  def fit(self, X, y=None):\n",
        "      return self\n",
        "  def transform(self, X):\n",
        "    # Exclusión de variables booleanas y RainfallTmorrow porque no serán estandarizaradas\n",
        "    exc_c = ['RainToday', 'RainTomorrow']#, ,'Canberra','Cobar', 'Dartmoor', 'Melbourne', 'MelbourneAirport', 'MountGambier', 'Sydney', 'SydneyAirport']\n",
        "\n",
        "    # Estandarización\n",
        "    df_sub = X[[col for col in X.columns if col not in exc_c]]\n",
        "    scaler = StandardScaler()\n",
        "    X_scaled = scaler.fit_transform(df_sub)\n",
        "\n",
        "    X_scaled = pd.DataFrame(X_scaled, columns=df_sub.columns)\n",
        "    for col in exc_c:\n",
        "      X_scaled[f'{col}'] = X[col]\n",
        "\n",
        "    # Nuevo DataFrame estandarizado con los nombres de las columnas originales\n",
        "    return X_scaled"
      ],
      "metadata": {
        "id": "pGE_Lh_T4GCR"
      },
      "execution_count": null,
      "outputs": []
    },
    {
      "cell_type": "code",
      "source": [
        "class OutliersTreater(BaseEstimator, TransformerMixin):\n",
        "  def fit(self, X, y=None):\n",
        "      return self\n",
        "  def transform(self, X):\n",
        "    cols_with_ouliers=['MinTemp', 'MaxTemp', 'Rainfall', 'Evaporation', 'Sunshine',\n",
        "       'WindGustSpeed', 'WindSpeed9am', 'WindSpeed3pm', 'Humidity9am',\n",
        "       'Humidity3pm', 'Pressure9am', 'Pressure3pm', 'Cloud9am', 'Cloud3pm',\n",
        "       'Temp9am', 'Temp3pm']\n",
        "\n",
        "    for col in cols_with_ouliers:\n",
        "      IQR=X[col].quantile(0.75)-X[col].quantile(0.25)\n",
        "      lower_bridge=X[col].quantile(0.25)-(IQR*1.5)\n",
        "      upper_bridge=X[col].quantile(0.75)+(IQR*1.5)\n",
        "\n",
        "      X.loc[X[col]>=round(upper_bridge,2),col]=round(upper_bridge,2)\n",
        "      X.loc[X[col]<=round(lower_bridge,2),col]=round(lower_bridge,2)\n",
        "\n",
        "    return X\n"
      ],
      "metadata": {
        "id": "Y-SXOXKH4IW9"
      },
      "execution_count": null,
      "outputs": []
    },
    {
      "cell_type": "code",
      "source": [
        "class RLValDropper(BaseEstimator, TransformerMixin):\n",
        "  def fit (self, X, y=None):\n",
        "    return self\n",
        "  def transform(self, X):\n",
        "    X.dropna(subset=['RainToday', 'RainTomorrow'], inplace=True)\n",
        "    return X\n"
      ],
      "metadata": {
        "id": "WEPSj55J4JZh"
      },
      "execution_count": null,
      "outputs": []
    },
    {
      "cell_type": "code",
      "source": [
        "preprocessor = Pipeline([\n",
        "     ('drop_null_val_rl', RLValDropper()),\n",
        "     ('drop_not_needed_features', ColDropper()),\n",
        "     ('drop_nor_needed_locations',LocDropper()),\n",
        "     ('yes_no_dropper_encoder', BoolYNDropperEncoder()),\n",
        "     ('fill_null_cat', CatFiller()),\n",
        "     ('fill_num_cat', NumFiller()),\n",
        "     ('encode_loc', LocEncoder()),\n",
        "     ('encode_wind_dir', CoordRecat()),\n",
        "     ('reset_index',ResetIndex()),\n",
        "     ('treat_outliers',OutliersTreater()),\n",
        "     ('standariza_values', Standarizer())\n",
        "])\n"
      ],
      "metadata": {
        "id": "r0yWOzs14KJR"
      },
      "execution_count": null,
      "outputs": []
    },
    {
      "cell_type": "markdown",
      "source": [
        "# Regresion logistica sin balancear"
      ],
      "metadata": {
        "id": "WEwP_DWb6NEj"
      }
    },
    {
      "cell_type": "code",
      "source": [
        "# Separación de variables explicativas y variables objetivo\n",
        "X = df.drop(['RainTomorrow', 'RainfallTomorrow'], axis=1).copy()\n",
        "y = df[['RainTomorrow']].copy()\n",
        "\n",
        "# Spliteo mi dataset en train-test\n",
        "X_train, X_test, y_train, y_test = train_test_split(X, y, test_size=0.2, random_state=42)\n",
        "X_train.shape, X_test.shape, y_train.shape, y_test.shape"
      ],
      "metadata": {
        "id": "w1Q83AyS4LTC"
      },
      "execution_count": null,
      "outputs": []
    },
    {
      "cell_type": "code",
      "source": [
        "# Creo un Dataframe de TRAIN\n",
        "df_train = pd.DataFrame(X_train, columns=X.columns)\n",
        "df_train['RainTomorrow'] = y['RainTomorrow']"
      ],
      "metadata": {
        "id": "TdCvpVyn4MD3"
      },
      "execution_count": null,
      "outputs": []
    },
    {
      "cell_type": "code",
      "source": [
        "# Creo un Dataframe de TEST\n",
        "df_test = pd.DataFrame(X_test, columns=X.columns)\n",
        "df_test['RainTomorrow'] = y['RainTomorrow']"
      ],
      "metadata": {
        "id": "ooDOjGad4M0u"
      },
      "execution_count": null,
      "outputs": []
    },
    {
      "cell_type": "code",
      "source": [
        "# Preproceso mi df de test y mi df de train\n",
        "df_train = preprocessor.fit_transform(df_train)\n",
        "df_test = preprocessor.fit_transform(df_test)"
      ],
      "metadata": {
        "id": "Vj8onmeV4Nrx"
      },
      "execution_count": null,
      "outputs": []
    },
    {
      "cell_type": "code",
      "source": [
        "df_train.head()"
      ],
      "metadata": {
        "id": "4qKknz304Ohy"
      },
      "execution_count": null,
      "outputs": []
    },
    {
      "cell_type": "code",
      "source": [
        "train_clasificacion_X = df_train.iloc[:, :-1]\n",
        "y_train_clasificacion = df_train.iloc[:,-1]"
      ],
      "metadata": {
        "id": "K6ralZvX4P0M"
      },
      "execution_count": null,
      "outputs": []
    },
    {
      "cell_type": "code",
      "source": [
        "x_test_clasificacion = df_test.iloc[:, :-1]\n",
        "y_test_clasificacion = df_test.iloc[:,-1]"
      ],
      "metadata": {
        "id": "PpWerqXl4Qm8"
      },
      "execution_count": null,
      "outputs": []
    },
    {
      "cell_type": "code",
      "source": [
        "classifier = LogisticRegression(random_state = 0)\n",
        "classifier.fit(train_clasificacion_X, y_train_clasificacion)\n",
        "valor_y_predecir = classifier.predict(x_test_clasificacion)\n",
        "\n",
        "#metricas\n",
        "\n",
        "from sklearn.metrics import confusion_matrix, accuracy_score\n",
        "cm = confusion_matrix(y_test_clasificacion, valor_y_predecir)\n",
        "acc_score = accuracy_score(y_test_clasificacion, valor_y_predecir)"
      ],
      "metadata": {
        "id": "XL-f-65g4RcJ"
      },
      "execution_count": null,
      "outputs": []
    },
    {
      "cell_type": "code",
      "source": [
        "from sklearn.metrics import roc_curve, auc"
      ],
      "metadata": {
        "id": "eb5iIlqg4SLZ"
      },
      "execution_count": null,
      "outputs": []
    },
    {
      "cell_type": "code",
      "source": [
        "probabilidades_y = classifier.predict_proba(x_test_clasificacion)[:,-1]\n",
        "fpr, tpr, thresholds = roc_curve(y_test_clasificacion, probabilidades_y)\n",
        "roc_auc = auc(fpr,tpr)"
      ],
      "metadata": {
        "id": "r6QdOcke4TB5"
      },
      "execution_count": null,
      "outputs": []
    },
    {
      "cell_type": "code",
      "source": [
        "plt.figure(figsize=(5,5))\n",
        "plt.plot(fpr, tpr, color=\"red\", lw=2, label='CURVA ROC (AUC = %0.2f)' % roc_auc)\n",
        "plt.plot([0,1],[0,1], color=\"blue\", lw=2, linestyle=\"--\")\n",
        "plt.xlim([0.0, 1.10])\n",
        "plt.ylim([0.0, 1.10])\n",
        "plt.xlabel(\"Tasa de Falsos positivos(FPR)\")\n",
        "plt.ylabel(\"Tasa de Verdaderos positivos(TPR)\")\n",
        "plt.title(\"ROC\")\n",
        "plt.legend(loc=\"lower right\")\n",
        "plt.show()"
      ],
      "metadata": {
        "id": "ttOeJU6c4TwZ"
      },
      "execution_count": null,
      "outputs": []
    },
    {
      "cell_type": "code",
      "source": [
        "import shap\n",
        "from sklearn.model_selection import RandomizedSearchCV\n",
        "from sklearn.metrics import ConfusionMatrixDisplay"
      ],
      "metadata": {
        "id": "0rerwxtf4Uu6"
      },
      "execution_count": null,
      "outputs": []
    },
    {
      "cell_type": "code",
      "source": [
        "clasificacion_parametros = {\n",
        "    'C': [0.001, 0.01, 0.1, 1, 10],\n",
        "    'penalty': [None, 'l2'],\n",
        "    'solver': ['liblinear', 'lbfgs', 'saga'],\n",
        "    'max_iter': [100, 200, 300],\n",
        "    'class_weight': [None, 'balanced']\n",
        "}\n",
        "\n",
        "optimizar_clasificacion = RandomizedSearchCV(\n",
        "    LogisticRegression(random_state=23), clasificacion_parametros\n",
        ")\n",
        "\n",
        "optimizar_clasificacion.fit(train_clasificacion_X, y_train_clasificacion)\n",
        "#para optimizar el balanceado hay que cambiar (((train_clasificacion_X, y_train_clasificacion)))\n",
        "#por los correspondientes de smote"
      ],
      "metadata": {
        "id": "Vjp07r3w4V5Z"
      },
      "execution_count": null,
      "outputs": []
    },
    {
      "cell_type": "code",
      "source": [
        "modelo_optimizado_clasificacion = optimizar_clasificacion.best_estimator_"
      ],
      "metadata": {
        "id": "DnBOKSAu4XeJ"
      },
      "execution_count": null,
      "outputs": []
    },
    {
      "cell_type": "markdown",
      "source": [
        "# metricas para datos NO balanceados"
      ],
      "metadata": {
        "id": "DoFbS5ww6UmD"
      }
    },
    {
      "cell_type": "code",
      "source": [
        "y_pred_clasificacion_optimizado = modelo_optimizado_clasificacion.predict(x_test_clasificacion)\n",
        "\n",
        "\n",
        "print(classification_report(y_test_clasificacion, y_pred_clasificacion_optimizado))\n",
        "\n",
        "\n",
        "ConfusionMatrixDisplay(\n",
        "    confusion_matrix(y_test_clasificacion, y_pred_clasificacion_optimizado)\n",
        ").plot()"
      ],
      "metadata": {
        "id": "M2k4TSQa4YQp"
      },
      "execution_count": null,
      "outputs": []
    },
    {
      "cell_type": "markdown",
      "source": [
        "# explicabilidad de modelo de regresion logistica sin balancear"
      ],
      "metadata": {
        "id": "NcSukppj6YPs"
      }
    },
    {
      "cell_type": "code",
      "source": [
        "explicar_clasificacion = shap.LinearExplainer(\n",
        "    classifier,\n",
        "    train_clasificacion_X.astype(\"float64\").copy(),\n",
        "    features_names=train_clasificacion_X.columns,\n",
        ")\n",
        "\n",
        "\n",
        "shap_valores_clasificacion = explicar_clasificacion(\n",
        "    train_clasificacion_X.astype(\"float64\")\n",
        ")\n",
        "\n",
        "shap.summary_plot(shap_valores_clasificacion, train_clasificacion_X)"
      ],
      "metadata": {
        "id": "dA4S12Qy4ZT7"
      },
      "execution_count": null,
      "outputs": []
    },
    {
      "cell_type": "code",
      "source": [
        "index = 50\n",
        "\n",
        "classifier.predict(x_test_clasificacion)[index]\n",
        "\n",
        "shap_valores_clasificacion = explicar_clasificacion(x_test_clasificacion)\n",
        "\n",
        "explicacion = shap.Explanation(\n",
        "    values=shap_valores_clasificacion[index],\n",
        "    base_values=explicar_clasificacion.expected_value,\n",
        "    feature_names=train_clasificacion_X.columns,\n",
        ")\n",
        "\n",
        "\n",
        "shap.plots.waterfall(explicacion)"
      ],
      "metadata": {
        "id": "Nt8NoOqc4av7"
      },
      "execution_count": null,
      "outputs": []
    },
    {
      "cell_type": "code",
      "source": [
        "explicabilidad_global_clasificacion = shap.Explanation(\n",
        "    shap_valores_clasificacion,\n",
        "    base_values=explicar_clasificacion.expected_value,\n",
        "    feature_names=train_clasificacion_X.columns,\n",
        "    data=x_test_clasificacion,\n",
        ")\n",
        "\n",
        "\n",
        "shap.plots.bar(explicabilidad_global_clasificacion)"
      ],
      "metadata": {
        "id": "_dPb3gyK4bmG"
      },
      "execution_count": null,
      "outputs": []
    },
    {
      "cell_type": "markdown",
      "source": [
        "# modelo de regresion logistica balanceado"
      ],
      "metadata": {
        "id": "TuPlme-16b3V"
      }
    },
    {
      "cell_type": "code",
      "source": [
        "# Modulos para el balanceo\n",
        "from imblearn.over_sampling import SMOTE\n",
        "from imblearn.combine import SMOTETomek\n",
        "from imblearn.over_sampling import RandomOverSampler\n",
        "from imblearn.under_sampling import RandomUnderSampler"
      ],
      "metadata": {
        "id": "BNsINiY36e0G"
      },
      "execution_count": null,
      "outputs": []
    },
    {
      "cell_type": "code",
      "source": [
        "def plot_balance(df):\n",
        "  ### Balance de datos:\n",
        "  rain_classes = pd.value_counts(df['RainTomorrow'], sort = True)\n",
        "  rain_classes.plot(kind = 'bar', rot=0)\n",
        "  plt.xticks(range(2))\n",
        "  plt.title(\"Frecuencia\")\n",
        "  plt.xlabel(\"RainTomorrow\")\n",
        "  plt.ylabel(\"Cantidad\")\n",
        "  X_train_resampled=df.drop(['RainTomorrow'], axis=1)\n",
        "  y_train_resampled=df['RainTomorrow']\n",
        "  print(X_train_resampled.shape, y_train_resampled.shape)\n",
        "  plt.show()"
      ],
      "metadata": {
        "id": "Sl1Tq1su_vKy"
      },
      "execution_count": null,
      "outputs": []
    },
    {
      "cell_type": "code",
      "source": [
        "# Helper function for plotting ROC -- > https://towardsdatascience.com/class-imbalance-strategies-a-visual-guide-with-code-8bc8fae71e1a\n",
        "def plot_roc(ax, X_train, y_train, X_test, y_test, title):\n",
        "    model = LogisticRegression(random_state=42)\n",
        "    model.fit(X_train, y_train)\n",
        "    y_test_pred = model.predict_proba(X_test)[:,1]\n",
        "    fpr, tpr, thresh = metrics.roc_curve(y_test, y_test_pred)\n",
        "    auc = metrics.roc_auc_score(y_test, y_test_pred)\n",
        "    ax.plot(fpr,tpr,label=f\"{title} AUC={auc:.3f}\")\n",
        "    ax.plot([0, 1], [0, 1], color='navy', lw=2, linestyle='--')\n",
        "\n",
        "    ax.set_title('ROC Curve')\n",
        "    ax.set_xlabel('False Positive Rate')\n",
        "    ax.set_ylabel('True Positive Rate')\n",
        "    ax.legend(loc=0)"
      ],
      "metadata": {
        "id": "DE1Bral-_wcJ"
      },
      "execution_count": null,
      "outputs": []
    },
    {
      "cell_type": "code",
      "source": [
        "plot_balance(df_train)"
      ],
      "metadata": {
        "id": "dfgji0FP_xop"
      },
      "execution_count": null,
      "outputs": []
    },
    {
      "cell_type": "code",
      "source": [
        "# Separación de variables explicativas y variables objetivo\n",
        "X_train_balance = df_train.drop(['RainTomorrow'], axis=1).copy()\n",
        "y_train_balance = df_train['RainTomorrow'].copy()\n",
        "\n",
        "X_test_balance = df_test.drop(['RainTomorrow'], axis=1).copy()\n",
        "y_test_balance = df_test['RainTomorrow'].copy()"
      ],
      "metadata": {
        "id": "AymbG9i26exs"
      },
      "execution_count": null,
      "outputs": []
    },
    {
      "cell_type": "code",
      "source": [
        "fig,ax = plt.subplots(1,1,figsize=(8,5))\n",
        "plot_roc(ax, X_train_balance, y_train_balance, X_test_balance, y_test_balance, 'Dataset de train sin balanceo y fuga de datos')"
      ],
      "metadata": {
        "id": "xb0O64ov6ee2"
      },
      "execution_count": null,
      "outputs": []
    },
    {
      "cell_type": "code",
      "source": [
        "ros = RandomOverSampler(random_state=0)\n",
        "X_train_ros, y_train_ros = ros.fit_resample(X_train_balance, y_train_balance)"
      ],
      "metadata": {
        "id": "YE9PXOMC_1IU"
      },
      "execution_count": null,
      "outputs": []
    },
    {
      "cell_type": "code",
      "source": [
        "df_ros = pd.DataFrame(X_train_ros, columns=X_train_balance.columns)\n",
        "df_ros['RainTomorrow'] = y_train_ros"
      ],
      "metadata": {
        "id": "s8tkBFjX_1GB"
      },
      "execution_count": null,
      "outputs": []
    },
    {
      "cell_type": "code",
      "source": [
        "plot_balance(df_ros)"
      ],
      "metadata": {
        "id": "N6YSZeMz_1Dx"
      },
      "execution_count": null,
      "outputs": []
    },
    {
      "cell_type": "code",
      "source": [
        "df_ros.shape[0]"
      ],
      "metadata": {
        "id": "bI9qKSG__1BJ"
      },
      "execution_count": null,
      "outputs": []
    },
    {
      "cell_type": "markdown",
      "source": [
        "Con smote"
      ],
      "metadata": {
        "id": "BKWq9kC0_7gR"
      }
    },
    {
      "cell_type": "code",
      "source": [
        "smote = SMOTE(random_state=0)\n",
        "X_train_smote, y_train_smote = smote.fit_resample(X_train_balance, y_train_balance)"
      ],
      "metadata": {
        "id": "ilr_fk8A_05h"
      },
      "execution_count": null,
      "outputs": []
    },
    {
      "cell_type": "code",
      "source": [
        "df_SMOTE = pd.DataFrame(X_train_smote, columns=X_train_balance.columns)\n",
        "df_SMOTE['RainTomorrow'] = y_train_smote"
      ],
      "metadata": {
        "id": "4H8LM7fU_9Fq"
      },
      "execution_count": null,
      "outputs": []
    },
    {
      "cell_type": "code",
      "source": [
        "plot_balance(df_SMOTE)"
      ],
      "metadata": {
        "id": "tcZobEhB_9DT"
      },
      "execution_count": null,
      "outputs": []
    },
    {
      "cell_type": "markdown",
      "source": [
        "smote tomek"
      ],
      "metadata": {
        "id": "GRc9PPr7AASB"
      }
    },
    {
      "cell_type": "code",
      "source": [
        "smotetomek = SMOTETomek(random_state=0)\n",
        "X_train_smotetomek, y_train_smotetomek = smotetomek.fit_resample(X_train_balance, y_train_balance)"
      ],
      "metadata": {
        "id": "Dr06EZBV_9BB"
      },
      "execution_count": null,
      "outputs": []
    },
    {
      "cell_type": "code",
      "source": [
        "df_smotetomek = pd.DataFrame(X_train_smotetomek, columns=X_train_balance.columns)\n",
        "df_smotetomek['RainTomorrow'] = y_train_smotetomek"
      ],
      "metadata": {
        "id": "hJRUxzm-_8-h"
      },
      "execution_count": null,
      "outputs": []
    },
    {
      "cell_type": "code",
      "source": [
        "plot_balance(df_smotetomek)"
      ],
      "metadata": {
        "id": "3ECCGCHK_86J"
      },
      "execution_count": null,
      "outputs": []
    },
    {
      "cell_type": "markdown",
      "source": [
        "metricas regresion logistica con datos balanceado"
      ],
      "metadata": {
        "id": "6K3vc_UDAGXJ"
      }
    },
    {
      "cell_type": "code",
      "source": [
        "# Plot all ROC into one graph , y_train_balance\n",
        "fig,ax = plt.subplots(1,1,figsize=(8,5))\n",
        "plot_roc(ax, X_train_balance, y_train_balance, X_test_balance, y_test_balance, 'Dataset de train sin balanceo, con fuga')\n",
        "plot_roc(ax, X_train_smote, y_train_smote, X_test_balance, y_test_balance, 'SMOTE Dataset con fuga')\n",
        "\n",
        "fig,ax1 = plt.subplots(1,1,figsize=(8,5))\n",
        "plot_roc(ax1, X_train_ros.drop(['RainfallTomorrow'], axis=1), y_train_ros, X_test_balance.drop(['RainfallTomorrow'], axis=1), y_test_balance, 'Random Sobresampleo')\n",
        "plot_roc(ax1, X_train_rus.drop(['RainfallTomorrow'], axis=1), y_train_rus, X_test_balance.drop(['RainfallTomorrow'], axis=1), y_test_balance, 'Random Subsampleo')\n",
        "plot_roc(ax1, X_train_smote.drop(['RainfallTomorrow'], axis=1), y_train_smote, X_test_balance.drop(['RainfallTomorrow'], axis=1), y_test_balance, 'SMOTE Dataset')\n",
        "plot_roc(ax1, X_train_smotetomek.drop(['RainfallTomorrow'], axis=1), y_train_smotetomek, X_test_balance.drop(['RainfallTomorrow'], axis=1), y_test_balance, 'SMOTE-TOMEK Dataset')"
      ],
      "metadata": {
        "id": "JHCKqMGVAF7a"
      },
      "execution_count": null,
      "outputs": []
    },
    {
      "cell_type": "code",
      "source": [
        "def plot_matrix_confusion(y_test, y_pred):\n",
        "  # Calcular la matriz de confusión\n",
        "  confusion_mat = confusion_matrix(y_test, y_pred)\n",
        "\n",
        "  # Crear una figura y un eje para la matriz de confusión\n",
        "  plt.figure(figsize=(4, 3))\n",
        "  sns.heatmap(confusion_mat, annot=True, fmt=\"d\", cmap=\"Blues\", linewidths=0.1, linecolor='blue', cbar=True)\n",
        "\n",
        "  # Añadir etiquetas a los ejes y al gráfico\n",
        "  plt.xlabel('Predicción')\n",
        "  plt.ylabel('Verdaderos')\n",
        "  plt.title('Matriz de Confusión')\n",
        "  plt.xticks(np.arange(2) + 0.5, ['No', 'Sí'])\n",
        "  plt.yticks(np.arange(2) + 0.5, ['No', 'Sí'])\n",
        "  plt.show()"
      ],
      "metadata": {
        "id": "4E8UphGsAF4Z"
      },
      "execution_count": null,
      "outputs": []
    },
    {
      "cell_type": "code",
      "source": [
        "def train_test_with_balanced_df(df_train, df_test, model, title=None):\n",
        "  \"\"\" Entrena, muestra métricas y plotea la curva AUC \"\"\"\n",
        "  X_train = df_train.drop(['RainTomorrow', 'RainfallTomorrow'], axis=1).copy()\n",
        "  y_train = df_train['RainTomorrow'].copy()\n",
        "\n",
        "  X_test = df_test.drop(['RainTomorrow', 'RainfallTomorrow'], axis=1).copy()\n",
        "  y_test = df_test['RainTomorrow'].copy()\n",
        "\n",
        "  my_model = model(random_state=42)\n",
        "  my_model.fit(X_train, y_train)\n",
        "  y_pred = my_model.predict(X_test)\n",
        "\n",
        "\n",
        "  print(f\"Resultados con: {model.__name__}\\n\")\n",
        "  print(classification_report(y_test, y_pred))\n",
        "  print(confusion_matrix(y_test, y_pred))\n",
        "\n",
        "  print(f\"\\n\\nMatriz de confusión para: {model.__name__}\")\n",
        "  plot_matrix_confusion(y_test, y_pred)\n",
        "\n",
        "  fig,ax = plt.subplots(1,1,figsize=(8,5))\n",
        "  y_test_pred = my_model.predict_proba(X_test)[:,1]\n",
        "  fpr, tpr, thresh = metrics.roc_curve(y_test, y_test_pred)\n",
        "\n",
        "  # Posicion del indice del umbral 0.5\n",
        "  thresh_index = np.abs(thresh - 0.5).argmin()\n",
        "  # Posicion del indice del umbral con valores mas cercanos a (0,1) para TPR y FPR\n",
        "  optimal_index = ((1 - tpr**2) + fpr**2).argmin()\n",
        "\n",
        "\n",
        "  auc = metrics.roc_auc_score(y_test, y_test_pred)\n",
        "  ax.plot(fpr,tpr,label=f\"Logistic Regression AUC={auc:.3f}\")\n",
        "  ax.plot([0, 1], [0, 1], color='navy', lw=2, linestyle='--')\n",
        "\n",
        "  ax.set_title(f'{title}')\n",
        "  ax.set_xlabel('False Positive Rate')\n",
        "  ax.set_ylabel('True Positive Rate')\n",
        "  ax.legend(loc=0)\n",
        "\n",
        "  print(f\"\\n\\nUmbrales:\")\n",
        "  print(f\"Actual: {thresh[thresh_index]}\")\n",
        "  print(f\"Optimo: {thresh[optimal_index]}\")\n",
        "\n",
        "  print(f\"\\n\\nPuntaje para training vs test\")\n",
        "  print(f\"Training: {my_model.score(X_train, y_train)}\")\n",
        "  print(f\"Test: {my_model.score(X_test, y_test)}\")"
      ],
      "metadata": {
        "id": "QKb-hfEXAF0B"
      },
      "execution_count": null,
      "outputs": []
    },
    {
      "cell_type": "code",
      "source": [
        "train_test_with_balanced_df(df_ros, df_test, LogisticRegression, \"AUC Curva: TODAS LAS VARIABLES\")"
      ],
      "metadata": {
        "id": "Jy8nZYhIAFxR"
      },
      "execution_count": null,
      "outputs": []
    },
    {
      "cell_type": "code",
      "source": [],
      "metadata": {
        "id": "UDESqE6ZAFux"
      },
      "execution_count": null,
      "outputs": []
    },
    {
      "cell_type": "code",
      "source": [],
      "metadata": {
        "id": "elNtcptHAFsR"
      },
      "execution_count": null,
      "outputs": []
    },
    {
      "cell_type": "markdown",
      "source": [
        "# Modelo base Regresion Lineal"
      ],
      "metadata": {
        "id": "Jxr7dw5y7aYe"
      }
    },
    {
      "cell_type": "code",
      "source": [
        "# Separación de variables explicativas y variables objetivo\n",
        "X = df.drop(['RainfallTomorrow'], axis=1).copy()\n",
        "y = df[['RainfallTomorrow']].copy()\n",
        "\n",
        "# Spliteo mi dataset en train-test\n",
        "X_train, X_test, y_train, y_test = train_test_split(X, y, test_size=0.2, random_state=42)\n",
        "X_train.shape, X_test.shape, y_train.shape, y_test.shape\n"
      ],
      "metadata": {
        "id": "s4bNGpSb7e4K"
      },
      "execution_count": null,
      "outputs": []
    },
    {
      "cell_type": "code",
      "source": [
        "# Creo un Dataframe de TRAIN\n",
        "df_train = pd.DataFrame(X_train, columns=X.columns)\n",
        "df_train['RainfallTomorrow'] = y['RainfallTomorrow']"
      ],
      "metadata": {
        "id": "3pULs5oi7fLK"
      },
      "execution_count": null,
      "outputs": []
    },
    {
      "cell_type": "code",
      "source": [
        "# Creo un Dataframe de TEST\n",
        "df_test = pd.DataFrame(X_test, columns=X.columns)\n",
        "df_test['RainfallTomorrow'] = y['RainfallTomorrow']"
      ],
      "metadata": {
        "id": "Xc_J4lfd7fJH"
      },
      "execution_count": null,
      "outputs": []
    },
    {
      "cell_type": "code",
      "source": [
        "# Preproceso mi df de test y mi df de train\n",
        "df_train = preprocessor.fit_transform(df_train)\n",
        "df_test = preprocessor.fit_transform(df_test)"
      ],
      "metadata": {
        "id": "gQHTKZe47rDB"
      },
      "execution_count": null,
      "outputs": []
    },
    {
      "cell_type": "code",
      "source": [
        "X_base_regresion_train = df_train[['RainToday', 'Sunshine']]\n",
        "Y_base_regresion_train = df_train[\"RainfallTomorrow\"]"
      ],
      "metadata": {
        "id": "Wr8Y4YdY7q7I"
      },
      "execution_count": null,
      "outputs": []
    },
    {
      "cell_type": "code",
      "source": [
        "X_base_regresion_test = df_test[['RainToday', 'Sunshine',]]\n",
        "Y_base_regresion_test = df_test[\"RainfallTomorrow\"]"
      ],
      "metadata": {
        "id": "sWoBEPFo7tkh"
      },
      "execution_count": null,
      "outputs": []
    },
    {
      "cell_type": "code",
      "source": [
        "modelo_base_regresion = LinearRegression()"
      ],
      "metadata": {
        "id": "2oO9snsk7wzC"
      },
      "execution_count": null,
      "outputs": []
    },
    {
      "cell_type": "code",
      "source": [
        "modelo_base_regresion.fit(X_base_regresion_train, Y_base_regresion_train)"
      ],
      "metadata": {
        "id": "M1H823wt7wwp"
      },
      "execution_count": null,
      "outputs": []
    },
    {
      "cell_type": "code",
      "source": [
        "y_pred_base_regresion = modelo_base_regresion.predict(X_base_regresion_test)"
      ],
      "metadata": {
        "id": "UE6mm-Zt7wui"
      },
      "execution_count": null,
      "outputs": []
    },
    {
      "cell_type": "code",
      "source": [
        "from sklearn.metrics import mean_absolute_error, mean_absolute_percentage_error\n",
        "from math import sqrt\n"
      ],
      "metadata": {
        "id": "lZi1IA1f7zgK"
      },
      "execution_count": null,
      "outputs": []
    },
    {
      "cell_type": "code",
      "source": [
        "def errores(y_test, y_pred):\n",
        "    print(\"R2:   %.2f\" % r2_score(y_test, y_pred))\n",
        "    print(\"MSE:  %.2f\" % mean_squared_error(y_test, y_pred))\n",
        "    print(\"RMSE: %.2f\" % sqrt(mean_squared_error(y_test, y_pred)))\n",
        "    print(\"MAE:  %.2f\" % mean_absolute_error(y_test, y_pred))\n",
        "    print(\"MAPE: %.2f\" % mean_absolute_percentage_error(y_test, y_pred))\n",
        "\n",
        "\n",
        "errores(Y_base_regresion_test, y_pred_base_regresion)"
      ],
      "metadata": {
        "id": "c2YmTXSC7zd8"
      },
      "execution_count": null,
      "outputs": []
    },
    {
      "cell_type": "markdown",
      "source": [
        "base con importado de scikit learn"
      ],
      "metadata": {
        "id": "0rD4dGVrAYVy"
      }
    },
    {
      "cell_type": "code",
      "source": [
        "# https://scikit-learn.org/stable/modules/generated/sklearn.dummy.DummyClassifier.html#sklearn-dummy-dummyclassifier\n",
        "from sklearn.dummy import DummyClassifier, DummyRegressor\n",
        "\n",
        "\n",
        "df_base=preprocessor.fit_transform(df)\n",
        "X=df_base.drop(['RainTomorrow', 'RainfallTomorrow'], axis=1)\n",
        "y=df_base['RainTomorrow']\n",
        "y_reg=df_base['RainfallTomorrow']\n",
        "X_train, X_test, y_train, y_test = train_test_split(X, y,test_size=0.3, stratify=y, random_state=777)\n",
        "X_train_reg, X_test_reg, y_train_reg, y_test_reg = train_test_split(X, y_reg,test_size=0.3, stratify=y, random_state=777)"
      ],
      "metadata": {
        "id": "-x19_rftAbZC"
      },
      "execution_count": null,
      "outputs": []
    },
    {
      "cell_type": "code",
      "source": [
        "# Crear un clasificador de la mayoría\n",
        "dummy_clf = DummyClassifier(strategy=\"most_frequent\")\n",
        "\n",
        "# Entreno, aunque no es necesario porque no aprende nada\n",
        "dummy_clf.fit(X_train, y_train)\n",
        "\n",
        "# Hacer predicciones\n",
        "y_pred = dummy_clf.predict(X_test)\n",
        "\n",
        "# Score\n",
        "dummy_clf.score(X_test, y_test)\n",
        "\n",
        "# Metricas\n",
        "print(confusion_matrix(y_test, y_pred))\n",
        "print(classification_report(y_test, y_pred))"
      ],
      "metadata": {
        "id": "qkhNy4ap7zbz"
      },
      "execution_count": null,
      "outputs": []
    },
    {
      "cell_type": "code",
      "source": [
        "df_base.value_counts(\"RainTomorrow\", normalize=True)"
      ],
      "metadata": {
        "id": "fs1ZBMo0Aq0y"
      },
      "execution_count": null,
      "outputs": []
    },
    {
      "cell_type": "markdown",
      "source": [
        "# Base clasificacion"
      ],
      "metadata": {
        "id": "30eiOqVb75T7"
      }
    },
    {
      "cell_type": "code",
      "source": [
        "# Separación de variables explicativas y variables objetivo\n",
        "X = df.drop(['RainTomorrow', 'RainfallTomorrow'], axis=1).copy()\n",
        "y = df[['RainTomorrow']].copy()\n",
        "\n",
        "# Spliteo mi dataset en train-test\n",
        "X_train, X_test, y_train, y_test = train_test_split(X, y, test_size=0.2, random_state=42)\n",
        "X_train.shape, X_test.shape, y_train.shape, y_test.shape"
      ],
      "metadata": {
        "id": "_kMc7zPt77D6"
      },
      "execution_count": null,
      "outputs": []
    },
    {
      "cell_type": "code",
      "source": [
        "# Creo un Dataframe de TRAIN\n",
        "df_train = pd.DataFrame(X_train, columns=X.columns)\n",
        "df_train['RainTomorrow'] = y['RainTomorrow']"
      ],
      "metadata": {
        "id": "kA69_1sf7-rO"
      },
      "execution_count": null,
      "outputs": []
    },
    {
      "cell_type": "code",
      "source": [
        "# Creo un Dataframe de TEST\n",
        "df_test = pd.DataFrame(X_test, columns=X.columns)\n",
        "df_test['RainTomorrow'] = y['RainTomorrow']"
      ],
      "metadata": {
        "id": "GZBhlfMy8AiJ"
      },
      "execution_count": null,
      "outputs": []
    },
    {
      "cell_type": "code",
      "source": [
        "# Preproceso mi df de test y mi df de train\n",
        "df_train = preprocessor.fit_transform(df_train)\n",
        "df_test = preprocessor.fit_transform(df_test)"
      ],
      "metadata": {
        "id": "0i1uBtOn8CIT"
      },
      "execution_count": null,
      "outputs": []
    },
    {
      "cell_type": "code",
      "source": [
        "#X_base_clasificacion_train = df_train[['RainToday', 'Sunshine', 'MinTemp']]\n",
        "X_base_clasificacion_train = df_train[['MaxTemp', 'Sunshine', 'MinTemp']]\n",
        "Y_base_clasificacion_train = df_train[\"RainTomorrow\"]"
      ],
      "metadata": {
        "id": "nKwwu-6u8DQ8"
      },
      "execution_count": null,
      "outputs": []
    },
    {
      "cell_type": "code",
      "source": [
        "#X_base_clasificacion_test = df_test[['RainToday', 'Sunshine', 'MinTemp']]\n",
        "X_base_clasificacion_test = df_test[['MaxTemp', 'Sunshine', 'MinTemp']]\n",
        "Y_base_clasificacion_test = df_test[\"RainTomorrow\"]"
      ],
      "metadata": {
        "id": "6It0cVFz8Gcl"
      },
      "execution_count": null,
      "outputs": []
    },
    {
      "cell_type": "code",
      "source": [
        "modelo_base_clasificacion = LogisticRegression()"
      ],
      "metadata": {
        "id": "LN9n0SMD8H3U"
      },
      "execution_count": null,
      "outputs": []
    },
    {
      "cell_type": "code",
      "source": [
        "modelo_base_clasificacion.fit(X_base_clasificacion_train, Y_base_clasificacion_train)"
      ],
      "metadata": {
        "id": "GaCQ_MVX8KoU"
      },
      "execution_count": null,
      "outputs": []
    },
    {
      "cell_type": "code",
      "source": [
        "y_pred_base_clasificacion = modelo_base_clasificacion.predict(X_base_clasificacion_test)"
      ],
      "metadata": {
        "id": "5lwFfmWl8OW-"
      },
      "execution_count": null,
      "outputs": []
    },
    {
      "cell_type": "code",
      "source": [
        "from sklearn.metrics import ConfusionMatrixDisplay"
      ],
      "metadata": {
        "id": "SlxXfd8q8XBH"
      },
      "execution_count": null,
      "outputs": []
    },
    {
      "cell_type": "code",
      "source": [
        "print(\"Logistica Modelo base\\n\")\n",
        "print(classification_report(Y_base_clasificacion_test, y_pred_base_clasificacion))\n",
        "ConfusionMatrixDisplay(confusion_matrix(Y_base_clasificacion_test, y_pred_base_clasificacion)).plot()\n"
      ],
      "metadata": {
        "id": "nYKnEnPX8Y75"
      },
      "execution_count": null,
      "outputs": []
    },
    {
      "cell_type": "markdown",
      "source": [
        "# Base Regresión\n"
      ],
      "metadata": {
        "id": "icJzy5w2Aizy"
      }
    },
    {
      "cell_type": "code",
      "source": [
        "dummy_regr = DummyRegressor(strategy=\"mean\")\n",
        "\n",
        "dummy_regr.fit(X_train_reg, y_train_reg)\n",
        "\n",
        "y_pred = dummy_regr.predict(X_test_reg)\n",
        "\n",
        "# Metricas\n",
        "mse = mean_squared_error(y_test_reg, y_pred)\n",
        "\n",
        "r2 = r2_score(y_test_reg, y_pred)\n",
        "\n",
        "print(f\"Mean squared error: {mse}\")\n",
        "print(f\"R-squared score: {r2}\")"
      ],
      "metadata": {
        "id": "HDS8cIISAvdq"
      },
      "execution_count": null,
      "outputs": []
    },
    {
      "cell_type": "code",
      "source": [
        "# Plot the predicted values against the actual values\n",
        "plt.scatter(y_test_reg, y_pred)\n",
        "plt.xlabel(\"Actual Values\")\n",
        "plt.ylabel(\"Predicted Values\")\n",
        "plt.title(\"Dummy Regressor: Predicted vs. Actual\")\n",
        "# Add a diagonal line to show where the predicted values match the actual values\n",
        "plt.plot([min(y_test_reg), max(y_test_reg)], [min(y_test_reg), max(y_test_reg)], color=\"red\")"
      ],
      "metadata": {
        "id": "3dJIBB2GA7pC"
      },
      "execution_count": null,
      "outputs": []
    },
    {
      "cell_type": "markdown",
      "source": [
        "#Optimizacion de parametros"
      ],
      "metadata": {
        "id": "p8xlljDFA8qr"
      }
    },
    {
      "cell_type": "code",
      "source": [
        "from sklearn.model_selection import GridSearchCV"
      ],
      "metadata": {
        "id": "gwu6Sn1HA_Ch"
      },
      "execution_count": null,
      "outputs": []
    },
    {
      "cell_type": "code",
      "source": [
        "### Analisis de los HP"
      ],
      "metadata": {
        "id": "IzbWxYwPA_nJ"
      },
      "execution_count": null,
      "outputs": []
    },
    {
      "cell_type": "code",
      "source": [
        "### Para cada hiperparámetro se chequean las métricas de Precisión y Recall.\n",
        "\n",
        "scores = [\"precision\", \"recall\"]"
      ],
      "metadata": {
        "id": "zcIAfLU_A_kx"
      },
      "execution_count": null,
      "outputs": []
    },
    {
      "cell_type": "code",
      "source": [
        "def print_dataframe(filtered_cv_results):\n",
        "    ### Un print bonito de los resultados de cross validation\n",
        "    for mean_precision, std_precision, mean_recall, std_recall, params in zip(\n",
        "        filtered_cv_results[\"mean_test_precision\"],\n",
        "        filtered_cv_results[\"std_test_precision\"],\n",
        "        filtered_cv_results[\"mean_test_recall\"],\n",
        "        filtered_cv_results[\"std_test_recall\"],\n",
        "        filtered_cv_results[\"params\"],\n",
        "    ):\n",
        "        print(\n",
        "            f\"precision: {mean_precision:0.3f} (±{std_precision:0.03f}),\"\n",
        "            f\" recall: {mean_recall:0.3f} (±{std_recall:0.03f}),\"\n",
        "            f\" for {params}\"\n",
        "        )\n",
        "    print()"
      ],
      "metadata": {
        "id": "QiOacs7qA_iR"
      },
      "execution_count": null,
      "outputs": []
    },
    {
      "cell_type": "code",
      "source": [
        "def refit_strategy(cv_results):\n",
        "    \"\"\"Define the strategy to select the best estimator.\n",
        "\n",
        "    The strategy defined here is to filter-out all results below a precision threshold\n",
        "    of 0.7, rank the remaining by recall and keep all models with one standard\n",
        "    deviation of the best by recall. Once these models are selected, we can select the\n",
        "    fastest model to predict.\n",
        "\n",
        "    Parameters\n",
        "    ----------\n",
        "    cv_results : dict of numpy (masked) ndarrays\n",
        "        CV results as returned by the `GridSearchCV`.\n",
        "\n",
        "    Returns\n",
        "    -------\n",
        "    best_index : int\n",
        "        The index of the best estimator as it appears in `cv_results`.\n",
        "    \"\"\"\n",
        "    # print the info about the grid-search for the different scores\n",
        "    precision_threshold = 0.7\n",
        "\n",
        "    cv_results_ = pd.DataFrame(cv_results)\n",
        "    print(\"All grid-search results:\")\n",
        "    print_dataframe(cv_results_)\n",
        "\n",
        "    # Filter-out all results below the threshold\n",
        "    high_precision_cv_results = cv_results_[\n",
        "        cv_results_[\"mean_test_precision\"] > precision_threshold\n",
        "    ]\n",
        "\n",
        "    print(f\"Models with a precision higher than {precision_threshold}:\")\n",
        "    print_dataframe(high_precision_cv_results)\n",
        "\n",
        "    high_precision_cv_results = high_precision_cv_results[\n",
        "        [\n",
        "            \"mean_score_time\",\n",
        "            \"mean_test_recall\",\n",
        "            \"std_test_recall\",\n",
        "            \"mean_test_precision\",\n",
        "            \"std_test_precision\",\n",
        "            \"rank_test_recall\",\n",
        "            \"rank_test_precision\",\n",
        "            \"params\",\n",
        "        ]\n",
        "    ]\n",
        "\n",
        "    # Select the most performant models in terms of recall\n",
        "    # (within 1 sigma from the best)\n",
        "    best_recall_std = high_precision_cv_results[\"mean_test_recall\"].std()\n",
        "    best_recall = high_precision_cv_results[\"mean_test_recall\"].max()\n",
        "    best_recall_threshold = best_recall - best_recall_std\n",
        "\n",
        "    high_recall_cv_results = high_precision_cv_results[\n",
        "        high_precision_cv_results[\"mean_test_recall\"] > best_recall_threshold\n",
        "    ]\n",
        "    print(\n",
        "        \"Out of the previously selected high precision models, we keep all the\\n\"\n",
        "        \"the models within one standard deviation of the highest recall model:\"\n",
        "    )\n",
        "    print_dataframe(high_recall_cv_results)\n",
        "\n",
        "    # From the best candidates, select the fastest model to predict\n",
        "    fastest_top_recall_high_precision_index = high_recall_cv_results[\n",
        "        \"mean_score_time\"\n",
        "    ].idxmin()\n",
        "\n",
        "    print(\n",
        "        \"\\nThe selected final model is the fastest to predict out of the previously\\n\"\n",
        "        \"selected subset of best models based on precision and recall.\\n\"\n",
        "        \"Its scoring time is:\\n\\n\"\n",
        "        f\"{high_recall_cv_results.loc[fastest_top_recall_high_precision_index]}\"\n",
        "    )\n",
        "\n",
        "    return fastest_top_recall_high_precision_index"
      ],
      "metadata": {
        "id": "1qyRJKyWBEQh"
      },
      "execution_count": null,
      "outputs": []
    },
    {
      "cell_type": "code",
      "source": [
        "from sklearn.metrics import classification_report\n",
        "\n",
        "# Spliteo mi dataset en train-test\n",
        "X_train_gs = df_test.drop(['RainTomorrow', 'RainfallTomorrow'], axis=1)\n",
        "y_train_gs = df_test['RainTomorrow']"
      ],
      "metadata": {
        "id": "Ji9BDiUOBFYC"
      },
      "execution_count": null,
      "outputs": []
    },
    {
      "cell_type": "code",
      "source": [
        "tuned_parameters = [\n",
        "    {\"class_weight\": [None, 'balanced'], \"C\": [0.1, 1, 10,100], \"solver\": ['newton-cg'], \"max_iter\": [200, 500]}\n",
        "]\n",
        "\n",
        "grid_search = GridSearchCV(\n",
        "    LogisticRegression(), tuned_parameters, scoring=scores, refit=refit_strategy\n",
        ")\n",
        "grid_search.fit(X_train_gs, y_train_gs)"
      ],
      "metadata": {
        "id": "thit6xWuBF2x"
      },
      "execution_count": null,
      "outputs": []
    },
    {
      "cell_type": "code",
      "source": [
        "grid_search.best_params_"
      ],
      "metadata": {
        "id": "uRBV58iGBH-p"
      },
      "execution_count": null,
      "outputs": []
    },
    {
      "cell_type": "code",
      "source": [
        "y_pred = grid_search.predict(df_test.drop(['RainTomorrow', 'RainfallTomorrow'], axis=1))\n",
        "print(classification_report(df_test['RainTomorrow'], y_pred))"
      ],
      "metadata": {
        "id": "Aw2SS469BIzS"
      },
      "execution_count": null,
      "outputs": []
    }
  ]
}