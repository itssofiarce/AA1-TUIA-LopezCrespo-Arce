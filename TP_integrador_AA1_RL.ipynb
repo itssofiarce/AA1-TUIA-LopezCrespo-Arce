{
  "nbformat": 4,
  "nbformat_minor": 0,
  "metadata": {
    "colab": {
      "provenance": [],
      "authorship_tag": "ABX9TyOR3SB1Uqxket5RP2h5Oj83",
      "include_colab_link": true
    },
    "kernelspec": {
      "name": "python3",
      "display_name": "Python 3"
    },
    "language_info": {
      "name": "python"
    }
  },
  "cells": [
    {
      "cell_type": "markdown",
      "metadata": {
        "id": "view-in-github",
        "colab_type": "text"
      },
      "source": [
        "<a href=\"https://colab.research.google.com/github/itssofiarce/AA1-TUIA-Petetta-Arce/blob/sofi_main/TP_integrador_AA1_RL.ipynb\" target=\"_parent\"><img src=\"https://colab.research.google.com/assets/colab-badge.svg\" alt=\"Open In Colab\"/></a>"
      ]
    },
    {
      "cell_type": "code",
      "execution_count": 1,
      "metadata": {
        "colab": {
          "base_uri": "https://localhost:8080/"
        },
        "id": "kqpx3543Q-Qu",
        "outputId": "ad82c14b-09f4-4d36-bce2-c78c8c503b93"
      },
      "outputs": [
        {
          "output_type": "stream",
          "name": "stdout",
          "text": [
            "Mounted at /content/drive\n"
          ]
        }
      ],
      "source": [
        "from google.colab import drive\n",
        "drive.mount('/content/drive')"
      ]
    },
    {
      "cell_type": "code",
      "source": [
        "import pandas as pd\n",
        "import numpy as np\n",
        "import seaborn as sns\n",
        "import matplotlib.pyplot as plt\n",
        "import statsmodels.api as sm\n",
        "\n",
        "# De scikit-learn...\n",
        "\n",
        "# Pipeline\n",
        "from sklearn.base import BaseEstimator, TransformerMixin\n",
        "from sklearn.preprocessing import LabelEncoder\n",
        "from sklearn.preprocessing import PowerTransformer\n",
        "\n",
        "# Estandarización y modelado\n",
        "from sklearn.pipeline import make_pipeline\n",
        "from sklearn.preprocessing import StandardScaler\n",
        "from sklearn.metrics import mean_squared_error\n",
        "from sklearn import metrics\n",
        "\n",
        "from sklearn.pipeline import Pipeline\n",
        "from sklearn.compose import ColumnTransformer\n",
        "from sklearn.impute import SimpleImputer\n",
        "from sklearn.preprocessing import OneHotEncoder\n",
        "\n",
        "from sklearn.compose import make_column_selector\n",
        "# Division de los datos\n",
        "from sklearn.model_selection import train_test_split\n",
        "\n",
        "# Normalización\n",
        "from sklearn.preprocessing import MinMaxScaler\n",
        "\n",
        "# Regresiones\n",
        "from sklearn.linear_model import LinearRegression, SGDRegressor, Ridge, Lasso, ElasticNet, RidgeCV, ElasticNetCV, LassoCV, LogisticRegression\n",
        "\n",
        "# ML metricas\n",
        "from sklearn.metrics import mean_squared_error, r2_score\n",
        "from sklearn.metrics import classification_report, confusion_matrix"
      ],
      "metadata": {
        "id": "LTpToBeiRMNP"
      },
      "execution_count": 2,
      "outputs": []
    },
    {
      "cell_type": "code",
      "source": [
        "path= '/content/drive/MyDrive/weatherAUS.csv'\n",
        "df = pd.read_csv(path, usecols=range(1,25))\n",
        "df.head()"
      ],
      "metadata": {
        "colab": {
          "base_uri": "https://localhost:8080/",
          "height": 342
        },
        "id": "JMv-ZTbKROZS",
        "outputId": "d5487323-e257-4d87-f149-cae605d3b0ce"
      },
      "execution_count": 3,
      "outputs": [
        {
          "output_type": "execute_result",
          "data": {
            "text/plain": [
              "         Date Location  MinTemp  MaxTemp  Rainfall  Evaporation  Sunshine  \\\n",
              "0  2008-12-01   Albury     13.4     22.9       0.6          NaN       NaN   \n",
              "1  2008-12-02   Albury      7.4     25.1       0.0          NaN       NaN   \n",
              "2  2008-12-03   Albury     12.9     25.7       0.0          NaN       NaN   \n",
              "3  2008-12-04   Albury      9.2     28.0       0.0          NaN       NaN   \n",
              "4  2008-12-05   Albury     17.5     32.3       1.0          NaN       NaN   \n",
              "\n",
              "  WindGustDir  WindGustSpeed WindDir9am  ... Humidity3pm  Pressure9am  \\\n",
              "0           W           44.0          W  ...        22.0       1007.7   \n",
              "1         WNW           44.0        NNW  ...        25.0       1010.6   \n",
              "2         WSW           46.0          W  ...        30.0       1007.6   \n",
              "3          NE           24.0         SE  ...        16.0       1017.6   \n",
              "4           W           41.0        ENE  ...        33.0       1010.8   \n",
              "\n",
              "   Pressure3pm  Cloud9am  Cloud3pm  Temp9am  Temp3pm  RainToday  RainTomorrow  \\\n",
              "0       1007.1       8.0       NaN     16.9     21.8         No            No   \n",
              "1       1007.8       NaN       NaN     17.2     24.3         No            No   \n",
              "2       1008.7       NaN       2.0     21.0     23.2         No            No   \n",
              "3       1012.8       NaN       NaN     18.1     26.5         No            No   \n",
              "4       1006.0       7.0       8.0     17.8     29.7         No            No   \n",
              "\n",
              "   RainfallTomorrow  \n",
              "0               0.0  \n",
              "1               0.0  \n",
              "2               0.0  \n",
              "3               1.0  \n",
              "4               0.2  \n",
              "\n",
              "[5 rows x 24 columns]"
            ],
            "text/html": [
              "\n",
              "  <div id=\"df-9d1e9a89-5599-4b0c-84d3-444ea34c6344\" class=\"colab-df-container\">\n",
              "    <div>\n",
              "<style scoped>\n",
              "    .dataframe tbody tr th:only-of-type {\n",
              "        vertical-align: middle;\n",
              "    }\n",
              "\n",
              "    .dataframe tbody tr th {\n",
              "        vertical-align: top;\n",
              "    }\n",
              "\n",
              "    .dataframe thead th {\n",
              "        text-align: right;\n",
              "    }\n",
              "</style>\n",
              "<table border=\"1\" class=\"dataframe\">\n",
              "  <thead>\n",
              "    <tr style=\"text-align: right;\">\n",
              "      <th></th>\n",
              "      <th>Date</th>\n",
              "      <th>Location</th>\n",
              "      <th>MinTemp</th>\n",
              "      <th>MaxTemp</th>\n",
              "      <th>Rainfall</th>\n",
              "      <th>Evaporation</th>\n",
              "      <th>Sunshine</th>\n",
              "      <th>WindGustDir</th>\n",
              "      <th>WindGustSpeed</th>\n",
              "      <th>WindDir9am</th>\n",
              "      <th>...</th>\n",
              "      <th>Humidity3pm</th>\n",
              "      <th>Pressure9am</th>\n",
              "      <th>Pressure3pm</th>\n",
              "      <th>Cloud9am</th>\n",
              "      <th>Cloud3pm</th>\n",
              "      <th>Temp9am</th>\n",
              "      <th>Temp3pm</th>\n",
              "      <th>RainToday</th>\n",
              "      <th>RainTomorrow</th>\n",
              "      <th>RainfallTomorrow</th>\n",
              "    </tr>\n",
              "  </thead>\n",
              "  <tbody>\n",
              "    <tr>\n",
              "      <th>0</th>\n",
              "      <td>2008-12-01</td>\n",
              "      <td>Albury</td>\n",
              "      <td>13.4</td>\n",
              "      <td>22.9</td>\n",
              "      <td>0.6</td>\n",
              "      <td>NaN</td>\n",
              "      <td>NaN</td>\n",
              "      <td>W</td>\n",
              "      <td>44.0</td>\n",
              "      <td>W</td>\n",
              "      <td>...</td>\n",
              "      <td>22.0</td>\n",
              "      <td>1007.7</td>\n",
              "      <td>1007.1</td>\n",
              "      <td>8.0</td>\n",
              "      <td>NaN</td>\n",
              "      <td>16.9</td>\n",
              "      <td>21.8</td>\n",
              "      <td>No</td>\n",
              "      <td>No</td>\n",
              "      <td>0.0</td>\n",
              "    </tr>\n",
              "    <tr>\n",
              "      <th>1</th>\n",
              "      <td>2008-12-02</td>\n",
              "      <td>Albury</td>\n",
              "      <td>7.4</td>\n",
              "      <td>25.1</td>\n",
              "      <td>0.0</td>\n",
              "      <td>NaN</td>\n",
              "      <td>NaN</td>\n",
              "      <td>WNW</td>\n",
              "      <td>44.0</td>\n",
              "      <td>NNW</td>\n",
              "      <td>...</td>\n",
              "      <td>25.0</td>\n",
              "      <td>1010.6</td>\n",
              "      <td>1007.8</td>\n",
              "      <td>NaN</td>\n",
              "      <td>NaN</td>\n",
              "      <td>17.2</td>\n",
              "      <td>24.3</td>\n",
              "      <td>No</td>\n",
              "      <td>No</td>\n",
              "      <td>0.0</td>\n",
              "    </tr>\n",
              "    <tr>\n",
              "      <th>2</th>\n",
              "      <td>2008-12-03</td>\n",
              "      <td>Albury</td>\n",
              "      <td>12.9</td>\n",
              "      <td>25.7</td>\n",
              "      <td>0.0</td>\n",
              "      <td>NaN</td>\n",
              "      <td>NaN</td>\n",
              "      <td>WSW</td>\n",
              "      <td>46.0</td>\n",
              "      <td>W</td>\n",
              "      <td>...</td>\n",
              "      <td>30.0</td>\n",
              "      <td>1007.6</td>\n",
              "      <td>1008.7</td>\n",
              "      <td>NaN</td>\n",
              "      <td>2.0</td>\n",
              "      <td>21.0</td>\n",
              "      <td>23.2</td>\n",
              "      <td>No</td>\n",
              "      <td>No</td>\n",
              "      <td>0.0</td>\n",
              "    </tr>\n",
              "    <tr>\n",
              "      <th>3</th>\n",
              "      <td>2008-12-04</td>\n",
              "      <td>Albury</td>\n",
              "      <td>9.2</td>\n",
              "      <td>28.0</td>\n",
              "      <td>0.0</td>\n",
              "      <td>NaN</td>\n",
              "      <td>NaN</td>\n",
              "      <td>NE</td>\n",
              "      <td>24.0</td>\n",
              "      <td>SE</td>\n",
              "      <td>...</td>\n",
              "      <td>16.0</td>\n",
              "      <td>1017.6</td>\n",
              "      <td>1012.8</td>\n",
              "      <td>NaN</td>\n",
              "      <td>NaN</td>\n",
              "      <td>18.1</td>\n",
              "      <td>26.5</td>\n",
              "      <td>No</td>\n",
              "      <td>No</td>\n",
              "      <td>1.0</td>\n",
              "    </tr>\n",
              "    <tr>\n",
              "      <th>4</th>\n",
              "      <td>2008-12-05</td>\n",
              "      <td>Albury</td>\n",
              "      <td>17.5</td>\n",
              "      <td>32.3</td>\n",
              "      <td>1.0</td>\n",
              "      <td>NaN</td>\n",
              "      <td>NaN</td>\n",
              "      <td>W</td>\n",
              "      <td>41.0</td>\n",
              "      <td>ENE</td>\n",
              "      <td>...</td>\n",
              "      <td>33.0</td>\n",
              "      <td>1010.8</td>\n",
              "      <td>1006.0</td>\n",
              "      <td>7.0</td>\n",
              "      <td>8.0</td>\n",
              "      <td>17.8</td>\n",
              "      <td>29.7</td>\n",
              "      <td>No</td>\n",
              "      <td>No</td>\n",
              "      <td>0.2</td>\n",
              "    </tr>\n",
              "  </tbody>\n",
              "</table>\n",
              "<p>5 rows × 24 columns</p>\n",
              "</div>\n",
              "    <div class=\"colab-df-buttons\">\n",
              "\n",
              "  <div class=\"colab-df-container\">\n",
              "    <button class=\"colab-df-convert\" onclick=\"convertToInteractive('df-9d1e9a89-5599-4b0c-84d3-444ea34c6344')\"\n",
              "            title=\"Convert this dataframe to an interactive table.\"\n",
              "            style=\"display:none;\">\n",
              "\n",
              "  <svg xmlns=\"http://www.w3.org/2000/svg\" height=\"24px\" viewBox=\"0 -960 960 960\">\n",
              "    <path d=\"M120-120v-720h720v720H120Zm60-500h600v-160H180v160Zm220 220h160v-160H400v160Zm0 220h160v-160H400v160ZM180-400h160v-160H180v160Zm440 0h160v-160H620v160ZM180-180h160v-160H180v160Zm440 0h160v-160H620v160Z\"/>\n",
              "  </svg>\n",
              "    </button>\n",
              "\n",
              "  <style>\n",
              "    .colab-df-container {\n",
              "      display:flex;\n",
              "      gap: 12px;\n",
              "    }\n",
              "\n",
              "    .colab-df-convert {\n",
              "      background-color: #E8F0FE;\n",
              "      border: none;\n",
              "      border-radius: 50%;\n",
              "      cursor: pointer;\n",
              "      display: none;\n",
              "      fill: #1967D2;\n",
              "      height: 32px;\n",
              "      padding: 0 0 0 0;\n",
              "      width: 32px;\n",
              "    }\n",
              "\n",
              "    .colab-df-convert:hover {\n",
              "      background-color: #E2EBFA;\n",
              "      box-shadow: 0px 1px 2px rgba(60, 64, 67, 0.3), 0px 1px 3px 1px rgba(60, 64, 67, 0.15);\n",
              "      fill: #174EA6;\n",
              "    }\n",
              "\n",
              "    .colab-df-buttons div {\n",
              "      margin-bottom: 4px;\n",
              "    }\n",
              "\n",
              "    [theme=dark] .colab-df-convert {\n",
              "      background-color: #3B4455;\n",
              "      fill: #D2E3FC;\n",
              "    }\n",
              "\n",
              "    [theme=dark] .colab-df-convert:hover {\n",
              "      background-color: #434B5C;\n",
              "      box-shadow: 0px 1px 3px 1px rgba(0, 0, 0, 0.15);\n",
              "      filter: drop-shadow(0px 1px 2px rgba(0, 0, 0, 0.3));\n",
              "      fill: #FFFFFF;\n",
              "    }\n",
              "  </style>\n",
              "\n",
              "    <script>\n",
              "      const buttonEl =\n",
              "        document.querySelector('#df-9d1e9a89-5599-4b0c-84d3-444ea34c6344 button.colab-df-convert');\n",
              "      buttonEl.style.display =\n",
              "        google.colab.kernel.accessAllowed ? 'block' : 'none';\n",
              "\n",
              "      async function convertToInteractive(key) {\n",
              "        const element = document.querySelector('#df-9d1e9a89-5599-4b0c-84d3-444ea34c6344');\n",
              "        const dataTable =\n",
              "          await google.colab.kernel.invokeFunction('convertToInteractive',\n",
              "                                                    [key], {});\n",
              "        if (!dataTable) return;\n",
              "\n",
              "        const docLinkHtml = 'Like what you see? Visit the ' +\n",
              "          '<a target=\"_blank\" href=https://colab.research.google.com/notebooks/data_table.ipynb>data table notebook</a>'\n",
              "          + ' to learn more about interactive tables.';\n",
              "        element.innerHTML = '';\n",
              "        dataTable['output_type'] = 'display_data';\n",
              "        await google.colab.output.renderOutput(dataTable, element);\n",
              "        const docLink = document.createElement('div');\n",
              "        docLink.innerHTML = docLinkHtml;\n",
              "        element.appendChild(docLink);\n",
              "      }\n",
              "    </script>\n",
              "  </div>\n",
              "\n",
              "\n",
              "<div id=\"df-24889a59-953d-40bc-92a2-b702ce6167db\">\n",
              "  <button class=\"colab-df-quickchart\" onclick=\"quickchart('df-24889a59-953d-40bc-92a2-b702ce6167db')\"\n",
              "            title=\"Suggest charts\"\n",
              "            style=\"display:none;\">\n",
              "\n",
              "<svg xmlns=\"http://www.w3.org/2000/svg\" height=\"24px\"viewBox=\"0 0 24 24\"\n",
              "     width=\"24px\">\n",
              "    <g>\n",
              "        <path d=\"M19 3H5c-1.1 0-2 .9-2 2v14c0 1.1.9 2 2 2h14c1.1 0 2-.9 2-2V5c0-1.1-.9-2-2-2zM9 17H7v-7h2v7zm4 0h-2V7h2v10zm4 0h-2v-4h2v4z\"/>\n",
              "    </g>\n",
              "</svg>\n",
              "  </button>\n",
              "\n",
              "<style>\n",
              "  .colab-df-quickchart {\n",
              "      --bg-color: #E8F0FE;\n",
              "      --fill-color: #1967D2;\n",
              "      --hover-bg-color: #E2EBFA;\n",
              "      --hover-fill-color: #174EA6;\n",
              "      --disabled-fill-color: #AAA;\n",
              "      --disabled-bg-color: #DDD;\n",
              "  }\n",
              "\n",
              "  [theme=dark] .colab-df-quickchart {\n",
              "      --bg-color: #3B4455;\n",
              "      --fill-color: #D2E3FC;\n",
              "      --hover-bg-color: #434B5C;\n",
              "      --hover-fill-color: #FFFFFF;\n",
              "      --disabled-bg-color: #3B4455;\n",
              "      --disabled-fill-color: #666;\n",
              "  }\n",
              "\n",
              "  .colab-df-quickchart {\n",
              "    background-color: var(--bg-color);\n",
              "    border: none;\n",
              "    border-radius: 50%;\n",
              "    cursor: pointer;\n",
              "    display: none;\n",
              "    fill: var(--fill-color);\n",
              "    height: 32px;\n",
              "    padding: 0;\n",
              "    width: 32px;\n",
              "  }\n",
              "\n",
              "  .colab-df-quickchart:hover {\n",
              "    background-color: var(--hover-bg-color);\n",
              "    box-shadow: 0 1px 2px rgba(60, 64, 67, 0.3), 0 1px 3px 1px rgba(60, 64, 67, 0.15);\n",
              "    fill: var(--button-hover-fill-color);\n",
              "  }\n",
              "\n",
              "  .colab-df-quickchart-complete:disabled,\n",
              "  .colab-df-quickchart-complete:disabled:hover {\n",
              "    background-color: var(--disabled-bg-color);\n",
              "    fill: var(--disabled-fill-color);\n",
              "    box-shadow: none;\n",
              "  }\n",
              "\n",
              "  .colab-df-spinner {\n",
              "    border: 2px solid var(--fill-color);\n",
              "    border-color: transparent;\n",
              "    border-bottom-color: var(--fill-color);\n",
              "    animation:\n",
              "      spin 1s steps(1) infinite;\n",
              "  }\n",
              "\n",
              "  @keyframes spin {\n",
              "    0% {\n",
              "      border-color: transparent;\n",
              "      border-bottom-color: var(--fill-color);\n",
              "      border-left-color: var(--fill-color);\n",
              "    }\n",
              "    20% {\n",
              "      border-color: transparent;\n",
              "      border-left-color: var(--fill-color);\n",
              "      border-top-color: var(--fill-color);\n",
              "    }\n",
              "    30% {\n",
              "      border-color: transparent;\n",
              "      border-left-color: var(--fill-color);\n",
              "      border-top-color: var(--fill-color);\n",
              "      border-right-color: var(--fill-color);\n",
              "    }\n",
              "    40% {\n",
              "      border-color: transparent;\n",
              "      border-right-color: var(--fill-color);\n",
              "      border-top-color: var(--fill-color);\n",
              "    }\n",
              "    60% {\n",
              "      border-color: transparent;\n",
              "      border-right-color: var(--fill-color);\n",
              "    }\n",
              "    80% {\n",
              "      border-color: transparent;\n",
              "      border-right-color: var(--fill-color);\n",
              "      border-bottom-color: var(--fill-color);\n",
              "    }\n",
              "    90% {\n",
              "      border-color: transparent;\n",
              "      border-bottom-color: var(--fill-color);\n",
              "    }\n",
              "  }\n",
              "</style>\n",
              "\n",
              "  <script>\n",
              "    async function quickchart(key) {\n",
              "      const quickchartButtonEl =\n",
              "        document.querySelector('#' + key + ' button');\n",
              "      quickchartButtonEl.disabled = true;  // To prevent multiple clicks.\n",
              "      quickchartButtonEl.classList.add('colab-df-spinner');\n",
              "      try {\n",
              "        const charts = await google.colab.kernel.invokeFunction(\n",
              "            'suggestCharts', [key], {});\n",
              "      } catch (error) {\n",
              "        console.error('Error during call to suggestCharts:', error);\n",
              "      }\n",
              "      quickchartButtonEl.classList.remove('colab-df-spinner');\n",
              "      quickchartButtonEl.classList.add('colab-df-quickchart-complete');\n",
              "    }\n",
              "    (() => {\n",
              "      let quickchartButtonEl =\n",
              "        document.querySelector('#df-24889a59-953d-40bc-92a2-b702ce6167db button');\n",
              "      quickchartButtonEl.style.display =\n",
              "        google.colab.kernel.accessAllowed ? 'block' : 'none';\n",
              "    })();\n",
              "  </script>\n",
              "</div>\n",
              "\n",
              "    </div>\n",
              "  </div>\n"
            ],
            "application/vnd.google.colaboratory.intrinsic+json": {
              "type": "dataframe",
              "variable_name": "df"
            }
          },
          "metadata": {},
          "execution_count": 3
        }
      ]
    },
    {
      "cell_type": "code",
      "source": [
        "### Busco duplicados\n",
        "if not df.duplicated().any():\n",
        "  print('No hay registros duplicados')"
      ],
      "metadata": {
        "colab": {
          "base_uri": "https://localhost:8080/"
        },
        "id": "Jpha51S_RVUp",
        "outputId": "876f3d44-d70a-489a-e4c8-2f8d65f8f071"
      },
      "execution_count": 4,
      "outputs": [
        {
          "output_type": "stream",
          "name": "stdout",
          "text": [
            "No hay registros duplicados\n"
          ]
        }
      ]
    },
    {
      "cell_type": "code",
      "source": [
        "class ColDropper(BaseEstimator, TransformerMixin):\n",
        "  def fit(self, X, y=None):\n",
        "        return self\n",
        "\n",
        "  def transform(self, X):\n",
        "    return X.drop(['Date'], axis=1)"
      ],
      "metadata": {
        "id": "HA-WhndQRbGR"
      },
      "execution_count": 5,
      "outputs": []
    },
    {
      "cell_type": "code",
      "source": [
        "class LocDropper(BaseEstimator, TransformerMixin):\n",
        "  def fit(self, X, y=None):\n",
        "        return self\n",
        "\n",
        "  def transform(self, X):\n",
        "    costa_este = [' Adelaide', 'Canberra', 'Cobar', 'Dartmoor', 'Melbourne', 'MelbourneAirport', 'MountGambier', 'Sydney', 'SydneyAirport' ]\n",
        "    X.loc[X['Location'].isin(costa_este), 'Location'] = 'costa_este'\n",
        "    return X[X['Location'] == 'costa_este']"
      ],
      "metadata": {
        "id": "v52ydAo4Rcs5"
      },
      "execution_count": 6,
      "outputs": []
    },
    {
      "cell_type": "code",
      "source": [
        "class CatFiller(BaseEstimator, TransformerMixin):\n",
        "    def fit(self, X, y=None):\n",
        "        return self\n",
        "\n",
        "    def transform(self, X):\n",
        "      X['WindGustDir'] = X.groupby('Location')['WindGustDir'].transform(lambda x: x.fillna(x.mode()[0]))\n",
        "      X['WindDir9am'] = X.groupby('Location')['WindDir9am'].transform(lambda x: x.fillna(x.mode()[0]))\n",
        "      X['WindDir3pm'] = X.groupby('Location')['WindDir3pm'].transform(lambda x: x.fillna(x.mode()[0]))\n",
        "\n",
        "      return X"
      ],
      "metadata": {
        "id": "XK27a7Z8Rs3q"
      },
      "execution_count": 7,
      "outputs": []
    },
    {
      "cell_type": "code",
      "source": [
        "class NumFiller(BaseEstimator, TransformerMixin):\n",
        "    def fit(self, X, y=None):\n",
        "        return self\n",
        "\n",
        "    def transform(self, X):\n",
        "      remanining_vnul_columns = X.columns[X.isna().any()].tolist()\n",
        "      for col in remanining_vnul_columns:\n",
        "        X[col] =  X[col].fillna(X[col].mean())\n",
        "\n",
        "      return X"
      ],
      "metadata": {
        "id": "qo_Efj6aRuTB"
      },
      "execution_count": 8,
      "outputs": []
    },
    {
      "cell_type": "code",
      "source": [
        "# https://www.mdpi.com/2078-2489/13/4/163 Como las variables de la dirección de los vientos pueden tener hasta 16 direcciones diferentes, para convertirlos a variables numéricas, se tiene encuenta una distribución circular. Por eso, cada una de las variables se dividió en dos: Una con el seno y otra con el coseno del angulo\n",
        "class CoordRecat(BaseEstimator, TransformerMixin):\n",
        "    def fit(self, X, y=None):\n",
        "        return self\n",
        "\n",
        "    def transform(self, X):\n",
        "        coord = {\n",
        "            'N': 0, 'NNE': 22.5, 'NE': 45, 'ENE': 67.5,\n",
        "            'E': 90, 'ESE': 112.5, 'SE': 135, 'SSE': 157.5,\n",
        "            'S': 180, 'SSW': 202.5, 'SW': 225, 'WSW': 247.5,\n",
        "            'W': 270, 'WNW': 292.5, 'NW': 315, 'NNW': 337.5,\n",
        "        }\n",
        "\n",
        "        # Aplicar la recategorización\n",
        "        for col in ['WindGustDir', 'WindDir9am', 'WindDir3pm']:\n",
        "            X[col] = X[col].map(coord)\n",
        "            X[f'{col}_rad'] = np.deg2rad(X[col])\n",
        "            X[f'{col}_sin'] = np.sin(X[f'{col}_rad']).round(5)\n",
        "            X[f'{col}_cos'] = np.cos(X[f'{col}_rad']).round(5)\n",
        "\n",
        "        # Eliminar columnas originales y columnas radianes\n",
        "        columns_to_drop = [f'{col}_rad' for col in ['WindGustDir', 'WindDir9am', 'WindDir3pm']] + ['WindGustDir', 'WindDir9am', 'WindDir3pm']\n",
        "        X = X.drop(columns=columns_to_drop, axis=1)\n",
        "\n",
        "        return X"
      ],
      "metadata": {
        "id": "lCKT_in9Rvva"
      },
      "execution_count": 9,
      "outputs": []
    },
    {
      "cell_type": "code",
      "source": [
        "class LocEncoder(BaseEstimator, TransformerMixin):\n",
        "    def fit(self, X, y=None):\n",
        "        return self\n",
        "\n",
        "    def transform(self, X):\n",
        "      dummies = pd.get_dummies(X['Location'], dtype=int)\n",
        "      X = pd.concat([X, dummies], axis=1)\n",
        "      X.drop('Location', axis=1, inplace=True)\n",
        "\n",
        "      return X"
      ],
      "metadata": {
        "id": "3II3MMRRR6ct"
      },
      "execution_count": 10,
      "outputs": []
    },
    {
      "cell_type": "code",
      "source": [
        "class ResetIndex(BaseEstimator, TransformerMixin):\n",
        "    def fit(self, X, y=None):\n",
        "        return self\n",
        "\n",
        "    def transform(self, X):\n",
        "        return X.reset_index(drop=True)"
      ],
      "metadata": {
        "id": "eK-KR-PkR712"
      },
      "execution_count": 11,
      "outputs": []
    },
    {
      "cell_type": "code",
      "source": [
        "class BoolYNDropperEncoder(BaseEstimator, TransformerMixin):\n",
        "    def fit(self, X, y=None):\n",
        "        return self\n",
        "\n",
        "    def transform(self, X):\n",
        "      X.dropna(subset=['RainToday'], inplace=True)\n",
        "      X['RainTomorrow'] = X['RainTomorrow'].map({'No': 0, 'Yes': 1}).astype(float)\n",
        "      X['RainToday'] = X['RainToday'].map({'No': 0, 'Yes': 1}).astype(float)\n",
        "\n",
        "      return X"
      ],
      "metadata": {
        "id": "QmNIkBK-auhF"
      },
      "execution_count": 12,
      "outputs": []
    },
    {
      "cell_type": "code",
      "source": [
        "class Standarizer(BaseEstimator, TransformerMixin):\n",
        "  def fit(self, X, y=None):\n",
        "      return self\n",
        "  def transform(self, X):\n",
        "    # Exclusión de variables booleanas y RainfallTmorrow porque no serán estandarizaradas\n",
        "    exc_c = ['RainToday', 'RainTomorrow']#, ,'Canberra','Cobar', 'Dartmoor', 'Melbourne', 'MelbourneAirport', 'MountGambier', 'Sydney', 'SydneyAirport']\n",
        "\n",
        "    # Estandarización\n",
        "    df_sub = X[[col for col in X.columns if col not in exc_c]]\n",
        "    scaler = StandardScaler()\n",
        "    X_scaled = scaler.fit_transform(df_sub)\n",
        "\n",
        "    X_scaled = pd.DataFrame(X_scaled, columns=df_sub.columns)\n",
        "    for col in exc_c:\n",
        "      X_scaled[f'{col}'] = X[col]\n",
        "\n",
        "    # Nuevo DataFrame estandarizado con los nombres de las columnas originales\n",
        "    return X_scaled"
      ],
      "metadata": {
        "id": "6ui758KyR_Ve"
      },
      "execution_count": 13,
      "outputs": []
    },
    {
      "cell_type": "code",
      "source": [
        "class OutliersTreater(BaseEstimator, TransformerMixin):\n",
        "  def fit(self, X, y=None):\n",
        "      return self\n",
        "  def transform(self, X):\n",
        "    cols_with_ouliers=['MinTemp', 'MaxTemp', 'Rainfall', 'Evaporation', 'Sunshine',\n",
        "       'WindGustSpeed', 'WindSpeed9am', 'WindSpeed3pm', 'Humidity9am',\n",
        "       'Humidity3pm', 'Pressure9am', 'Pressure3pm', 'Cloud9am', 'Cloud3pm',\n",
        "       'Temp9am', 'Temp3pm']\n",
        "\n",
        "    for col in cols_with_ouliers:\n",
        "      IQR=X[col].quantile(0.75)-X[col].quantile(0.25)\n",
        "      lower_bridge=X[col].quantile(0.25)-(IQR*1.5)\n",
        "      upper_bridge=X[col].quantile(0.75)+(IQR*1.5)\n",
        "\n",
        "      X.loc[X[col]>=round(upper_bridge,2),col]=round(upper_bridge,2)\n",
        "      X.loc[X[col]<=round(lower_bridge,2),col]=round(lower_bridge,2)\n",
        "\n",
        "    return X\n"
      ],
      "metadata": {
        "id": "3GFSSXooSA5-"
      },
      "execution_count": 14,
      "outputs": []
    },
    {
      "cell_type": "code",
      "source": [
        "class RLValDropper(BaseEstimator, TransformerMixin):\n",
        "  def fit (self, X, y=None):\n",
        "    return self\n",
        "  def transform(self, X):\n",
        "    X.dropna(subset=['RainToday', 'RainTomorrow'], inplace=True)\n",
        "    return X\n"
      ],
      "metadata": {
        "id": "JLJwNdI1SZ84"
      },
      "execution_count": 15,
      "outputs": []
    },
    {
      "cell_type": "code",
      "source": [
        "preprocessor = Pipeline([\n",
        "     ('drop_null_val_rl', RLValDropper()),\n",
        "     ('drop_not_needed_features', ColDropper()),\n",
        "     ('drop_nor_needed_locations',LocDropper()),\n",
        "     ('yes_no_dropper_encoder', BoolYNDropperEncoder()),\n",
        "     ('fill_null_cat', CatFiller()),\n",
        "     ('fill_num_cat', NumFiller()),\n",
        "     ('encode_loc', LocEncoder()),\n",
        "     ('encode_wind_dir', CoordRecat()),\n",
        "     ('reset_index',ResetIndex()),\n",
        "     ('treat_outliers',OutliersTreater()),\n",
        "     ('standariza_values', Standarizer())\n",
        "])\n"
      ],
      "metadata": {
        "id": "C9Tc_DLDSBdu"
      },
      "execution_count": 16,
      "outputs": []
    },
    {
      "cell_type": "markdown",
      "source": [
        "# Train-Test split"
      ],
      "metadata": {
        "id": "ADNv9no-XjKB"
      }
    },
    {
      "cell_type": "code",
      "source": [
        "# Separación de variables explicativas y variables objetivo\n",
        "X = df.drop(['RainTomorrow'], axis=1).copy()\n",
        "y = df[['RainTomorrow']].copy()\n",
        "\n",
        "# Spliteo mi dataset en train-test\n",
        "X_train, X_test, y_train, y_test = train_test_split(X, y, test_size=0.2, random_state=42)\n",
        "X_train.shape, X_test.shape, y_train.shape, y_test.shape"
      ],
      "metadata": {
        "colab": {
          "base_uri": "https://localhost:8080/"
        },
        "id": "PHPDfk24a1l8",
        "outputId": "335cf3e1-8270-4a22-e203-2d648397bbb7"
      },
      "execution_count": 17,
      "outputs": [
        {
          "output_type": "execute_result",
          "data": {
            "text/plain": [
              "((116329, 23), (29083, 23), (116329, 1), (29083, 1))"
            ]
          },
          "metadata": {},
          "execution_count": 17
        }
      ]
    },
    {
      "cell_type": "code",
      "source": [
        "# Creo un Dataframe de TRAIN\n",
        "df_train = pd.DataFrame(X_train, columns=X.columns)\n",
        "df_train['RainTomorrow'] = y['RainTomorrow']"
      ],
      "metadata": {
        "id": "HEJr3kpWZDXF"
      },
      "execution_count": 18,
      "outputs": []
    },
    {
      "cell_type": "code",
      "source": [
        "# Creo un Dataframe de TEST\n",
        "df_test = pd.DataFrame(X_test, columns=X.columns)\n",
        "df_test['RainTomorrow'] = y['RainTomorrow']"
      ],
      "metadata": {
        "id": "Tuw5wb6vcDpX"
      },
      "execution_count": 19,
      "outputs": []
    },
    {
      "cell_type": "code",
      "source": [
        "# Preproceso mi df de test y mi df de train\n",
        "df_train = preprocessor.fit_transform(df_train)\n",
        "df_test = preprocessor.fit_transform(df_test)"
      ],
      "metadata": {
        "id": "YBHbJ0QRUy3L"
      },
      "execution_count": 20,
      "outputs": []
    },
    {
      "cell_type": "markdown",
      "source": [
        "# Balanceo de datos"
      ],
      "metadata": {
        "id": "f8RjK4Y7ZLxV"
      }
    },
    {
      "cell_type": "code",
      "source": [
        "# Modulos para el balanceo\n",
        "from imblearn.over_sampling import SMOTE\n",
        "from imblearn.combine import SMOTETomek\n",
        "from imblearn.over_sampling import RandomOverSampler\n",
        "from imblearn.under_sampling import RandomUnderSampler"
      ],
      "metadata": {
        "id": "sUBq_ZbIKGwP"
      },
      "execution_count": 21,
      "outputs": []
    },
    {
      "cell_type": "code",
      "source": [
        "def plot_balance(df):\n",
        "  ### Balance de datos:\n",
        "  rain_classes = pd.value_counts(df['RainTomorrow'], sort = True)\n",
        "  rain_classes.plot(kind = 'bar', rot=0)\n",
        "  plt.xticks(range(2))\n",
        "  plt.title(\"Frecuencia\")\n",
        "  plt.xlabel(\"RainTomorrow\")\n",
        "  plt.ylabel(\"Cantidad\")\n",
        "  X_train_resampled=df.drop(['RainTomorrow'], axis=1)\n",
        "  y_train_resampled=df['RainTomorrow']\n",
        "  print(X_train_resampled.shape, y_train_resampled.shape)\n",
        "  plt.show()\n"
      ],
      "metadata": {
        "id": "4wRvDDhhL5Z5"
      },
      "execution_count": 22,
      "outputs": []
    },
    {
      "cell_type": "code",
      "source": [
        "# Helper function for plotting ROC -- > https://towardsdatascience.com/class-imbalance-strategies-a-visual-guide-with-code-8bc8fae71e1a\n",
        "def plot_roc(ax, X_train, y_train, X_test, y_test, title):\n",
        "    model = LogisticRegression(random_state=42)\n",
        "    model.fit(X_train, y_train)\n",
        "    y_test_pred = model.predict_proba(X_test)[:,1]\n",
        "    fpr, tpr, thresh = metrics.roc_curve(y_test, y_test_pred)\n",
        "    auc = metrics.roc_auc_score(y_test, y_test_pred)\n",
        "    ax.plot(fpr,tpr,label=f\"{title} AUC={auc:.3f}\")\n",
        "    ax.plot([0, 1], [0, 1], color='navy', lw=2, linestyle='--')\n",
        "\n",
        "    ax.set_title('ROC Curve')\n",
        "    ax.set_xlabel('False Positive Rate')\n",
        "    ax.set_ylabel('True Positive Rate')\n",
        "    ax.legend(loc=0)"
      ],
      "metadata": {
        "id": "EQ-8KxzaPrNf"
      },
      "execution_count": 23,
      "outputs": []
    },
    {
      "cell_type": "markdown",
      "source": [
        "Una vez hecho el split entre train y test, verificamos que el dataset esté balanceado."
      ],
      "metadata": {
        "id": "3AayHwlHZO2l"
      }
    },
    {
      "cell_type": "code",
      "source": [
        "plot_balance(df)"
      ],
      "metadata": {
        "colab": {
          "base_uri": "https://localhost:8080/",
          "height": 490
        },
        "id": "HB1vYVW5ZZQt",
        "outputId": "e37f9bc8-59da-4836-caf2-7c295ac7973f"
      },
      "execution_count": 24,
      "outputs": [
        {
          "output_type": "stream",
          "name": "stdout",
          "text": [
            "(145412, 23) (145412,)\n"
          ]
        },
        {
          "output_type": "display_data",
          "data": {
            "text/plain": [
              "<Figure size 640x480 with 1 Axes>"
            ],
            "image/png": "[encoded data removed]"
          },
          "metadata": {}
        }
      ]
    },
    {
      "cell_type": "markdown",
      "source": [
        "En el gráfico de arriba se puede ver como en el dataframe original la cantidad de muestras para los dias de lluvia son mucho menor que la de los días que no llovieron."
      ],
      "metadata": {
        "id": "3zVJvQc4ZkpF"
      }
    },
    {
      "cell_type": "code",
      "source": [
        "plot_balance(df_train)"
      ],
      "metadata": {
        "id": "NUoeFQIpNkc2",
        "outputId": "aca803e1-ca9f-482f-9568-0eba5ab12696",
        "colab": {
          "base_uri": "https://localhost:8080/",
          "height": 490
        }
      },
      "execution_count": 25,
      "outputs": [
        {
          "output_type": "stream",
          "name": "stdout",
          "text": [
            "(19226, 25) (19226,)\n"
          ]
        },
        {
          "output_type": "display_data",
          "data": {
            "text/plain": [
              "<Figure size 640x480 with 1 Axes>"
            ],
            "image/png": "[encoded data removed]"
          },
          "metadata": {}
        }
      ]
    },
    {
      "cell_type": "markdown",
      "source": [
        "De las 10000 muestras en el dataset original con datos de toda Australia, quedaron alrededor de 19000 pertenecientes a la costa este australiana."
      ],
      "metadata": {
        "id": "YGcyehkQNjyX"
      }
    },
    {
      "cell_type": "markdown",
      "source": [
        "Comparamos con AUC que técnica de balanceo de datos es mejor para la regresión logística"
      ],
      "metadata": {
        "id": "Je9q1iOo7qq_"
      }
    },
    {
      "cell_type": "code",
      "source": [
        "# Separación de variables explicativas y variables objetivo\n",
        "X_train_balance = df_train.drop(['RainTomorrow'], axis=1).copy()\n",
        "y_train_balance = df_train['RainTomorrow'].copy()\n",
        "\n",
        "X_test_balance = df_test.drop(['RainTomorrow'], axis=1).copy()\n",
        "y_test_balance = df_test['RainTomorrow'].copy()"
      ],
      "metadata": {
        "id": "u0pXUbFoI0s5"
      },
      "execution_count": 26,
      "outputs": []
    },
    {
      "cell_type": "code",
      "source": [
        "X_train_balance.columns"
      ],
      "metadata": {
        "id": "BV8al2wSbNld",
        "outputId": "168d6434-5ab7-492f-de31-1c4dc8052f6b",
        "colab": {
          "base_uri": "https://localhost:8080/"
        }
      },
      "execution_count": 27,
      "outputs": [
        {
          "output_type": "execute_result",
          "data": {
            "text/plain": [
              "Index(['MinTemp', 'MaxTemp', 'Rainfall', 'Evaporation', 'Sunshine',\n",
              "       'WindGustSpeed', 'WindSpeed9am', 'WindSpeed3pm', 'Humidity9am',\n",
              "       'Humidity3pm', 'Pressure9am', 'Pressure3pm', 'Cloud9am', 'Cloud3pm',\n",
              "       'Temp9am', 'Temp3pm', 'RainfallTomorrow', 'costa_este',\n",
              "       'WindGustDir_sin', 'WindGustDir_cos', 'WindDir9am_sin',\n",
              "       'WindDir9am_cos', 'WindDir3pm_sin', 'WindDir3pm_cos', 'RainToday'],\n",
              "      dtype='object')"
            ]
          },
          "metadata": {},
          "execution_count": 27
        }
      ]
    },
    {
      "cell_type": "code",
      "source": [
        "fig,ax = plt.subplots(1,1,figsize=(8,5))\n",
        "plot_roc(ax, X_train_balance, y_train_balance, X_test_balance, y_test_balance, 'Dataset de train sin balanceo y fuga de datos')"
      ],
      "metadata": {
        "id": "KtpO7yO3ZueZ",
        "outputId": "f35c2635-79b1-4938-a334-ebf97c9b539f",
        "colab": {
          "base_uri": "https://localhost:8080/",
          "height": 487
        }
      },
      "execution_count": 49,
      "outputs": [
        {
          "output_type": "display_data",
          "data": {
            "text/plain": [
              "<Figure size 800x500 with 1 Axes>"
            ],
            "image/png": "[encoded data removed]"
          },
          "metadata": {}
        }
      ]
    },
    {
      "cell_type": "markdown",
      "source": [
        "Se puede ver como el modelo ajusta perfectamente cuando se usa el dataset completo incluso sin balancear. La razón de esto es que el modelo tiene fuga de datos porque en el Dataset existe 'RainfallTomorrow'. Por eso para elegir el mejor método de balanceo de datos para la regresión logística vamos a droppear de nuestro Dataset ya balanceado a 'RainfallTomorrow'."
      ],
      "metadata": {
        "id": "ahWnFC5hbqSS"
      }
    },
    {
      "cell_type": "markdown",
      "source": [
        "#### - Balanceo con Oversampling"
      ],
      "metadata": {
        "id": "ORXQTu8u83kf"
      }
    },
    {
      "cell_type": "code",
      "source": [
        "ros = RandomOverSampler(random_state=0)\n",
        "X_train_ros, y_train_ros = ros.fit_resample(X_train_balance, y_train_balance)"
      ],
      "metadata": {
        "id": "7L3jI5kgKDXd"
      },
      "execution_count": 29,
      "outputs": []
    },
    {
      "cell_type": "code",
      "source": [
        "df_ros = pd.DataFrame(X_train_ros, columns=X_train_balance.columns)\n",
        "df_ros['RainTomorrow'] = y_train_ros"
      ],
      "metadata": {
        "id": "5OKAWPUiWmqS"
      },
      "execution_count": 30,
      "outputs": []
    },
    {
      "cell_type": "code",
      "source": [
        "plot_balance(df_ros)"
      ],
      "metadata": {
        "id": "6Cn8_IQwMIxN",
        "outputId": "23312cf3-fd11-44a3-c32a-1eff05f8ec5e",
        "colab": {
          "base_uri": "https://localhost:8080/",
          "height": 490
        }
      },
      "execution_count": 31,
      "outputs": [
        {
          "output_type": "stream",
          "name": "stdout",
          "text": [
            "(29328, 25) (29328,)\n"
          ]
        },
        {
          "output_type": "display_data",
          "data": {
            "text/plain": [
              "<Figure size 640x480 with 1 Axes>"
            ],
            "image/png": "[encoded data removed]"
          },
          "metadata": {}
        }
      ]
    },
    {
      "cell_type": "markdown",
      "source": [
        "Con el sobremuestreo, la clase minoritaria ahora tiene igual cantidad de muestras que la clase mayoritaria. Teniendo como resultado un data frame de testeo de 29000 muestras"
      ],
      "metadata": {
        "id": "dGZfz9yCOMAY"
      }
    },
    {
      "cell_type": "markdown",
      "source": [],
      "metadata": {
        "id": "NsAvXsMvZcGW"
      }
    },
    {
      "cell_type": "markdown",
      "source": [
        "#### - Balanceo con Undersampling"
      ],
      "metadata": {
        "id": "bbFw-BKg8KpB"
      }
    },
    {
      "cell_type": "code",
      "source": [
        "rus = RandomUnderSampler(random_state=0)\n",
        "X_train_rus, y_train_rus = rus.fit_resample(X_train_balance, y_train_balance)"
      ],
      "metadata": {
        "id": "0YkdP-tEKa9l"
      },
      "execution_count": 32,
      "outputs": []
    },
    {
      "cell_type": "code",
      "source": [
        "df_rus = pd.DataFrame(X_train_rus, columns=X_train_balance.columns)\n",
        "df_rus['RainTomorrow'] = y_train_rus"
      ],
      "metadata": {
        "id": "zwE4D1IhWyag"
      },
      "execution_count": 33,
      "outputs": []
    },
    {
      "cell_type": "code",
      "source": [
        "plot_balance(df_rus)"
      ],
      "metadata": {
        "id": "Z0gEty57Myl5",
        "outputId": "17a4dceb-1c62-4201-8c95-0856ee8d4fc4",
        "colab": {
          "base_uri": "https://localhost:8080/",
          "height": 490
        }
      },
      "execution_count": 34,
      "outputs": [
        {
          "output_type": "stream",
          "name": "stdout",
          "text": [
            "(9124, 25) (9124,)\n"
          ]
        },
        {
          "output_type": "display_data",
          "data": {
            "text/plain": [
              "<Figure size 640x480 with 1 Axes>"
            ],
            "image/png": "[encoded data removed]"
          },
          "metadata": {}
        }
      ]
    },
    {
      "cell_type": "markdown",
      "source": [
        "Con el submuestreo, la clase mayoritaria ahora tiene igual cantidad de muestras que la clase minoritaria. Teniendo como resultado un data frame de testeo de alrededor de 8000 muestras"
      ],
      "metadata": {
        "id": "rODvEEhvOhAU"
      }
    },
    {
      "cell_type": "markdown",
      "source": [
        "#### - Balanceo con SMOTE\n"
      ],
      "metadata": {
        "id": "N3TZUnRe8PKW"
      }
    },
    {
      "cell_type": "code",
      "source": [
        "smote = SMOTE(random_state=0)\n",
        "X_train_smote, y_train_smote = smote.fit_resample(X_train_balance, y_train_balance)"
      ],
      "metadata": {
        "id": "bOv4kMYSKqMQ"
      },
      "execution_count": 35,
      "outputs": []
    },
    {
      "cell_type": "code",
      "source": [
        "df_SMOTE = pd.DataFrame(X_train_smote, columns=X_train_balance.columns)\n",
        "df_SMOTE['RainTomorrow'] = y_train_smote"
      ],
      "metadata": {
        "id": "gRVEaoabW8pF"
      },
      "execution_count": 36,
      "outputs": []
    },
    {
      "cell_type": "code",
      "source": [
        "plot_balance(df_SMOTE)"
      ],
      "metadata": {
        "id": "CUPehDMGM6Dz",
        "outputId": "ad798cfc-a51d-4bb0-a00c-c216a7e05338",
        "colab": {
          "base_uri": "https://localhost:8080/",
          "height": 490
        }
      },
      "execution_count": 37,
      "outputs": [
        {
          "output_type": "stream",
          "name": "stdout",
          "text": [
            "(29328, 25) (29328,)\n"
          ]
        },
        {
          "output_type": "display_data",
          "data": {
            "text/plain": [
              "<Figure size 640x480 with 1 Axes>"
            ],
            "image/png": "[encoded data removed]"
          },
          "metadata": {}
        }
      ]
    },
    {
      "cell_type": "markdown",
      "source": [
        "#### - Balanceo con SMOTE(oversampling)-TOMEK(undersampling)"
      ],
      "metadata": {
        "id": "siL6tyJX8TXj"
      }
    },
    {
      "cell_type": "code",
      "source": [
        "smotetomek = SMOTETomek(random_state=0)\n",
        "X_train_smotetomek, y_train_smotetomek = smotetomek.fit_resample(X_train_balance, y_train_balance)"
      ],
      "metadata": {
        "id": "61taJCyNKzSg"
      },
      "execution_count": 50,
      "outputs": []
    },
    {
      "cell_type": "code",
      "source": [
        "df_smotetomek = pd.DataFrame(X_train_smotetomek, columns=X_train_balance.columns)\n",
        "df_smotetomek['RainTomorrow'] = y_train_smotetomek"
      ],
      "metadata": {
        "id": "ZUzC2B9ZXFdd"
      },
      "execution_count": 39,
      "outputs": []
    },
    {
      "cell_type": "code",
      "source": [
        "plot_balance(df_smotetomek)"
      ],
      "metadata": {
        "id": "OxDsuJGnM-AQ",
        "outputId": "64255840-0e5f-46c3-e10d-9f12acdb0cba",
        "colab": {
          "base_uri": "https://localhost:8080/",
          "height": 490
        }
      },
      "execution_count": 40,
      "outputs": [
        {
          "output_type": "stream",
          "name": "stdout",
          "text": [
            "(29236, 25) (29236,)\n"
          ]
        },
        {
          "output_type": "display_data",
          "data": {
            "text/plain": [
              "<Figure size 640x480 with 1 Axes>"
            ],
            "image/png": "[encoded data removed]"
          },
          "metadata": {}
        }
      ]
    },
    {
      "cell_type": "code",
      "source": [
        "# Plot all ROC into one graph , y_train_balance\n",
        "fig,ax = plt.subplots(1,1,figsize=(8,5))\n",
        "plot_roc(ax, X_train_balance, y_train_balance, X_test_balance, y_test_balance, 'Dataset de train sin balanceo, con fuga')\n",
        "plot_roc(ax, X_train_smote, y_train_smote, X_test_balance, y_test_balance, 'SMOTE Dataset con fuga')\n",
        "\n",
        "fig,ax1 = plt.subplots(1,1,figsize=(8,5))\n",
        "plot_roc(ax1, X_train_ros.drop(['RainfallTomorrow'], axis=1), y_train_ros, X_test_balance.drop(['RainfallTomorrow'], axis=1), y_test_balance, 'Random Sobresampleo')\n",
        "plot_roc(ax1, X_train_rus.drop(['RainfallTomorrow'], axis=1), y_train_rus, X_test_balance.drop(['RainfallTomorrow'], axis=1), y_test_balance, 'Random Subsampleo')\n",
        "plot_roc(ax1, X_train_smote.drop(['RainfallTomorrow'], axis=1), y_train_smote, X_test_balance.drop(['RainfallTomorrow'], axis=1), y_test_balance, 'SMOTE Dataset')\n",
        "plot_roc(ax1, X_train_smotetomek.drop(['RainfallTomorrow'], axis=1), y_train_smotetomek, X_test_balance.drop(['RainfallTomorrow'], axis=1), y_test_balance, 'SMOTE-TOMEK Dataset')"
      ],
      "metadata": {
        "id": "5Mv5EOSwQgWq"
      },
      "execution_count": null,
      "outputs": []
    },
    {
      "cell_type": "markdown",
      "source": [
        "Un dataset no balanceado pero con fuga de datos hace overfitting, al igual que un dataset balanceado (en el gráfico optamos por SMOTE) con fuga."
      ],
      "metadata": {
        "id": "eVDa4sYXfJL9"
      }
    },
    {
      "cell_type": "markdown",
      "source": [
        "Podemos concluir que para este modelo (regresión logística) teniendo en cuenta todas las features, las diferentes técnicas de resampleo tienen valores muy parecidos y cercanos a uno lo que siginifica que el TPR (ratio de verdaderos positivos) es mas alto que el FPR (ratio de falsos positivos, es decir, dias de no lluvia como lluvia)  "
      ],
      "metadata": {
        "id": "HWtIbUKUj6g8"
      }
    },
    {
      "cell_type": "markdown",
      "source": [
        "# Evaluación\n"
      ],
      "metadata": {
        "id": "7caE53qoVCHJ"
      }
    },
    {
      "cell_type": "code",
      "source": [
        "def plot_matrix_confusion(y_test, y_pred):\n",
        "  # Calcular la matriz de confusión\n",
        "  confusion_mat = confusion_matrix(y_test, y_pred)\n",
        "\n",
        "  # Crear una figura y un eje para la matriz de confusión\n",
        "  plt.figure(figsize=(4, 3))\n",
        "  sns.heatmap(confusion_mat, annot=True, fmt=\"d\", cmap=\"Blues\", linewidths=0.1, linecolor='blue', cbar=True)\n",
        "\n",
        "  # Añadir etiquetas a los ejes y al gráfico\n",
        "  plt.xlabel('Predicción')\n",
        "  plt.ylabel('Verdaderos')\n",
        "  plt.title('Matriz de Confusión')\n",
        "  plt.xticks(np.arange(2) + 0.5, ['No', 'Sí'])\n",
        "  plt.yticks(np.arange(2) + 0.5, ['No', 'Sí'])\n",
        "  plt.show()"
      ],
      "metadata": {
        "id": "H4M3-W4dYCtP"
      },
      "execution_count": 42,
      "outputs": []
    },
    {
      "cell_type": "code",
      "source": [
        "def train_test_with_balanced_df(df_train, df_test, model):\n",
        "  X_train = df_train.drop(['RainTomorrow', 'RainfallTomorrow'], axis=1).copy()\n",
        "  y_train = df_train['RainTomorrow'].copy()\n",
        "\n",
        "  X_test = df_test.drop(['RainTomorrow', 'RainfallTomorrow'], axis=1).copy()\n",
        "  y_test = df_test['RainTomorrow'].copy()\n",
        "\n",
        "  my_model = model(random_state=42)\n",
        "  my_model.fit(X_train, y_train)\n",
        "  y_pred = my_model.predict(X_test)\n",
        "\n",
        "  print(f\"Resultados con: {model.__name__}\\n\")\n",
        "  print(classification_report(y_test, y_pred))\n",
        "  print(confusion_matrix(y_test, y_pred))\n",
        "\n",
        "  print(f\"\\n\\nMatriz de confusión para: {model.__name__}\")\n",
        "  plot_matrix_confusion(y_test, y_pred)\n",
        "\n",
        "  print(f\"\\n\\nPuntaje para training vs test\")\n",
        "  print(f\"Training: {my_model.score(X_train, y_train)}\")\n",
        "  print(f\"Test: {my_model.score(X_test, y_test)}\")\n"
      ],
      "metadata": {
        "id": "qT1bmxnomWq9"
      },
      "execution_count": 66,
      "outputs": []
    },
    {
      "cell_type": "code",
      "source": [
        "train_test_with_balanced_df(df_ros, df_test, LogisticRegression)"
      ],
      "metadata": {
        "id": "QKcmi2vMngUe",
        "outputId": "1d805f35-22c3-489b-db09-74b65b5c5376",
        "colab": {
          "base_uri": "https://localhost:8080/",
          "height": 717
        }
      },
      "execution_count": 61,
      "outputs": [
        {
          "output_type": "stream",
          "name": "stdout",
          "text": [
            "Resultados con: LogisticRegression\n",
            "\n",
            "              precision    recall  f1-score   support\n",
            "\n",
            "         0.0       0.92      0.79      0.85      3651\n",
            "         1.0       0.53      0.77      0.62      1098\n",
            "\n",
            "    accuracy                           0.79      4749\n",
            "   macro avg       0.72      0.78      0.74      4749\n",
            "weighted avg       0.83      0.79      0.80      4749\n",
            "\n",
            "[[2893  758]\n",
            " [ 256  842]]\n",
            "\n",
            "\n",
            "Matriz de confusión para: LogisticRegression\n"
          ]
        },
        {
          "output_type": "display_data",
          "data": {
            "text/plain": [
              "<Figure size 400x300 with 2 Axes>"
            ],
            "image/png": "[encoded data removed]"
          },
          "metadata": {}
        },
        {
          "output_type": "stream",
          "name": "stdout",
          "text": [
            "\n",
            "\n",
            "Puntaje para training vs test\n",
            "Training: 0.7881546644844517\n",
            "Test: 0.786481364497789\n"
          ]
        }
      ]
    },
    {
      "cell_type": "markdown",
      "source": [
        "Hay overfitting porque mi modelo funciona un poco mejor para mi conjunto de train"
      ],
      "metadata": {
        "id": "HB0Oi0GJcprC"
      }
    },
    {
      "cell_type": "markdown",
      "source": [
        "# Testeo"
      ],
      "metadata": {
        "id": "1xYeDS63VEb1"
      }
    }
  ]
}