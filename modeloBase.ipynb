{
 "cells": [
  {
   "cell_type": "code",
   "execution_count": null,
   "metadata": {},
   "outputs": [],
   "source": [
    "import pandas as pd\n",
    "import numpy as np\n",
    "import seaborn as sns\n",
    "import matplotlib.pyplot as plt\n",
    "import statsmodels.api as sm\n",
    "\n",
    "# De scikit-learn...\n",
    "\n",
    "# Pipeline\n",
    "from sklearn.base import BaseEstimator, TransformerMixin\n",
    "from sklearn.preprocessing import LabelEncoder\n",
    "from sklearn.preprocessing import PowerTransformer\n",
    "\n",
    "# Estandarización y modelado\n",
    "from sklearn.pipeline import make_pipeline\n",
    "from sklearn.preprocessing import StandardScaler\n",
    "from sklearn.metrics import mean_squared_error\n",
    "from sklearn import metrics\n",
    "\n",
    "from sklearn.pipeline import Pipeline\n",
    "from sklearn.compose import ColumnTransformer\n",
    "from sklearn.impute import SimpleImputer\n",
    "from sklearn.preprocessing import OneHotEncoder\n",
    "\n",
    "from sklearn.compose import make_column_selector\n",
    "# Division de los datos\n",
    "from sklearn.model_selection import train_test_split\n",
    "\n",
    "# Normalización\n",
    "from sklearn.preprocessing import MinMaxScaler\n",
    "\n",
    "# Regresiones\n",
    "from sklearn.linear_model import LinearRegression, SGDRegressor, Ridge, Lasso, ElasticNet, RidgeCV, ElasticNetCV, LassoCV, LogisticRegression\n",
    "\n",
    "# ML metricas\n",
    "from sklearn.metrics import mean_squared_error, r2_score\n",
    "from sklearn.metrics import classification_report, confusion_matrix"
   ]
  },
  {
   "cell_type": "code",
   "execution_count": null,
   "metadata": {},
   "outputs": [],
   "source": [
    "path= './weatherAUS.csv'\n",
    "df = pd.read_csv(path, usecols=range(1,25))\n",
    "df.head()"
   ]
  },
  {
   "cell_type": "code",
   "execution_count": null,
   "metadata": {},
   "outputs": [],
   "source": [
    "### Busco duplicados\n",
    "if not df.duplicated().any():\n",
    "  print('No hay registros duplicados')"
   ]
  },
  {
   "cell_type": "code",
   "execution_count": null,
   "metadata": {},
   "outputs": [],
   "source": [
    "class ColDropper(BaseEstimator, TransformerMixin):\n",
    "  def fit(self, X, y=None):\n",
    "        return self\n",
    "\n",
    "  def transform(self, X):\n",
    "    return X.drop(['Date'], axis=1)"
   ]
  },
  {
   "cell_type": "code",
   "execution_count": null,
   "metadata": {},
   "outputs": [],
   "source": [
    "class LocDropper(BaseEstimator, TransformerMixin):\n",
    "  def fit(self, X, y=None):\n",
    "        return self\n",
    "\n",
    "  def transform(self, X):\n",
    "    costa_este = [' Adelaide', 'Canberra', 'Cobar', 'Dartmoor', 'Melbourne', 'MelbourneAirport', 'MountGambier', 'Sydney', 'SydneyAirport' ]\n",
    "    X.loc[X['Location'].isin(costa_este), 'Location'] = 'costa_este'\n",
    "    return X[X['Location'] == 'costa_este']"
   ]
  },
  {
   "cell_type": "code",
   "execution_count": null,
   "metadata": {},
   "outputs": [],
   "source": [
    "class CatFiller(BaseEstimator, TransformerMixin):\n",
    "    def fit(self, X, y=None):\n",
    "        return self\n",
    "\n",
    "    def transform(self, X):\n",
    "      X['WindGustDir'] = X.groupby('Location')['WindGustDir'].transform(lambda x: x.fillna(x.mode()[0]))\n",
    "      X['WindDir9am'] = X.groupby('Location')['WindDir9am'].transform(lambda x: x.fillna(x.mode()[0]))\n",
    "      X['WindDir3pm'] = X.groupby('Location')['WindDir3pm'].transform(lambda x: x.fillna(x.mode()[0]))\n",
    "\n",
    "      return X"
   ]
  },
  {
   "cell_type": "code",
   "execution_count": null,
   "metadata": {},
   "outputs": [],
   "source": [
    "class NumFiller(BaseEstimator, TransformerMixin):\n",
    "    def fit(self, X, y=None):\n",
    "        return self\n",
    "\n",
    "    def transform(self, X):\n",
    "      remanining_vnul_columns = X.columns[X.isna().any()].tolist()\n",
    "      for col in remanining_vnul_columns:\n",
    "        X[col] =  X[col].fillna(X[col].mean())\n",
    "\n",
    "      return X"
   ]
  },
  {
   "cell_type": "code",
   "execution_count": null,
   "metadata": {},
   "outputs": [],
   "source": [
    "# https://www.mdpi.com/2078-2489/13/4/163 Como las variables de la dirección de los vientos pueden tener hasta 16 direcciones diferentes, para convertirlos a variables numéricas, se tiene encuenta una distribución circular. Por eso, cada una de las variables se dividió en dos: Una con el seno y otra con el coseno del angulo\n",
    "class CoordRecat(BaseEstimator, TransformerMixin):\n",
    "    def fit(self, X, y=None):\n",
    "        return self\n",
    "\n",
    "    def transform(self, X):\n",
    "        coord = {\n",
    "            'N': 0, 'NNE': 22.5, 'NE': 45, 'ENE': 67.5,\n",
    "            'E': 90, 'ESE': 112.5, 'SE': 135, 'SSE': 157.5,\n",
    "            'S': 180, 'SSW': 202.5, 'SW': 225, 'WSW': 247.5,\n",
    "            'W': 270, 'WNW': 292.5, 'NW': 315, 'NNW': 337.5,\n",
    "        }\n",
    "\n",
    "        # Aplicar la recategorización\n",
    "        for col in ['WindGustDir', 'WindDir9am', 'WindDir3pm']:\n",
    "            X[col] = X[col].map(coord)\n",
    "            X[f'{col}_rad'] = np.deg2rad(X[col])\n",
    "            X[f'{col}_sin'] = np.sin(X[f'{col}_rad']).round(5)\n",
    "            X[f'{col}_cos'] = np.cos(X[f'{col}_rad']).round(5)\n",
    "\n",
    "        # Eliminar columnas originales y columnas radianes\n",
    "        columns_to_drop = [f'{col}_rad' for col in ['WindGustDir', 'WindDir9am', 'WindDir3pm']] + ['WindGustDir', 'WindDir9am', 'WindDir3pm']\n",
    "        X = X.drop(columns=columns_to_drop, axis=1)\n",
    "\n",
    "        return X"
   ]
  },
  {
   "cell_type": "code",
   "execution_count": null,
   "metadata": {},
   "outputs": [],
   "source": [
    "class LocEncoder(BaseEstimator, TransformerMixin):\n",
    "    def fit(self, X, y=None):\n",
    "        return self\n",
    "\n",
    "    def transform(self, X):\n",
    "      dummies = pd.get_dummies(X['Location'], dtype=int)\n",
    "      X = pd.concat([X, dummies], axis=1)\n",
    "      X.drop('Location', axis=1, inplace=True)\n",
    "\n",
    "      return X"
   ]
  },
  {
   "cell_type": "code",
   "execution_count": null,
   "metadata": {},
   "outputs": [],
   "source": [
    "class ResetIndex(BaseEstimator, TransformerMixin):\n",
    "    def fit(self, X, y=None):\n",
    "        return self\n",
    "\n",
    "    def transform(self, X):\n",
    "        return X.reset_index(drop=True)"
   ]
  },
  {
   "cell_type": "code",
   "execution_count": null,
   "metadata": {},
   "outputs": [],
   "source": [
    "class BoolYNDropperEncoder(BaseEstimator, TransformerMixin):\n",
    "    def fit(self, X, y=None):\n",
    "        return self\n",
    "\n",
    "    def transform(self, X):\n",
    "      X.dropna(subset=['RainToday'], inplace=True)\n",
    "      X['RainTomorrow'] = X['RainTomorrow'].map({'No': 0, 'Yes': 1}).astype(float)\n",
    "      X['RainToday'] = X['RainToday'].map({'No': 0, 'Yes': 1}).astype(float)\n",
    "\n",
    "      return X"
   ]
  },
  {
   "cell_type": "code",
   "execution_count": null,
   "metadata": {},
   "outputs": [],
   "source": [
    "class Standarizer(BaseEstimator, TransformerMixin):\n",
    "  def fit(self, X, y=None):\n",
    "      return self\n",
    "  def transform(self, X):\n",
    "    # Exclusión de variables booleanas y RainfallTmorrow porque no serán estandarizaradas\n",
    "    exc_c = ['RainToday', 'RainTomorrow']#, ,'Canberra','Cobar', 'Dartmoor', 'Melbourne', 'MelbourneAirport', 'MountGambier', 'Sydney', 'SydneyAirport']\n",
    "\n",
    "    # Estandarización\n",
    "    df_sub = X[[col for col in X.columns if col not in exc_c]]\n",
    "    scaler = StandardScaler()\n",
    "    X_scaled = scaler.fit_transform(df_sub)\n",
    "\n",
    "    X_scaled = pd.DataFrame(X_scaled, columns=df_sub.columns)\n",
    "    for col in exc_c:\n",
    "      X_scaled[f'{col}'] = X[col]\n",
    "\n",
    "    # Nuevo DataFrame estandarizado con los nombres de las columnas originales\n",
    "    return X_scaled"
   ]
  },
  {
   "cell_type": "code",
   "execution_count": null,
   "metadata": {},
   "outputs": [],
   "source": [
    "class OutliersTreater(BaseEstimator, TransformerMixin):\n",
    "  def fit(self, X, y=None):\n",
    "      return self\n",
    "  def transform(self, X):\n",
    "    cols_with_ouliers=['MinTemp', 'MaxTemp', 'Rainfall', 'Evaporation', 'Sunshine',\n",
    "       'WindGustSpeed', 'WindSpeed9am', 'WindSpeed3pm', 'Humidity9am',\n",
    "       'Humidity3pm', 'Pressure9am', 'Pressure3pm', 'Cloud9am', 'Cloud3pm',\n",
    "       'Temp9am', 'Temp3pm']\n",
    "\n",
    "    for col in cols_with_ouliers:\n",
    "      IQR=X[col].quantile(0.75)-X[col].quantile(0.25)\n",
    "      lower_bridge=X[col].quantile(0.25)-(IQR*1.5)\n",
    "      upper_bridge=X[col].quantile(0.75)+(IQR*1.5)\n",
    "\n",
    "      X.loc[X[col]>=round(upper_bridge,2),col]=round(upper_bridge,2)\n",
    "      X.loc[X[col]<=round(lower_bridge,2),col]=round(lower_bridge,2)\n",
    "\n",
    "    return X\n"
   ]
  },
  {
   "cell_type": "code",
   "execution_count": null,
   "metadata": {},
   "outputs": [],
   "source": [
    "class RLValDropper(BaseEstimator, TransformerMixin):\n",
    "  def fit (self, X, y=None):\n",
    "    return self\n",
    "  def transform(self, X):\n",
    "    X.dropna(subset=['RainToday', 'RainTomorrow'], inplace=True)\n",
    "    return X\n"
   ]
  },
  {
   "cell_type": "code",
   "execution_count": null,
   "metadata": {},
   "outputs": [],
   "source": [
    "preprocessor = Pipeline([\n",
    "     ('drop_null_val_rl', RLValDropper()),\n",
    "     ('drop_not_needed_features', ColDropper()),\n",
    "     ('drop_nor_needed_locations',LocDropper()),\n",
    "     ('yes_no_dropper_encoder', BoolYNDropperEncoder()),\n",
    "     ('fill_null_cat', CatFiller()),\n",
    "     ('fill_num_cat', NumFiller()),\n",
    "     ('encode_loc', LocEncoder()),\n",
    "     ('encode_wind_dir', CoordRecat()),\n",
    "     ('reset_index',ResetIndex()),\n",
    "     ('treat_outliers',OutliersTreater()),\n",
    "     ('standariza_values', Standarizer())\n",
    "])\n"
   ]
  },
  {
   "cell_type": "markdown",
   "metadata": {},
   "source": [
    "# Train-Test split"
   ]
  },
  {
   "cell_type": "code",
   "execution_count": null,
   "metadata": {},
   "outputs": [],
   "source": [
    "# Separación de variables explicativas y variables objetivo\n",
    "X = df.drop(['RainTomorrow', 'RainfallTomorrow'], axis=1).copy()\n",
    "y = df[['RainTomorrow']].copy()\n",
    "\n",
    "# Spliteo mi dataset en train-test\n",
    "X_train, X_test, y_train, y_test = train_test_split(X, y, test_size=0.2, random_state=42)\n",
    "X_train.shape, X_test.shape, y_train.shape, y_test.shape"
   ]
  },
  {
   "cell_type": "code",
   "execution_count": null,
   "metadata": {},
   "outputs": [],
   "source": [
    "# Creo un Dataframe de TRAIN\n",
    "df_train = pd.DataFrame(X_train, columns=X.columns)\n",
    "df_train['RainTomorrow'] = y['RainTomorrow']"
   ]
  },
  {
   "cell_type": "code",
   "execution_count": null,
   "metadata": {},
   "outputs": [],
   "source": [
    "# Creo un Dataframe de TEST\n",
    "df_test = pd.DataFrame(X_test, columns=X.columns)\n",
    "df_test['RainTomorrow'] = y['RainTomorrow']"
   ]
  },
  {
   "cell_type": "code",
   "execution_count": null,
   "metadata": {},
   "outputs": [],
   "source": [
    "# Preproceso mi df de test y mi df de train\n",
    "df_train = preprocessor.fit_transform(df_train)\n",
    "df_test = preprocessor.fit_transform(df_test)"
   ]
  },
  {
   "cell_type": "markdown",
   "metadata": {},
   "source": [
    "# Modelo Base Regresion Logistica"
   ]
  },
  {
   "cell_type": "code",
   "execution_count": null,
   "metadata": {},
   "outputs": [],
   "source": [
    "#X_base_clasificacion_train = df_train[['RainToday', 'Sunshine', 'MinTemp']]\n",
    "X_base_clasificacion_train = df_train[['MaxTemp', 'Sunshine', 'MinTemp']]\n",
    "Y_base_clasificacion_train = df_train[\"RainTomorrow\"]\n"
   ]
  },
  {
   "cell_type": "code",
   "execution_count": null,
   "metadata": {},
   "outputs": [],
   "source": [
    "#X_base_clasificacion_test = df_test[['RainToday', 'Sunshine', 'MinTemp']]\n",
    "X_base_clasificacion_test = df_test[['MaxTemp', 'Sunshine', 'MinTemp']]\n",
    "Y_base_clasificacion_test = df_test[\"RainTomorrow\"]"
   ]
  },
  {
   "cell_type": "code",
   "execution_count": null,
   "metadata": {},
   "outputs": [],
   "source": [
    "modelo_base_clasificacion = LogisticRegression()"
   ]
  },
  {
   "cell_type": "code",
   "execution_count": null,
   "metadata": {},
   "outputs": [],
   "source": [
    "modelo_base_clasificacion.fit(X_base_clasificacion_train, Y_base_clasificacion_train)"
   ]
  },
  {
   "cell_type": "code",
   "execution_count": null,
   "metadata": {},
   "outputs": [],
   "source": [
    "y_pred_base_clasificacion = modelo_base_clasificacion.predict(X_base_clasificacion_test)"
   ]
  },
  {
   "cell_type": "code",
   "execution_count": null,
   "metadata": {},
   "outputs": [],
   "source": [
    "from sklearn.metrics import ConfusionMatrixDisplay"
   ]
  },
  {
   "cell_type": "code",
   "execution_count": null,
   "metadata": {},
   "outputs": [],
   "source": [
    "print(\"Logistica Modelo base\\n\")\n",
    "print(classification_report(Y_base_clasificacion_test, y_pred_base_clasificacion))\n",
    "ConfusionMatrixDisplay(confusion_matrix(Y_base_clasificacion_test, y_pred_base_clasificacion)).plot()"
   ]
  },
  {
   "cell_type": "markdown",
   "metadata": {},
   "source": [
    "# Modelo Base Regresion Lineal"
   ]
  },
  {
   "cell_type": "code",
   "execution_count": 2,
   "metadata": {},
   "outputs": [
    {
     "ename": "NameError",
     "evalue": "name 'df_train' is not defined",
     "output_type": "error",
     "traceback": [
      "\u001b[1;31m---------------------------------------------------------------------------\u001b[0m",
      "\u001b[1;31mNameError\u001b[0m                                 Traceback (most recent call last)",
      "Cell \u001b[1;32mIn[2], line 1\u001b[0m\n\u001b[1;32m----> 1\u001b[0m \u001b[43mdf_train\u001b[49m\u001b[38;5;241m.\u001b[39mcolumns\n",
      "\u001b[1;31mNameError\u001b[0m: name 'df_train' is not defined"
     ]
    }
   ],
   "source": [
    "df_train.columns"
   ]
  },
  {
   "cell_type": "code",
   "execution_count": null,
   "metadata": {},
   "outputs": [],
   "source": [
    "X_base_regresion_train = df_train[['RainToday', 'Sunshine']]\n",
    "Y_base_regresion_train = df_train[\"RainfallTomorrow\"]\n"
   ]
  },
  {
   "cell_type": "code",
   "execution_count": null,
   "metadata": {},
   "outputs": [],
   "source": [
    "\n",
    "X_base_regresion_test = df_test[['MaxTemp', 'Sunshine', 'MinTemp']]\n",
    "Y_base_regresion_test = df_test[\"RainTomorrow\"]"
   ]
  },
  {
   "cell_type": "code",
   "execution_count": null,
   "metadata": {},
   "outputs": [],
   "source": [
    "modelo_base_regresion = LinearRegression()"
   ]
  },
  {
   "cell_type": "code",
   "execution_count": null,
   "metadata": {},
   "outputs": [],
   "source": [
    "modelo_base_regresion.fit(X_base_regresion_train, Y_base_regresion_train)"
   ]
  },
  {
   "cell_type": "code",
   "execution_count": null,
   "metadata": {},
   "outputs": [],
   "source": [
    "y_pred_base_regresion = modelo_base_regresion.predict(X_base_regresion_test)"
   ]
  },
  {
   "cell_type": "code",
   "execution_count": null,
   "metadata": {},
   "outputs": [],
   "source": [
    "from sklearn.metrics import mean_absolute_error, mean_absolute_percentage_error\n",
    "from math import sqrt"
   ]
  },
  {
   "cell_type": "code",
   "execution_count": null,
   "metadata": {},
   "outputs": [],
   "source": [
    "\n",
    "def errores(y_test, y_pred):\n",
    "    print(\"R2:   %.2f\" % r2_score(y_test, y_pred))\n",
    "    print(\"MSE:  %.2f\" % mean_squared_error(y_test, y_pred))\n",
    "    print(\"RMSE: %.2f\" % sqrt(mean_squared_error(y_test, y_pred)))\n",
    "    print(\"MAE:  %.2f\" % mean_absolute_error(y_test, y_pred))\n",
    "    print(\"MAPE: %.2f\" % mean_absolute_percentage_error(y_test, y_pred))\n",
    "\n",
    "\n",
    "errores(Y_base_regresion_test, y_pred_base_regresion)"
   ]
  }
 ],
 "metadata": {
  "kernelspec": {
   "display_name": "Python 3",
   "language": "python",
   "name": "python3"
  },
  "language_info": {
   "codemirror_mode": {
    "name": "ipython",
    "version": 3
   },
   "file_extension": ".py",
   "mimetype": "text/x-python",
   "name": "python",
   "nbconvert_exporter": "python",
   "pygments_lexer": "ipython3",
   "version": "3.11.4"
  }
 },
 "nbformat": 4,
 "nbformat_minor": 2
}
