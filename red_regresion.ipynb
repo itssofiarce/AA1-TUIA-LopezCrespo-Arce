{
 "cells": [
  {
   "cell_type": "code",
   "execution_count": null,
   "metadata": {},
   "outputs": [],
   "source": [
    "def objective_reg(trial):\n",
    "    # Crear el modelo\n",
    "    model = Sequential()\n",
    "\n",
    "    # Definir hiperparámetros a optimizar\n",
    "    num_layers = trial.suggest_int('num_layers', 1, 5)\n",
    "    model.add(Dense(10, activation='relu', input_shape=(x_train_regre.shape[1],)))\n",
    "\n",
    "    for i in range(num_layers):\n",
    "        num_units = trial.suggest_int(f'n_units_layer_{i}', 4, 128)\n",
    "        model.add(Dense(num_units, activation='relu'))\n",
    "\n",
    "    model.add(Dense(1))  # Capa de salida para regresión lineal\n",
    "\n",
    "    # Compilar el modelo\n",
    "    model.compile(optimizer='adam', loss='mean_squared_error')\n",
    "\n",
    "    X_train, X_valid, y_train, y_valid = train_test_split(x_train_regre, y_train_regre, test_size=0.2, random_state=42)\n",
    "\n",
    "    # Entrenar el modelo\n",
    "    model.fit(x_train_regre, y_train_regre, validation_data=(X_valid, y_valid), epochs=10, batch_size=64, verbose=0)\n",
    "\n",
    "    # Evaluar el modelo\n",
    "    score = model.evaluate(X_valid, y_valid, verbose=0)\n",
    "    return score\n",
    "\n",
    "\n",
    "'''\n",
    "study = optuna.create_study(direction='minimize')  # Estamos minimizando la pérdida\n",
    "study.optimize(objective_reg, n_trials=100)\n",
    "\n",
    "best_params = study.best_params\n",
    "print(\"Best parameters:\", best_params)\n",
    "'''"
   ]
  },
  {
   "cell_type": "code",
   "execution_count": null,
   "metadata": {},
   "outputs": [],
   "source": [
    "model_reg = Sequential([\n",
    "        Dense(124, activation='relu', input_shape=(x_train_regre.shape[1],)),\n",
    "        Dropout(0.05),\n",
    "        Dense(120, activation='relu'),\n",
    "        Dropout(0.05),\n",
    "        Dense(60, activation='relu'),\n",
    "        Dropout(0.05),\n",
    "        Dense(24, activation='relu'),\n",
    "        Dropout(0.05),\n",
    "        Dense(1, activation='linear')\n",
    "])\n",
    "\n",
    "model_reg.compile(\n",
    "    optimizer=Adam(learning_rate=0.001),\n",
    "    loss='mean_squared_error',\n",
    "    metrics=['mean_squared_error'])"
   ]
  },
  {
   "cell_type": "code",
   "execution_count": null,
   "metadata": {},
   "outputs": [],
   "source": [
    "# Evaluar el modelo en los datos de entrenamiento y validación\n",
    "train_scores = model_reg.evaluate(x_train_regre, y_train_regre, verbose=0)\n",
    "valid_scores = model_reg.evaluate(x_test_reg, y_test_reg, verbose=0)\n",
    "\n",
    "# Calcular R^2 y MSE para los conjuntos de entrenamiento y validación\n",
    "train_r2 = r2_score(y_train_regre, model_reg.predict(x_train_regre))\n",
    "valid_r2 = r2_score(y_test_reg, model_reg.predict(x_test_reg))\n",
    "\n",
    "train_mse = mean_squared_error(y_train_regre, model_reg.predict(x_train_regre))\n",
    "valid_mse = mean_squared_error(y_test_reg, model_reg.predict(x_test_reg))\n",
    "\n",
    "# Imprimir los resultados\n",
    "print(f'Train R^2: {train_r2:.4f}, Train MSE: {train_mse:.4f}')\n",
    "print(f'Test R^2: {valid_r2:.4f}, Test MSE: {valid_mse:.4f}')"
   ]
  },
  {
   "cell_type": "code",
   "execution_count": null,
   "metadata": {},
   "outputs": [],
   "source": [
    "# Extraer la información del historial\n",
    "train_loss = history_reg['loss']\n",
    "val_loss = history_reg['val_loss']\n",
    "# train_loss = history_reg.history['loss']\n",
    "# val_loss = history_reg.history['val_loss']\n",
    "\n",
    "# Crear el gráfico\n",
    "epochs = range(1, len(train_loss) + 1)\n",
    "plt.figure(figsize=(8, 6))\n",
    "\n",
    "# Plotear el loss del entrenamiento y validación\n",
    "plt.plot(epochs, train_loss, 'b', label='Training loss')\n",
    "plt.plot(epochs, val_loss, 'r', label='Validation loss')\n",
    "plt.title('Training and Validation Loss')\n",
    "plt.xlabel('Epochs')\n",
    "plt.ylabel('Loss')\n",
    "plt.legend()\n",
    "\n",
    "# Mostrar el gráfico\n",
    "plt.show()"
   ]
  }
 ],
 "metadata": {
  "language_info": {
   "name": "python"
  }
 },
 "nbformat": 4,
 "nbformat_minor": 2
}
