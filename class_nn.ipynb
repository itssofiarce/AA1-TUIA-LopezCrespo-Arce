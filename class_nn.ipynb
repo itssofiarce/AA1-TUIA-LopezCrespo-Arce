{
 "cells": [
  {
   "cell_type": "code",
   "execution_count": null,
   "metadata": {},
   "outputs": [],
   "source": [
    "import warnings\n",
    "warnings.filterwarnings(\"ignore\")"
   ]
  },
  {
   "cell_type": "code",
   "execution_count": 46,
   "metadata": {},
   "outputs": [],
   "source": [
    "import pandas as pd\n",
    "import numpy as np\n",
    "import seaborn as sns\n",
    "import matplotlib.pyplot as plt\n",
    "import statsmodels.api as sm\n",
    "\n",
    "# De scikit-learn...\n",
    "\n",
    "# Pipeline\n",
    "from sklearn.base import BaseEstimator, TransformerMixin\n",
    "from sklearn.preprocessing import LabelEncoder\n",
    "from sklearn.preprocessing import PowerTransformer\n",
    "\n",
    "# Estandarización y modelado\n",
    "from sklearn.pipeline import make_pipeline\n",
    "from sklearn.preprocessing import StandardScaler\n",
    "from sklearn.metrics import mean_squared_error\n",
    "from sklearn import metrics\n",
    "\n",
    "from sklearn.pipeline import Pipeline\n",
    "from sklearn.compose import ColumnTransformer\n",
    "from sklearn.impute import SimpleImputer\n",
    "from sklearn.preprocessing import OneHotEncoder\n",
    "\n",
    "from sklearn.compose import make_column_selector\n",
    "# Division de los datos\n",
    "from sklearn.model_selection import train_test_split\n",
    "\n",
    "# Normalización\n",
    "from sklearn.preprocessing import MinMaxScaler\n",
    "\n",
    "# Regresiones\n",
    "from sklearn.linear_model import LinearRegression, SGDRegressor, Ridge, Lasso, ElasticNet, RidgeCV, ElasticNetCV, LassoCV, LogisticRegression\n",
    "\n",
    "# ML metricas\n",
    "from sklearn.metrics import mean_squared_error, r2_score\n",
    "from sklearn.metrics import classification_report, confusion_matrix, ConfusionMatrixDisplay\n",
    "\n",
    "from setuptools import setup\n",
    "from distutils.core import setup\n",
    "from tensorflow.keras.layers import Dense, Dropout\n",
    "from tensorflow.keras.models import Sequential\n",
    "from keras.optimizers import Adam\n",
    "import optuna\n",
    "from optuna.trial import Trial\n",
    "\n",
    "from sklearn.metrics import accuracy_score\n",
    "from sklearn.model_selection import train_test_split\n",
    "from keras.models import Sequential\n",
    "from keras.layers import Dense, Dropout\n",
    "from tensorflow.keras.metrics import Precision\n",
    "from tensorflow.keras.utils import to_categorical\n",
    "import shap\n"
   ]
  },
  {
   "cell_type": "code",
   "execution_count": null,
   "metadata": {},
   "outputs": [],
   "source": [
    "path= './weatherAUS.csv'\n",
    "df = pd.read_csv(path, usecols=range(1,25))\n",
    "df.head()"
   ]
  },
  {
   "cell_type": "code",
   "execution_count": null,
   "metadata": {},
   "outputs": [],
   "source": [
    "### Busco duplicados\n",
    "if not df.duplicated().any():\n",
    "  print('No hay registros duplicados')"
   ]
  },
  {
   "cell_type": "code",
   "execution_count": null,
   "metadata": {},
   "outputs": [],
   "source": [
    "class ColDropper(BaseEstimator, TransformerMixin):\n",
    "  def fit(self, X, y=None):\n",
    "        return self\n",
    "\n",
    "  def transform(self, X):\n",
    "    return X.drop(['Date'], axis=1)"
   ]
  },
  {
   "cell_type": "code",
   "execution_count": null,
   "metadata": {},
   "outputs": [],
   "source": [
    "class LocDropper(BaseEstimator, TransformerMixin):\n",
    "  def fit(self, X, y=None):\n",
    "        return self\n",
    "\n",
    "  def transform(self, X):\n",
    "    costa_este = [' Adelaide', 'Canberra', 'Cobar', 'Dartmoor', 'Melbourne', 'MelbourneAirport', 'MountGambier', 'Sydney', 'SydneyAirport' ]\n",
    "    X.loc[X['Location'].isin(costa_este), 'Location'] = 'costa_este'\n",
    "    return X[X['Location'] == 'costa_este']"
   ]
  },
  {
   "cell_type": "code",
   "execution_count": null,
   "metadata": {},
   "outputs": [],
   "source": [
    "class CatFiller(BaseEstimator, TransformerMixin):\n",
    "    def fit(self, X, y=None):\n",
    "        return self\n",
    "\n",
    "    def transform(self, X):\n",
    "      X['WindGustDir'] = X.groupby('Location')['WindGustDir'].transform(lambda x: x.fillna(x.mode()[0]))\n",
    "      X['WindDir9am'] = X.groupby('Location')['WindDir9am'].transform(lambda x: x.fillna(x.mode()[0]))\n",
    "      X['WindDir3pm'] = X.groupby('Location')['WindDir3pm'].transform(lambda x: x.fillna(x.mode()[0]))\n",
    "\n",
    "      return X"
   ]
  },
  {
   "cell_type": "code",
   "execution_count": null,
   "metadata": {},
   "outputs": [],
   "source": [
    "class NumFiller(BaseEstimator, TransformerMixin):\n",
    "    def fit(self, X, y=None):\n",
    "        return self\n",
    "\n",
    "    def transform(self, X):\n",
    "      remanining_vnul_columns = X.columns[X.isna().any()].tolist()\n",
    "      for col in remanining_vnul_columns:\n",
    "        X[col] =  X[col].fillna(X[col].mean())\n",
    "\n",
    "      return X"
   ]
  },
  {
   "cell_type": "code",
   "execution_count": null,
   "metadata": {},
   "outputs": [],
   "source": [
    "# https://www.mdpi.com/2078-2489/13/4/163 Como las variables de la dirección de los vientos pueden tener hasta 16 direcciones diferentes, para convertirlos a variables numéricas, se tiene encuenta una distribución circular. Por eso, cada una de las variables se dividió en dos: Una con el seno y otra con el coseno del angulo\n",
    "class CoordRecat(BaseEstimator, TransformerMixin):\n",
    "    def fit(self, X, y=None):\n",
    "        return self\n",
    "\n",
    "    def transform(self, X):\n",
    "        coord = {\n",
    "            'N': 0, 'NNE': 22.5, 'NE': 45, 'ENE': 67.5,\n",
    "            'E': 90, 'ESE': 112.5, 'SE': 135, 'SSE': 157.5,\n",
    "            'S': 180, 'SSW': 202.5, 'SW': 225, 'WSW': 247.5,\n",
    "            'W': 270, 'WNW': 292.5, 'NW': 315, 'NNW': 337.5,\n",
    "        }\n",
    "\n",
    "        # Aplicar la recategorización\n",
    "        for col in ['WindGustDir', 'WindDir9am', 'WindDir3pm']:\n",
    "            X[col] = X[col].map(coord)\n",
    "            X[f'{col}_rad'] = np.deg2rad(X[col])\n",
    "            X[f'{col}_sin'] = np.sin(X[f'{col}_rad']).round(5)\n",
    "            X[f'{col}_cos'] = np.cos(X[f'{col}_rad']).round(5)\n",
    "\n",
    "        # Eliminar columnas originales y columnas radianes\n",
    "        columns_to_drop = [f'{col}_rad' for col in ['WindGustDir', 'WindDir9am', 'WindDir3pm']] + ['WindGustDir', 'WindDir9am', 'WindDir3pm']\n",
    "        X = X.drop(columns=columns_to_drop, axis=1)\n",
    "\n",
    "        return X"
   ]
  },
  {
   "cell_type": "code",
   "execution_count": null,
   "metadata": {},
   "outputs": [],
   "source": [
    "class LocEncoder(BaseEstimator, TransformerMixin):\n",
    "    def fit(self, X, y=None):\n",
    "        return self\n",
    "\n",
    "    def transform(self, X):\n",
    "      dummies = pd.get_dummies(X['Location'], dtype=int)\n",
    "      X = pd.concat([X, dummies], axis=1)\n",
    "      X.drop('Location', axis=1, inplace=True)\n",
    "\n",
    "      return X"
   ]
  },
  {
   "cell_type": "code",
   "execution_count": null,
   "metadata": {},
   "outputs": [],
   "source": [
    "class ResetIndex(BaseEstimator, TransformerMixin):\n",
    "    def fit(self, X, y=None):\n",
    "        return self\n",
    "\n",
    "    def transform(self, X):\n",
    "        return X.reset_index(drop=True)"
   ]
  },
  {
   "cell_type": "code",
   "execution_count": null,
   "metadata": {},
   "outputs": [],
   "source": [
    "class BoolYNDropperEncoder(BaseEstimator, TransformerMixin):\n",
    "    def fit(self, X, y=None):\n",
    "        return self\n",
    "\n",
    "    def transform(self, X):\n",
    "      X.dropna(subset=['RainToday'], inplace=True)\n",
    "      X['RainTomorrow'] = X['RainTomorrow'].map({'No': 0, 'Yes': 1}).astype(float)\n",
    "      X['RainToday'] = X['RainToday'].map({'No': 0, 'Yes': 1}).astype(float)\n",
    "\n",
    "      return X"
   ]
  },
  {
   "cell_type": "code",
   "execution_count": null,
   "metadata": {},
   "outputs": [],
   "source": [
    "class Standarizer(BaseEstimator, TransformerMixin):\n",
    "  def fit(self, X, y=None):\n",
    "      return self\n",
    "  def transform(self, X):\n",
    "    # Exclusión de variables booleanas y RainfallTmorrow porque no serán estandarizaradas\n",
    "    exc_c = ['RainToday', 'RainTomorrow']#, ,'Canberra','Cobar', 'Dartmoor', 'Melbourne', 'MelbourneAirport', 'MountGambier', 'Sydney', 'SydneyAirport']\n",
    "\n",
    "    # Estandarización\n",
    "    df_sub = X[[col for col in X.columns if col not in exc_c]]\n",
    "    scaler = StandardScaler()\n",
    "    X_scaled = scaler.fit_transform(df_sub)\n",
    "\n",
    "    X_scaled = pd.DataFrame(X_scaled, columns=df_sub.columns)\n",
    "    for col in exc_c:\n",
    "      X_scaled[f'{col}'] = X[col]\n",
    "\n",
    "    # Nuevo DataFrame estandarizado con los nombres de las columnas originales\n",
    "    return X_scaled"
   ]
  },
  {
   "cell_type": "code",
   "execution_count": null,
   "metadata": {},
   "outputs": [],
   "source": [
    "class OutliersTreater(BaseEstimator, TransformerMixin):\n",
    "  def fit(self, X, y=None):\n",
    "      return self\n",
    "  def transform(self, X):\n",
    "    cols_with_ouliers=['MinTemp', 'MaxTemp', 'Rainfall', 'Evaporation', 'Sunshine',\n",
    "       'WindGustSpeed', 'WindSpeed9am', 'WindSpeed3pm', 'Humidity9am',\n",
    "       'Humidity3pm', 'Pressure9am', 'Pressure3pm', 'Cloud9am', 'Cloud3pm',\n",
    "       'Temp9am', 'Temp3pm']\n",
    "\n",
    "    for col in cols_with_ouliers:\n",
    "      IQR=X[col].quantile(0.75)-X[col].quantile(0.25)\n",
    "      lower_bridge=X[col].quantile(0.25)-(IQR*1.5)\n",
    "      upper_bridge=X[col].quantile(0.75)+(IQR*1.5)\n",
    "\n",
    "      X.loc[X[col]>=round(upper_bridge,2),col]=round(upper_bridge,2)\n",
    "      X.loc[X[col]<=round(lower_bridge,2),col]=round(lower_bridge,2)\n",
    "\n",
    "    return X\n"
   ]
  },
  {
   "cell_type": "code",
   "execution_count": null,
   "metadata": {},
   "outputs": [],
   "source": [
    "class RLValDropper(BaseEstimator, TransformerMixin):\n",
    "  def fit (self, X, y=None):\n",
    "    return self\n",
    "  def transform(self, X):\n",
    "    X.dropna(subset=['RainToday', 'RainTomorrow'], inplace=True)\n",
    "    return X\n"
   ]
  },
  {
   "cell_type": "code",
   "execution_count": null,
   "metadata": {},
   "outputs": [],
   "source": [
    "preprocessor = Pipeline([\n",
    "     ('drop_null_val_rl', RLValDropper()),\n",
    "     ('drop_not_needed_features', ColDropper()),\n",
    "     ('drop_nor_needed_locations',LocDropper()),\n",
    "     ('yes_no_dropper_encoder', BoolYNDropperEncoder()),\n",
    "     ('fill_null_cat', CatFiller()),\n",
    "     ('fill_num_cat', NumFiller()),\n",
    "     ('encode_loc', LocEncoder()),\n",
    "     ('encode_wind_dir', CoordRecat()),\n",
    "     ('reset_index',ResetIndex()),\n",
    "     ('treat_outliers',OutliersTreater()),\n",
    "     ('standariza_values', Standarizer())\n",
    "])\n"
   ]
  },
  {
   "cell_type": "markdown",
   "metadata": {},
   "source": [
    "# Train-Test split"
   ]
  },
  {
   "cell_type": "code",
   "execution_count": null,
   "metadata": {},
   "outputs": [],
   "source": [
    "# Separación de variables explicativas y variables objetivo\n",
    "X = df.drop(['RainfallTomorrow'], axis=1).copy()\n",
    "y = df[['RainfallTomorrow']].copy()\n",
    "\n",
    "# Spliteo mi dataset en train-test\n",
    "X_train, X_test, y_train, y_test = train_test_split(X, y, test_size=0.2, random_state=42)\n",
    "X_train.shape, X_test.shape, y_train.shape, y_test.shape"
   ]
  },
  {
   "cell_type": "code",
   "execution_count": null,
   "metadata": {},
   "outputs": [],
   "source": [
    "# Creo un Dataframe de TRAIN\n",
    "df_train = pd.DataFrame(X_train, columns=X.columns)\n",
    "df_train['RainfallTomorrow'] = y['RainfallTomorrow']"
   ]
  },
  {
   "cell_type": "code",
   "execution_count": null,
   "metadata": {},
   "outputs": [],
   "source": [
    "# Creo un Dataframe de TEST\n",
    "df_test = pd.DataFrame(X_test, columns=X.columns)\n",
    "df_test['RainfallTomorrow'] = y['RainfallTomorrow']"
   ]
  },
  {
   "cell_type": "code",
   "execution_count": null,
   "metadata": {},
   "outputs": [],
   "source": [
    "# Preproceso mi df de test y mi df de train\n",
    "df_train = preprocessor.fit_transform(df_train)\n",
    "df_test = preprocessor.fit_transform(df_test)"
   ]
  },
  {
   "cell_type": "code",
   "execution_count": null,
   "metadata": {},
   "outputs": [],
   "source": [
    "X_train_clasificacion = df_train.iloc[:, :-1]\n",
    "y_train_clasificacion = df_train.iloc[:,-1]"
   ]
  },
  {
   "cell_type": "code",
   "execution_count": null,
   "metadata": {},
   "outputs": [],
   "source": [
    "X_test_clasificacion = df_test.iloc[:, :-1]\n",
    "y_test_clasificacion = df_test.iloc[:,-1]"
   ]
  },
  {
   "cell_type": "code",
   "execution_count": null,
   "metadata": {},
   "outputs": [],
   "source": [
    "def objective_class(trial: Trial):\n",
    "    # Create the model\n",
    "    model = Sequential()\n",
    "    num_layers = trial.suggest_int('num_layers', 1, 5)\n",
    "\n",
    "    for i in range(num_layers):\n",
    "        num_units = trial.suggest_int(f'n_units_layer_{i}', 4, 128)\n",
    "        model.add(Dense(num_units, activation='relu'))\n",
    "        dropout_rate = trial.suggest_float(f'dropout_rate_layer_{i}', 0.0, 0.5)\n",
    "        model.add(Dropout(dropout_rate))\n",
    "\n",
    "\n",
    "    model.add(Dense(2, activation='sigmoid'))  # Output layer for multi-class classification\n",
    "\n",
    "    model.compile(optimizer='adam', loss='categorical_crossentropy', metrics=[Precision()])\n",
    "\n",
    "    # Split the data into training and validation sets\n",
    "    X_train, X_valid, y_train, y_valid = train_test_split(X_train_clasificacion, y_train_clasificacion, test_size=0.2, random_state=42)\n",
    "\n",
    "    \n",
    "    # Convertir etiquetas a one-hot encoding\n",
    "    label_encoder = LabelEncoder()\n",
    "    y_train = to_categorical(label_encoder.fit_transform(y_train))\n",
    "    y_valid = to_categorical(label_encoder.transform(y_valid))\n",
    "\n",
    "    # Train the model\n",
    "    model.fit(X_train, y_train, validation_data=(X_valid, y_valid), epochs=5, batch_size=64, verbose=0)\n",
    "\n",
    "    # Evaluate the model\n",
    "    score = model.evaluate(X_valid, y_valid, verbose=0)\n",
    "    return score[1]  # Devuelve precision"
   ]
  },
  {
   "cell_type": "code",
   "execution_count": null,
   "metadata": {},
   "outputs": [],
   "source": [
    "# Run the Optuna optimization with a limited number of trials for a mockup run\n",
    "study = optuna.create_study(direction='maximize')  # Minimize the loss\n",
    "study.optimize(objective_class, n_trials=10)"
   ]
  },
  {
   "cell_type": "code",
   "execution_count": null,
   "metadata": {},
   "outputs": [],
   "source": [
    "# Get the best parameters\n",
    "best_params = study.best_params\n",
    "print(\"Best parameters:\", best_params)"
   ]
  },
  {
   "cell_type": "code",
   "execution_count": null,
   "metadata": {},
   "outputs": [],
   "source": [
    "# Train the best model on the entire training data\n",
    "best_model = Sequential()\n",
    "best_model.add(Dense(2, activation='relu', input_shape=(X_train_clasificacion.shape[1],)))\n",
    "\n",
    "for i in range(best_params['num_layers']):\n",
    "    best_model.add(Dense(best_params[f'n_units_layer_{i}'], activation='relu'))\n",
    "    best_model.add(Dropout(best_params[f'dropout_rate_layer_{i}']))\n",
    "\n",
    "best_model.add(Dense(2, activation='softmax'))"
   ]
  },
  {
   "cell_type": "code",
   "execution_count": null,
   "metadata": {},
   "outputs": [],
   "source": [
    "# Compile the best model\n",
    "best_model.compile(optimizer='adam', loss='categorical_crossentropy', metrics=[Precision()])"
   ]
  },
  {
   "cell_type": "code",
   "execution_count": null,
   "metadata": {},
   "outputs": [],
   "source": [
    "label_encoder = LabelEncoder()\n",
    "y_train_clasificacion = to_categorical(label_encoder.fit_transform(y_train_clasificacion))\n",
    "y_test_clasificacion = to_categorical(label_encoder.transform(y_test_clasificacion))"
   ]
  },
  {
   "cell_type": "code",
   "execution_count": null,
   "metadata": {},
   "outputs": [],
   "source": [
    "# Train the best model\n",
    "best_model.fit(X_train_clasificacion, y_train_clasificacion, epochs=5, batch_size=64, verbose=0)"
   ]
  },
  {
   "cell_type": "code",
   "execution_count": 38,
   "metadata": {},
   "outputs": [
    {
     "name": "stdout",
     "output_type": "stream",
     "text": [
      "\u001b[1m601/601\u001b[0m \u001b[32m━━━━━━━━━━━━━━━━━━━━\u001b[0m\u001b[37m\u001b[0m \u001b[1m0s\u001b[0m 477us/step\n",
      "\u001b[1m149/149\u001b[0m \u001b[32m━━━━━━━━━━━━━━━━━━━━\u001b[0m\u001b[37m\u001b[0m \u001b[1m0s\u001b[0m 486us/step\n"
     ]
    }
   ],
   "source": [
    "# Evaluate the best model\n",
    "train_scores = best_model.evaluate(X_train_clasificacion, y_train_clasificacion, verbose=0)\n",
    "valid_scores = best_model.evaluate(X_test_clasificacion, y_test_clasificacion, verbose=0)\n",
    "\n",
    "train_preds = np.argmax(best_model.predict(X_train_clasificacion), axis=1)\n",
    "valid_preds = np.argmax(best_model.predict(X_test_clasificacion), axis=1)\n",
    "\n",
    "train_labels = np.argmax(y_train_clasificacion, axis=1)\n",
    "valid_labels = np.argmax(y_test_clasificacion, axis=1)\n",
    "\n",
    "train_accuracy = accuracy_score(train_labels, train_preds)\n",
    "valid_accuracy = accuracy_score(valid_labels, valid_preds)"
   ]
  },
  {
   "cell_type": "code",
   "execution_count": 39,
   "metadata": {},
   "outputs": [
    {
     "name": "stdout",
     "output_type": "stream",
     "text": [
      "Train Accuracy: 0.9920940393217518, Validation Accuracy: 0.992840598020636\n"
     ]
    }
   ],
   "source": [
    "print(f\"Train Accuracy: {train_accuracy}, Validation Accuracy: {valid_accuracy}\")"
   ]
  },
  {
   "cell_type": "code",
   "execution_count": 42,
   "metadata": {},
   "outputs": [],
   "source": [
    "if len(y_test_clasificacion.shape) > 1 and y_test_clasificacion.shape[1] > 1:\n",
    "    y_test_clasificacion = np.argmax(y_test_clasificacion, axis=1)\n",
    "\n"
   ]
  },
  {
   "cell_type": "code",
   "execution_count": 44,
   "metadata": {},
   "outputs": [
    {
     "name": "stdout",
     "output_type": "stream",
     "text": [
      "\u001b[1m149/149\u001b[0m \u001b[32m━━━━━━━━━━━━━━━━━━━━\u001b[0m\u001b[37m\u001b[0m \u001b[1m0s\u001b[0m 525us/step\n"
     ]
    }
   ],
   "source": [
    "predictions_prob = best_model.predict(X_test_clasificacion)\n",
    "\n",
    "\n",
    "predictions = (predictions_prob > 0.5).astype('int32')  # Convertir probabilidades a etiquetas binarias\n",
    "if len(predictions.shape) > 1 and predictions.shape[1] > 1:\n",
    "    predictions = np.argmax(predictions, axis=1)\n",
    "\n",
    "conf_matrix = confusion_matrix(y_test_clasificacion, predictions)"
   ]
  },
  {
   "cell_type": "code",
   "execution_count": 45,
   "metadata": {},
   "outputs": [
    {
     "data": {
      "text/plain": [
       "<sklearn.metrics._plot.confusion_matrix.ConfusionMatrixDisplay at 0x20aa73e2300>"
      ]
     },
     "execution_count": 45,
     "metadata": {},
     "output_type": "execute_result"
    },
    {
     "data": {
      "image/png": "[encoded data removed]",
      "text/plain": [
       "<Figure size 640x480 with 2 Axes>"
      ]
     },
     "metadata": {},
     "output_type": "display_data"
    }
   ],
   "source": [
    "ConfusionMatrixDisplay(conf_matrix).plot()"
   ]
  },
  {
   "cell_type": "code",
   "execution_count": 52,
   "metadata": {},
   "outputs": [
    {
     "name": "stdout",
     "output_type": "stream",
     "text": [
      "<class 'keras.src.models.sequential.Sequential'>\n"
     ]
    }
   ],
   "source": [
    "print(type(best_model))"
   ]
  },
  {
   "cell_type": "code",
   "execution_count": 54,
   "metadata": {},
   "outputs": [
    {
     "name": "stderr",
     "output_type": "stream",
     "text": [
      "Using 19226 background data samples could cause slower run times. Consider using shap.sample(data, K) or shap.kmeans(data, K) to summarize the background as K samples.\n"
     ]
    }
   ],
   "source": [
    "# Convert DataFrames to NumPy arrays\n",
    "x_train_clasi_array = np.array(X_train_clasificacion)\n",
    "x_test_clasi_array = np.array(X_test_clasificacion)\n",
    "\n",
    "# Initialize SHAP DeepExplainer\n",
    "explainer = shap.KernelExplainer(best_model, x_train_clasi_array)"
   ]
  },
  {
   "cell_type": "code",
   "execution_count": 55,
   "metadata": {},
   "outputs": [
    {
     "name": "stderr",
     "output_type": "stream",
     "text": [
      "  0%|          | 0/4749 [00:00<?, ?it/s]"
     ]
    }
   ],
   "source": [
    "#Corre esto y la pc explota, probar en colab con una gpu\n",
    "shap_values_clasi = explainer.shap_values(x_test_clasi_array)"
   ]
  },
  {
   "cell_type": "code",
   "execution_count": null,
   "metadata": {},
   "outputs": [],
   "source": [
    "# Plot the SHAP values\n",
    "shap.summary_plot(shap_values_clasi, x_test_clasi_array, feature_names=X_train_clasificacion.columns)"
   ]
  },
  {
   "cell_type": "code",
   "execution_count": 48,
   "metadata": {},
   "outputs": [
    {
     "ename": "NameError",
     "evalue": "name 'shap_values_clasi' is not defined",
     "output_type": "error",
     "traceback": [
      "\u001b[1;31m---------------------------------------------------------------------------\u001b[0m",
      "\u001b[1;31mNameError\u001b[0m                                 Traceback (most recent call last)",
      "Cell \u001b[1;32mIn[48], line 3\u001b[0m\n\u001b[0;32m      1\u001b[0m \u001b[38;5;66;03m# Obtener la importancia global de las características\u001b[39;00m\n\u001b[0;32m      2\u001b[0m shap\u001b[38;5;241m.\u001b[39msummary_plot(\n\u001b[1;32m----> 3\u001b[0m     \u001b[43mshap_values_clasi\u001b[49m,\n\u001b[0;32m      4\u001b[0m     features\u001b[38;5;241m=\u001b[39mx_train_clasi_array,\n\u001b[0;32m      5\u001b[0m     feature_names\u001b[38;5;241m=\u001b[39mX_train_clasificacion\u001b[38;5;241m.\u001b[39mcolumns)\n\u001b[0;32m      7\u001b[0m plt\u001b[38;5;241m.\u001b[39mshow()\n",
      "\u001b[1;31mNameError\u001b[0m: name 'shap_values_clasi' is not defined"
     ]
    }
   ],
   "source": [
    "# Obtener la importancia global de las características\n",
    "shap.summary_plot(\n",
    "    shap_values_clasi,\n",
    "    features=x_train_clasi_array,\n",
    "    feature_names=X_train_clasificacion.columns)\n",
    "\n",
    "plt.show()"
   ]
  },
  {
   "cell_type": "code",
   "execution_count": null,
   "metadata": {},
   "outputs": [],
   "source": [
    "explainer = shap.Explainer(best_model,\n",
    "                           X_train_clasificacion.values,\n",
    "                           feature_names=X_train_clasificacion.columns)\n",
    "\n",
    "explanation = explainer(X_test_clasificacion)\n",
    "\n",
    "shap.plots.beeswarm(explanation, max_display=None)"
   ]
  }
 ],
 "metadata": {
  "kernelspec": {
   "display_name": "Python 3",
   "language": "python",
   "name": "python3"
  },
  "language_info": {
   "codemirror_mode": {
    "name": "ipython",
    "version": 3
   },
   "file_extension": ".py",
   "mimetype": "text/x-python",
   "name": "python",
   "nbconvert_exporter": "python",
   "pygments_lexer": "ipython3",
   "version": "3.12.3"
  }
 },
 "nbformat": 4,
 "nbformat_minor": 2
}
